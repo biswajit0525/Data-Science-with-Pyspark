{
 "cells": [
  {
   "cell_type": "markdown",
   "metadata": {},
   "source": [
    "# Introduction"
   ]
  },
  {
   "cell_type": "markdown",
   "metadata": {},
   "source": [
    "The data set refers to clients of a wholesale distributor. It includes the annual spending in monetary units (m.u.) on diverse product categories. The data set is also available at https://archive.ics.uci.edu/ml/datasets/Wholesale+customers#\n",
    "\n",
    "Description of variables are as follows:\n",
    "\n",
    "FRESH: annual spending (m.u.) on fresh products (Continuous);\n",
    "\n",
    "MILK: annual spending (m.u.) on milk products (Continuous);\n",
    "\n",
    "GROCERY: annual spending (m.u.)on grocery products (Continuous);\n",
    "\n",
    "FROZEN: annual spending (m.u.)on frozen products (Continuous);\n",
    "\n",
    "DETERGENTS_PAPER: annual spending (m.u.) on detergents and paper products (Continuous);\n",
    "\n",
    "DELICATESSEN: annual spending (m.u.)on and delicatessen products (Continuous);\n",
    "\n",
    "CHANNEL: customers Channel - Horeca (Hotel/Restaurant/Cafe) or Retail channel (Nominal);\n",
    "\n",
    "REGION: customers Region Lisnon, Oporto or Other (Nominal)\n",
    "\n",
    "The dataset gives data about sales of 6 category of products across 3 regions via 2 channel."
   ]
  },
  {
   "cell_type": "code",
   "execution_count": 3,
   "metadata": {
    "collapsed": true
   },
   "outputs": [],
   "source": [
    "from pyspark.sql import SQLContext\n",
    "from pyspark.sql import SparkSession\n",
    "spark = SparkSession.builder.appName(\"Wholesale\").getOrCreate()\n",
    "sc = spark.sparkContext\n",
    "\n",
    "from pyspark.sql import Row\n",
    "import pyspark.sql.functions as func\n",
    "from pyspark.sql.types import *\n",
    "from pyspark.sql.functions import desc\n",
    "\n",
    "sqlContext = SQLContext(sc)"
   ]
  },
  {
   "cell_type": "code",
   "execution_count": 10,
   "metadata": {
    "collapsed": false
   },
   "outputs": [],
   "source": [
    "import pandas as pd\n",
    "df=pd.read_csv(\"Wholesale customers data.csv\")"
   ]
  },
  {
   "cell_type": "code",
   "execution_count": 7,
   "metadata": {
    "collapsed": true
   },
   "outputs": [],
   "source": [
    "#Read csv file as dataframe\n",
    "sale_df = sqlContext.createDataFrame(df)"
   ]
  },
  {
   "cell_type": "code",
   "execution_count": 9,
   "metadata": {
    "collapsed": false
   },
   "outputs": [
    {
     "name": "stdout",
     "output_type": "stream",
     "text": [
      "+-------+------+-----+----+-------+------+----------------+----------+\n",
      "|Channel|Region|Fresh|Milk|Grocery|Frozen|Detergents_Paper|Delicassen|\n",
      "+-------+------+-----+----+-------+------+----------------+----------+\n",
      "|      2|     3|12669|9656|   7561|   214|            2674|      1338|\n",
      "|      2|     3| 7057|9810|   9568|  1762|            3293|      1776|\n",
      "|      2|     3| 6353|8808|   7684|  2405|            3516|      7844|\n",
      "|      1|     3|13265|1196|   4221|  6404|             507|      1788|\n",
      "|      2|     3|22615|5410|   7198|  3915|            1777|      5185|\n",
      "+-------+------+-----+----+-------+------+----------------+----------+\n",
      "only showing top 5 rows\n",
      "\n"
     ]
    }
   ],
   "source": [
    "sale_df.show(5)"
   ]
  },
  {
   "cell_type": "code",
   "execution_count": 11,
   "metadata": {
    "collapsed": false
   },
   "outputs": [
    {
     "data": {
      "text/plain": [
       "DataFrame[Channel: bigint, Region: bigint, Fresh: bigint, Milk: bigint, Grocery: bigint, Frozen: bigint, Detergents_Paper: bigint, Delicassen: bigint]"
      ]
     },
     "execution_count": 11,
     "metadata": {},
     "output_type": "execute_result"
    }
   ],
   "source": [
    "sale_df.cache()"
   ]
  },
  {
   "cell_type": "code",
   "execution_count": 15,
   "metadata": {
    "collapsed": false
   },
   "outputs": [
    {
     "name": "stdout",
     "output_type": "stream",
     "text": [
      "root\n",
      " |-- Channel: long (nullable = true)\n",
      " |-- Region: long (nullable = true)\n",
      " |-- Fresh: long (nullable = true)\n",
      " |-- Milk: long (nullable = true)\n",
      " |-- Grocery: long (nullable = true)\n",
      " |-- Frozen: long (nullable = true)\n",
      " |-- Detergents_Paper: long (nullable = true)\n",
      " |-- Delicassen: long (nullable = true)\n",
      "\n"
     ]
    }
   ],
   "source": [
    "#See the schema of the DF.\n",
    "sale_df.printSchema()"
   ]
  },
  {
   "cell_type": "code",
   "execution_count": 22,
   "metadata": {
    "collapsed": false
   },
   "outputs": [
    {
     "name": "stdout",
     "output_type": "stream",
     "text": [
      "+-----+\n",
      "|Fresh|\n",
      "+-----+\n",
      "|12669|\n",
      "| 7057|\n",
      "| 6353|\n",
      "|13265|\n",
      "|22615|\n",
      "+-----+\n",
      "only showing top 5 rows\n",
      "\n",
      "+-------+------+\n",
      "|Channel|Region|\n",
      "+-------+------+\n",
      "|      2|     3|\n",
      "|      2|     3|\n",
      "|      2|     3|\n",
      "|      1|     3|\n",
      "|      2|     3|\n",
      "+-------+------+\n",
      "only showing top 5 rows\n",
      "\n"
     ]
    }
   ],
   "source": [
    "#Use select to view a single column or a set of chosen columns.\n",
    "sale_df.select(\"Fresh\").show(5)\n",
    "sale_df.select(\"Channel\",\"Region\").show(5)"
   ]
  },
  {
   "cell_type": "code",
   "execution_count": 28,
   "metadata": {
    "collapsed": false
   },
   "outputs": [
    {
     "name": "stdout",
     "output_type": "stream",
     "text": [
      "+-------+------+------+-----+-------+------+----------------+----------+\n",
      "|Channel|Region| Fresh| Milk|Grocery|Frozen|Detergents_Paper|Delicassen|\n",
      "+-------+------+------+-----+-------+------+----------------+----------+\n",
      "|      1|     3| 56159|  555|    902| 10002|             212|      2916|\n",
      "|      1|     3| 56082| 3504|   8906| 18028|            1480|      2498|\n",
      "|      1|     3| 76237| 3473|   7102| 16538|             778|       918|\n",
      "|      1|     3|112151|29627|  18148| 16745|            4948|      8550|\n",
      "|      1|     1| 56083| 4563|   2124|  6422|             730|      3321|\n",
      "|      1|     1| 53205| 4959|   7336|  3012|             967|       818|\n",
      "|      1|     3| 68951| 4411|  12609|  8692|             751|      2406|\n",
      "+-------+------+------+-----+-------+------+----------------+----------+\n",
      "\n"
     ]
    }
   ],
   "source": [
    "#Use filter to see records with fresh sales more than 50000 only.\n",
    "sale_df.filter( sale_df[\"Fresh\"]>50000 ).show()"
   ]
  },
  {
   "cell_type": "code",
   "execution_count": 33,
   "metadata": {
    "collapsed": false
   },
   "outputs": [
    {
     "name": "stdout",
     "output_type": "stream",
     "text": [
      "+-------+-----+\n",
      "|Channel|count|\n",
      "+-------+-----+\n",
      "|      1|  298|\n",
      "|      2|  142|\n",
      "+-------+-----+\n",
      "\n",
      "+------+-----+\n",
      "|Region|count|\n",
      "+------+-----+\n",
      "|     1|   77|\n",
      "|     3|  316|\n",
      "|     2|   47|\n",
      "+------+-----+\n",
      "\n"
     ]
    }
   ],
   "source": [
    "#Create aggregates on channels and regions variables.\n",
    "sale_df.groupby(\"Channel\").count().show()\n",
    "sale_df.groupby(\"Region\").count().show()"
   ]
  },
  {
   "cell_type": "code",
   "execution_count": 36,
   "metadata": {
    "collapsed": false
   },
   "outputs": [
    {
     "name": "stdout",
     "output_type": "stream",
     "text": [
      "+-------+-------------------+-----------------+------------------+-----------------+-----------------+-----------------+------------------+------------------+\n",
      "|summary|            Channel|           Region|             Fresh|             Milk|          Grocery|           Frozen|  Detergents_Paper|        Delicassen|\n",
      "+-------+-------------------+-----------------+------------------+-----------------+-----------------+-----------------+------------------+------------------+\n",
      "|  count|                440|              440|               440|              440|              440|              440|               440|               440|\n",
      "|   mean| 1.3227272727272728|2.543181818181818|12000.297727272728|5796.265909090909|7951.277272727273|3071.931818181818|2881.4931818181817|1524.8704545454545|\n",
      "| stddev|0.46805156947911386|  0.7742724492301|12647.328865076892|7380.377174570843|9503.162828994344|4854.673332592367| 4767.854447904201| 2820.105937369397|\n",
      "|    min|                  1|                1|                 3|               55|                3|               25|                 3|                 3|\n",
      "|    max|                  2|                3|            112151|            73498|            92780|            60869|             40827|             47943|\n",
      "+-------+-------------------+-----------------+------------------+-----------------+-----------------+-----------------+------------------+------------------+\n",
      "\n"
     ]
    }
   ],
   "source": [
    "#Use describe to see summary statistics on dataframe.\n",
    "sale_df.describe().show()"
   ]
  },
  {
   "cell_type": "code",
   "execution_count": 37,
   "metadata": {
    "collapsed": false
   },
   "outputs": [
    {
     "name": "stdout",
     "output_type": "stream",
     "text": [
      "+--------+\n",
      "|Channels|\n",
      "+--------+\n",
      "|       2|\n",
      "|       2|\n",
      "|       2|\n",
      "|       1|\n",
      "|       2|\n",
      "+--------+\n",
      "only showing top 5 rows\n",
      "\n"
     ]
    }
   ],
   "source": [
    "#Change datatype of Channels to Strings.\n",
    "sale_df.select(sale_df.Channel.cast(\"string\").alias('Channels')).show(5)"
   ]
  },
  {
   "cell_type": "code",
   "execution_count": 39,
   "metadata": {
    "collapsed": false
   },
   "outputs": [
    {
     "name": "stdout",
     "output_type": "stream",
     "text": [
      "+-------+------+------------------+-----------------+------------------+------------------+------------------+------------------+---------------------+------------------+\n",
      "|Channel|Region|      avg(Channel)|      avg(Region)|        avg(Fresh)|         avg(Milk)|      avg(Grocery)|       avg(Frozen)|avg(Detergents_Paper)|   avg(Delicassen)|\n",
      "+-------+------+------------------+-----------------+------------------+------------------+------------------+------------------+---------------------+------------------+\n",
      "|   null|  null|1.3227272727272728|2.543181818181818|12000.297727272728| 5796.265909090909| 7951.277272727273| 3071.931818181818|   2881.4931818181817|1524.8704545454545|\n",
      "|      1|  null|               1.0| 2.51006711409396|13475.560402684563|3451.7248322147652|3962.1375838926174| 3748.251677852349|    790.5604026845638| 1415.956375838926|\n",
      "|      1|     1|               1.0|              1.0|12902.254237288136|3870.2033898305085| 4026.135593220339| 3127.322033898305|    950.5254237288135|1197.1525423728813|\n",
      "|      1|     2|               1.0|              2.0|11650.535714285714|           2304.25|            4395.5| 5745.035714285715|    482.7142857142857| 1105.892857142857|\n",
      "|      1|     3|               1.0|              3.0|13878.052132701421|3486.9810426540284| 3886.734597156398| 3656.900473933649|    786.6824644549763|1518.2843601895734|\n",
      "|      2|  null|               2.0|2.612676056338028| 8904.323943661971|           10716.5|16322.852112676057| 1652.612676056338|    7269.507042253521|1753.4366197183099|\n",
      "|      2|     1|               2.0|              1.0|            5200.0|           10784.0|18471.944444444445|2584.1111111111113|    8225.277777777777|1871.9444444444443|\n",
      "|      2|     2|               2.0|              2.0| 7289.789473684211|  9190.78947368421|16326.315789473685| 1540.578947368421|    8410.263157894737|            1239.0|\n",
      "|      2|     3|               2.0|              3.0| 9831.504761904762|10981.009523809524|15953.809523809523|            1513.2|    6899.238095238095|1826.2095238095237|\n",
      "+-------+------+------------------+-----------------+------------------+------------------+------------------+------------------+---------------------+------------------+\n",
      "\n"
     ]
    }
   ],
   "source": [
    "#Perform rollups on channels and regions.\n",
    "sale_df.rollup(\"Channel\",\"Region\").avg().orderBy(\"Channel\", \"Region\").show()\n"
   ]
  },
  {
   "cell_type": "code",
   "execution_count": null,
   "metadata": {
    "collapsed": true
   },
   "outputs": [],
   "source": []
  }
 ],
 "metadata": {
  "kernelspec": {
   "display_name": "Python 3",
   "language": "python",
   "name": "python3"
  },
  "language_info": {
   "codemirror_mode": {
    "name": "ipython",
    "version": 3
   },
   "file_extension": ".py",
   "mimetype": "text/x-python",
   "name": "python",
   "nbconvert_exporter": "python",
   "pygments_lexer": "ipython3",
   "version": "3.6.0"
  }
 },
 "nbformat": 4,
 "nbformat_minor": 2
}
