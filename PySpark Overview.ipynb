{
 "cells": [
  {
   "cell_type": "code",
   "execution_count": 15,
   "metadata": {
    "collapsed": true
   },
   "outputs": [],
   "source": [
    "import pandas as pd\n",
    "import numpy as np\n",
    "import matplotlib.pyplot as plt\n",
    "%matplotlib inline\n",
    "import os\n",
    "import sys\n",
    "\n",
    "spark_path = 'D:\\spark-2.1.0-bin-hadoop2.7\\spark-2.1.0-bin-hadoop2.7'"
   ]
  },
  {
   "cell_type": "code",
   "execution_count": 16,
   "metadata": {
    "collapsed": true
   },
   "outputs": [],
   "source": [
    "os.environ['SPARK_HOME'] = spark_path\n",
    "os.environ['HADOOP_HOME'] = spark_path"
   ]
  },
  {
   "cell_type": "code",
   "execution_count": 17,
   "metadata": {
    "collapsed": true
   },
   "outputs": [],
   "source": [
    "sys.path.append(spark_path + \"/bin\")\n",
    "sys.path.append(spark_path + \"/python\")\n",
    "sys.path.append(spark_path + \"/python/pyspark/\")\n",
    "sys.path.append(spark_path + \"/python/lib\")\n",
    "sys.path.append(spark_path + \"/python/lib/pyspark.zip\")\n",
    "sys.path.append(spark_path + \"/python/lib/py4j-0.10.4-src\")\n",
    "               "
   ]
  },
  {
   "cell_type": "code",
   "execution_count": 18,
   "metadata": {
    "collapsed": false
   },
   "outputs": [],
   "source": [
    "from pyspark import SparkContext"
   ]
  },
  {
   "cell_type": "code",
   "execution_count": 19,
   "metadata": {
    "collapsed": true
   },
   "outputs": [],
   "source": [
    "from pyspark import SparkConf"
   ]
  },
  {
   "cell_type": "code",
   "execution_count": 20,
   "metadata": {
    "collapsed": false
   },
   "outputs": [],
   "source": [
    "sc = SparkContext(\"local\",'test123')"
   ]
  },
  {
   "cell_type": "code",
   "execution_count": 21,
   "metadata": {
    "collapsed": false
   },
   "outputs": [
    {
     "data": {
      "text/plain": [
       "<pyspark.context.SparkContext at 0x8d093b0>"
      ]
     },
     "execution_count": 21,
     "metadata": {},
     "output_type": "execute_result"
    }
   ],
   "source": [
    "sc"
   ]
  },
  {
   "cell_type": "code",
   "execution_count": null,
   "metadata": {
    "collapsed": true
   },
   "outputs": [],
   "source": [
    "###################### PySpark Core Classes################"
   ]
  },
  {
   "cell_type": "code",
   "execution_count": 8,
   "metadata": {
    "collapsed": true
   },
   "outputs": [],
   "source": [
    "#1- pyspark.SparkContext-- Main entry point for Spark functionality.\n",
    "\n",
    "#2- pyspark.RDD-- A Resilient Distributed Dataset (RDD), the basic abstraction in Spark.\n",
    "\n",
    "#3- pyspark.streaming.StreamingContext-- Main entry point for Spark Streaming functionality.\n",
    "\n",
    "#4- pyspark.streaming.DStream-- A Discretized Stream (DStream), the basic abstraction in Spark Streaming.\n",
    "\n",
    "#5- pyspark.sql.SQLContext-- Main entry point for DataFrame and SQL functionality.\n",
    "\n",
    "#6- pyspark.sql.DataFrame-- A distributed collection of data grouped into named columns."
   ]
  },
  {
   "cell_type": "code",
   "execution_count": 29,
   "metadata": {
    "collapsed": false
   },
   "outputs": [],
   "source": [
    "#Currently directories are only supported for Hadoop-supported filesystems\n",
    "from pyspark import SparkFiles\n",
    "path = os.path.join(\"C:\\Users\\Dell\\Documents\", \"titanic_train.txt\")\n",
    "with open(path, \"w\") as testFile:\n",
    "    _ = testFile.write(\"100\")\n",
    "sc.addFile(path)"
   ]
  },
  {
   "cell_type": "code",
   "execution_count": 30,
   "metadata": {
    "collapsed": true
   },
   "outputs": [],
   "source": [
    "def func(iterator):\n",
    "    with open(SparkFiles.get(\"titanic_train.txt\")) as testFile:\n",
    "        fileVal = int(testFile.readline())\n",
    "        return [x * fileVal for x in iterator]\n"
   ]
  },
  {
   "cell_type": "code",
   "execution_count": 31,
   "metadata": {
    "collapsed": false
   },
   "outputs": [
    {
     "data": {
      "text/plain": [
       "[100, 200, 300, 400]"
      ]
     },
     "execution_count": 31,
     "metadata": {},
     "output_type": "execute_result"
    }
   ],
   "source": [
    "sc.parallelize([1, 2, 3, 4]).mapPartitions(func).collect()"
   ]
  },
  {
   "cell_type": "code",
   "execution_count": 32,
   "metadata": {
    "collapsed": false
   },
   "outputs": [
    {
     "data": {
      "text/plain": [
       "u'local-1500555868994'"
      ]
     },
     "execution_count": 32,
     "metadata": {},
     "output_type": "execute_result"
    }
   ],
   "source": [
    "sc.applicationId"
   ]
  },
  {
   "cell_type": "code",
   "execution_count": 33,
   "metadata": {
    "collapsed": true
   },
   "outputs": [],
   "source": [
    "#A unique identifier for the Spark application. Its format depends on the scheduler implementation"
   ]
  },
  {
   "cell_type": "code",
   "execution_count": 34,
   "metadata": {
    "collapsed": true
   },
   "outputs": [],
   "source": [
    "#in case of local spark app something local-1500555868994\n",
    "#in case of YARN something like ‘application_1433865536131_34483"
   ]
  },
  {
   "cell_type": "code",
   "execution_count": 37,
   "metadata": {
    "collapsed": true
   },
   "outputs": [],
   "source": [
    "#Distribute a local Python collection to form an RDD. Using xrange is recommended if \n",
    "#the input represents a range for performance"
   ]
  },
  {
   "cell_type": "code",
   "execution_count": 35,
   "metadata": {
    "collapsed": false
   },
   "outputs": [
    {
     "data": {
      "text/plain": [
       "[[0], [2], [3], [4], [6]]"
      ]
     },
     "execution_count": 35,
     "metadata": {},
     "output_type": "execute_result"
    }
   ],
   "source": [
    "sc.parallelize([0, 2, 3, 4, 6], 5).glom().collect()"
   ]
  },
  {
   "cell_type": "code",
   "execution_count": 36,
   "metadata": {
    "collapsed": false
   },
   "outputs": [
    {
     "data": {
      "text/plain": [
       "[[], [0], [], [2], [4]]"
      ]
     },
     "execution_count": 36,
     "metadata": {},
     "output_type": "execute_result"
    }
   ],
   "source": [
    "sc.parallelize(xrange(0, 6, 2), 5).glom().collect()"
   ]
  },
  {
   "cell_type": "code",
   "execution_count": 38,
   "metadata": {
    "collapsed": false
   },
   "outputs": [
    {
     "data": {
      "text/plain": [
       "[0, 1, 2, 3, 4]"
      ]
     },
     "execution_count": 38,
     "metadata": {},
     "output_type": "execute_result"
    }
   ],
   "source": [
    "sc.range(5).collect()"
   ]
  },
  {
   "cell_type": "code",
   "execution_count": 39,
   "metadata": {
    "collapsed": false
   },
   "outputs": [
    {
     "data": {
      "text/plain": [
       "[2, 3]"
      ]
     },
     "execution_count": 39,
     "metadata": {},
     "output_type": "execute_result"
    }
   ],
   "source": [
    "sc.range(2, 4).collect()"
   ]
  },
  {
   "cell_type": "code",
   "execution_count": 40,
   "metadata": {
    "collapsed": false
   },
   "outputs": [
    {
     "data": {
      "text/plain": [
       "[1, 3, 5]"
      ]
     },
     "execution_count": 40,
     "metadata": {},
     "output_type": "execute_result"
    }
   ],
   "source": [
    "sc.range(1, 7, 2).collect()"
   ]
  },
  {
   "cell_type": "code",
   "execution_count": 42,
   "metadata": {
    "collapsed": true
   },
   "outputs": [],
   "source": [
    "#runJob: Executes the given partitionFunc on the specified set of partitions, returning the result as an array of elements\n",
    "#If ‘partitions’ is not specified, this will run over all partitions."
   ]
  },
  {
   "cell_type": "code",
   "execution_count": 43,
   "metadata": {
    "collapsed": true
   },
   "outputs": [],
   "source": [
    "myRDD = sc.parallelize(range(6), 3)"
   ]
  },
  {
   "cell_type": "code",
   "execution_count": 44,
   "metadata": {
    "collapsed": false
   },
   "outputs": [
    {
     "data": {
      "text/plain": [
       "[0, 1, 4, 9, 16, 25]"
      ]
     },
     "execution_count": 44,
     "metadata": {},
     "output_type": "execute_result"
    }
   ],
   "source": [
    "sc.runJob(myRDD, lambda part: [x * x for x in part])"
   ]
  },
  {
   "cell_type": "code",
   "execution_count": 45,
   "metadata": {
    "collapsed": true
   },
   "outputs": [],
   "source": [
    "myRDD = sc.parallelize(range(6), 3)"
   ]
  },
  {
   "cell_type": "code",
   "execution_count": 46,
   "metadata": {
    "collapsed": false
   },
   "outputs": [
    {
     "data": {
      "text/plain": [
       "[0, 1, 16, 25]"
      ]
     },
     "execution_count": 46,
     "metadata": {},
     "output_type": "execute_result"
    }
   ],
   "source": [
    "sc.runJob(myRDD, lambda part: [x * x for x in part], [0, 2], True)"
   ]
  },
  {
   "cell_type": "code",
   "execution_count": 50,
   "metadata": {
    "collapsed": false
   },
   "outputs": [
    {
     "data": {
      "text/plain": [
       "[u'PassengerId\\tSurvived\\tPclass\\tName\\tSex\\tAge\\tSibSp\\tParch\\tTicket\\tFare\\tCabin\\tEmbarked',\n",
       " u'1\\t0\\t3\\t\"Braund, Mr. Owen Harris\"\\tmale\\t22\\t1\\t0\\tA/5 21171\\t7.25\\t\\tS',\n",
       " u'2\\t1\\t1\\t\"Cumings, Mrs. John Bradley (Florence Briggs Thayer)\"\\tfemale\\t38\\t1\\t0\\tPC 17599\\t71.2833\\tC85\\tC',\n",
       " u'3\\t1\\t3\\t\"Heikkinen, Miss. Laina\"\\tfemale\\t26\\t0\\t0\\tSTON/O2. 3101282\\t7.925\\t\\tS',\n",
       " u'4\\t1\\t1\\t\"Futrelle, Mrs. Jacques Heath (Lily May Peel)\"\\tfemale\\t35\\t1\\t0\\t113803\\t53.1\\tC123\\tS',\n",
       " u'5\\t0\\t3\\t\"Allen, Mr. William Henry\"\\tmale\\t35\\t0\\t0\\t373450\\t8.05\\t\\tS',\n",
       " u'6\\t0\\t3\\t\"Moran, Mr. James\"\\tmale\\t\\t0\\t0\\t330877\\t8.4583\\t\\tQ',\n",
       " u'7\\t0\\t1\\t\"McCarthy, Mr. Timothy J\"\\tmale\\t54\\t0\\t0\\t17463\\t51.8625\\tE46\\tS',\n",
       " u'8\\t0\\t3\\t\"Palsson, Master. Gosta Leonard\"\\tmale\\t2\\t3\\t1\\t349909\\t21.075\\t\\tS',\n",
       " u'9\\t1\\t3\\t\"Johnson, Mrs. Oscar W (Elisabeth Vilhelmina Berg)\"\\tfemale\\t27\\t0\\t2\\t347742\\t11.1333\\t\\tS',\n",
       " u'10\\t1\\t2\\t\"Nasser, Mrs. Nicholas (Adele Achem)\"\\tfemale\\t14\\t1\\t0\\t237736\\t30.0708\\t\\tC',\n",
       " u'11\\t1\\t3\\t\"Sandstrom, Miss. Marguerite Rut\"\\tfemale\\t4\\t1\\t1\\tPP 9549\\t16.7\\tG6\\tS',\n",
       " u'12\\t1\\t1\\t\"Bonnell, Miss. Elizabeth\"\\tfemale\\t58\\t0\\t0\\t113783\\t26.55\\tC103\\tS',\n",
       " u'13\\t0\\t3\\t\"Saundercock, Mr. William Henry\"\\tmale\\t20\\t0\\t0\\tA/5. 2151\\t8.05\\t\\tS',\n",
       " u'14\\t0\\t3\\t\"Andersson, Mr. Anders Johan\"\\tmale\\t39\\t1\\t5\\t347082\\t31.275\\t\\tS',\n",
       " u'15\\t0\\t3\\t\"Vestrom, Miss. Hulda Amanda Adolfina\"\\tfemale\\t14\\t0\\t0\\t350406\\t7.8542\\t\\tS',\n",
       " u'16\\t1\\t2\\t\"Hewlett, Mrs. (Mary D Kingcome) \"\\tfemale\\t55\\t0\\t0\\t248706\\t16\\t\\tS',\n",
       " u'17\\t0\\t3\\t\"Rice, Master. Eugene\"\\tmale\\t2\\t4\\t1\\t382652\\t29.125\\t\\tQ',\n",
       " u'18\\t1\\t2\\t\"Williams, Mr. Charles Eugene\"\\tmale\\t\\t0\\t0\\t244373\\t13\\t\\tS',\n",
       " u'19\\t0\\t3\\t\"Vander Planke, Mrs. Julius (Emelia Maria Vandemoortele)\"\\tfemale\\t31\\t1\\t0\\t345763\\t18\\t\\tS',\n",
       " u'20\\t1\\t3\\t\"Masselmani, Mrs. Fatima\"\\tfemale\\t\\t0\\t0\\t2649\\t7.225\\t\\tC',\n",
       " u'21\\t0\\t2\\t\"Fynney, Mr. Joseph J\"\\tmale\\t35\\t0\\t0\\t239865\\t26\\t\\tS',\n",
       " u'22\\t1\\t2\\t\"Beesley, Mr. Lawrence\"\\tmale\\t34\\t0\\t0\\t248698\\t13\\tD56\\tS',\n",
       " u'23\\t1\\t3\\t\"McGowan, Miss. Anna \"\"Annie\"\"\"\\tfemale\\t15\\t0\\t0\\t330923\\t8.0292\\t\\tQ',\n",
       " u'24\\t1\\t1\\t\"Sloper, Mr. William Thompson\"\\tmale\\t28\\t0\\t0\\t113788\\t35.5\\tA6\\tS',\n",
       " u'25\\t0\\t3\\t\"Palsson, Miss. Torborg Danira\"\\tfemale\\t8\\t3\\t1\\t349909\\t21.075\\t\\tS',\n",
       " u'26\\t1\\t3\\t\"Asplund, Mrs. Carl Oscar (Selma Augusta Emilia Johansson)\"\\tfemale\\t38\\t1\\t5\\t347077\\t31.3875\\t\\tS',\n",
       " u'27\\t0\\t3\\t\"Emir, Mr. Farred Chehab\"\\tmale\\t\\t0\\t0\\t2631\\t7.225\\t\\tC',\n",
       " u'28\\t0\\t1\\t\"Fortune, Mr. Charles Alexander\"\\tmale\\t19\\t3\\t2\\t19950\\t263\\tC23 C25 C27\\tS',\n",
       " u'29\\t1\\t3\\t\"O\\'Dwyer, Miss. Ellen \"\"Nellie\"\"\"\\tfemale\\t\\t0\\t0\\t330959\\t7.8792\\t\\tQ',\n",
       " u'30\\t0\\t3\\t\"Todoroff, Mr. Lalio\"\\tmale\\t\\t0\\t0\\t349216\\t7.8958\\t\\tS',\n",
       " u'31\\t0\\t1\\t\"Uruchurtu, Don. Manuel E\"\\tmale\\t40\\t0\\t0\\tPC 17601\\t27.7208\\t\\tC',\n",
       " u'32\\t1\\t1\\t\"Spencer, Mrs. William Augustus (Marie Eugenie)\"\\tfemale\\t\\t1\\t0\\tPC 17569\\t146.5208\\tB78\\tC',\n",
       " u'33\\t1\\t3\\t\"Glynn, Miss. Mary Agatha\"\\tfemale\\t\\t0\\t0\\t335677\\t7.75\\t\\tQ',\n",
       " u'34\\t0\\t2\\t\"Wheadon, Mr. Edward H\"\\tmale\\t66\\t0\\t0\\tC.A. 24579\\t10.5\\t\\tS',\n",
       " u'35\\t0\\t1\\t\"Meyer, Mr. Edgar Joseph\"\\tmale\\t28\\t1\\t0\\tPC 17604\\t82.1708\\t\\tC',\n",
       " u'36\\t0\\t1\\t\"Holverson, Mr. Alexander Oskar\"\\tmale\\t42\\t1\\t0\\t113789\\t52\\t\\tS',\n",
       " u'37\\t1\\t3\\t\"Mamee, Mr. Hanna\"\\tmale\\t\\t0\\t0\\t2677\\t7.2292\\t\\tC',\n",
       " u'38\\t0\\t3\\t\"Cann, Mr. Ernest Charles\"\\tmale\\t21\\t0\\t0\\tA./5. 2152\\t8.05\\t\\tS',\n",
       " u'39\\t0\\t3\\t\"Vander Planke, Miss. Augusta Maria\"\\tfemale\\t18\\t2\\t0\\t345764\\t18\\t\\tS',\n",
       " u'40\\t1\\t3\\t\"Nicola-Yarred, Miss. Jamila\"\\tfemale\\t14\\t1\\t0\\t2651\\t11.2417\\t\\tC',\n",
       " u'41\\t0\\t3\\t\"Ahlin, Mrs. Johan (Johanna Persdotter Larsson)\"\\tfemale\\t40\\t1\\t0\\t7546\\t9.475\\t\\tS',\n",
       " u'42\\t0\\t2\\t\"Turpin, Mrs. William John Robert (Dorothy Ann Wonnacott)\"\\tfemale\\t27\\t1\\t0\\t11668\\t21\\t\\tS',\n",
       " u'43\\t0\\t3\\t\"Kraeff, Mr. Theodor\"\\tmale\\t\\t0\\t0\\t349253\\t7.8958\\t\\tC',\n",
       " u'44\\t1\\t2\\t\"Laroche, Miss. Simonne Marie Anne Andree\"\\tfemale\\t3\\t1\\t2\\tSC/Paris 2123\\t41.5792\\t\\tC',\n",
       " u'45\\t1\\t3\\t\"Devaney, Miss. Margaret Delia\"\\tfemale\\t19\\t0\\t0\\t330958\\t7.8792\\t\\tQ',\n",
       " u'46\\t0\\t3\\t\"Rogers, Mr. William John\"\\tmale\\t\\t0\\t0\\tS.C./A.4. 23567\\t8.05\\t\\tS',\n",
       " u'47\\t0\\t3\\t\"Lennon, Mr. Denis\"\\tmale\\t\\t1\\t0\\t370371\\t15.5\\t\\tQ',\n",
       " u'48\\t1\\t3\\t\"O\\'Driscoll, Miss. Bridget\"\\tfemale\\t\\t0\\t0\\t14311\\t7.75\\t\\tQ',\n",
       " u'49\\t0\\t3\\t\"Samaan, Mr. Youssef\"\\tmale\\t\\t2\\t0\\t2662\\t21.6792\\t\\tC',\n",
       " u'50\\t0\\t3\\t\"Arnold-Franchi, Mrs. Josef (Josefine Franchi)\"\\tfemale\\t18\\t1\\t0\\t349237\\t17.8\\t\\tS',\n",
       " u'51\\t0\\t3\\t\"Panula, Master. Juha Niilo\"\\tmale\\t7\\t4\\t1\\t3101295\\t39.6875\\t\\tS',\n",
       " u'52\\t0\\t3\\t\"Nosworthy, Mr. Richard Cater\"\\tmale\\t21\\t0\\t0\\tA/4. 39886\\t7.8\\t\\tS',\n",
       " u'53\\t1\\t1\\t\"Harper, Mrs. Henry Sleeper (Myna Haxtun)\"\\tfemale\\t49\\t1\\t0\\tPC 17572\\t76.7292\\tD33\\tC',\n",
       " u'54\\t1\\t2\\t\"Faunthorpe, Mrs. Lizzie (Elizabeth Anne Wilkinson)\"\\tfemale\\t29\\t1\\t0\\t2926\\t26\\t\\tS',\n",
       " u'55\\t0\\t1\\t\"Ostby, Mr. Engelhart Cornelius\"\\tmale\\t65\\t0\\t1\\t113509\\t61.9792\\tB30\\tC',\n",
       " u'56\\t1\\t1\\t\"Woolner, Mr. Hugh\"\\tmale\\t\\t0\\t0\\t19947\\t35.5\\tC52\\tS',\n",
       " u'57\\t1\\t2\\t\"Rugg, Miss. Emily\"\\tfemale\\t21\\t0\\t0\\tC.A. 31026\\t10.5\\t\\tS',\n",
       " u'58\\t0\\t3\\t\"Novel, Mr. Mansouer\"\\tmale\\t28.5\\t0\\t0\\t2697\\t7.2292\\t\\tC',\n",
       " u'59\\t1\\t2\\t\"West, Miss. Constance Mirium\"\\tfemale\\t5\\t1\\t2\\tC.A. 34651\\t27.75\\t\\tS',\n",
       " u'60\\t0\\t3\\t\"Goodwin, Master. William Frederick\"\\tmale\\t11\\t5\\t2\\tCA 2144\\t46.9\\t\\tS',\n",
       " u'61\\t0\\t3\\t\"Sirayanian, Mr. Orsen\"\\tmale\\t22\\t0\\t0\\t2669\\t7.2292\\t\\tC',\n",
       " u'62\\t1\\t1\\t\"Icard, Miss. Amelie\"\\tfemale\\t38\\t0\\t0\\t113572\\t80\\tB28\\t',\n",
       " u'63\\t0\\t1\\t\"Harris, Mr. Henry Birkhardt\"\\tmale\\t45\\t1\\t0\\t36973\\t83.475\\tC83\\tS',\n",
       " u'64\\t0\\t3\\t\"Skoog, Master. Harald\"\\tmale\\t4\\t3\\t2\\t347088\\t27.9\\t\\tS',\n",
       " u'65\\t0\\t1\\t\"Stewart, Mr. Albert A\"\\tmale\\t\\t0\\t0\\tPC 17605\\t27.7208\\t\\tC',\n",
       " u'66\\t1\\t3\\t\"Moubarek, Master. Gerios\"\\tmale\\t\\t1\\t1\\t2661\\t15.2458\\t\\tC',\n",
       " u'67\\t1\\t2\\t\"Nye, Mrs. (Elizabeth Ramell)\"\\tfemale\\t29\\t0\\t0\\tC.A. 29395\\t10.5\\tF33\\tS',\n",
       " u'68\\t0\\t3\\t\"Crease, Mr. Ernest James\"\\tmale\\t19\\t0\\t0\\tS.P. 3464\\t8.1583\\t\\tS',\n",
       " u'69\\t1\\t3\\t\"Andersson, Miss. Erna Alexandra\"\\tfemale\\t17\\t4\\t2\\t3101281\\t7.925\\t\\tS',\n",
       " u'70\\t0\\t3\\t\"Kink, Mr. Vincenz\"\\tmale\\t26\\t2\\t0\\t315151\\t8.6625\\t\\tS',\n",
       " u'71\\t0\\t2\\t\"Jenkin, Mr. Stephen Curnow\"\\tmale\\t32\\t0\\t0\\tC.A. 33111\\t10.5\\t\\tS',\n",
       " u'72\\t0\\t3\\t\"Goodwin, Miss. Lillian Amy\"\\tfemale\\t16\\t5\\t2\\tCA 2144\\t46.9\\t\\tS',\n",
       " u'73\\t0\\t2\\t\"Hood, Mr. Ambrose Jr\"\\tmale\\t21\\t0\\t0\\tS.O.C. 14879\\t73.5\\t\\tS',\n",
       " u'74\\t0\\t3\\t\"Chronopoulos, Mr. Apostolos\"\\tmale\\t26\\t1\\t0\\t2680\\t14.4542\\t\\tC',\n",
       " u'75\\t1\\t3\\t\"Bing, Mr. Lee\"\\tmale\\t32\\t0\\t0\\t1601\\t56.4958\\t\\tS',\n",
       " u'76\\t0\\t3\\t\"Moen, Mr. Sigurd Hansen\"\\tmale\\t25\\t0\\t0\\t348123\\t7.65\\tF G73\\tS',\n",
       " u'77\\t0\\t3\\t\"Staneff, Mr. Ivan\"\\tmale\\t\\t0\\t0\\t349208\\t7.8958\\t\\tS',\n",
       " u'78\\t0\\t3\\t\"Moutal, Mr. Rahamin Haim\"\\tmale\\t\\t0\\t0\\t374746\\t8.05\\t\\tS',\n",
       " u'79\\t1\\t2\\t\"Caldwell, Master. Alden Gates\"\\tmale\\t0.83\\t0\\t2\\t248738\\t29\\t\\tS',\n",
       " u'80\\t1\\t3\\t\"Dowdell, Miss. Elizabeth\"\\tfemale\\t30\\t0\\t0\\t364516\\t12.475\\t\\tS',\n",
       " u'81\\t0\\t3\\t\"Waelens, Mr. Achille\"\\tmale\\t22\\t0\\t0\\t345767\\t9\\t\\tS',\n",
       " u'82\\t1\\t3\\t\"Sheerlinck, Mr. Jan Baptist\"\\tmale\\t29\\t0\\t0\\t345779\\t9.5\\t\\tS',\n",
       " u'83\\t1\\t3\\t\"McDermott, Miss. Brigdet Delia\"\\tfemale\\t\\t0\\t0\\t330932\\t7.7875\\t\\tQ',\n",
       " u'84\\t0\\t1\\t\"Carrau, Mr. Francisco M\"\\tmale\\t28\\t0\\t0\\t113059\\t47.1\\t\\tS',\n",
       " u'85\\t1\\t2\\t\"Ilett, Miss. Bertha\"\\tfemale\\t17\\t0\\t0\\tSO/C 14885\\t10.5\\t\\tS',\n",
       " u'86\\t1\\t3\\t\"Backstrom, Mrs. Karl Alfred (Maria Mathilda Gustafsson)\"\\tfemale\\t33\\t3\\t0\\t3101278\\t15.85\\t\\tS',\n",
       " u'87\\t0\\t3\\t\"Ford, Mr. William Neal\"\\tmale\\t16\\t1\\t3\\tW./C. 6608\\t34.375\\t\\tS',\n",
       " u'88\\t0\\t3\\t\"Slocovski, Mr. Selman Francis\"\\tmale\\t\\t0\\t0\\tSOTON/OQ 392086\\t8.05\\t\\tS',\n",
       " u'89\\t1\\t1\\t\"Fortune, Miss. Mabel Helen\"\\tfemale\\t23\\t3\\t2\\t19950\\t263\\tC23 C25 C27\\tS',\n",
       " u'90\\t0\\t3\\t\"Celotti, Mr. Francesco\"\\tmale\\t24\\t0\\t0\\t343275\\t8.05\\t\\tS',\n",
       " u'91\\t0\\t3\\t\"Christmann, Mr. Emil\"\\tmale\\t29\\t0\\t0\\t343276\\t8.05\\t\\tS',\n",
       " u'92\\t0\\t3\\t\"Andreasson, Mr. Paul Edvin\"\\tmale\\t20\\t0\\t0\\t347466\\t7.8542\\t\\tS',\n",
       " u'93\\t0\\t1\\t\"Chaffee, Mr. Herbert Fuller\"\\tmale\\t46\\t1\\t0\\tW.E.P. 5734\\t61.175\\tE31\\tS',\n",
       " u'94\\t0\\t3\\t\"Dean, Mr. Bertram Frank\"\\tmale\\t26\\t1\\t2\\tC.A. 2315\\t20.575\\t\\tS',\n",
       " u'95\\t0\\t3\\t\"Coxon, Mr. Daniel\"\\tmale\\t59\\t0\\t0\\t364500\\t7.25\\t\\tS',\n",
       " u'96\\t0\\t3\\t\"Shorney, Mr. Charles Joseph\"\\tmale\\t\\t0\\t0\\t374910\\t8.05\\t\\tS',\n",
       " u'97\\t0\\t1\\t\"Goldschmidt, Mr. George B\"\\tmale\\t71\\t0\\t0\\tPC 17754\\t34.6542\\tA5\\tC',\n",
       " u'98\\t1\\t1\\t\"Greenfield, Mr. William Bertram\"\\tmale\\t23\\t0\\t1\\tPC 17759\\t63.3583\\tD10 D12\\tC',\n",
       " u'99\\t1\\t2\\t\"Doling, Mrs. John T (Ada Julia Bone)\"\\tfemale\\t34\\t0\\t1\\t231919\\t23\\t\\tS',\n",
       " u'100\\t0\\t2\\t\"Kantor, Mr. Sinai\"\\tmale\\t34\\t1\\t0\\t244367\\t26\\t\\tS',\n",
       " u'101\\t0\\t3\\t\"Petranec, Miss. Matilda\"\\tfemale\\t28\\t0\\t0\\t349245\\t7.8958\\t\\tS',\n",
       " u'102\\t0\\t3\\t\"Petroff, Mr. Pastcho (\"\"Pentcho\"\")\"\\tmale\\t\\t0\\t0\\t349215\\t7.8958\\t\\tS',\n",
       " u'103\\t0\\t1\\t\"White, Mr. Richard Frasar\"\\tmale\\t21\\t0\\t1\\t35281\\t77.2875\\tD26\\tS',\n",
       " u'104\\t0\\t3\\t\"Johansson, Mr. Gustaf Joel\"\\tmale\\t33\\t0\\t0\\t7540\\t8.6542\\t\\tS',\n",
       " u'105\\t0\\t3\\t\"Gustafsson, Mr. Anders Vilhelm\"\\tmale\\t37\\t2\\t0\\t3101276\\t7.925\\t\\tS',\n",
       " u'106\\t0\\t3\\t\"Mionoff, Mr. Stoytcho\"\\tmale\\t28\\t0\\t0\\t349207\\t7.8958\\t\\tS',\n",
       " u'107\\t1\\t3\\t\"Salkjelsvik, Miss. Anna Kristine\"\\tfemale\\t21\\t0\\t0\\t343120\\t7.65\\t\\tS',\n",
       " u'108\\t1\\t3\\t\"Moss, Mr. Albert Johan\"\\tmale\\t\\t0\\t0\\t312991\\t7.775\\t\\tS',\n",
       " u'109\\t0\\t3\\t\"Rekic, Mr. Tido\"\\tmale\\t38\\t0\\t0\\t349249\\t7.8958\\t\\tS',\n",
       " u'110\\t1\\t3\\t\"Moran, Miss. Bertha\"\\tfemale\\t\\t1\\t0\\t371110\\t24.15\\t\\tQ',\n",
       " u'111\\t0\\t1\\t\"Porter, Mr. Walter Chamberlain\"\\tmale\\t47\\t0\\t0\\t110465\\t52\\tC110\\tS',\n",
       " u'112\\t0\\t3\\t\"Zabour, Miss. Hileni\"\\tfemale\\t14.5\\t1\\t0\\t2665\\t14.4542\\t\\tC',\n",
       " u'113\\t0\\t3\\t\"Barton, Mr. David John\"\\tmale\\t22\\t0\\t0\\t324669\\t8.05\\t\\tS',\n",
       " u'114\\t0\\t3\\t\"Jussila, Miss. Katriina\"\\tfemale\\t20\\t1\\t0\\t4136\\t9.825\\t\\tS',\n",
       " u'115\\t0\\t3\\t\"Attalah, Miss. Malake\"\\tfemale\\t17\\t0\\t0\\t2627\\t14.4583\\t\\tC',\n",
       " u'116\\t0\\t3\\t\"Pekoniemi, Mr. Edvard\"\\tmale\\t21\\t0\\t0\\tSTON/O 2. 3101294\\t7.925\\t\\tS',\n",
       " u'117\\t0\\t3\\t\"Connors, Mr. Patrick\"\\tmale\\t70.5\\t0\\t0\\t370369\\t7.75\\t\\tQ',\n",
       " u'118\\t0\\t2\\t\"Turpin, Mr. William John Robert\"\\tmale\\t29\\t1\\t0\\t11668\\t21\\t\\tS',\n",
       " u'119\\t0\\t1\\t\"Baxter, Mr. Quigg Edmond\"\\tmale\\t24\\t0\\t1\\tPC 17558\\t247.5208\\tB58 B60\\tC',\n",
       " u'120\\t0\\t3\\t\"Andersson, Miss. Ellis Anna Maria\"\\tfemale\\t2\\t4\\t2\\t347082\\t31.275\\t\\tS',\n",
       " u'121\\t0\\t2\\t\"Hickman, Mr. Stanley George\"\\tmale\\t21\\t2\\t0\\tS.O.C. 14879\\t73.5\\t\\tS',\n",
       " u'122\\t0\\t3\\t\"Moore, Mr. Leonard Charles\"\\tmale\\t\\t0\\t0\\tA4. 54510\\t8.05\\t\\tS',\n",
       " u'123\\t0\\t2\\t\"Nasser, Mr. Nicholas\"\\tmale\\t32.5\\t1\\t0\\t237736\\t30.0708\\t\\tC',\n",
       " u'124\\t1\\t2\\t\"Webber, Miss. Susan\"\\tfemale\\t32.5\\t0\\t0\\t27267\\t13\\tE101\\tS',\n",
       " u'125\\t0\\t1\\t\"White, Mr. Percival Wayland\"\\tmale\\t54\\t0\\t1\\t35281\\t77.2875\\tD26\\tS',\n",
       " u'126\\t1\\t3\\t\"Nicola-Yarred, Master. Elias\"\\tmale\\t12\\t1\\t0\\t2651\\t11.2417\\t\\tC',\n",
       " u'127\\t0\\t3\\t\"McMahon, Mr. Martin\"\\tmale\\t\\t0\\t0\\t370372\\t7.75\\t\\tQ',\n",
       " u'128\\t1\\t3\\t\"Madsen, Mr. Fridtjof Arne\"\\tmale\\t24\\t0\\t0\\tC 17369\\t7.1417\\t\\tS',\n",
       " u'129\\t1\\t3\\t\"Peter, Miss. Anna\"\\tfemale\\t\\t1\\t1\\t2668\\t22.3583\\tF E69\\tC',\n",
       " u'130\\t0\\t3\\t\"Ekstrom, Mr. Johan\"\\tmale\\t45\\t0\\t0\\t347061\\t6.975\\t\\tS',\n",
       " u'131\\t0\\t3\\t\"Drazenoic, Mr. Jozef\"\\tmale\\t33\\t0\\t0\\t349241\\t7.8958\\t\\tC',\n",
       " u'132\\t0\\t3\\t\"Coelho, Mr. Domingos Fernandeo\"\\tmale\\t20\\t0\\t0\\tSOTON/O.Q. 3101307\\t7.05\\t\\tS',\n",
       " u'133\\t0\\t3\\t\"Robins, Mrs. Alexander A (Grace Charity Laury)\"\\tfemale\\t47\\t1\\t0\\tA/5. 3337\\t14.5\\t\\tS',\n",
       " u'134\\t1\\t2\\t\"Weisz, Mrs. Leopold (Mathilde Francoise Pede)\"\\tfemale\\t29\\t1\\t0\\t228414\\t26\\t\\tS',\n",
       " u'135\\t0\\t2\\t\"Sobey, Mr. Samuel James Hayden\"\\tmale\\t25\\t0\\t0\\tC.A. 29178\\t13\\t\\tS',\n",
       " u'136\\t0\\t2\\t\"Richard, Mr. Emile\"\\tmale\\t23\\t0\\t0\\tSC/PARIS 2133\\t15.0458\\t\\tC',\n",
       " u'137\\t1\\t1\\t\"Newsom, Miss. Helen Monypeny\"\\tfemale\\t19\\t0\\t2\\t11752\\t26.2833\\tD47\\tS',\n",
       " u'138\\t0\\t1\\t\"Futrelle, Mr. Jacques Heath\"\\tmale\\t37\\t1\\t0\\t113803\\t53.1\\tC123\\tS',\n",
       " u'139\\t0\\t3\\t\"Osen, Mr. Olaf Elon\"\\tmale\\t16\\t0\\t0\\t7534\\t9.2167\\t\\tS',\n",
       " u'140\\t0\\t1\\t\"Giglio, Mr. Victor\"\\tmale\\t24\\t0\\t0\\tPC 17593\\t79.2\\tB86\\tC',\n",
       " u'141\\t0\\t3\\t\"Boulos, Mrs. Joseph (Sultana)\"\\tfemale\\t\\t0\\t2\\t2678\\t15.2458\\t\\tC',\n",
       " u'142\\t1\\t3\\t\"Nysten, Miss. Anna Sofia\"\\tfemale\\t22\\t0\\t0\\t347081\\t7.75\\t\\tS',\n",
       " u'143\\t1\\t3\\t\"Hakkarainen, Mrs. Pekka Pietari (Elin Matilda Dolck)\"\\tfemale\\t24\\t1\\t0\\tSTON/O2. 3101279\\t15.85\\t\\tS',\n",
       " u'144\\t0\\t3\\t\"Burke, Mr. Jeremiah\"\\tmale\\t19\\t0\\t0\\t365222\\t6.75\\t\\tQ',\n",
       " u'145\\t0\\t2\\t\"Andrew, Mr. Edgardo Samuel\"\\tmale\\t18\\t0\\t0\\t231945\\t11.5\\t\\tS',\n",
       " u'146\\t0\\t2\\t\"Nicholls, Mr. Joseph Charles\"\\tmale\\t19\\t1\\t1\\tC.A. 33112\\t36.75\\t\\tS',\n",
       " u'147\\t1\\t3\\t\"Andersson, Mr. August Edvard (\"\"Wennerstrom\"\")\"\\tmale\\t27\\t0\\t0\\t350043\\t7.7958\\t\\tS',\n",
       " u'148\\t0\\t3\\t\"Ford, Miss. Robina Maggie \"\"Ruby\"\"\"\\tfemale\\t9\\t2\\t2\\tW./C. 6608\\t34.375\\t\\tS',\n",
       " u'149\\t0\\t2\\t\"Navratil, Mr. Michel (\"\"Louis M Hoffman\"\")\"\\tmale\\t36.5\\t0\\t2\\t230080\\t26\\tF2\\tS',\n",
       " u'150\\t0\\t2\\t\"Byles, Rev. Thomas Roussel Davids\"\\tmale\\t42\\t0\\t0\\t244310\\t13\\t\\tS',\n",
       " u'151\\t0\\t2\\t\"Bateman, Rev. Robert James\"\\tmale\\t51\\t0\\t0\\tS.O.P. 1166\\t12.525\\t\\tS',\n",
       " u'152\\t1\\t1\\t\"Pears, Mrs. Thomas (Edith Wearne)\"\\tfemale\\t22\\t1\\t0\\t113776\\t66.6\\tC2\\tS',\n",
       " u'153\\t0\\t3\\t\"Meo, Mr. Alfonzo\"\\tmale\\t55.5\\t0\\t0\\tA.5. 11206\\t8.05\\t\\tS',\n",
       " u'154\\t0\\t3\\t\"van Billiard, Mr. Austin Blyler\"\\tmale\\t40.5\\t0\\t2\\tA/5. 851\\t14.5\\t\\tS',\n",
       " u'155\\t0\\t3\\t\"Olsen, Mr. Ole Martin\"\\tmale\\t\\t0\\t0\\tFa 265302\\t7.3125\\t\\tS',\n",
       " u'156\\t0\\t1\\t\"Williams, Mr. Charles Duane\"\\tmale\\t51\\t0\\t1\\tPC 17597\\t61.3792\\t\\tC',\n",
       " u'157\\t1\\t3\\t\"Gilnagh, Miss. Katherine \"\"Katie\"\"\"\\tfemale\\t16\\t0\\t0\\t35851\\t7.7333\\t\\tQ',\n",
       " u'158\\t0\\t3\\t\"Corn, Mr. Harry\"\\tmale\\t30\\t0\\t0\\tSOTON/OQ 392090\\t8.05\\t\\tS',\n",
       " u'159\\t0\\t3\\t\"Smiljanic, Mr. Mile\"\\tmale\\t\\t0\\t0\\t315037\\t8.6625\\t\\tS',\n",
       " u'160\\t0\\t3\\t\"Sage, Master. Thomas Henry\"\\tmale\\t\\t8\\t2\\tCA. 2343\\t69.55\\t\\tS',\n",
       " u'161\\t0\\t3\\t\"Cribb, Mr. John Hatfield\"\\tmale\\t44\\t0\\t1\\t371362\\t16.1\\t\\tS',\n",
       " u'162\\t1\\t2\\t\"Watt, Mrs. James (Elizabeth \"\"Bessie\"\" Inglis Milne)\"\\tfemale\\t40\\t0\\t0\\tC.A. 33595\\t15.75\\t\\tS',\n",
       " u'163\\t0\\t3\\t\"Bengtsson, Mr. John Viktor\"\\tmale\\t26\\t0\\t0\\t347068\\t7.775\\t\\tS',\n",
       " u'164\\t0\\t3\\t\"Calic, Mr. Jovo\"\\tmale\\t17\\t0\\t0\\t315093\\t8.6625\\t\\tS',\n",
       " u'165\\t0\\t3\\t\"Panula, Master. Eino Viljami\"\\tmale\\t1\\t4\\t1\\t3101295\\t39.6875\\t\\tS',\n",
       " u'166\\t1\\t3\\t\"Goldsmith, Master. Frank John William \"\"Frankie\"\"\"\\tmale\\t9\\t0\\t2\\t363291\\t20.525\\t\\tS',\n",
       " u'167\\t1\\t1\\t\"Chibnall, Mrs. (Edith Martha Bowerman)\"\\tfemale\\t\\t0\\t1\\t113505\\t55\\tE33\\tS',\n",
       " u'168\\t0\\t3\\t\"Skoog, Mrs. William (Anna Bernhardina Karlsson)\"\\tfemale\\t45\\t1\\t4\\t347088\\t27.9\\t\\tS',\n",
       " u'169\\t0\\t1\\t\"Baumann, Mr. John D\"\\tmale\\t\\t0\\t0\\tPC 17318\\t25.925\\t\\tS',\n",
       " u'170\\t0\\t3\\t\"Ling, Mr. Lee\"\\tmale\\t28\\t0\\t0\\t1601\\t56.4958\\t\\tS',\n",
       " u'171\\t0\\t1\\t\"Van der hoef, Mr. Wyckoff\"\\tmale\\t61\\t0\\t0\\t111240\\t33.5\\tB19\\tS',\n",
       " u'172\\t0\\t3\\t\"Rice, Master. Arthur\"\\tmale\\t4\\t4\\t1\\t382652\\t29.125\\t\\tQ',\n",
       " u'173\\t1\\t3\\t\"Johnson, Miss. Eleanor Ileen\"\\tfemale\\t1\\t1\\t1\\t347742\\t11.1333\\t\\tS',\n",
       " u'174\\t0\\t3\\t\"Sivola, Mr. Antti Wilhelm\"\\tmale\\t21\\t0\\t0\\tSTON/O 2. 3101280\\t7.925\\t\\tS',\n",
       " u'175\\t0\\t1\\t\"Smith, Mr. James Clinch\"\\tmale\\t56\\t0\\t0\\t17764\\t30.6958\\tA7\\tC',\n",
       " u'176\\t0\\t3\\t\"Klasen, Mr. Klas Albin\"\\tmale\\t18\\t1\\t1\\t350404\\t7.8542\\t\\tS',\n",
       " u'177\\t0\\t3\\t\"Lefebre, Master. Henry Forbes\"\\tmale\\t\\t3\\t1\\t4133\\t25.4667\\t\\tS',\n",
       " u'178\\t0\\t1\\t\"Isham, Miss. Ann Elizabeth\"\\tfemale\\t50\\t0\\t0\\tPC 17595\\t28.7125\\tC49\\tC',\n",
       " u'179\\t0\\t2\\t\"Hale, Mr. Reginald\"\\tmale\\t30\\t0\\t0\\t250653\\t13\\t\\tS',\n",
       " u'180\\t0\\t3\\t\"Leonard, Mr. Lionel\"\\tmale\\t36\\t0\\t0\\tLINE\\t0\\t\\tS',\n",
       " u'181\\t0\\t3\\t\"Sage, Miss. Constance Gladys\"\\tfemale\\t\\t8\\t2\\tCA. 2343\\t69.55\\t\\tS',\n",
       " u'182\\t0\\t2\\t\"Pernot, Mr. Rene\"\\tmale\\t\\t0\\t0\\tSC/PARIS 2131\\t15.05\\t\\tC',\n",
       " u'183\\t0\\t3\\t\"Asplund, Master. Clarence Gustaf Hugo\"\\tmale\\t9\\t4\\t2\\t347077\\t31.3875\\t\\tS',\n",
       " u'184\\t1\\t2\\t\"Becker, Master. Richard F\"\\tmale\\t1\\t2\\t1\\t230136\\t39\\tF4\\tS',\n",
       " u'185\\t1\\t3\\t\"Kink-Heilmann, Miss. Luise Gretchen\"\\tfemale\\t4\\t0\\t2\\t315153\\t22.025\\t\\tS',\n",
       " u'186\\t0\\t1\\t\"Rood, Mr. Hugh Roscoe\"\\tmale\\t\\t0\\t0\\t113767\\t50\\tA32\\tS',\n",
       " u'187\\t1\\t3\\t\"O\\'Brien, Mrs. Thomas (Johanna \"\"Hannah\"\" Godfrey)\"\\tfemale\\t\\t1\\t0\\t370365\\t15.5\\t\\tQ',\n",
       " u'188\\t1\\t1\\t\"Romaine, Mr. Charles Hallace (\"\"Mr C Rolmane\"\")\"\\tmale\\t45\\t0\\t0\\t111428\\t26.55\\t\\tS',\n",
       " u'189\\t0\\t3\\t\"Bourke, Mr. John\"\\tmale\\t40\\t1\\t1\\t364849\\t15.5\\t\\tQ',\n",
       " u'190\\t0\\t3\\t\"Turcin, Mr. Stjepan\"\\tmale\\t36\\t0\\t0\\t349247\\t7.8958\\t\\tS',\n",
       " u'191\\t1\\t2\\t\"Pinsky, Mrs. (Rosa)\"\\tfemale\\t32\\t0\\t0\\t234604\\t13\\t\\tS',\n",
       " u'192\\t0\\t2\\t\"Carbines, Mr. William\"\\tmale\\t19\\t0\\t0\\t28424\\t13\\t\\tS',\n",
       " u'193\\t1\\t3\\t\"Andersen-Jensen, Miss. Carla Christine Nielsine\"\\tfemale\\t19\\t1\\t0\\t350046\\t7.8542\\t\\tS',\n",
       " u'194\\t1\\t2\\t\"Navratil, Master. Michel M\"\\tmale\\t3\\t1\\t1\\t230080\\t26\\tF2\\tS',\n",
       " u'195\\t1\\t1\\t\"Brown, Mrs. James Joseph (Margaret Tobin)\"\\tfemale\\t44\\t0\\t0\\tPC 17610\\t27.7208\\tB4\\tC',\n",
       " u'196\\t1\\t1\\t\"Lurette, Miss. Elise\"\\tfemale\\t58\\t0\\t0\\tPC 17569\\t146.5208\\tB80\\tC',\n",
       " u'197\\t0\\t3\\t\"Mernagh, Mr. Robert\"\\tmale\\t\\t0\\t0\\t368703\\t7.75\\t\\tQ',\n",
       " u'198\\t0\\t3\\t\"Olsen, Mr. Karl Siegwart Andreas\"\\tmale\\t42\\t0\\t1\\t4579\\t8.4042\\t\\tS',\n",
       " u'199\\t1\\t3\\t\"Madigan, Miss. Margaret \"\"Maggie\"\"\"\\tfemale\\t\\t0\\t0\\t370370\\t7.75\\t\\tQ',\n",
       " u'200\\t0\\t2\\t\"Yrois, Miss. Henriette (\"\"Mrs Harbeck\"\")\"\\tfemale\\t24\\t0\\t0\\t248747\\t13\\t\\tS',\n",
       " u'201\\t0\\t3\\t\"Vande Walle, Mr. Nestor Cyriel\"\\tmale\\t28\\t0\\t0\\t345770\\t9.5\\t\\tS',\n",
       " u'202\\t0\\t3\\t\"Sage, Mr. Frederick\"\\tmale\\t\\t8\\t2\\tCA. 2343\\t69.55\\t\\tS',\n",
       " u'203\\t0\\t3\\t\"Johanson, Mr. Jakob Alfred\"\\tmale\\t34\\t0\\t0\\t3101264\\t6.4958\\t\\tS',\n",
       " u'204\\t0\\t3\\t\"Youseff, Mr. Gerious\"\\tmale\\t45.5\\t0\\t0\\t2628\\t7.225\\t\\tC',\n",
       " u'205\\t1\\t3\\t\"Cohen, Mr. Gurshon \"\"Gus\"\"\"\\tmale\\t18\\t0\\t0\\tA/5 3540\\t8.05\\t\\tS',\n",
       " u'206\\t0\\t3\\t\"Strom, Miss. Telma Matilda\"\\tfemale\\t2\\t0\\t1\\t347054\\t10.4625\\tG6\\tS',\n",
       " u'207\\t0\\t3\\t\"Backstrom, Mr. Karl Alfred\"\\tmale\\t32\\t1\\t0\\t3101278\\t15.85\\t\\tS',\n",
       " u'208\\t1\\t3\\t\"Albimona, Mr. Nassef Cassem\"\\tmale\\t26\\t0\\t0\\t2699\\t18.7875\\t\\tC',\n",
       " u'209\\t1\\t3\\t\"Carr, Miss. Helen \"\"Ellen\"\"\"\\tfemale\\t16\\t0\\t0\\t367231\\t7.75\\t\\tQ',\n",
       " u'210\\t1\\t1\\t\"Blank, Mr. Henry\"\\tmale\\t40\\t0\\t0\\t112277\\t31\\tA31\\tC',\n",
       " u'211\\t0\\t3\\t\"Ali, Mr. Ahmed\"\\tmale\\t24\\t0\\t0\\tSOTON/O.Q. 3101311\\t7.05\\t\\tS',\n",
       " u'212\\t1\\t2\\t\"Cameron, Miss. Clear Annie\"\\tfemale\\t35\\t0\\t0\\tF.C.C. 13528\\t21\\t\\tS',\n",
       " u'213\\t0\\t3\\t\"Perkin, Mr. John Henry\"\\tmale\\t22\\t0\\t0\\tA/5 21174\\t7.25\\t\\tS',\n",
       " u'214\\t0\\t2\\t\"Givard, Mr. Hans Kristensen\"\\tmale\\t30\\t0\\t0\\t250646\\t13\\t\\tS',\n",
       " u'215\\t0\\t3\\t\"Kiernan, Mr. Philip\"\\tmale\\t\\t1\\t0\\t367229\\t7.75\\t\\tQ',\n",
       " u'216\\t1\\t1\\t\"Newell, Miss. Madeleine\"\\tfemale\\t31\\t1\\t0\\t35273\\t113.275\\tD36\\tC',\n",
       " u'217\\t1\\t3\\t\"Honkanen, Miss. Eliina\"\\tfemale\\t27\\t0\\t0\\tSTON/O2. 3101283\\t7.925\\t\\tS',\n",
       " u'218\\t0\\t2\\t\"Jacobsohn, Mr. Sidney Samuel\"\\tmale\\t42\\t1\\t0\\t243847\\t27\\t\\tS',\n",
       " u'219\\t1\\t1\\t\"Bazzani, Miss. Albina\"\\tfemale\\t32\\t0\\t0\\t11813\\t76.2917\\tD15\\tC',\n",
       " u'220\\t0\\t2\\t\"Harris, Mr. Walter\"\\tmale\\t30\\t0\\t0\\tW/C 14208\\t10.5\\t\\tS',\n",
       " u'221\\t1\\t3\\t\"Sunderland, Mr. Victor Francis\"\\tmale\\t16\\t0\\t0\\tSOTON/OQ 392089\\t8.05\\t\\tS',\n",
       " u'222\\t0\\t2\\t\"Bracken, Mr. James H\"\\tmale\\t27\\t0\\t0\\t220367\\t13\\t\\tS',\n",
       " u'223\\t0\\t3\\t\"Green, Mr. George Henry\"\\tmale\\t51\\t0\\t0\\t21440\\t8.05\\t\\tS',\n",
       " u'224\\t0\\t3\\t\"Nenkoff, Mr. Christo\"\\tmale\\t\\t0\\t0\\t349234\\t7.8958\\t\\tS',\n",
       " u'225\\t1\\t1\\t\"Hoyt, Mr. Frederick Maxfield\"\\tmale\\t38\\t1\\t0\\t19943\\t90\\tC93\\tS',\n",
       " u'226\\t0\\t3\\t\"Berglund, Mr. Karl Ivar Sven\"\\tmale\\t22\\t0\\t0\\tPP 4348\\t9.35\\t\\tS',\n",
       " u'227\\t1\\t2\\t\"Mellors, Mr. William John\"\\tmale\\t19\\t0\\t0\\tSW/PP 751\\t10.5\\t\\tS',\n",
       " u'228\\t0\\t3\\t\"Lovell, Mr. John Hall (\"\"Henry\"\")\"\\tmale\\t20.5\\t0\\t0\\tA/5 21173\\t7.25\\t\\tS',\n",
       " u'229\\t0\\t2\\t\"Fahlstrom, Mr. Arne Jonas\"\\tmale\\t18\\t0\\t0\\t236171\\t13\\t\\tS',\n",
       " u'230\\t0\\t3\\t\"Lefebre, Miss. Mathilde\"\\tfemale\\t\\t3\\t1\\t4133\\t25.4667\\t\\tS',\n",
       " u'231\\t1\\t1\\t\"Harris, Mrs. Henry Birkhardt (Irene Wallach)\"\\tfemale\\t35\\t1\\t0\\t36973\\t83.475\\tC83\\tS',\n",
       " u'232\\t0\\t3\\t\"Larsson, Mr. Bengt Edvin\"\\tmale\\t29\\t0\\t0\\t347067\\t7.775\\t\\tS',\n",
       " u'233\\t0\\t2\\t\"Sjostedt, Mr. Ernst Adolf\"\\tmale\\t59\\t0\\t0\\t237442\\t13.5\\t\\tS',\n",
       " u'234\\t1\\t3\\t\"Asplund, Miss. Lillian Gertrud\"\\tfemale\\t5\\t4\\t2\\t347077\\t31.3875\\t\\tS',\n",
       " u'235\\t0\\t2\\t\"Leyson, Mr. Robert William Norman\"\\tmale\\t24\\t0\\t0\\tC.A. 29566\\t10.5\\t\\tS',\n",
       " u'236\\t0\\t3\\t\"Harknett, Miss. Alice Phoebe\"\\tfemale\\t\\t0\\t0\\tW./C. 6609\\t7.55\\t\\tS',\n",
       " u'237\\t0\\t2\\t\"Hold, Mr. Stephen\"\\tmale\\t44\\t1\\t0\\t26707\\t26\\t\\tS',\n",
       " u'238\\t1\\t2\\t\"Collyer, Miss. Marjorie \"\"Lottie\"\"\"\\tfemale\\t8\\t0\\t2\\tC.A. 31921\\t26.25\\t\\tS',\n",
       " u'239\\t0\\t2\\t\"Pengelly, Mr. Frederick William\"\\tmale\\t19\\t0\\t0\\t28665\\t10.5\\t\\tS',\n",
       " u'240\\t0\\t2\\t\"Hunt, Mr. George Henry\"\\tmale\\t33\\t0\\t0\\tSCO/W 1585\\t12.275\\t\\tS',\n",
       " u'241\\t0\\t3\\t\"Zabour, Miss. Thamine\"\\tfemale\\t\\t1\\t0\\t2665\\t14.4542\\t\\tC',\n",
       " u'242\\t1\\t3\\t\"Murphy, Miss. Katherine \"\"Kate\"\"\"\\tfemale\\t\\t1\\t0\\t367230\\t15.5\\t\\tQ',\n",
       " u'243\\t0\\t2\\t\"Coleridge, Mr. Reginald Charles\"\\tmale\\t29\\t0\\t0\\tW./C. 14263\\t10.5\\t\\tS',\n",
       " u'244\\t0\\t3\\t\"Maenpaa, Mr. Matti Alexanteri\"\\tmale\\t22\\t0\\t0\\tSTON/O 2. 3101275\\t7.125\\t\\tS',\n",
       " u'245\\t0\\t3\\t\"Attalah, Mr. Sleiman\"\\tmale\\t30\\t0\\t0\\t2694\\t7.225\\t\\tC',\n",
       " u'246\\t0\\t1\\t\"Minahan, Dr. William Edward\"\\tmale\\t44\\t2\\t0\\t19928\\t90\\tC78\\tQ',\n",
       " u'247\\t0\\t3\\t\"Lindahl, Miss. Agda Thorilda Viktoria\"\\tfemale\\t25\\t0\\t0\\t347071\\t7.775\\t\\tS',\n",
       " u'248\\t1\\t2\\t\"Hamalainen, Mrs. William (Anna)\"\\tfemale\\t24\\t0\\t2\\t250649\\t14.5\\t\\tS',\n",
       " u'249\\t1\\t1\\t\"Beckwith, Mr. Richard Leonard\"\\tmale\\t37\\t1\\t1\\t11751\\t52.5542\\tD35\\tS',\n",
       " u'250\\t0\\t2\\t\"Carter, Rev. Ernest Courtenay\"\\tmale\\t54\\t1\\t0\\t244252\\t26\\t\\tS',\n",
       " u'251\\t0\\t3\\t\"Reed, Mr. James George\"\\tmale\\t\\t0\\t0\\t362316\\t7.25\\t\\tS',\n",
       " u'252\\t0\\t3\\t\"Strom, Mrs. Wilhelm (Elna Matilda Persson)\"\\tfemale\\t29\\t1\\t1\\t347054\\t10.4625\\tG6\\tS',\n",
       " u'253\\t0\\t1\\t\"Stead, Mr. William Thomas\"\\tmale\\t62\\t0\\t0\\t113514\\t26.55\\tC87\\tS',\n",
       " u'254\\t0\\t3\\t\"Lobb, Mr. William Arthur\"\\tmale\\t30\\t1\\t0\\tA/5. 3336\\t16.1\\t\\tS',\n",
       " u'255\\t0\\t3\\t\"Rosblom, Mrs. Viktor (Helena Wilhelmina)\"\\tfemale\\t41\\t0\\t2\\t370129\\t20.2125\\t\\tS',\n",
       " u'256\\t1\\t3\\t\"Touma, Mrs. Darwis (Hanne Youssef Razi)\"\\tfemale\\t29\\t0\\t2\\t2650\\t15.2458\\t\\tC',\n",
       " u'257\\t1\\t1\\t\"Thorne, Mrs. Gertrude Maybelle\"\\tfemale\\t\\t0\\t0\\tPC 17585\\t79.2\\t\\tC',\n",
       " u'258\\t1\\t1\\t\"Cherry, Miss. Gladys\"\\tfemale\\t30\\t0\\t0\\t110152\\t86.5\\tB77\\tS',\n",
       " u'259\\t1\\t1\\t\"Ward, Miss. Anna\"\\tfemale\\t35\\t0\\t0\\tPC 17755\\t512.3292\\t\\tC',\n",
       " u'260\\t1\\t2\\t\"Parrish, Mrs. (Lutie Davis)\"\\tfemale\\t50\\t0\\t1\\t230433\\t26\\t\\tS',\n",
       " u'261\\t0\\t3\\t\"Smith, Mr. Thomas\"\\tmale\\t\\t0\\t0\\t384461\\t7.75\\t\\tQ',\n",
       " u'262\\t1\\t3\\t\"Asplund, Master. Edvin Rojj Felix\"\\tmale\\t3\\t4\\t2\\t347077\\t31.3875\\t\\tS',\n",
       " u'263\\t0\\t1\\t\"Taussig, Mr. Emil\"\\tmale\\t52\\t1\\t1\\t110413\\t79.65\\tE67\\tS',\n",
       " u'264\\t0\\t1\\t\"Harrison, Mr. William\"\\tmale\\t40\\t0\\t0\\t112059\\t0\\tB94\\tS',\n",
       " u'265\\t0\\t3\\t\"Henry, Miss. Delia\"\\tfemale\\t\\t0\\t0\\t382649\\t7.75\\t\\tQ',\n",
       " u'266\\t0\\t2\\t\"Reeves, Mr. David\"\\tmale\\t36\\t0\\t0\\tC.A. 17248\\t10.5\\t\\tS',\n",
       " u'267\\t0\\t3\\t\"Panula, Mr. Ernesti Arvid\"\\tmale\\t16\\t4\\t1\\t3101295\\t39.6875\\t\\tS',\n",
       " u'268\\t1\\t3\\t\"Persson, Mr. Ernst Ulrik\"\\tmale\\t25\\t1\\t0\\t347083\\t7.775\\t\\tS',\n",
       " u'269\\t1\\t1\\t\"Graham, Mrs. William Thompson (Edith Junkins)\"\\tfemale\\t58\\t0\\t1\\tPC 17582\\t153.4625\\tC125\\tS',\n",
       " u'270\\t1\\t1\\t\"Bissette, Miss. Amelia\"\\tfemale\\t35\\t0\\t0\\tPC 17760\\t135.6333\\tC99\\tS',\n",
       " u'271\\t0\\t1\\t\"Cairns, Mr. Alexander\"\\tmale\\t\\t0\\t0\\t113798\\t31\\t\\tS',\n",
       " u'272\\t1\\t3\\t\"Tornquist, Mr. William Henry\"\\tmale\\t25\\t0\\t0\\tLINE\\t0\\t\\tS',\n",
       " u'273\\t1\\t2\\t\"Mellinger, Mrs. (Elizabeth Anne Maidment)\"\\tfemale\\t41\\t0\\t1\\t250644\\t19.5\\t\\tS',\n",
       " u'274\\t0\\t1\\t\"Natsch, Mr. Charles H\"\\tmale\\t37\\t0\\t1\\tPC 17596\\t29.7\\tC118\\tC',\n",
       " u'275\\t1\\t3\\t\"Healy, Miss. Hanora \"\"Nora\"\"\"\\tfemale\\t\\t0\\t0\\t370375\\t7.75\\t\\tQ',\n",
       " u'276\\t1\\t1\\t\"Andrews, Miss. Kornelia Theodosia\"\\tfemale\\t63\\t1\\t0\\t13502\\t77.9583\\tD7\\tS',\n",
       " u'277\\t0\\t3\\t\"Lindblom, Miss. Augusta Charlotta\"\\tfemale\\t45\\t0\\t0\\t347073\\t7.75\\t\\tS',\n",
       " u'278\\t0\\t2\\t\"Parkes, Mr. Francis \"\"Frank\"\"\"\\tmale\\t\\t0\\t0\\t239853\\t0\\t\\tS',\n",
       " u'279\\t0\\t3\\t\"Rice, Master. Eric\"\\tmale\\t7\\t4\\t1\\t382652\\t29.125\\t\\tQ',\n",
       " u'280\\t1\\t3\\t\"Abbott, Mrs. Stanton (Rosa Hunt)\"\\tfemale\\t35\\t1\\t1\\tC.A. 2673\\t20.25\\t\\tS',\n",
       " u'281\\t0\\t3\\t\"Duane, Mr. Frank\"\\tmale\\t65\\t0\\t0\\t336439\\t7.75\\t\\tQ',\n",
       " u'282\\t0\\t3\\t\"Olsson, Mr. Nils Johan Goransson\"\\tmale\\t28\\t0\\t0\\t347464\\t7.8542\\t\\tS',\n",
       " u'283\\t0\\t3\\t\"de Pelsmaeker, Mr. Alfons\"\\tmale\\t16\\t0\\t0\\t345778\\t9.5\\t\\tS',\n",
       " u'284\\t1\\t3\\t\"Dorking, Mr. Edward Arthur\"\\tmale\\t19\\t0\\t0\\tA/5. 10482\\t8.05\\t\\tS',\n",
       " u'285\\t0\\t1\\t\"Smith, Mr. Richard William\"\\tmale\\t\\t0\\t0\\t113056\\t26\\tA19\\tS',\n",
       " u'286\\t0\\t3\\t\"Stankovic, Mr. Ivan\"\\tmale\\t33\\t0\\t0\\t349239\\t8.6625\\t\\tC',\n",
       " u'287\\t1\\t3\\t\"de Mulder, Mr. Theodore\"\\tmale\\t30\\t0\\t0\\t345774\\t9.5\\t\\tS',\n",
       " u'288\\t0\\t3\\t\"Naidenoff, Mr. Penko\"\\tmale\\t22\\t0\\t0\\t349206\\t7.8958\\t\\tS',\n",
       " u'289\\t1\\t2\\t\"Hosono, Mr. Masabumi\"\\tmale\\t42\\t0\\t0\\t237798\\t13\\t\\tS',\n",
       " u'290\\t1\\t3\\t\"Connolly, Miss. Kate\"\\tfemale\\t22\\t0\\t0\\t370373\\t7.75\\t\\tQ',\n",
       " u'291\\t1\\t1\\t\"Barber, Miss. Ellen \"\"Nellie\"\"\"\\tfemale\\t26\\t0\\t0\\t19877\\t78.85\\t\\tS',\n",
       " u'292\\t1\\t1\\t\"Bishop, Mrs. Dickinson H (Helen Walton)\"\\tfemale\\t19\\t1\\t0\\t11967\\t91.0792\\tB49\\tC',\n",
       " u'293\\t0\\t2\\t\"Levy, Mr. Rene Jacques\"\\tmale\\t36\\t0\\t0\\tSC/Paris 2163\\t12.875\\tD\\tC',\n",
       " u'294\\t0\\t3\\t\"Haas, Miss. Aloisia\"\\tfemale\\t24\\t0\\t0\\t349236\\t8.85\\t\\tS',\n",
       " u'295\\t0\\t3\\t\"Mineff, Mr. Ivan\"\\tmale\\t24\\t0\\t0\\t349233\\t7.8958\\t\\tS',\n",
       " u'296\\t0\\t1\\t\"Lewy, Mr. Ervin G\"\\tmale\\t\\t0\\t0\\tPC 17612\\t27.7208\\t\\tC',\n",
       " u'297\\t0\\t3\\t\"Hanna, Mr. Mansour\"\\tmale\\t23.5\\t0\\t0\\t2693\\t7.2292\\t\\tC',\n",
       " u'298\\t0\\t1\\t\"Allison, Miss. Helen Loraine\"\\tfemale\\t2\\t1\\t2\\t113781\\t151.55\\tC22 C26\\tS',\n",
       " u'299\\t1\\t1\\t\"Saalfeld, Mr. Adolphe\"\\tmale\\t\\t0\\t0\\t19988\\t30.5\\tC106\\tS',\n",
       " u'300\\t1\\t1\\t\"Baxter, Mrs. James (Helene DeLaudeniere Chaput)\"\\tfemale\\t50\\t0\\t1\\tPC 17558\\t247.5208\\tB58 B60\\tC',\n",
       " u'301\\t1\\t3\\t\"Kelly, Miss. Anna Katherine \"\"Annie Kate\"\"\"\\tfemale\\t\\t0\\t0\\t9234\\t7.75\\t\\tQ',\n",
       " u'302\\t1\\t3\\t\"McCoy, Mr. Bernard\"\\tmale\\t\\t2\\t0\\t367226\\t23.25\\t\\tQ',\n",
       " u'303\\t0\\t3\\t\"Johnson, Mr. William Cahoone Jr\"\\tmale\\t19\\t0\\t0\\tLINE\\t0\\t\\tS',\n",
       " u'304\\t1\\t2\\t\"Keane, Miss. Nora A\"\\tfemale\\t\\t0\\t0\\t226593\\t12.35\\tE101\\tQ',\n",
       " u'305\\t0\\t3\\t\"Williams, Mr. Howard Hugh \"\"Harry\"\"\"\\tmale\\t\\t0\\t0\\tA/5 2466\\t8.05\\t\\tS',\n",
       " u'306\\t1\\t1\\t\"Allison, Master. Hudson Trevor\"\\tmale\\t0.92\\t1\\t2\\t113781\\t151.55\\tC22 C26\\tS',\n",
       " u'307\\t1\\t1\\t\"Fleming, Miss. Margaret\"\\tfemale\\t\\t0\\t0\\t17421\\t110.8833\\t\\tC',\n",
       " u'308\\t1\\t1\\t\"Penasco y Castellana, Mrs. Victor de Satode (Maria Josefa Perez de Soto y Vallejo)\"\\tfemale\\t17\\t1\\t0\\tPC 17758\\t108.9\\tC65\\tC',\n",
       " u'309\\t0\\t2\\t\"Abelson, Mr. Samuel\"\\tmale\\t30\\t1\\t0\\tP/PP 3381\\t24\\t\\tC',\n",
       " u'310\\t1\\t1\\t\"Francatelli, Miss. Laura Mabel\"\\tfemale\\t30\\t0\\t0\\tPC 17485\\t56.9292\\tE36\\tC',\n",
       " u'311\\t1\\t1\\t\"Hays, Miss. Margaret Bechstein\"\\tfemale\\t24\\t0\\t0\\t11767\\t83.1583\\tC54\\tC',\n",
       " u'312\\t1\\t1\\t\"Ryerson, Miss. Emily Borie\"\\tfemale\\t18\\t2\\t2\\tPC 17608\\t262.375\\tB57 B59 B63 B66\\tC',\n",
       " u'313\\t0\\t2\\t\"Lahtinen, Mrs. William (Anna Sylfven)\"\\tfemale\\t26\\t1\\t1\\t250651\\t26\\t\\tS',\n",
       " u'314\\t0\\t3\\t\"Hendekovic, Mr. Ignjac\"\\tmale\\t28\\t0\\t0\\t349243\\t7.8958\\t\\tS',\n",
       " u'315\\t0\\t2\\t\"Hart, Mr. Benjamin\"\\tmale\\t43\\t1\\t1\\tF.C.C. 13529\\t26.25\\t\\tS',\n",
       " u'316\\t1\\t3\\t\"Nilsson, Miss. Helmina Josefina\"\\tfemale\\t26\\t0\\t0\\t347470\\t7.8542\\t\\tS',\n",
       " u'317\\t1\\t2\\t\"Kantor, Mrs. Sinai (Miriam Sternin)\"\\tfemale\\t24\\t1\\t0\\t244367\\t26\\t\\tS',\n",
       " u'318\\t0\\t2\\t\"Moraweck, Dr. Ernest\"\\tmale\\t54\\t0\\t0\\t29011\\t14\\t\\tS',\n",
       " u'319\\t1\\t1\\t\"Wick, Miss. Mary Natalie\"\\tfemale\\t31\\t0\\t2\\t36928\\t164.8667\\tC7\\tS',\n",
       " u'320\\t1\\t1\\t\"Spedden, Mrs. Frederic Oakley (Margaretta Corning Stone)\"\\tfemale\\t40\\t1\\t1\\t16966\\t134.5\\tE34\\tC',\n",
       " u'321\\t0\\t3\\t\"Dennis, Mr. Samuel\"\\tmale\\t22\\t0\\t0\\tA/5 21172\\t7.25\\t\\tS',\n",
       " u'322\\t0\\t3\\t\"Danoff, Mr. Yoto\"\\tmale\\t27\\t0\\t0\\t349219\\t7.8958\\t\\tS',\n",
       " u'323\\t1\\t2\\t\"Slayter, Miss. Hilda Mary\"\\tfemale\\t30\\t0\\t0\\t234818\\t12.35\\t\\tQ',\n",
       " u'324\\t1\\t2\\t\"Caldwell, Mrs. Albert Francis (Sylvia Mae Harbaugh)\"\\tfemale\\t22\\t1\\t1\\t248738\\t29\\t\\tS',\n",
       " u'325\\t0\\t3\\t\"Sage, Mr. George John Jr\"\\tmale\\t\\t8\\t2\\tCA. 2343\\t69.55\\t\\tS',\n",
       " u'326\\t1\\t1\\t\"Young, Miss. Marie Grice\"\\tfemale\\t36\\t0\\t0\\tPC 17760\\t135.6333\\tC32\\tC',\n",
       " u'327\\t0\\t3\\t\"Nysveen, Mr. Johan Hansen\"\\tmale\\t61\\t0\\t0\\t345364\\t6.2375\\t\\tS',\n",
       " u'328\\t1\\t2\\t\"Ball, Mrs. (Ada E Hall)\"\\tfemale\\t36\\t0\\t0\\t28551\\t13\\tD\\tS',\n",
       " u'329\\t1\\t3\\t\"Goldsmith, Mrs. Frank John (Emily Alice Brown)\"\\tfemale\\t31\\t1\\t1\\t363291\\t20.525\\t\\tS',\n",
       " u'330\\t1\\t1\\t\"Hippach, Miss. Jean Gertrude\"\\tfemale\\t16\\t0\\t1\\t111361\\t57.9792\\tB18\\tC',\n",
       " u'331\\t1\\t3\\t\"McCoy, Miss. Agnes\"\\tfemale\\t\\t2\\t0\\t367226\\t23.25\\t\\tQ',\n",
       " u'332\\t0\\t1\\t\"Partner, Mr. Austen\"\\tmale\\t45.5\\t0\\t0\\t113043\\t28.5\\tC124\\tS',\n",
       " u'333\\t0\\t1\\t\"Graham, Mr. George Edward\"\\tmale\\t38\\t0\\t1\\tPC 17582\\t153.4625\\tC91\\tS',\n",
       " u'334\\t0\\t3\\t\"Vander Planke, Mr. Leo Edmondus\"\\tmale\\t16\\t2\\t0\\t345764\\t18\\t\\tS',\n",
       " u'335\\t1\\t1\\t\"Frauenthal, Mrs. Henry William (Clara Heinsheimer)\"\\tfemale\\t\\t1\\t0\\tPC 17611\\t133.65\\t\\tS',\n",
       " u'336\\t0\\t3\\t\"Denkoff, Mr. Mitto\"\\tmale\\t\\t0\\t0\\t349225\\t7.8958\\t\\tS',\n",
       " u'337\\t0\\t1\\t\"Pears, Mr. Thomas Clinton\"\\tmale\\t29\\t1\\t0\\t113776\\t66.6\\tC2\\tS',\n",
       " u'338\\t1\\t1\\t\"Burns, Miss. Elizabeth Margaret\"\\tfemale\\t41\\t0\\t0\\t16966\\t134.5\\tE40\\tC',\n",
       " u'339\\t1\\t3\\t\"Dahl, Mr. Karl Edwart\"\\tmale\\t45\\t0\\t0\\t7598\\t8.05\\t\\tS',\n",
       " u'340\\t0\\t1\\t\"Blackwell, Mr. Stephen Weart\"\\tmale\\t45\\t0\\t0\\t113784\\t35.5\\tT\\tS',\n",
       " u'341\\t1\\t2\\t\"Navratil, Master. Edmond Roger\"\\tmale\\t2\\t1\\t1\\t230080\\t26\\tF2\\tS',\n",
       " u'342\\t1\\t1\\t\"Fortune, Miss. Alice Elizabeth\"\\tfemale\\t24\\t3\\t2\\t19950\\t263\\tC23 C25 C27\\tS',\n",
       " u'343\\t0\\t2\\t\"Collander, Mr. Erik Gustaf\"\\tmale\\t28\\t0\\t0\\t248740\\t13\\t\\tS',\n",
       " u'344\\t0\\t2\\t\"Sedgwick, Mr. Charles Frederick Waddington\"\\tmale\\t25\\t0\\t0\\t244361\\t13\\t\\tS',\n",
       " u'345\\t0\\t2\\t\"Fox, Mr. Stanley Hubert\"\\tmale\\t36\\t0\\t0\\t229236\\t13\\t\\tS',\n",
       " u'346\\t1\\t2\\t\"Brown, Miss. Amelia \"\"Mildred\"\"\"\\tfemale\\t24\\t0\\t0\\t248733\\t13\\tF33\\tS',\n",
       " u'347\\t1\\t2\\t\"Smith, Miss. Marion Elsie\"\\tfemale\\t40\\t0\\t0\\t31418\\t13\\t\\tS',\n",
       " u'348\\t1\\t3\\t\"Davison, Mrs. Thomas Henry (Mary E Finck)\"\\tfemale\\t\\t1\\t0\\t386525\\t16.1\\t\\tS',\n",
       " u'349\\t1\\t3\\t\"Coutts, Master. William Loch \"\"William\"\"\"\\tmale\\t3\\t1\\t1\\tC.A. 37671\\t15.9\\t\\tS',\n",
       " u'350\\t0\\t3\\t\"Dimic, Mr. Jovan\"\\tmale\\t42\\t0\\t0\\t315088\\t8.6625\\t\\tS',\n",
       " u'351\\t0\\t3\\t\"Odahl, Mr. Nils Martin\"\\tmale\\t23\\t0\\t0\\t7267\\t9.225\\t\\tS',\n",
       " u'352\\t0\\t1\\t\"Williams-Lambert, Mr. Fletcher Fellows\"\\tmale\\t\\t0\\t0\\t113510\\t35\\tC128\\tS',\n",
       " u'353\\t0\\t3\\t\"Elias, Mr. Tannous\"\\tmale\\t15\\t1\\t1\\t2695\\t7.2292\\t\\tC',\n",
       " u'354\\t0\\t3\\t\"Arnold-Franchi, Mr. Josef\"\\tmale\\t25\\t1\\t0\\t349237\\t17.8\\t\\tS',\n",
       " u'355\\t0\\t3\\t\"Yousif, Mr. Wazli\"\\tmale\\t\\t0\\t0\\t2647\\t7.225\\t\\tC',\n",
       " u'356\\t0\\t3\\t\"Vanden Steen, Mr. Leo Peter\"\\tmale\\t28\\t0\\t0\\t345783\\t9.5\\t\\tS',\n",
       " u'357\\t1\\t1\\t\"Bowerman, Miss. Elsie Edith\"\\tfemale\\t22\\t0\\t1\\t113505\\t55\\tE33\\tS',\n",
       " u'358\\t0\\t2\\t\"Funk, Miss. Annie Clemmer\"\\tfemale\\t38\\t0\\t0\\t237671\\t13\\t\\tS',\n",
       " u'359\\t1\\t3\\t\"McGovern, Miss. Mary\"\\tfemale\\t\\t0\\t0\\t330931\\t7.8792\\t\\tQ',\n",
       " u'360\\t1\\t3\\t\"Mockler, Miss. Helen Mary \"\"Ellie\"\"\"\\tfemale\\t\\t0\\t0\\t330980\\t7.8792\\t\\tQ',\n",
       " u'361\\t0\\t3\\t\"Skoog, Mr. Wilhelm\"\\tmale\\t40\\t1\\t4\\t347088\\t27.9\\t\\tS',\n",
       " u'362\\t0\\t2\\t\"del Carlo, Mr. Sebastiano\"\\tmale\\t29\\t1\\t0\\tSC/PARIS 2167\\t27.7208\\t\\tC',\n",
       " u'363\\t0\\t3\\t\"Barbara, Mrs. (Catherine David)\"\\tfemale\\t45\\t0\\t1\\t2691\\t14.4542\\t\\tC',\n",
       " u'364\\t0\\t3\\t\"Asim, Mr. Adola\"\\tmale\\t35\\t0\\t0\\tSOTON/O.Q. 3101310\\t7.05\\t\\tS',\n",
       " u'365\\t0\\t3\\t\"O\\'Brien, Mr. Thomas\"\\tmale\\t\\t1\\t0\\t370365\\t15.5\\t\\tQ',\n",
       " u'366\\t0\\t3\\t\"Adahl, Mr. Mauritz Nils Martin\"\\tmale\\t30\\t0\\t0\\tC 7076\\t7.25\\t\\tS',\n",
       " u'367\\t1\\t1\\t\"Warren, Mrs. Frank Manley (Anna Sophia Atkinson)\"\\tfemale\\t60\\t1\\t0\\t110813\\t75.25\\tD37\\tC',\n",
       " u'368\\t1\\t3\\t\"Moussa, Mrs. (Mantoura Boulos)\"\\tfemale\\t\\t0\\t0\\t2626\\t7.2292\\t\\tC',\n",
       " u'369\\t1\\t3\\t\"Jermyn, Miss. Annie\"\\tfemale\\t\\t0\\t0\\t14313\\t7.75\\t\\tQ',\n",
       " u'370\\t1\\t1\\t\"Aubart, Mme. Leontine Pauline\"\\tfemale\\t24\\t0\\t0\\tPC 17477\\t69.3\\tB35\\tC',\n",
       " u'371\\t1\\t1\\t\"Harder, Mr. George Achilles\"\\tmale\\t25\\t1\\t0\\t11765\\t55.4417\\tE50\\tC',\n",
       " u'372\\t0\\t3\\t\"Wiklund, Mr. Jakob Alfred\"\\tmale\\t18\\t1\\t0\\t3101267\\t6.4958\\t\\tS',\n",
       " u'373\\t0\\t3\\t\"Beavan, Mr. William Thomas\"\\tmale\\t19\\t0\\t0\\t323951\\t8.05\\t\\tS',\n",
       " u'374\\t0\\t1\\t\"Ringhini, Mr. Sante\"\\tmale\\t22\\t0\\t0\\tPC 17760\\t135.6333\\t\\tC',\n",
       " u'375\\t0\\t3\\t\"Palsson, Miss. Stina Viola\"\\tfemale\\t3\\t3\\t1\\t349909\\t21.075\\t\\tS',\n",
       " u'376\\t1\\t1\\t\"Meyer, Mrs. Edgar Joseph (Leila Saks)\"\\tfemale\\t\\t1\\t0\\tPC 17604\\t82.1708\\t\\tC',\n",
       " u'377\\t1\\t3\\t\"Landergren, Miss. Aurora Adelia\"\\tfemale\\t22\\t0\\t0\\tC 7077\\t7.25\\t\\tS',\n",
       " u'378\\t0\\t1\\t\"Widener, Mr. Harry Elkins\"\\tmale\\t27\\t0\\t2\\t113503\\t211.5\\tC82\\tC',\n",
       " u'379\\t0\\t3\\t\"Betros, Mr. Tannous\"\\tmale\\t20\\t0\\t0\\t2648\\t4.0125\\t\\tC',\n",
       " u'380\\t0\\t3\\t\"Gustafsson, Mr. Karl Gideon\"\\tmale\\t19\\t0\\t0\\t347069\\t7.775\\t\\tS',\n",
       " u'381\\t1\\t1\\t\"Bidois, Miss. Rosalie\"\\tfemale\\t42\\t0\\t0\\tPC 17757\\t227.525\\t\\tC',\n",
       " u'382\\t1\\t3\\t\"Nakid, Miss. Maria (\"\"Mary\"\")\"\\tfemale\\t1\\t0\\t2\\t2653\\t15.7417\\t\\tC',\n",
       " u'383\\t0\\t3\\t\"Tikkanen, Mr. Juho\"\\tmale\\t32\\t0\\t0\\tSTON/O 2. 3101293\\t7.925\\t\\tS',\n",
       " u'384\\t1\\t1\\t\"Holverson, Mrs. Alexander Oskar (Mary Aline Towner)\"\\tfemale\\t35\\t1\\t0\\t113789\\t52\\t\\tS',\n",
       " u'385\\t0\\t3\\t\"Plotcharsky, Mr. Vasil\"\\tmale\\t\\t0\\t0\\t349227\\t7.8958\\t\\tS',\n",
       " u'386\\t0\\t2\\t\"Davies, Mr. Charles Henry\"\\tmale\\t18\\t0\\t0\\tS.O.C. 14879\\t73.5\\t\\tS',\n",
       " u'387\\t0\\t3\\t\"Goodwin, Master. Sidney Leonard\"\\tmale\\t1\\t5\\t2\\tCA 2144\\t46.9\\t\\tS',\n",
       " u'388\\t1\\t2\\t\"Buss, Miss. Kate\"\\tfemale\\t36\\t0\\t0\\t27849\\t13\\t\\tS',\n",
       " u'389\\t0\\t3\\t\"Sadlier, Mr. Matthew\"\\tmale\\t\\t0\\t0\\t367655\\t7.7292\\t\\tQ',\n",
       " u'390\\t1\\t2\\t\"Lehmann, Miss. Bertha\"\\tfemale\\t17\\t0\\t0\\tSC 1748\\t12\\t\\tC',\n",
       " u'391\\t1\\t1\\t\"Carter, Mr. William Ernest\"\\tmale\\t36\\t1\\t2\\t113760\\t120\\tB96 B98\\tS',\n",
       " u'392\\t1\\t3\\t\"Jansson, Mr. Carl Olof\"\\tmale\\t21\\t0\\t0\\t350034\\t7.7958\\t\\tS',\n",
       " u'393\\t0\\t3\\t\"Gustafsson, Mr. Johan Birger\"\\tmale\\t28\\t2\\t0\\t3101277\\t7.925\\t\\tS',\n",
       " u'394\\t1\\t1\\t\"Newell, Miss. Marjorie\"\\tfemale\\t23\\t1\\t0\\t35273\\t113.275\\tD36\\tC',\n",
       " u'395\\t1\\t3\\t\"Sandstrom, Mrs. Hjalmar (Agnes Charlotta Bengtsson)\"\\tfemale\\t24\\t0\\t2\\tPP 9549\\t16.7\\tG6\\tS',\n",
       " u'396\\t0\\t3\\t\"Johansson, Mr. Erik\"\\tmale\\t22\\t0\\t0\\t350052\\t7.7958\\t\\tS',\n",
       " u'397\\t0\\t3\\t\"Olsson, Miss. Elina\"\\tfemale\\t31\\t0\\t0\\t350407\\t7.8542\\t\\tS',\n",
       " u'398\\t0\\t2\\t\"McKane, Mr. Peter David\"\\tmale\\t46\\t0\\t0\\t28403\\t26\\t\\tS',\n",
       " u'399\\t0\\t2\\t\"Pain, Dr. Alfred\"\\tmale\\t23\\t0\\t0\\t244278\\t10.5\\t\\tS',\n",
       " u'400\\t1\\t2\\t\"Trout, Mrs. William H (Jessie L)\"\\tfemale\\t28\\t0\\t0\\t240929\\t12.65\\t\\tS',\n",
       " u'401\\t1\\t3\\t\"Niskanen, Mr. Juha\"\\tmale\\t39\\t0\\t0\\tSTON/O 2. 3101289\\t7.925\\t\\tS',\n",
       " u'402\\t0\\t3\\t\"Adams, Mr. John\"\\tmale\\t26\\t0\\t0\\t341826\\t8.05\\t\\tS',\n",
       " u'403\\t0\\t3\\t\"Jussila, Miss. Mari Aina\"\\tfemale\\t21\\t1\\t0\\t4137\\t9.825\\t\\tS',\n",
       " u'404\\t0\\t3\\t\"Hakkarainen, Mr. Pekka Pietari\"\\tmale\\t28\\t1\\t0\\tSTON/O2. 3101279\\t15.85\\t\\tS',\n",
       " u'405\\t0\\t3\\t\"Oreskovic, Miss. Marija\"\\tfemale\\t20\\t0\\t0\\t315096\\t8.6625\\t\\tS',\n",
       " u'406\\t0\\t2\\t\"Gale, Mr. Shadrach\"\\tmale\\t34\\t1\\t0\\t28664\\t21\\t\\tS',\n",
       " u'407\\t0\\t3\\t\"Widegren, Mr. Carl/Charles Peter\"\\tmale\\t51\\t0\\t0\\t347064\\t7.75\\t\\tS',\n",
       " u'408\\t1\\t2\\t\"Richards, Master. William Rowe\"\\tmale\\t3\\t1\\t1\\t29106\\t18.75\\t\\tS',\n",
       " u'409\\t0\\t3\\t\"Birkeland, Mr. Hans Martin Monsen\"\\tmale\\t21\\t0\\t0\\t312992\\t7.775\\t\\tS',\n",
       " u'410\\t0\\t3\\t\"Lefebre, Miss. Ida\"\\tfemale\\t\\t3\\t1\\t4133\\t25.4667\\t\\tS',\n",
       " u'411\\t0\\t3\\t\"Sdycoff, Mr. Todor\"\\tmale\\t\\t0\\t0\\t349222\\t7.8958\\t\\tS',\n",
       " u'412\\t0\\t3\\t\"Hart, Mr. Henry\"\\tmale\\t\\t0\\t0\\t394140\\t6.8583\\t\\tQ',\n",
       " u'413\\t1\\t1\\t\"Minahan, Miss. Daisy E\"\\tfemale\\t33\\t1\\t0\\t19928\\t90\\tC78\\tQ',\n",
       " u'414\\t0\\t2\\t\"Cunningham, Mr. Alfred Fleming\"\\tmale\\t\\t0\\t0\\t239853\\t0\\t\\tS',\n",
       " u'415\\t1\\t3\\t\"Sundman, Mr. Johan Julian\"\\tmale\\t44\\t0\\t0\\tSTON/O 2. 3101269\\t7.925\\t\\tS',\n",
       " u'416\\t0\\t3\\t\"Meek, Mrs. Thomas (Annie Louise Rowley)\"\\tfemale\\t\\t0\\t0\\t343095\\t8.05\\t\\tS',\n",
       " u'417\\t1\\t2\\t\"Drew, Mrs. James Vivian (Lulu Thorne Christian)\"\\tfemale\\t34\\t1\\t1\\t28220\\t32.5\\t\\tS',\n",
       " u'418\\t1\\t2\\t\"Silven, Miss. Lyyli Karoliina\"\\tfemale\\t18\\t0\\t2\\t250652\\t13\\t\\tS',\n",
       " u'419\\t0\\t2\\t\"Matthews, Mr. William John\"\\tmale\\t30\\t0\\t0\\t28228\\t13\\t\\tS',\n",
       " u'420\\t0\\t3\\t\"Van Impe, Miss. Catharina\"\\tfemale\\t10\\t0\\t2\\t345773\\t24.15\\t\\tS',\n",
       " u'421\\t0\\t3\\t\"Gheorgheff, Mr. Stanio\"\\tmale\\t\\t0\\t0\\t349254\\t7.8958\\t\\tC',\n",
       " u'422\\t0\\t3\\t\"Charters, Mr. David\"\\tmale\\t21\\t0\\t0\\tA/5. 13032\\t7.7333\\t\\tQ',\n",
       " u'423\\t0\\t3\\t\"Zimmerman, Mr. Leo\"\\tmale\\t29\\t0\\t0\\t315082\\t7.875\\t\\tS',\n",
       " u'424\\t0\\t3\\t\"Danbom, Mrs. Ernst Gilbert (Anna Sigrid Maria Brogren)\"\\tfemale\\t28\\t1\\t1\\t347080\\t14.4\\t\\tS',\n",
       " u'425\\t0\\t3\\t\"Rosblom, Mr. Viktor Richard\"\\tmale\\t18\\t1\\t1\\t370129\\t20.2125\\t\\tS',\n",
       " u'426\\t0\\t3\\t\"Wiseman, Mr. Phillippe\"\\tmale\\t\\t0\\t0\\tA/4. 34244\\t7.25\\t\\tS',\n",
       " u'427\\t1\\t2\\t\"Clarke, Mrs. Charles V (Ada Maria Winfield)\"\\tfemale\\t28\\t1\\t0\\t2003\\t26\\t\\tS',\n",
       " u'428\\t1\\t2\\t\"Phillips, Miss. Kate Florence (\"\"Mrs Kate Louise Phillips Marshall\"\")\"\\tfemale\\t19\\t0\\t0\\t250655\\t26\\t\\tS',\n",
       " u'429\\t0\\t3\\t\"Flynn, Mr. James\"\\tmale\\t\\t0\\t0\\t364851\\t7.75\\t\\tQ',\n",
       " u'430\\t1\\t3\\t\"Pickard, Mr. Berk (Berk Trembisky)\"\\tmale\\t32\\t0\\t0\\tSOTON/O.Q. 392078\\t8.05\\tE10\\tS',\n",
       " u'431\\t1\\t1\\t\"Bjornstrom-Steffansson, Mr. Mauritz Hakan\"\\tmale\\t28\\t0\\t0\\t110564\\t26.55\\tC52\\tS',\n",
       " u'432\\t1\\t3\\t\"Thorneycroft, Mrs. Percival (Florence Kate White)\"\\tfemale\\t\\t1\\t0\\t376564\\t16.1\\t\\tS',\n",
       " u'433\\t1\\t2\\t\"Louch, Mrs. Charles Alexander (Alice Adelaide Slow)\"\\tfemale\\t42\\t1\\t0\\tSC/AH 3085\\t26\\t\\tS',\n",
       " u'434\\t0\\t3\\t\"Kallio, Mr. Nikolai Erland\"\\tmale\\t17\\t0\\t0\\tSTON/O 2. 3101274\\t7.125\\t\\tS',\n",
       " u'435\\t0\\t1\\t\"Silvey, Mr. William Baird\"\\tmale\\t50\\t1\\t0\\t13507\\t55.9\\tE44\\tS',\n",
       " u'436\\t1\\t1\\t\"Carter, Miss. Lucile Polk\"\\tfemale\\t14\\t1\\t2\\t113760\\t120\\tB96 B98\\tS',\n",
       " u'437\\t0\\t3\\t\"Ford, Miss. Doolina Margaret \"\"Daisy\"\"\"\\tfemale\\t21\\t2\\t2\\tW./C. 6608\\t34.375\\t\\tS',\n",
       " u'438\\t1\\t2\\t\"Richards, Mrs. Sidney (Emily Hocking)\"\\tfemale\\t24\\t2\\t3\\t29106\\t18.75\\t\\tS',\n",
       " u'439\\t0\\t1\\t\"Fortune, Mr. Mark\"\\tmale\\t64\\t1\\t4\\t19950\\t263\\tC23 C25 C27\\tS',\n",
       " u'440\\t0\\t2\\t\"Kvillner, Mr. Johan Henrik Johannesson\"\\tmale\\t31\\t0\\t0\\tC.A. 18723\\t10.5\\t\\tS',\n",
       " u'441\\t1\\t2\\t\"Hart, Mrs. Benjamin (Esther Ada Bloomfield)\"\\tfemale\\t45\\t1\\t1\\tF.C.C. 13529\\t26.25\\t\\tS',\n",
       " u'442\\t0\\t3\\t\"Hampe, Mr. Leon\"\\tmale\\t20\\t0\\t0\\t345769\\t9.5\\t\\tS',\n",
       " u'443\\t0\\t3\\t\"Petterson, Mr. Johan Emil\"\\tmale\\t25\\t1\\t0\\t347076\\t7.775\\t\\tS',\n",
       " u'444\\t1\\t2\\t\"Reynaldo, Ms. Encarnacion\"\\tfemale\\t28\\t0\\t0\\t230434\\t13\\t\\tS',\n",
       " u'445\\t1\\t3\\t\"Johannesen-Bratthammer, Mr. Bernt\"\\tmale\\t\\t0\\t0\\t65306\\t8.1125\\t\\tS',\n",
       " u'446\\t1\\t1\\t\"Dodge, Master. Washington\"\\tmale\\t4\\t0\\t2\\t33638\\t81.8583\\tA34\\tS',\n",
       " u'447\\t1\\t2\\t\"Mellinger, Miss. Madeleine Violet\"\\tfemale\\t13\\t0\\t1\\t250644\\t19.5\\t\\tS',\n",
       " u'448\\t1\\t1\\t\"Seward, Mr. Frederic Kimber\"\\tmale\\t34\\t0\\t0\\t113794\\t26.55\\t\\tS',\n",
       " u'449\\t1\\t3\\t\"Baclini, Miss. Marie Catherine\"\\tfemale\\t5\\t2\\t1\\t2666\\t19.2583\\t\\tC',\n",
       " u'450\\t1\\t1\\t\"Peuchen, Major. Arthur Godfrey\"\\tmale\\t52\\t0\\t0\\t113786\\t30.5\\tC104\\tS',\n",
       " u'451\\t0\\t2\\t\"West, Mr. Edwy Arthur\"\\tmale\\t36\\t1\\t2\\tC.A. 34651\\t27.75\\t\\tS',\n",
       " u'452\\t0\\t3\\t\"Hagland, Mr. Ingvald Olai Olsen\"\\tmale\\t\\t1\\t0\\t65303\\t19.9667\\t\\tS',\n",
       " u'453\\t0\\t1\\t\"Foreman, Mr. Benjamin Laventall\"\\tmale\\t30\\t0\\t0\\t113051\\t27.75\\tC111\\tC',\n",
       " u'454\\t1\\t1\\t\"Goldenberg, Mr. Samuel L\"\\tmale\\t49\\t1\\t0\\t17453\\t89.1042\\tC92\\tC',\n",
       " u'455\\t0\\t3\\t\"Peduzzi, Mr. Joseph\"\\tmale\\t\\t0\\t0\\tA/5 2817\\t8.05\\t\\tS',\n",
       " u'456\\t1\\t3\\t\"Jalsevac, Mr. Ivan\"\\tmale\\t29\\t0\\t0\\t349240\\t7.8958\\t\\tC',\n",
       " u'457\\t0\\t1\\t\"Millet, Mr. Francis Davis\"\\tmale\\t65\\t0\\t0\\t13509\\t26.55\\tE38\\tS',\n",
       " u'458\\t1\\t1\\t\"Kenyon, Mrs. Frederick R (Marion)\"\\tfemale\\t\\t1\\t0\\t17464\\t51.8625\\tD21\\tS',\n",
       " u'459\\t1\\t2\\t\"Toomey, Miss. Ellen\"\\tfemale\\t50\\t0\\t0\\tF.C.C. 13531\\t10.5\\t\\tS',\n",
       " u'460\\t0\\t3\\t\"O\\'Connor, Mr. Maurice\"\\tmale\\t\\t0\\t0\\t371060\\t7.75\\t\\tQ',\n",
       " u'461\\t1\\t1\\t\"Anderson, Mr. Harry\"\\tmale\\t48\\t0\\t0\\t19952\\t26.55\\tE12\\tS',\n",
       " u'462\\t0\\t3\\t\"Morley, Mr. William\"\\tmale\\t34\\t0\\t0\\t364506\\t8.05\\t\\tS',\n",
       " u'463\\t0\\t1\\t\"Gee, Mr. Arthur H\"\\tmale\\t47\\t0\\t0\\t111320\\t38.5\\tE63\\tS',\n",
       " u'464\\t0\\t2\\t\"Milling, Mr. Jacob Christian\"\\tmale\\t48\\t0\\t0\\t234360\\t13\\t\\tS',\n",
       " u'465\\t0\\t3\\t\"Maisner, Mr. Simon\"\\tmale\\t\\t0\\t0\\tA/S 2816\\t8.05\\t\\tS',\n",
       " u'466\\t0\\t3\\t\"Goncalves, Mr. Manuel Estanslas\"\\tmale\\t38\\t0\\t0\\tSOTON/O.Q. 3101306\\t7.05\\t\\tS',\n",
       " u'467\\t0\\t2\\t\"Campbell, Mr. William\"\\tmale\\t\\t0\\t0\\t239853\\t0\\t\\tS',\n",
       " u'468\\t0\\t1\\t\"Smart, Mr. John Montgomery\"\\tmale\\t56\\t0\\t0\\t113792\\t26.55\\t\\tS',\n",
       " u'469\\t0\\t3\\t\"Scanlan, Mr. James\"\\tmale\\t\\t0\\t0\\t36209\\t7.725\\t\\tQ',\n",
       " u'470\\t1\\t3\\t\"Baclini, Miss. Helene Barbara\"\\tfemale\\t0.75\\t2\\t1\\t2666\\t19.2583\\t\\tC',\n",
       " u'471\\t0\\t3\\t\"Keefe, Mr. Arthur\"\\tmale\\t\\t0\\t0\\t323592\\t7.25\\t\\tS',\n",
       " u'472\\t0\\t3\\t\"Cacic, Mr. Luka\"\\tmale\\t38\\t0\\t0\\t315089\\t8.6625\\t\\tS',\n",
       " u'473\\t1\\t2\\t\"West, Mrs. Edwy Arthur (Ada Mary Worth)\"\\tfemale\\t33\\t1\\t2\\tC.A. 34651\\t27.75\\t\\tS',\n",
       " u'474\\t1\\t2\\t\"Jerwan, Mrs. Amin S (Marie Marthe Thuillard)\"\\tfemale\\t23\\t0\\t0\\tSC/AH Basle 541\\t13.7917\\tD\\tC',\n",
       " u'475\\t0\\t3\\t\"Strandberg, Miss. Ida Sofia\"\\tfemale\\t22\\t0\\t0\\t7553\\t9.8375\\t\\tS',\n",
       " u'476\\t0\\t1\\t\"Clifford, Mr. George Quincy\"\\tmale\\t\\t0\\t0\\t110465\\t52\\tA14\\tS',\n",
       " u'477\\t0\\t2\\t\"Renouf, Mr. Peter Henry\"\\tmale\\t34\\t1\\t0\\t31027\\t21\\t\\tS',\n",
       " u'478\\t0\\t3\\t\"Braund, Mr. Lewis Richard\"\\tmale\\t29\\t1\\t0\\t3460\\t7.0458\\t\\tS',\n",
       " u'479\\t0\\t3\\t\"Karlsson, Mr. Nils August\"\\tmale\\t22\\t0\\t0\\t350060\\t7.5208\\t\\tS',\n",
       " u'480\\t1\\t3\\t\"Hirvonen, Miss. Hildur E\"\\tfemale\\t2\\t0\\t1\\t3101298\\t12.2875\\t\\tS',\n",
       " u'481\\t0\\t3\\t\"Goodwin, Master. Harold Victor\"\\tmale\\t9\\t5\\t2\\tCA 2144\\t46.9\\t\\tS',\n",
       " u'482\\t0\\t2\\t\"Frost, Mr. Anthony Wood \"\"Archie\"\"\"\\tmale\\t\\t0\\t0\\t239854\\t0\\t\\tS',\n",
       " u'483\\t0\\t3\\t\"Rouse, Mr. Richard Henry\"\\tmale\\t50\\t0\\t0\\tA/5 3594\\t8.05\\t\\tS',\n",
       " u'484\\t1\\t3\\t\"Turkula, Mrs. (Hedwig)\"\\tfemale\\t63\\t0\\t0\\t4134\\t9.5875\\t\\tS',\n",
       " u'485\\t1\\t1\\t\"Bishop, Mr. Dickinson H\"\\tmale\\t25\\t1\\t0\\t11967\\t91.0792\\tB49\\tC',\n",
       " u'486\\t0\\t3\\t\"Lefebre, Miss. Jeannie\"\\tfemale\\t\\t3\\t1\\t4133\\t25.4667\\t\\tS',\n",
       " u'487\\t1\\t1\\t\"Hoyt, Mrs. Frederick Maxfield (Jane Anne Forby)\"\\tfemale\\t35\\t1\\t0\\t19943\\t90\\tC93\\tS',\n",
       " u'488\\t0\\t1\\t\"Kent, Mr. Edward Austin\"\\tmale\\t58\\t0\\t0\\t11771\\t29.7\\tB37\\tC',\n",
       " u'489\\t0\\t3\\t\"Somerton, Mr. Francis William\"\\tmale\\t30\\t0\\t0\\tA.5. 18509\\t8.05\\t\\tS',\n",
       " u'490\\t1\\t3\\t\"Coutts, Master. Eden Leslie \"\"Neville\"\"\"\\tmale\\t9\\t1\\t1\\tC.A. 37671\\t15.9\\t\\tS',\n",
       " u'491\\t0\\t3\\t\"Hagland, Mr. Konrad Mathias Reiersen\"\\tmale\\t\\t1\\t0\\t65304\\t19.9667\\t\\tS',\n",
       " u'492\\t0\\t3\\t\"Windelov, Mr. Einar\"\\tmale\\t21\\t0\\t0\\tSOTON/OQ 3101317\\t7.25\\t\\tS',\n",
       " u'493\\t0\\t1\\t\"Molson, Mr. Harry Markland\"\\tmale\\t55\\t0\\t0\\t113787\\t30.5\\tC30\\tS',\n",
       " u'494\\t0\\t1\\t\"Artagaveytia, Mr. Ramon\"\\tmale\\t71\\t0\\t0\\tPC 17609\\t49.5042\\t\\tC',\n",
       " u'495\\t0\\t3\\t\"Stanley, Mr. Edward Roland\"\\tmale\\t21\\t0\\t0\\tA/4 45380\\t8.05\\t\\tS',\n",
       " u'496\\t0\\t3\\t\"Yousseff, Mr. Gerious\"\\tmale\\t\\t0\\t0\\t2627\\t14.4583\\t\\tC',\n",
       " u'497\\t1\\t1\\t\"Eustis, Miss. Elizabeth Mussey\"\\tfemale\\t54\\t1\\t0\\t36947\\t78.2667\\tD20\\tC',\n",
       " u'498\\t0\\t3\\t\"Shellard, Mr. Frederick William\"\\tmale\\t\\t0\\t0\\tC.A. 6212\\t15.1\\t\\tS',\n",
       " u'499\\t0\\t1\\t\"Allison, Mrs. Hudson J C (Bessie Waldo Daniels)\"\\tfemale\\t25\\t1\\t2\\t113781\\t151.55\\tC22 C26\\tS',\n",
       " u'500\\t0\\t3\\t\"Svensson, Mr. Olof\"\\tmale\\t24\\t0\\t0\\t350035\\t7.7958\\t\\tS',\n",
       " u'501\\t0\\t3\\t\"Calic, Mr. Petar\"\\tmale\\t17\\t0\\t0\\t315086\\t8.6625\\t\\tS',\n",
       " u'502\\t0\\t3\\t\"Canavan, Miss. Mary\"\\tfemale\\t21\\t0\\t0\\t364846\\t7.75\\t\\tQ',\n",
       " u'503\\t0\\t3\\t\"O\\'Sullivan, Miss. Bridget Mary\"\\tfemale\\t\\t0\\t0\\t330909\\t7.6292\\t\\tQ',\n",
       " u'504\\t0\\t3\\t\"Laitinen, Miss. Kristina Sofia\"\\tfemale\\t37\\t0\\t0\\t4135\\t9.5875\\t\\tS',\n",
       " u'505\\t1\\t1\\t\"Maioni, Miss. Roberta\"\\tfemale\\t16\\t0\\t0\\t110152\\t86.5\\tB79\\tS',\n",
       " u'506\\t0\\t1\\t\"Penasco y Castellana, Mr. Victor de Satode\"\\tmale\\t18\\t1\\t0\\tPC 17758\\t108.9\\tC65\\tC',\n",
       " u'507\\t1\\t2\\t\"Quick, Mrs. Frederick Charles (Jane Richards)\"\\tfemale\\t33\\t0\\t2\\t26360\\t26\\t\\tS',\n",
       " u'508\\t1\\t1\\t\"Bradley, Mr. George (\"\"George Arthur Brayton\"\")\"\\tmale\\t\\t0\\t0\\t111427\\t26.55\\t\\tS',\n",
       " u'509\\t0\\t3\\t\"Olsen, Mr. Henry Margido\"\\tmale\\t28\\t0\\t0\\tC 4001\\t22.525\\t\\tS',\n",
       " u'510\\t1\\t3\\t\"Lang, Mr. Fang\"\\tmale\\t26\\t0\\t0\\t1601\\t56.4958\\t\\tS',\n",
       " u'511\\t1\\t3\\t\"Daly, Mr. Eugene Patrick\"\\tmale\\t29\\t0\\t0\\t382651\\t7.75\\t\\tQ',\n",
       " u'512\\t0\\t3\\t\"Webber, Mr. James\"\\tmale\\t\\t0\\t0\\tSOTON/OQ 3101316\\t8.05\\t\\tS',\n",
       " u'513\\t1\\t1\\t\"McGough, Mr. James Robert\"\\tmale\\t36\\t0\\t0\\tPC 17473\\t26.2875\\tE25\\tS',\n",
       " u'514\\t1\\t1\\t\"Rothschild, Mrs. Martin (Elizabeth L. Barrett)\"\\tfemale\\t54\\t1\\t0\\tPC 17603\\t59.4\\t\\tC',\n",
       " u'515\\t0\\t3\\t\"Coleff, Mr. Satio\"\\tmale\\t24\\t0\\t0\\t349209\\t7.4958\\t\\tS',\n",
       " u'516\\t0\\t1\\t\"Walker, Mr. William Anderson\"\\tmale\\t47\\t0\\t0\\t36967\\t34.0208\\tD46\\tS',\n",
       " u'517\\t1\\t2\\t\"Lemore, Mrs. (Amelia Milley)\"\\tfemale\\t34\\t0\\t0\\tC.A. 34260\\t10.5\\tF33\\tS',\n",
       " u'518\\t0\\t3\\t\"Ryan, Mr. Patrick\"\\tmale\\t\\t0\\t0\\t371110\\t24.15\\t\\tQ',\n",
       " u'519\\t1\\t2\\t\"Angle, Mrs. William A (Florence \"\"Mary\"\" Agnes Hughes)\"\\tfemale\\t36\\t1\\t0\\t226875\\t26\\t\\tS',\n",
       " u'520\\t0\\t3\\t\"Pavlovic, Mr. Stefo\"\\tmale\\t32\\t0\\t0\\t349242\\t7.8958\\t\\tS',\n",
       " u'521\\t1\\t1\\t\"Perreault, Miss. Anne\"\\tfemale\\t30\\t0\\t0\\t12749\\t93.5\\tB73\\tS',\n",
       " u'522\\t0\\t3\\t\"Vovk, Mr. Janko\"\\tmale\\t22\\t0\\t0\\t349252\\t7.8958\\t\\tS',\n",
       " u'523\\t0\\t3\\t\"Lahoud, Mr. Sarkis\"\\tmale\\t\\t0\\t0\\t2624\\t7.225\\t\\tC',\n",
       " u'524\\t1\\t1\\t\"Hippach, Mrs. Louis Albert (Ida Sophia Fischer)\"\\tfemale\\t44\\t0\\t1\\t111361\\t57.9792\\tB18\\tC',\n",
       " u'525\\t0\\t3\\t\"Kassem, Mr. Fared\"\\tmale\\t\\t0\\t0\\t2700\\t7.2292\\t\\tC',\n",
       " u'526\\t0\\t3\\t\"Farrell, Mr. James\"\\tmale\\t40.5\\t0\\t0\\t367232\\t7.75\\t\\tQ',\n",
       " u'527\\t1\\t2\\t\"Ridsdale, Miss. Lucy\"\\tfemale\\t50\\t0\\t0\\tW./C. 14258\\t10.5\\t\\tS',\n",
       " u'528\\t0\\t1\\t\"Farthing, Mr. John\"\\tmale\\t\\t0\\t0\\tPC 17483\\t221.7792\\tC95\\tS',\n",
       " u'529\\t0\\t3\\t\"Salonen, Mr. Johan Werner\"\\tmale\\t39\\t0\\t0\\t3101296\\t7.925\\t\\tS',\n",
       " u'530\\t0\\t2\\t\"Hocking, Mr. Richard George\"\\tmale\\t23\\t2\\t1\\t29104\\t11.5\\t\\tS',\n",
       " u'531\\t1\\t2\\t\"Quick, Miss. Phyllis May\"\\tfemale\\t2\\t1\\t1\\t26360\\t26\\t\\tS',\n",
       " u'532\\t0\\t3\\t\"Toufik, Mr. Nakli\"\\tmale\\t\\t0\\t0\\t2641\\t7.2292\\t\\tC',\n",
       " u'533\\t0\\t3\\t\"Elias, Mr. Joseph Jr\"\\tmale\\t17\\t1\\t1\\t2690\\t7.2292\\t\\tC',\n",
       " u'534\\t1\\t3\\t\"Peter, Mrs. Catherine (Catherine Rizk)\"\\tfemale\\t\\t0\\t2\\t2668\\t22.3583\\t\\tC',\n",
       " u'535\\t0\\t3\\t\"Cacic, Miss. Marija\"\\tfemale\\t30\\t0\\t0\\t315084\\t8.6625\\t\\tS',\n",
       " u'536\\t1\\t2\\t\"Hart, Miss. Eva Miriam\"\\tfemale\\t7\\t0\\t2\\tF.C.C. 13529\\t26.25\\t\\tS',\n",
       " u'537\\t0\\t1\\t\"Butt, Major. Archibald Willingham\"\\tmale\\t45\\t0\\t0\\t113050\\t26.55\\tB38\\tS',\n",
       " u'538\\t1\\t1\\t\"LeRoy, Miss. Bertha\"\\tfemale\\t30\\t0\\t0\\tPC 17761\\t106.425\\t\\tC',\n",
       " u'539\\t0\\t3\\t\"Risien, Mr. Samuel Beard\"\\tmale\\t\\t0\\t0\\t364498\\t14.5\\t\\tS',\n",
       " u'540\\t1\\t1\\t\"Frolicher, Miss. Hedwig Margaritha\"\\tfemale\\t22\\t0\\t2\\t13568\\t49.5\\tB39\\tC',\n",
       " u'541\\t1\\t1\\t\"Crosby, Miss. Harriet R\"\\tfemale\\t36\\t0\\t2\\tWE/P 5735\\t71\\tB22\\tS',\n",
       " u'542\\t0\\t3\\t\"Andersson, Miss. Ingeborg Constanzia\"\\tfemale\\t9\\t4\\t2\\t347082\\t31.275\\t\\tS',\n",
       " u'543\\t0\\t3\\t\"Andersson, Miss. Sigrid Elisabeth\"\\tfemale\\t11\\t4\\t2\\t347082\\t31.275\\t\\tS',\n",
       " u'544\\t1\\t2\\t\"Beane, Mr. Edward\"\\tmale\\t32\\t1\\t0\\t2908\\t26\\t\\tS',\n",
       " u'545\\t0\\t1\\t\"Douglas, Mr. Walter Donald\"\\tmale\\t50\\t1\\t0\\tPC 17761\\t106.425\\tC86\\tC',\n",
       " u'546\\t0\\t1\\t\"Nicholson, Mr. Arthur Ernest\"\\tmale\\t64\\t0\\t0\\t693\\t26\\t\\tS',\n",
       " u'547\\t1\\t2\\t\"Beane, Mrs. Edward (Ethel Clarke)\"\\tfemale\\t19\\t1\\t0\\t2908\\t26\\t\\tS',\n",
       " u'548\\t1\\t2\\t\"Padro y Manent, Mr. Julian\"\\tmale\\t\\t0\\t0\\tSC/PARIS 2146\\t13.8625\\t\\tC',\n",
       " u'549\\t0\\t3\\t\"Goldsmith, Mr. Frank John\"\\tmale\\t33\\t1\\t1\\t363291\\t20.525\\t\\tS',\n",
       " u'550\\t1\\t2\\t\"Davies, Master. John Morgan Jr\"\\tmale\\t8\\t1\\t1\\tC.A. 33112\\t36.75\\t\\tS',\n",
       " u'551\\t1\\t1\\t\"Thayer, Mr. John Borland Jr\"\\tmale\\t17\\t0\\t2\\t17421\\t110.8833\\tC70\\tC',\n",
       " u'552\\t0\\t2\\t\"Sharp, Mr. Percival James R\"\\tmale\\t27\\t0\\t0\\t244358\\t26\\t\\tS',\n",
       " u'553\\t0\\t3\\t\"O\\'Brien, Mr. Timothy\"\\tmale\\t\\t0\\t0\\t330979\\t7.8292\\t\\tQ',\n",
       " u'554\\t1\\t3\\t\"Leeni, Mr. Fahim (\"\"Philip Zenni\"\")\"\\tmale\\t22\\t0\\t0\\t2620\\t7.225\\t\\tC',\n",
       " u'555\\t1\\t3\\t\"Ohman, Miss. Velin\"\\tfemale\\t22\\t0\\t0\\t347085\\t7.775\\t\\tS',\n",
       " u'556\\t0\\t1\\t\"Wright, Mr. George\"\\tmale\\t62\\t0\\t0\\t113807\\t26.55\\t\\tS',\n",
       " u'557\\t1\\t1\\t\"Duff Gordon, Lady. (Lucille Christiana Sutherland) (\"\"Mrs Morgan\"\")\"\\tfemale\\t48\\t1\\t0\\t11755\\t39.6\\tA16\\tC',\n",
       " u'558\\t0\\t1\\t\"Robbins, Mr. Victor\"\\tmale\\t\\t0\\t0\\tPC 17757\\t227.525\\t\\tC',\n",
       " u'559\\t1\\t1\\t\"Taussig, Mrs. Emil (Tillie Mandelbaum)\"\\tfemale\\t39\\t1\\t1\\t110413\\t79.65\\tE67\\tS',\n",
       " u'560\\t1\\t3\\t\"de Messemaeker, Mrs. Guillaume Joseph (Emma)\"\\tfemale\\t36\\t1\\t0\\t345572\\t17.4\\t\\tS',\n",
       " u'561\\t0\\t3\\t\"Morrow, Mr. Thomas Rowan\"\\tmale\\t\\t0\\t0\\t372622\\t7.75\\t\\tQ',\n",
       " u'562\\t0\\t3\\t\"Sivic, Mr. Husein\"\\tmale\\t40\\t0\\t0\\t349251\\t7.8958\\t\\tS',\n",
       " u'563\\t0\\t2\\t\"Norman, Mr. Robert Douglas\"\\tmale\\t28\\t0\\t0\\t218629\\t13.5\\t\\tS',\n",
       " u'564\\t0\\t3\\t\"Simmons, Mr. John\"\\tmale\\t\\t0\\t0\\tSOTON/OQ 392082\\t8.05\\t\\tS',\n",
       " u'565\\t0\\t3\\t\"Meanwell, Miss. (Marion Ogden)\"\\tfemale\\t\\t0\\t0\\tSOTON/O.Q. 392087\\t8.05\\t\\tS',\n",
       " u'566\\t0\\t3\\t\"Davies, Mr. Alfred J\"\\tmale\\t24\\t2\\t0\\tA/4 48871\\t24.15\\t\\tS',\n",
       " u'567\\t0\\t3\\t\"Stoytcheff, Mr. Ilia\"\\tmale\\t19\\t0\\t0\\t349205\\t7.8958\\t\\tS',\n",
       " u'568\\t0\\t3\\t\"Palsson, Mrs. Nils (Alma Cornelia Berglund)\"\\tfemale\\t29\\t0\\t4\\t349909\\t21.075\\t\\tS',\n",
       " u'569\\t0\\t3\\t\"Doharr, Mr. Tannous\"\\tmale\\t\\t0\\t0\\t2686\\t7.2292\\t\\tC',\n",
       " u'570\\t1\\t3\\t\"Jonsson, Mr. Carl\"\\tmale\\t32\\t0\\t0\\t350417\\t7.8542\\t\\tS',\n",
       " u'571\\t1\\t2\\t\"Harris, Mr. George\"\\tmale\\t62\\t0\\t0\\tS.W./PP 752\\t10.5\\t\\tS',\n",
       " u'572\\t1\\t1\\t\"Appleton, Mrs. Edward Dale (Charlotte Lamson)\"\\tfemale\\t53\\t2\\t0\\t11769\\t51.4792\\tC101\\tS',\n",
       " u'573\\t1\\t1\\t\"Flynn, Mr. John Irwin (\"\"Irving\"\")\"\\tmale\\t36\\t0\\t0\\tPC 17474\\t26.3875\\tE25\\tS',\n",
       " u'574\\t1\\t3\\t\"Kelly, Miss. Mary\"\\tfemale\\t\\t0\\t0\\t14312\\t7.75\\t\\tQ',\n",
       " u'575\\t0\\t3\\t\"Rush, Mr. Alfred George John\"\\tmale\\t16\\t0\\t0\\tA/4. 20589\\t8.05\\t\\tS',\n",
       " u'576\\t0\\t3\\t\"Patchett, Mr. George\"\\tmale\\t19\\t0\\t0\\t358585\\t14.5\\t\\tS',\n",
       " u'577\\t1\\t2\\t\"Garside, Miss. Ethel\"\\tfemale\\t34\\t0\\t0\\t243880\\t13\\t\\tS',\n",
       " u'578\\t1\\t1\\t\"Silvey, Mrs. William Baird (Alice Munger)\"\\tfemale\\t39\\t1\\t0\\t13507\\t55.9\\tE44\\tS',\n",
       " u'579\\t0\\t3\\t\"Caram, Mrs. Joseph (Maria Elias)\"\\tfemale\\t\\t1\\t0\\t2689\\t14.4583\\t\\tC',\n",
       " u'580\\t1\\t3\\t\"Jussila, Mr. Eiriik\"\\tmale\\t32\\t0\\t0\\tSTON/O 2. 3101286\\t7.925\\t\\tS',\n",
       " u'581\\t1\\t2\\t\"Christy, Miss. Julie Rachel\"\\tfemale\\t25\\t1\\t1\\t237789\\t30\\t\\tS',\n",
       " u'582\\t1\\t1\\t\"Thayer, Mrs. John Borland (Marian Longstreth Morris)\"\\tfemale\\t39\\t1\\t1\\t17421\\t110.8833\\tC68\\tC',\n",
       " u'583\\t0\\t2\\t\"Downton, Mr. William James\"\\tmale\\t54\\t0\\t0\\t28403\\t26\\t\\tS',\n",
       " u'584\\t0\\t1\\t\"Ross, Mr. John Hugo\"\\tmale\\t36\\t0\\t0\\t13049\\t40.125\\tA10\\tC',\n",
       " u'585\\t0\\t3\\t\"Paulner, Mr. Uscher\"\\tmale\\t\\t0\\t0\\t3411\\t8.7125\\t\\tC',\n",
       " u'586\\t1\\t1\\t\"Taussig, Miss. Ruth\"\\tfemale\\t18\\t0\\t2\\t110413\\t79.65\\tE68\\tS',\n",
       " u'587\\t0\\t2\\t\"Jarvis, Mr. John Denzil\"\\tmale\\t47\\t0\\t0\\t237565\\t15\\t\\tS',\n",
       " u'588\\t1\\t1\\t\"Frolicher-Stehli, Mr. Maxmillian\"\\tmale\\t60\\t1\\t1\\t13567\\t79.2\\tB41\\tC',\n",
       " u'589\\t0\\t3\\t\"Gilinski, Mr. Eliezer\"\\tmale\\t22\\t0\\t0\\t14973\\t8.05\\t\\tS',\n",
       " u'590\\t0\\t3\\t\"Murdlin, Mr. Joseph\"\\tmale\\t\\t0\\t0\\tA./5. 3235\\t8.05\\t\\tS',\n",
       " u'591\\t0\\t3\\t\"Rintamaki, Mr. Matti\"\\tmale\\t35\\t0\\t0\\tSTON/O 2. 3101273\\t7.125\\t\\tS',\n",
       " u'592\\t1\\t1\\t\"Stephenson, Mrs. Walter Bertram (Martha Eustis)\"\\tfemale\\t52\\t1\\t0\\t36947\\t78.2667\\tD20\\tC',\n",
       " u'593\\t0\\t3\\t\"Elsbury, Mr. William James\"\\tmale\\t47\\t0\\t0\\tA/5 3902\\t7.25\\t\\tS',\n",
       " u'594\\t0\\t3\\t\"Bourke, Miss. Mary\"\\tfemale\\t\\t0\\t2\\t364848\\t7.75\\t\\tQ',\n",
       " u'595\\t0\\t2\\t\"Chapman, Mr. John Henry\"\\tmale\\t37\\t1\\t0\\tSC/AH 29037\\t26\\t\\tS',\n",
       " u'596\\t0\\t3\\t\"Van Impe, Mr. Jean Baptiste\"\\tmale\\t36\\t1\\t1\\t345773\\t24.15\\t\\tS',\n",
       " u'597\\t1\\t2\\t\"Leitch, Miss. Jessie Wills\"\\tfemale\\t\\t0\\t0\\t248727\\t33\\t\\tS',\n",
       " u'598\\t0\\t3\\t\"Johnson, Mr. Alfred\"\\tmale\\t49\\t0\\t0\\tLINE\\t0\\t\\tS',\n",
       " u'599\\t0\\t3\\t\"Boulos, Mr. Hanna\"\\tmale\\t\\t0\\t0\\t2664\\t7.225\\t\\tC',\n",
       " u'600\\t1\\t1\\t\"Duff Gordon, Sir. Cosmo Edmund (\"\"Mr Morgan\"\")\"\\tmale\\t49\\t1\\t0\\tPC 17485\\t56.9292\\tA20\\tC',\n",
       " u'601\\t1\\t2\\t\"Jacobsohn, Mrs. Sidney Samuel (Amy Frances Christy)\"\\tfemale\\t24\\t2\\t1\\t243847\\t27\\t\\tS',\n",
       " u'602\\t0\\t3\\t\"Slabenoff, Mr. Petco\"\\tmale\\t\\t0\\t0\\t349214\\t7.8958\\t\\tS',\n",
       " u'603\\t0\\t1\\t\"Harrington, Mr. Charles H\"\\tmale\\t\\t0\\t0\\t113796\\t42.4\\t\\tS',\n",
       " u'604\\t0\\t3\\t\"Torber, Mr. Ernst William\"\\tmale\\t44\\t0\\t0\\t364511\\t8.05\\t\\tS',\n",
       " u'605\\t1\\t1\\t\"Homer, Mr. Harry (\"\"Mr E Haven\"\")\"\\tmale\\t35\\t0\\t0\\t111426\\t26.55\\t\\tC',\n",
       " u'606\\t0\\t3\\t\"Lindell, Mr. Edvard Bengtsson\"\\tmale\\t36\\t1\\t0\\t349910\\t15.55\\t\\tS',\n",
       " u'607\\t0\\t3\\t\"Karaic, Mr. Milan\"\\tmale\\t30\\t0\\t0\\t349246\\t7.8958\\t\\tS',\n",
       " u'608\\t1\\t1\\t\"Daniel, Mr. Robert Williams\"\\tmale\\t27\\t0\\t0\\t113804\\t30.5\\t\\tS',\n",
       " u'609\\t1\\t2\\t\"Laroche, Mrs. Joseph (Juliette Marie Louise Lafargue)\"\\tfemale\\t22\\t1\\t2\\tSC/Paris 2123\\t41.5792\\t\\tC',\n",
       " u'610\\t1\\t1\\t\"Shutes, Miss. Elizabeth W\"\\tfemale\\t40\\t0\\t0\\tPC 17582\\t153.4625\\tC125\\tS',\n",
       " u'611\\t0\\t3\\t\"Andersson, Mrs. Anders Johan (Alfrida Konstantia Brogren)\"\\tfemale\\t39\\t1\\t5\\t347082\\t31.275\\t\\tS',\n",
       " u'612\\t0\\t3\\t\"Jardin, Mr. Jose Neto\"\\tmale\\t\\t0\\t0\\tSOTON/O.Q. 3101305\\t7.05\\t\\tS',\n",
       " u'613\\t1\\t3\\t\"Murphy, Miss. Margaret Jane\"\\tfemale\\t\\t1\\t0\\t367230\\t15.5\\t\\tQ',\n",
       " u'614\\t0\\t3\\t\"Horgan, Mr. John\"\\tmale\\t\\t0\\t0\\t370377\\t7.75\\t\\tQ',\n",
       " u'615\\t0\\t3\\t\"Brocklebank, Mr. William Alfred\"\\tmale\\t35\\t0\\t0\\t364512\\t8.05\\t\\tS',\n",
       " u'616\\t1\\t2\\t\"Herman, Miss. Alice\"\\tfemale\\t24\\t1\\t2\\t220845\\t65\\t\\tS',\n",
       " u'617\\t0\\t3\\t\"Danbom, Mr. Ernst Gilbert\"\\tmale\\t34\\t1\\t1\\t347080\\t14.4\\t\\tS',\n",
       " u'618\\t0\\t3\\t\"Lobb, Mrs. William Arthur (Cordelia K Stanlick)\"\\tfemale\\t26\\t1\\t0\\tA/5. 3336\\t16.1\\t\\tS',\n",
       " u'619\\t1\\t2\\t\"Becker, Miss. Marion Louise\"\\tfemale\\t4\\t2\\t1\\t230136\\t39\\tF4\\tS',\n",
       " u'620\\t0\\t2\\t\"Gavey, Mr. Lawrence\"\\tmale\\t26\\t0\\t0\\t31028\\t10.5\\t\\tS',\n",
       " u'621\\t0\\t3\\t\"Yasbeck, Mr. Antoni\"\\tmale\\t27\\t1\\t0\\t2659\\t14.4542\\t\\tC',\n",
       " u'622\\t1\\t1\\t\"Kimball, Mr. Edwin Nelson Jr\"\\tmale\\t42\\t1\\t0\\t11753\\t52.5542\\tD19\\tS',\n",
       " u'623\\t1\\t3\\t\"Nakid, Mr. Sahid\"\\tmale\\t20\\t1\\t1\\t2653\\t15.7417\\t\\tC',\n",
       " u'624\\t0\\t3\\t\"Hansen, Mr. Henry Damsgaard\"\\tmale\\t21\\t0\\t0\\t350029\\t7.8542\\t\\tS',\n",
       " u'625\\t0\\t3\\t\"Bowen, Mr. David John \"\"Dai\"\"\"\\tmale\\t21\\t0\\t0\\t54636\\t16.1\\t\\tS',\n",
       " u'626\\t0\\t1\\t\"Sutton, Mr. Frederick\"\\tmale\\t61\\t0\\t0\\t36963\\t32.3208\\tD50\\tS',\n",
       " u'627\\t0\\t2\\t\"Kirkland, Rev. Charles Leonard\"\\tmale\\t57\\t0\\t0\\t219533\\t12.35\\t\\tQ',\n",
       " u'628\\t1\\t1\\t\"Longley, Miss. Gretchen Fiske\"\\tfemale\\t21\\t0\\t0\\t13502\\t77.9583\\tD9\\tS',\n",
       " u'629\\t0\\t3\\t\"Bostandyeff, Mr. Guentcho\"\\tmale\\t26\\t0\\t0\\t349224\\t7.8958\\t\\tS',\n",
       " u'630\\t0\\t3\\t\"O\\'Connell, Mr. Patrick D\"\\tmale\\t\\t0\\t0\\t334912\\t7.7333\\t\\tQ',\n",
       " u'631\\t1\\t1\\t\"Barkworth, Mr. Algernon Henry Wilson\"\\tmale\\t80\\t0\\t0\\t27042\\t30\\tA23\\tS',\n",
       " u'632\\t0\\t3\\t\"Lundahl, Mr. Johan Svensson\"\\tmale\\t51\\t0\\t0\\t347743\\t7.0542\\t\\tS',\n",
       " u'633\\t1\\t1\\t\"Stahelin-Maeglin, Dr. Max\"\\tmale\\t32\\t0\\t0\\t13214\\t30.5\\tB50\\tC',\n",
       " u'634\\t0\\t1\\t\"Parr, Mr. William Henry Marsh\"\\tmale\\t\\t0\\t0\\t112052\\t0\\t\\tS',\n",
       " u'635\\t0\\t3\\t\"Skoog, Miss. Mabel\"\\tfemale\\t9\\t3\\t2\\t347088\\t27.9\\t\\tS',\n",
       " u'636\\t1\\t2\\t\"Davis, Miss. Mary\"\\tfemale\\t28\\t0\\t0\\t237668\\t13\\t\\tS',\n",
       " u'637\\t0\\t3\\t\"Leinonen, Mr. Antti Gustaf\"\\tmale\\t32\\t0\\t0\\tSTON/O 2. 3101292\\t7.925\\t\\tS',\n",
       " u'638\\t0\\t2\\t\"Collyer, Mr. Harvey\"\\tmale\\t31\\t1\\t1\\tC.A. 31921\\t26.25\\t\\tS',\n",
       " u'639\\t0\\t3\\t\"Panula, Mrs. Juha (Maria Emilia Ojala)\"\\tfemale\\t41\\t0\\t5\\t3101295\\t39.6875\\t\\tS',\n",
       " u'640\\t0\\t3\\t\"Thorneycroft, Mr. Percival\"\\tmale\\t\\t1\\t0\\t376564\\t16.1\\t\\tS',\n",
       " u'641\\t0\\t3\\t\"Jensen, Mr. Hans Peder\"\\tmale\\t20\\t0\\t0\\t350050\\t7.8542\\t\\tS',\n",
       " u'642\\t1\\t1\\t\"Sagesser, Mlle. Emma\"\\tfemale\\t24\\t0\\t0\\tPC 17477\\t69.3\\tB35\\tC',\n",
       " u'643\\t0\\t3\\t\"Skoog, Miss. Margit Elizabeth\"\\tfemale\\t2\\t3\\t2\\t347088\\t27.9\\t\\tS',\n",
       " u'644\\t1\\t3\\t\"Foo, Mr. Choong\"\\tmale\\t\\t0\\t0\\t1601\\t56.4958\\t\\tS',\n",
       " u'645\\t1\\t3\\t\"Baclini, Miss. Eugenie\"\\tfemale\\t0.75\\t2\\t1\\t2666\\t19.2583\\t\\tC',\n",
       " u'646\\t1\\t1\\t\"Harper, Mr. Henry Sleeper\"\\tmale\\t48\\t1\\t0\\tPC 17572\\t76.7292\\tD33\\tC',\n",
       " u'647\\t0\\t3\\t\"Cor, Mr. Liudevit\"\\tmale\\t19\\t0\\t0\\t349231\\t7.8958\\t\\tS',\n",
       " u'648\\t1\\t1\\t\"Simonius-Blumer, Col. Oberst Alfons\"\\tmale\\t56\\t0\\t0\\t13213\\t35.5\\tA26\\tC',\n",
       " u'649\\t0\\t3\\t\"Willey, Mr. Edward\"\\tmale\\t\\t0\\t0\\tS.O./P.P. 751\\t7.55\\t\\tS',\n",
       " u'650\\t1\\t3\\t\"Stanley, Miss. Amy Zillah Elsie\"\\tfemale\\t23\\t0\\t0\\tCA. 2314\\t7.55\\t\\tS',\n",
       " u'651\\t0\\t3\\t\"Mitkoff, Mr. Mito\"\\tmale\\t\\t0\\t0\\t349221\\t7.8958\\t\\tS',\n",
       " u'652\\t1\\t2\\t\"Doling, Miss. Elsie\"\\tfemale\\t18\\t0\\t1\\t231919\\t23\\t\\tS',\n",
       " u'653\\t0\\t3\\t\"Kalvik, Mr. Johannes Halvorsen\"\\tmale\\t21\\t0\\t0\\t8475\\t8.4333\\t\\tS',\n",
       " u'654\\t1\\t3\\t\"O\\'Leary, Miss. Hanora \"\"Norah\"\"\"\\tfemale\\t\\t0\\t0\\t330919\\t7.8292\\t\\tQ',\n",
       " u'655\\t0\\t3\\t\"Hegarty, Miss. Hanora \"\"Nora\"\"\"\\tfemale\\t18\\t0\\t0\\t365226\\t6.75\\t\\tQ',\n",
       " u'656\\t0\\t2\\t\"Hickman, Mr. Leonard Mark\"\\tmale\\t24\\t2\\t0\\tS.O.C. 14879\\t73.5\\t\\tS',\n",
       " u'657\\t0\\t3\\t\"Radeff, Mr. Alexander\"\\tmale\\t\\t0\\t0\\t349223\\t7.8958\\t\\tS',\n",
       " u'658\\t0\\t3\\t\"Bourke, Mrs. John (Catherine)\"\\tfemale\\t32\\t1\\t1\\t364849\\t15.5\\t\\tQ',\n",
       " u'659\\t0\\t2\\t\"Eitemiller, Mr. George Floyd\"\\tmale\\t23\\t0\\t0\\t29751\\t13\\t\\tS',\n",
       " u'660\\t0\\t1\\t\"Newell, Mr. Arthur Webster\"\\tmale\\t58\\t0\\t2\\t35273\\t113.275\\tD48\\tC',\n",
       " u'661\\t1\\t1\\t\"Frauenthal, Dr. Henry William\"\\tmale\\t50\\t2\\t0\\tPC 17611\\t133.65\\t\\tS',\n",
       " u'662\\t0\\t3\\t\"Badt, Mr. Mohamed\"\\tmale\\t40\\t0\\t0\\t2623\\t7.225\\t\\tC',\n",
       " u'663\\t0\\t1\\t\"Colley, Mr. Edward Pomeroy\"\\tmale\\t47\\t0\\t0\\t5727\\t25.5875\\tE58\\tS',\n",
       " u'664\\t0\\t3\\t\"Coleff, Mr. Peju\"\\tmale\\t36\\t0\\t0\\t349210\\t7.4958\\t\\tS',\n",
       " u'665\\t1\\t3\\t\"Lindqvist, Mr. Eino William\"\\tmale\\t20\\t1\\t0\\tSTON/O 2. 3101285\\t7.925\\t\\tS',\n",
       " u'666\\t0\\t2\\t\"Hickman, Mr. Lewis\"\\tmale\\t32\\t2\\t0\\tS.O.C. 14879\\t73.5\\t\\tS',\n",
       " u'667\\t0\\t2\\t\"Butler, Mr. Reginald Fenton\"\\tmale\\t25\\t0\\t0\\t234686\\t13\\t\\tS',\n",
       " u'668\\t0\\t3\\t\"Rommetvedt, Mr. Knud Paust\"\\tmale\\t\\t0\\t0\\t312993\\t7.775\\t\\tS',\n",
       " u'669\\t0\\t3\\t\"Cook, Mr. Jacob\"\\tmale\\t43\\t0\\t0\\tA/5 3536\\t8.05\\t\\tS',\n",
       " u'670\\t1\\t1\\t\"Taylor, Mrs. Elmer Zebley (Juliet Cummins Wright)\"\\tfemale\\t\\t1\\t0\\t19996\\t52\\tC126\\tS',\n",
       " u'671\\t1\\t2\\t\"Brown, Mrs. Thomas William Solomon (Elizabeth Catherine Ford)\"\\tfemale\\t40\\t1\\t1\\t29750\\t39\\t\\tS',\n",
       " u'672\\t0\\t1\\t\"Davidson, Mr. Thornton\"\\tmale\\t31\\t1\\t0\\tF.C. 12750\\t52\\tB71\\tS',\n",
       " u'673\\t0\\t2\\t\"Mitchell, Mr. Henry Michael\"\\tmale\\t70\\t0\\t0\\tC.A. 24580\\t10.5\\t\\tS',\n",
       " u'674\\t1\\t2\\t\"Wilhelms, Mr. Charles\"\\tmale\\t31\\t0\\t0\\t244270\\t13\\t\\tS',\n",
       " u'675\\t0\\t2\\t\"Watson, Mr. Ennis Hastings\"\\tmale\\t\\t0\\t0\\t239856\\t0\\t\\tS',\n",
       " u'676\\t0\\t3\\t\"Edvardsson, Mr. Gustaf Hjalmar\"\\tmale\\t18\\t0\\t0\\t349912\\t7.775\\t\\tS',\n",
       " u'677\\t0\\t3\\t\"Sawyer, Mr. Frederick Charles\"\\tmale\\t24.5\\t0\\t0\\t342826\\t8.05\\t\\tS',\n",
       " u'678\\t1\\t3\\t\"Turja, Miss. Anna Sofia\"\\tfemale\\t18\\t0\\t0\\t4138\\t9.8417\\t\\tS',\n",
       " u'679\\t0\\t3\\t\"Goodwin, Mrs. Frederick (Augusta Tyler)\"\\tfemale\\t43\\t1\\t6\\tCA 2144\\t46.9\\t\\tS',\n",
       " u'680\\t1\\t1\\t\"Cardeza, Mr. Thomas Drake Martinez\"\\tmale\\t36\\t0\\t1\\tPC 17755\\t512.3292\\tB51 B53 B55\\tC',\n",
       " u'681\\t0\\t3\\t\"Peters, Miss. Katie\"\\tfemale\\t\\t0\\t0\\t330935\\t8.1375\\t\\tQ',\n",
       " u'682\\t1\\t1\\t\"Hassab, Mr. Hammad\"\\tmale\\t27\\t0\\t0\\tPC 17572\\t76.7292\\tD49\\tC',\n",
       " u'683\\t0\\t3\\t\"Olsvigen, Mr. Thor Anderson\"\\tmale\\t20\\t0\\t0\\t6563\\t9.225\\t\\tS',\n",
       " u'684\\t0\\t3\\t\"Goodwin, Mr. Charles Edward\"\\tmale\\t14\\t5\\t2\\tCA 2144\\t46.9\\t\\tS',\n",
       " u'685\\t0\\t2\\t\"Brown, Mr. Thomas William Solomon\"\\tmale\\t60\\t1\\t1\\t29750\\t39\\t\\tS',\n",
       " u'686\\t0\\t2\\t\"Laroche, Mr. Joseph Philippe Lemercier\"\\tmale\\t25\\t1\\t2\\tSC/Paris 2123\\t41.5792\\t\\tC',\n",
       " u'687\\t0\\t3\\t\"Panula, Mr. Jaako Arnold\"\\tmale\\t14\\t4\\t1\\t3101295\\t39.6875\\t\\tS',\n",
       " u'688\\t0\\t3\\t\"Dakic, Mr. Branko\"\\tmale\\t19\\t0\\t0\\t349228\\t10.1708\\t\\tS',\n",
       " u'689\\t0\\t3\\t\"Fischer, Mr. Eberhard Thelander\"\\tmale\\t18\\t0\\t0\\t350036\\t7.7958\\t\\tS',\n",
       " u'690\\t1\\t1\\t\"Madill, Miss. Georgette Alexandra\"\\tfemale\\t15\\t0\\t1\\t24160\\t211.3375\\tB5\\tS',\n",
       " u'691\\t1\\t1\\t\"Dick, Mr. Albert Adrian\"\\tmale\\t31\\t1\\t0\\t17474\\t57\\tB20\\tS',\n",
       " u'692\\t1\\t3\\t\"Karun, Miss. Manca\"\\tfemale\\t4\\t0\\t1\\t349256\\t13.4167\\t\\tC',\n",
       " u'693\\t1\\t3\\t\"Lam, Mr. Ali\"\\tmale\\t\\t0\\t0\\t1601\\t56.4958\\t\\tS',\n",
       " u'694\\t0\\t3\\t\"Saad, Mr. Khalil\"\\tmale\\t25\\t0\\t0\\t2672\\t7.225\\t\\tC',\n",
       " u'695\\t0\\t1\\t\"Weir, Col. John\"\\tmale\\t60\\t0\\t0\\t113800\\t26.55\\t\\tS',\n",
       " u'696\\t0\\t2\\t\"Chapman, Mr. Charles Henry\"\\tmale\\t52\\t0\\t0\\t248731\\t13.5\\t\\tS',\n",
       " u'697\\t0\\t3\\t\"Kelly, Mr. James\"\\tmale\\t44\\t0\\t0\\t363592\\t8.05\\t\\tS',\n",
       " u'698\\t1\\t3\\t\"Mullens, Miss. Katherine \"\"Katie\"\"\"\\tfemale\\t\\t0\\t0\\t35852\\t7.7333\\t\\tQ',\n",
       " u'699\\t0\\t1\\t\"Thayer, Mr. John Borland\"\\tmale\\t49\\t1\\t1\\t17421\\t110.8833\\tC68\\tC',\n",
       " u'700\\t0\\t3\\t\"Humblen, Mr. Adolf Mathias Nicolai Olsen\"\\tmale\\t42\\t0\\t0\\t348121\\t7.65\\tF G63\\tS',\n",
       " u'701\\t1\\t1\\t\"Astor, Mrs. John Jacob (Madeleine Talmadge Force)\"\\tfemale\\t18\\t1\\t0\\tPC 17757\\t227.525\\tC62 C64\\tC',\n",
       " u'702\\t1\\t1\\t\"Silverthorne, Mr. Spencer Victor\"\\tmale\\t35\\t0\\t0\\tPC 17475\\t26.2875\\tE24\\tS',\n",
       " u'703\\t0\\t3\\t\"Barbara, Miss. Saiide\"\\tfemale\\t18\\t0\\t1\\t2691\\t14.4542\\t\\tC',\n",
       " u'704\\t0\\t3\\t\"Gallagher, Mr. Martin\"\\tmale\\t25\\t0\\t0\\t36864\\t7.7417\\t\\tQ',\n",
       " u'705\\t0\\t3\\t\"Hansen, Mr. Henrik Juul\"\\tmale\\t26\\t1\\t0\\t350025\\t7.8542\\t\\tS',\n",
       " u'706\\t0\\t2\\t\"Morley, Mr. Henry Samuel (\"\"Mr Henry Marshall\"\")\"\\tmale\\t39\\t0\\t0\\t250655\\t26\\t\\tS',\n",
       " u'707\\t1\\t2\\t\"Kelly, Mrs. Florence \"\"Fannie\"\"\"\\tfemale\\t45\\t0\\t0\\t223596\\t13.5\\t\\tS',\n",
       " u'708\\t1\\t1\\t\"Calderhead, Mr. Edward Pennington\"\\tmale\\t42\\t0\\t0\\tPC 17476\\t26.2875\\tE24\\tS',\n",
       " u'709\\t1\\t1\\t\"Cleaver, Miss. Alice\"\\tfemale\\t22\\t0\\t0\\t113781\\t151.55\\t\\tS',\n",
       " u'710\\t1\\t3\\t\"Moubarek, Master. Halim Gonios (\"\"William George\"\")\"\\tmale\\t\\t1\\t1\\t2661\\t15.2458\\t\\tC',\n",
       " u'711\\t1\\t1\\t\"Mayne, Mlle. Berthe Antonine (\"\"Mrs de Villiers\"\")\"\\tfemale\\t24\\t0\\t0\\tPC 17482\\t49.5042\\tC90\\tC',\n",
       " u'712\\t0\\t1\\t\"Klaber, Mr. Herman\"\\tmale\\t\\t0\\t0\\t113028\\t26.55\\tC124\\tS',\n",
       " u'713\\t1\\t1\\t\"Taylor, Mr. Elmer Zebley\"\\tmale\\t48\\t1\\t0\\t19996\\t52\\tC126\\tS',\n",
       " u'714\\t0\\t3\\t\"Larsson, Mr. August Viktor\"\\tmale\\t29\\t0\\t0\\t7545\\t9.4833\\t\\tS',\n",
       " u'715\\t0\\t2\\t\"Greenberg, Mr. Samuel\"\\tmale\\t52\\t0\\t0\\t250647\\t13\\t\\tS',\n",
       " u'716\\t0\\t3\\t\"Soholt, Mr. Peter Andreas Lauritz Andersen\"\\tmale\\t19\\t0\\t0\\t348124\\t7.65\\tF G73\\tS',\n",
       " u'717\\t1\\t1\\t\"Endres, Miss. Caroline Louise\"\\tfemale\\t38\\t0\\t0\\tPC 17757\\t227.525\\tC45\\tC',\n",
       " u'718\\t1\\t2\\t\"Troutt, Miss. Edwina Celia \"\"Winnie\"\"\"\\tfemale\\t27\\t0\\t0\\t34218\\t10.5\\tE101\\tS',\n",
       " u'719\\t0\\t3\\t\"McEvoy, Mr. Michael\"\\tmale\\t\\t0\\t0\\t36568\\t15.5\\t\\tQ',\n",
       " u'720\\t0\\t3\\t\"Johnson, Mr. Malkolm Joackim\"\\tmale\\t33\\t0\\t0\\t347062\\t7.775\\t\\tS',\n",
       " u'721\\t1\\t2\\t\"Harper, Miss. Annie Jessie \"\"Nina\"\"\"\\tfemale\\t6\\t0\\t1\\t248727\\t33\\t\\tS',\n",
       " u'722\\t0\\t3\\t\"Jensen, Mr. Svend Lauritz\"\\tmale\\t17\\t1\\t0\\t350048\\t7.0542\\t\\tS',\n",
       " u'723\\t0\\t2\\t\"Gillespie, Mr. William Henry\"\\tmale\\t34\\t0\\t0\\t12233\\t13\\t\\tS',\n",
       " u'724\\t0\\t2\\t\"Hodges, Mr. Henry Price\"\\tmale\\t50\\t0\\t0\\t250643\\t13\\t\\tS',\n",
       " u'725\\t1\\t1\\t\"Chambers, Mr. Norman Campbell\"\\tmale\\t27\\t1\\t0\\t113806\\t53.1\\tE8\\tS',\n",
       " u'726\\t0\\t3\\t\"Oreskovic, Mr. Luka\"\\tmale\\t20\\t0\\t0\\t315094\\t8.6625\\t\\tS',\n",
       " u'727\\t1\\t2\\t\"Renouf, Mrs. Peter Henry (Lillian Jefferys)\"\\tfemale\\t30\\t3\\t0\\t31027\\t21\\t\\tS',\n",
       " u'728\\t1\\t3\\t\"Mannion, Miss. Margareth\"\\tfemale\\t\\t0\\t0\\t36866\\t7.7375\\t\\tQ',\n",
       " u'729\\t0\\t2\\t\"Bryhl, Mr. Kurt Arnold Gottfrid\"\\tmale\\t25\\t1\\t0\\t236853\\t26\\t\\tS',\n",
       " u'730\\t0\\t3\\t\"Ilmakangas, Miss. Pieta Sofia\"\\tfemale\\t25\\t1\\t0\\tSTON/O2. 3101271\\t7.925\\t\\tS',\n",
       " u'731\\t1\\t1\\t\"Allen, Miss. Elisabeth Walton\"\\tfemale\\t29\\t0\\t0\\t24160\\t211.3375\\tB5\\tS',\n",
       " u'732\\t0\\t3\\t\"Hassan, Mr. Houssein G N\"\\tmale\\t11\\t0\\t0\\t2699\\t18.7875\\t\\tC',\n",
       " u'733\\t0\\t2\\t\"Knight, Mr. Robert J\"\\tmale\\t\\t0\\t0\\t239855\\t0\\t\\tS',\n",
       " u'734\\t0\\t2\\t\"Berriman, Mr. William John\"\\tmale\\t23\\t0\\t0\\t28425\\t13\\t\\tS',\n",
       " u'735\\t0\\t2\\t\"Troupiansky, Mr. Moses Aaron\"\\tmale\\t23\\t0\\t0\\t233639\\t13\\t\\tS',\n",
       " u'736\\t0\\t3\\t\"Williams, Mr. Leslie\"\\tmale\\t28.5\\t0\\t0\\t54636\\t16.1\\t\\tS',\n",
       " u'737\\t0\\t3\\t\"Ford, Mrs. Edward (Margaret Ann Watson)\"\\tfemale\\t48\\t1\\t3\\tW./C. 6608\\t34.375\\t\\tS',\n",
       " u'738\\t1\\t1\\t\"Lesurer, Mr. Gustave J\"\\tmale\\t35\\t0\\t0\\tPC 17755\\t512.3292\\tB101\\tC',\n",
       " u'739\\t0\\t3\\t\"Ivanoff, Mr. Kanio\"\\tmale\\t\\t0\\t0\\t349201\\t7.8958\\t\\tS',\n",
       " u'740\\t0\\t3\\t\"Nankoff, Mr. Minko\"\\tmale\\t\\t0\\t0\\t349218\\t7.8958\\t\\tS',\n",
       " u'741\\t1\\t1\\t\"Hawksford, Mr. Walter James\"\\tmale\\t\\t0\\t0\\t16988\\t30\\tD45\\tS',\n",
       " u'742\\t0\\t1\\t\"Cavendish, Mr. Tyrell William\"\\tmale\\t36\\t1\\t0\\t19877\\t78.85\\tC46\\tS',\n",
       " u'743\\t1\\t1\\t\"Ryerson, Miss. Susan Parker \"\"Suzette\"\"\"\\tfemale\\t21\\t2\\t2\\tPC 17608\\t262.375\\tB57 B59 B63 B66\\tC',\n",
       " u'744\\t0\\t3\\t\"McNamee, Mr. Neal\"\\tmale\\t24\\t1\\t0\\t376566\\t16.1\\t\\tS',\n",
       " u'745\\t1\\t3\\t\"Stranden, Mr. Juho\"\\tmale\\t31\\t0\\t0\\tSTON/O 2. 3101288\\t7.925\\t\\tS',\n",
       " u'746\\t0\\t1\\t\"Crosby, Capt. Edward Gifford\"\\tmale\\t70\\t1\\t1\\tWE/P 5735\\t71\\tB22\\tS',\n",
       " u'747\\t0\\t3\\t\"Abbott, Mr. Rossmore Edward\"\\tmale\\t16\\t1\\t1\\tC.A. 2673\\t20.25\\t\\tS',\n",
       " u'748\\t1\\t2\\t\"Sinkkonen, Miss. Anna\"\\tfemale\\t30\\t0\\t0\\t250648\\t13\\t\\tS',\n",
       " u'749\\t0\\t1\\t\"Marvin, Mr. Daniel Warner\"\\tmale\\t19\\t1\\t0\\t113773\\t53.1\\tD30\\tS',\n",
       " u'750\\t0\\t3\\t\"Connaghton, Mr. Michael\"\\tmale\\t31\\t0\\t0\\t335097\\t7.75\\t\\tQ',\n",
       " u'751\\t1\\t2\\t\"Wells, Miss. Joan\"\\tfemale\\t4\\t1\\t1\\t29103\\t23\\t\\tS',\n",
       " u'752\\t1\\t3\\t\"Moor, Master. Meier\"\\tmale\\t6\\t0\\t1\\t392096\\t12.475\\tE121\\tS',\n",
       " u'753\\t0\\t3\\t\"Vande Velde, Mr. Johannes Joseph\"\\tmale\\t33\\t0\\t0\\t345780\\t9.5\\t\\tS',\n",
       " u'754\\t0\\t3\\t\"Jonkoff, Mr. Lalio\"\\tmale\\t23\\t0\\t0\\t349204\\t7.8958\\t\\tS',\n",
       " u'755\\t1\\t2\\t\"Herman, Mrs. Samuel (Jane Laver)\"\\tfemale\\t48\\t1\\t2\\t220845\\t65\\t\\tS',\n",
       " u'756\\t1\\t2\\t\"Hamalainen, Master. Viljo\"\\tmale\\t0.67\\t1\\t1\\t250649\\t14.5\\t\\tS',\n",
       " u'757\\t0\\t3\\t\"Carlsson, Mr. August Sigfrid\"\\tmale\\t28\\t0\\t0\\t350042\\t7.7958\\t\\tS',\n",
       " u'758\\t0\\t2\\t\"Bailey, Mr. Percy Andrew\"\\tmale\\t18\\t0\\t0\\t29108\\t11.5\\t\\tS',\n",
       " u'759\\t0\\t3\\t\"Theobald, Mr. Thomas Leonard\"\\tmale\\t34\\t0\\t0\\t363294\\t8.05\\t\\tS',\n",
       " u'760\\t1\\t1\\t\"Rothes, the Countess. of (Lucy Noel Martha Dyer-Edwards)\"\\tfemale\\t33\\t0\\t0\\t110152\\t86.5\\tB77\\tS',\n",
       " u'761\\t0\\t3\\t\"Garfirth, Mr. John\"\\tmale\\t\\t0\\t0\\t358585\\t14.5\\t\\tS',\n",
       " u'762\\t0\\t3\\t\"Nirva, Mr. Iisakki Antino Aijo\"\\tmale\\t41\\t0\\t0\\tSOTON/O2 3101272\\t7.125\\t\\tS',\n",
       " u'763\\t1\\t3\\t\"Barah, Mr. Hanna Assi\"\\tmale\\t20\\t0\\t0\\t2663\\t7.2292\\t\\tC',\n",
       " u'764\\t1\\t1\\t\"Carter, Mrs. William Ernest (Lucile Polk)\"\\tfemale\\t36\\t1\\t2\\t113760\\t120\\tB96 B98\\tS',\n",
       " u'765\\t0\\t3\\t\"Eklund, Mr. Hans Linus\"\\tmale\\t16\\t0\\t0\\t347074\\t7.775\\t\\tS',\n",
       " u'766\\t1\\t1\\t\"Hogeboom, Mrs. John C (Anna Andrews)\"\\tfemale\\t51\\t1\\t0\\t13502\\t77.9583\\tD11\\tS',\n",
       " u'767\\t0\\t1\\t\"Brewe, Dr. Arthur Jackson\"\\tmale\\t\\t0\\t0\\t112379\\t39.6\\t\\tC',\n",
       " u'768\\t0\\t3\\t\"Mangan, Miss. Mary\"\\tfemale\\t30.5\\t0\\t0\\t364850\\t7.75\\t\\tQ',\n",
       " u'769\\t0\\t3\\t\"Moran, Mr. Daniel J\"\\tmale\\t\\t1\\t0\\t371110\\t24.15\\t\\tQ',\n",
       " u'770\\t0\\t3\\t\"Gronnestad, Mr. Daniel Danielsen\"\\tmale\\t32\\t0\\t0\\t8471\\t8.3625\\t\\tS',\n",
       " u'771\\t0\\t3\\t\"Lievens, Mr. Rene Aime\"\\tmale\\t24\\t0\\t0\\t345781\\t9.5\\t\\tS',\n",
       " u'772\\t0\\t3\\t\"Jensen, Mr. Niels Peder\"\\tmale\\t48\\t0\\t0\\t350047\\t7.8542\\t\\tS',\n",
       " u'773\\t0\\t2\\t\"Mack, Mrs. (Mary)\"\\tfemale\\t57\\t0\\t0\\tS.O./P.P. 3\\t10.5\\tE77\\tS',\n",
       " u'774\\t0\\t3\\t\"Elias, Mr. Dibo\"\\tmale\\t\\t0\\t0\\t2674\\t7.225\\t\\tC',\n",
       " u'775\\t1\\t2\\t\"Hocking, Mrs. Elizabeth (Eliza Needs)\"\\tfemale\\t54\\t1\\t3\\t29105\\t23\\t\\tS',\n",
       " u'776\\t0\\t3\\t\"Myhrman, Mr. Pehr Fabian Oliver Malkolm\"\\tmale\\t18\\t0\\t0\\t347078\\t7.75\\t\\tS',\n",
       " u'777\\t0\\t3\\t\"Tobin, Mr. Roger\"\\tmale\\t\\t0\\t0\\t383121\\t7.75\\tF38\\tQ',\n",
       " u'778\\t1\\t3\\t\"Emanuel, Miss. Virginia Ethel\"\\tfemale\\t5\\t0\\t0\\t364516\\t12.475\\t\\tS',\n",
       " u'779\\t0\\t3\\t\"Kilgannon, Mr. Thomas J\"\\tmale\\t\\t0\\t0\\t36865\\t7.7375\\t\\tQ',\n",
       " u'780\\t1\\t1\\t\"Robert, Mrs. Edward Scott (Elisabeth Walton McMillan)\"\\tfemale\\t43\\t0\\t1\\t24160\\t211.3375\\tB3\\tS',\n",
       " u'781\\t1\\t3\\t\"Ayoub, Miss. Banoura\"\\tfemale\\t13\\t0\\t0\\t2687\\t7.2292\\t\\tC',\n",
       " u'782\\t1\\t1\\t\"Dick, Mrs. Albert Adrian (Vera Gillespie)\"\\tfemale\\t17\\t1\\t0\\t17474\\t57\\tB20\\tS',\n",
       " u'783\\t0\\t1\\t\"Long, Mr. Milton Clyde\"\\tmale\\t29\\t0\\t0\\t113501\\t30\\tD6\\tS',\n",
       " u'784\\t0\\t3\\t\"Johnston, Mr. Andrew G\"\\tmale\\t\\t1\\t2\\tW./C. 6607\\t23.45\\t\\tS',\n",
       " u'785\\t0\\t3\\t\"Ali, Mr. William\"\\tmale\\t25\\t0\\t0\\tSOTON/O.Q. 3101312\\t7.05\\t\\tS',\n",
       " u'786\\t0\\t3\\t\"Harmer, Mr. Abraham (David Lishin)\"\\tmale\\t25\\t0\\t0\\t374887\\t7.25\\t\\tS',\n",
       " u'787\\t1\\t3\\t\"Sjoblom, Miss. Anna Sofia\"\\tfemale\\t18\\t0\\t0\\t3101265\\t7.4958\\t\\tS',\n",
       " u'788\\t0\\t3\\t\"Rice, Master. George Hugh\"\\tmale\\t8\\t4\\t1\\t382652\\t29.125\\t\\tQ',\n",
       " u'789\\t1\\t3\\t\"Dean, Master. Bertram Vere\"\\tmale\\t1\\t1\\t2\\tC.A. 2315\\t20.575\\t\\tS',\n",
       " u'790\\t0\\t1\\t\"Guggenheim, Mr. Benjamin\"\\tmale\\t46\\t0\\t0\\tPC 17593\\t79.2\\tB82 B84\\tC',\n",
       " u'791\\t0\\t3\\t\"Keane, Mr. Andrew \"\"Andy\"\"\"\\tmale\\t\\t0\\t0\\t12460\\t7.75\\t\\tQ',\n",
       " u'792\\t0\\t2\\t\"Gaskell, Mr. Alfred\"\\tmale\\t16\\t0\\t0\\t239865\\t26\\t\\tS',\n",
       " u'793\\t0\\t3\\t\"Sage, Miss. Stella Anna\"\\tfemale\\t\\t8\\t2\\tCA. 2343\\t69.55\\t\\tS',\n",
       " u'794\\t0\\t1\\t\"Hoyt, Mr. William Fisher\"\\tmale\\t\\t0\\t0\\tPC 17600\\t30.6958\\t\\tC',\n",
       " u'795\\t0\\t3\\t\"Dantcheff, Mr. Ristiu\"\\tmale\\t25\\t0\\t0\\t349203\\t7.8958\\t\\tS',\n",
       " u'796\\t0\\t2\\t\"Otter, Mr. Richard\"\\tmale\\t39\\t0\\t0\\t28213\\t13\\t\\tS',\n",
       " u'797\\t1\\t1\\t\"Leader, Dr. Alice (Farnham)\"\\tfemale\\t49\\t0\\t0\\t17465\\t25.9292\\tD17\\tS',\n",
       " u'798\\t1\\t3\\t\"Osman, Mrs. Mara\"\\tfemale\\t31\\t0\\t0\\t349244\\t8.6833\\t\\tS',\n",
       " u'799\\t0\\t3\\t\"Ibrahim Shawah, Mr. Yousseff\"\\tmale\\t30\\t0\\t0\\t2685\\t7.2292\\t\\tC',\n",
       " u'800\\t0\\t3\\t\"Van Impe, Mrs. Jean Baptiste (Rosalie Paula Govaert)\"\\tfemale\\t30\\t1\\t1\\t345773\\t24.15\\t\\tS',\n",
       " u'801\\t0\\t2\\t\"Ponesell, Mr. Martin\"\\tmale\\t34\\t0\\t0\\t250647\\t13\\t\\tS',\n",
       " u'802\\t1\\t2\\t\"Collyer, Mrs. Harvey (Charlotte Annie Tate)\"\\tfemale\\t31\\t1\\t1\\tC.A. 31921\\t26.25\\t\\tS',\n",
       " u'803\\t1\\t1\\t\"Carter, Master. William Thornton II\"\\tmale\\t11\\t1\\t2\\t113760\\t120\\tB96 B98\\tS',\n",
       " u'804\\t1\\t3\\t\"Thomas, Master. Assad Alexander\"\\tmale\\t0.42\\t0\\t1\\t2625\\t8.5167\\t\\tC',\n",
       " u'805\\t1\\t3\\t\"Hedman, Mr. Oskar Arvid\"\\tmale\\t27\\t0\\t0\\t347089\\t6.975\\t\\tS',\n",
       " u'806\\t0\\t3\\t\"Johansson, Mr. Karl Johan\"\\tmale\\t31\\t0\\t0\\t347063\\t7.775\\t\\tS',\n",
       " u'807\\t0\\t1\\t\"Andrews, Mr. Thomas Jr\"\\tmale\\t39\\t0\\t0\\t112050\\t0\\tA36\\tS',\n",
       " u'808\\t0\\t3\\t\"Pettersson, Miss. Ellen Natalia\"\\tfemale\\t18\\t0\\t0\\t347087\\t7.775\\t\\tS',\n",
       " u'809\\t0\\t2\\t\"Meyer, Mr. August\"\\tmale\\t39\\t0\\t0\\t248723\\t13\\t\\tS',\n",
       " u'810\\t1\\t1\\t\"Chambers, Mrs. Norman Campbell (Bertha Griggs)\"\\tfemale\\t33\\t1\\t0\\t113806\\t53.1\\tE8\\tS',\n",
       " u'811\\t0\\t3\\t\"Alexander, Mr. William\"\\tmale\\t26\\t0\\t0\\t3474\\t7.8875\\t\\tS',\n",
       " u'812\\t0\\t3\\t\"Lester, Mr. James\"\\tmale\\t39\\t0\\t0\\tA/4 48871\\t24.15\\t\\tS',\n",
       " u'813\\t0\\t2\\t\"Slemen, Mr. Richard James\"\\tmale\\t35\\t0\\t0\\t28206\\t10.5\\t\\tS',\n",
       " u'814\\t0\\t3\\t\"Andersson, Miss. Ebba Iris Alfrida\"\\tfemale\\t6\\t4\\t2\\t347082\\t31.275\\t\\tS',\n",
       " u'815\\t0\\t3\\t\"Tomlin, Mr. Ernest Portage\"\\tmale\\t30.5\\t0\\t0\\t364499\\t8.05\\t\\tS',\n",
       " u'816\\t0\\t1\\t\"Fry, Mr. Richard\"\\tmale\\t\\t0\\t0\\t112058\\t0\\tB102\\tS',\n",
       " u'817\\t0\\t3\\t\"Heininen, Miss. Wendla Maria\"\\tfemale\\t23\\t0\\t0\\tSTON/O2. 3101290\\t7.925\\t\\tS',\n",
       " u'818\\t0\\t2\\t\"Mallet, Mr. Albert\"\\tmale\\t31\\t1\\t1\\tS.C./PARIS 2079\\t37.0042\\t\\tC',\n",
       " u'819\\t0\\t3\\t\"Holm, Mr. John Fredrik Alexander\"\\tmale\\t43\\t0\\t0\\tC 7075\\t6.45\\t\\tS',\n",
       " u'820\\t0\\t3\\t\"Skoog, Master. Karl Thorsten\"\\tmale\\t10\\t3\\t2\\t347088\\t27.9\\t\\tS',\n",
       " u'821\\t1\\t1\\t\"Hays, Mrs. Charles Melville (Clara Jennings Gregg)\"\\tfemale\\t52\\t1\\t1\\t12749\\t93.5\\tB69\\tS',\n",
       " u'822\\t1\\t3\\t\"Lulic, Mr. Nikola\"\\tmale\\t27\\t0\\t0\\t315098\\t8.6625\\t\\tS',\n",
       " u'823\\t0\\t1\\t\"Reuchlin, Jonkheer. John George\"\\tmale\\t38\\t0\\t0\\t19972\\t0\\t\\tS',\n",
       " u'824\\t1\\t3\\t\"Moor, Mrs. (Beila)\"\\tfemale\\t27\\t0\\t1\\t392096\\t12.475\\tE121\\tS',\n",
       " u'825\\t0\\t3\\t\"Panula, Master. Urho Abraham\"\\tmale\\t2\\t4\\t1\\t3101295\\t39.6875\\t\\tS',\n",
       " u'826\\t0\\t3\\t\"Flynn, Mr. John\"\\tmale\\t\\t0\\t0\\t368323\\t6.95\\t\\tQ',\n",
       " u'827\\t0\\t3\\t\"Lam, Mr. Len\"\\tmale\\t\\t0\\t0\\t1601\\t56.4958\\t\\tS',\n",
       " u'828\\t1\\t2\\t\"Mallet, Master. Andre\"\\tmale\\t1\\t0\\t2\\tS.C./PARIS 2079\\t37.0042\\t\\tC',\n",
       " u'829\\t1\\t3\\t\"McCormack, Mr. Thomas Joseph\"\\tmale\\t\\t0\\t0\\t367228\\t7.75\\t\\tQ',\n",
       " u'830\\t1\\t1\\t\"Stone, Mrs. George Nelson (Martha Evelyn)\"\\tfemale\\t62\\t0\\t0\\t113572\\t80\\tB28\\t',\n",
       " u'831\\t1\\t3\\t\"Yasbeck, Mrs. Antoni (Selini Alexander)\"\\tfemale\\t15\\t1\\t0\\t2659\\t14.4542\\t\\tC',\n",
       " u'832\\t1\\t2\\t\"Richards, Master. George Sibley\"\\tmale\\t0.83\\t1\\t1\\t29106\\t18.75\\t\\tS',\n",
       " u'833\\t0\\t3\\t\"Saad, Mr. Amin\"\\tmale\\t\\t0\\t0\\t2671\\t7.2292\\t\\tC',\n",
       " u'834\\t0\\t3\\t\"Augustsson, Mr. Albert\"\\tmale\\t23\\t0\\t0\\t347468\\t7.8542\\t\\tS',\n",
       " u'835\\t0\\t3\\t\"Allum, Mr. Owen George\"\\tmale\\t18\\t0\\t0\\t2223\\t8.3\\t\\tS',\n",
       " u'836\\t1\\t1\\t\"Compton, Miss. Sara Rebecca\"\\tfemale\\t39\\t1\\t1\\tPC 17756\\t83.1583\\tE49\\tC',\n",
       " u'837\\t0\\t3\\t\"Pasic, Mr. Jakob\"\\tmale\\t21\\t0\\t0\\t315097\\t8.6625\\t\\tS',\n",
       " u'838\\t0\\t3\\t\"Sirota, Mr. Maurice\"\\tmale\\t\\t0\\t0\\t392092\\t8.05\\t\\tS',\n",
       " u'839\\t1\\t3\\t\"Chip, Mr. Chang\"\\tmale\\t32\\t0\\t0\\t1601\\t56.4958\\t\\tS',\n",
       " u'840\\t1\\t1\\t\"Marechal, Mr. Pierre\"\\tmale\\t\\t0\\t0\\t11774\\t29.7\\tC47\\tC',\n",
       " u'841\\t0\\t3\\t\"Alhomaki, Mr. Ilmari Rudolf\"\\tmale\\t20\\t0\\t0\\tSOTON/O2 3101287\\t7.925\\t\\tS',\n",
       " u'842\\t0\\t2\\t\"Mudd, Mr. Thomas Charles\"\\tmale\\t16\\t0\\t0\\tS.O./P.P. 3\\t10.5\\t\\tS',\n",
       " u'843\\t1\\t1\\t\"Serepeca, Miss. Augusta\"\\tfemale\\t30\\t0\\t0\\t113798\\t31\\t\\tC',\n",
       " u'844\\t0\\t3\\t\"Lemberopolous, Mr. Peter L\"\\tmale\\t34.5\\t0\\t0\\t2683\\t6.4375\\t\\tC',\n",
       " u'845\\t0\\t3\\t\"Culumovic, Mr. Jeso\"\\tmale\\t17\\t0\\t0\\t315090\\t8.6625\\t\\tS',\n",
       " u'846\\t0\\t3\\t\"Abbing, Mr. Anthony\"\\tmale\\t42\\t0\\t0\\tC.A. 5547\\t7.55\\t\\tS',\n",
       " u'847\\t0\\t3\\t\"Sage, Mr. Douglas Bullen\"\\tmale\\t\\t8\\t2\\tCA. 2343\\t69.55\\t\\tS',\n",
       " u'848\\t0\\t3\\t\"Markoff, Mr. Marin\"\\tmale\\t35\\t0\\t0\\t349213\\t7.8958\\t\\tC',\n",
       " u'849\\t0\\t2\\t\"Harper, Rev. John\"\\tmale\\t28\\t0\\t1\\t248727\\t33\\t\\tS',\n",
       " u'850\\t1\\t1\\t\"Goldenberg, Mrs. Samuel L (Edwiga Grabowska)\"\\tfemale\\t\\t1\\t0\\t17453\\t89.1042\\tC92\\tC',\n",
       " u'851\\t0\\t3\\t\"Andersson, Master. Sigvard Harald Elias\"\\tmale\\t4\\t4\\t2\\t347082\\t31.275\\t\\tS',\n",
       " u'852\\t0\\t3\\t\"Svensson, Mr. Johan\"\\tmale\\t74\\t0\\t0\\t347060\\t7.775\\t\\tS',\n",
       " u'853\\t0\\t3\\t\"Boulos, Miss. Nourelain\"\\tfemale\\t9\\t1\\t1\\t2678\\t15.2458\\t\\tC',\n",
       " u'854\\t1\\t1\\t\"Lines, Miss. Mary Conover\"\\tfemale\\t16\\t0\\t1\\tPC 17592\\t39.4\\tD28\\tS',\n",
       " u'855\\t0\\t2\\t\"Carter, Mrs. Ernest Courtenay (Lilian Hughes)\"\\tfemale\\t44\\t1\\t0\\t244252\\t26\\t\\tS',\n",
       " u'856\\t1\\t3\\t\"Aks, Mrs. Sam (Leah Rosen)\"\\tfemale\\t18\\t0\\t1\\t392091\\t9.35\\t\\tS',\n",
       " u'857\\t1\\t1\\t\"Wick, Mrs. George Dennick (Mary Hitchcock)\"\\tfemale\\t45\\t1\\t1\\t36928\\t164.8667\\t\\tS',\n",
       " u'858\\t1\\t1\\t\"Daly, Mr. Peter Denis \"\\tmale\\t51\\t0\\t0\\t113055\\t26.55\\tE17\\tS',\n",
       " u'859\\t1\\t3\\t\"Baclini, Mrs. Solomon (Latifa Qurban)\"\\tfemale\\t24\\t0\\t3\\t2666\\t19.2583\\t\\tC',\n",
       " u'860\\t0\\t3\\t\"Razi, Mr. Raihed\"\\tmale\\t\\t0\\t0\\t2629\\t7.2292\\t\\tC',\n",
       " u'861\\t0\\t3\\t\"Hansen, Mr. Claus Peter\"\\tmale\\t41\\t2\\t0\\t350026\\t14.1083\\t\\tS',\n",
       " u'862\\t0\\t2\\t\"Giles, Mr. Frederick Edward\"\\tmale\\t21\\t1\\t0\\t28134\\t11.5\\t\\tS',\n",
       " u'863\\t1\\t1\\t\"Swift, Mrs. Frederick Joel (Margaret Welles Barron)\"\\tfemale\\t48\\t0\\t0\\t17466\\t25.9292\\tD17\\tS',\n",
       " u'864\\t0\\t3\\t\"Sage, Miss. Dorothy Edith \"\"Dolly\"\"\"\\tfemale\\t\\t8\\t2\\tCA. 2343\\t69.55\\t\\tS',\n",
       " u'865\\t0\\t2\\t\"Gill, Mr. John William\"\\tmale\\t24\\t0\\t0\\t233866\\t13\\t\\tS',\n",
       " u'866\\t1\\t2\\t\"Bystrom, Mrs. (Karolina)\"\\tfemale\\t42\\t0\\t0\\t236852\\t13\\t\\tS',\n",
       " u'867\\t1\\t2\\t\"Duran y More, Miss. Asuncion\"\\tfemale\\t27\\t1\\t0\\tSC/PARIS 2149\\t13.8583\\t\\tC',\n",
       " u'868\\t0\\t1\\t\"Roebling, Mr. Washington Augustus II\"\\tmale\\t31\\t0\\t0\\tPC 17590\\t50.4958\\tA24\\tS',\n",
       " u'869\\t0\\t3\\t\"van Melkebeke, Mr. Philemon\"\\tmale\\t\\t0\\t0\\t345777\\t9.5\\t\\tS',\n",
       " u'870\\t1\\t3\\t\"Johnson, Master. Harold Theodor\"\\tmale\\t4\\t1\\t1\\t347742\\t11.1333\\t\\tS',\n",
       " u'871\\t0\\t3\\t\"Balkic, Mr. Cerin\"\\tmale\\t26\\t0\\t0\\t349248\\t7.8958\\t\\tS',\n",
       " u'872\\t1\\t1\\t\"Beckwith, Mrs. Richard Leonard (Sallie Monypeny)\"\\tfemale\\t47\\t1\\t1\\t11751\\t52.5542\\tD35\\tS',\n",
       " u'873\\t0\\t1\\t\"Carlsson, Mr. Frans Olof\"\\tmale\\t33\\t0\\t0\\t695\\t5\\tB51 B53 B55\\tS',\n",
       " u'874\\t0\\t3\\t\"Vander Cruyssen, Mr. Victor\"\\tmale\\t47\\t0\\t0\\t345765\\t9\\t\\tS',\n",
       " u'875\\t1\\t2\\t\"Abelson, Mrs. Samuel (Hannah Wizosky)\"\\tfemale\\t28\\t1\\t0\\tP/PP 3381\\t24\\t\\tC',\n",
       " u'876\\t1\\t3\\t\"Najib, Miss. Adele Kiamie \"\"Jane\"\"\"\\tfemale\\t15\\t0\\t0\\t2667\\t7.225\\t\\tC',\n",
       " u'877\\t0\\t3\\t\"Gustafsson, Mr. Alfred Ossian\"\\tmale\\t20\\t0\\t0\\t7534\\t9.8458\\t\\tS',\n",
       " u'878\\t0\\t3\\t\"Petroff, Mr. Nedelio\"\\tmale\\t19\\t0\\t0\\t349212\\t7.8958\\t\\tS',\n",
       " u'879\\t0\\t3\\t\"Laleff, Mr. Kristo\"\\tmale\\t\\t0\\t0\\t349217\\t7.8958\\t\\tS',\n",
       " u'880\\t1\\t1\\t\"Potter, Mrs. Thomas Jr (Lily Alexenia Wilson)\"\\tfemale\\t56\\t0\\t1\\t11767\\t83.1583\\tC50\\tC',\n",
       " u'881\\t1\\t2\\t\"Shelley, Mrs. William (Imanita Parrish Hall)\"\\tfemale\\t25\\t0\\t1\\t230433\\t26\\t\\tS',\n",
       " u'882\\t0\\t3\\t\"Markun, Mr. Johann\"\\tmale\\t33\\t0\\t0\\t349257\\t7.8958\\t\\tS',\n",
       " u'883\\t0\\t3\\t\"Dahlberg, Miss. Gerda Ulrika\"\\tfemale\\t22\\t0\\t0\\t7552\\t10.5167\\t\\tS',\n",
       " u'884\\t0\\t2\\t\"Banfield, Mr. Frederick James\"\\tmale\\t28\\t0\\t0\\tC.A./SOTON 34068\\t10.5\\t\\tS',\n",
       " u'885\\t0\\t3\\t\"Sutehall, Mr. Henry Jr\"\\tmale\\t25\\t0\\t0\\tSOTON/OQ 392076\\t7.05\\t\\tS',\n",
       " u'886\\t0\\t3\\t\"Rice, Mrs. William (Margaret Norton)\"\\tfemale\\t39\\t0\\t5\\t382652\\t29.125\\t\\tQ',\n",
       " u'887\\t0\\t2\\t\"Montvila, Rev. Juozas\"\\tmale\\t27\\t0\\t0\\t211536\\t13\\t\\tS',\n",
       " u'888\\t1\\t1\\t\"Graham, Miss. Margaret Edith\"\\tfemale\\t19\\t0\\t0\\t112053\\t30\\tB42\\tS',\n",
       " u'889\\t0\\t3\\t\"Johnston, Miss. Catherine Helen \"\"Carrie\"\"\"\\tfemale\\t\\t1\\t2\\tW./C. 6607\\t23.45\\t\\tS',\n",
       " u'890\\t1\\t1\\t\"Behr, Mr. Karl Howell\"\\tmale\\t26\\t0\\t0\\t111369\\t30\\tC148\\tC',\n",
       " u'891\\t0\\t3\\t\"Dooley, Mr. Patrick\"\\tmale\\t32\\t0\\t0\\t370376\\t7.75\\t\\tQ']"
      ]
     },
     "execution_count": 50,
     "metadata": {},
     "output_type": "execute_result"
    }
   ],
   "source": [
    "path = os.path.join(\"C:\\Users\\Dell\\Documents\", \"titanic_train.txt\")\n",
    "textFile = sc.textFile(path)\n",
    "textFile.collect()"
   ]
  },
  {
   "cell_type": "code",
   "execution_count": 51,
   "metadata": {
    "collapsed": true
   },
   "outputs": [],
   "source": [
    "parallelized = sc.parallelize([\"textFile\"])"
   ]
  },
  {
   "cell_type": "code",
   "execution_count": 53,
   "metadata": {
    "collapsed": false
   },
   "outputs": [
    {
     "data": {
      "text/plain": [
       "['textFile']"
      ]
     },
     "execution_count": 53,
     "metadata": {},
     "output_type": "execute_result"
    }
   ],
   "source": [
    "parallelized.collect()"
   ]
  },
  {
   "cell_type": "code",
   "execution_count": 52,
   "metadata": {
    "collapsed": false
   },
   "outputs": [
    {
     "data": {
      "text/plain": [
       "[u'1\\t0\\t3\\t\"Braund, Mr. Owen Harris\"\\tmale\\t22\\t1\\t0\\tA/5 21171\\t7.25\\t\\tS',\n",
       " u'10\\t1\\t2\\t\"Nasser, Mrs. Nicholas (Adele Achem)\"\\tfemale\\t14\\t1\\t0\\t237736\\t30.0708\\t\\tC',\n",
       " u'100\\t0\\t2\\t\"Kantor, Mr. Sinai\"\\tmale\\t34\\t1\\t0\\t244367\\t26\\t\\tS',\n",
       " u'101\\t0\\t3\\t\"Petranec, Miss. Matilda\"\\tfemale\\t28\\t0\\t0\\t349245\\t7.8958\\t\\tS',\n",
       " u'102\\t0\\t3\\t\"Petroff, Mr. Pastcho (\"\"Pentcho\"\")\"\\tmale\\t\\t0\\t0\\t349215\\t7.8958\\t\\tS',\n",
       " u'103\\t0\\t1\\t\"White, Mr. Richard Frasar\"\\tmale\\t21\\t0\\t1\\t35281\\t77.2875\\tD26\\tS',\n",
       " u'104\\t0\\t3\\t\"Johansson, Mr. Gustaf Joel\"\\tmale\\t33\\t0\\t0\\t7540\\t8.6542\\t\\tS',\n",
       " u'105\\t0\\t3\\t\"Gustafsson, Mr. Anders Vilhelm\"\\tmale\\t37\\t2\\t0\\t3101276\\t7.925\\t\\tS',\n",
       " u'106\\t0\\t3\\t\"Mionoff, Mr. Stoytcho\"\\tmale\\t28\\t0\\t0\\t349207\\t7.8958\\t\\tS',\n",
       " u'107\\t1\\t3\\t\"Salkjelsvik, Miss. Anna Kristine\"\\tfemale\\t21\\t0\\t0\\t343120\\t7.65\\t\\tS',\n",
       " u'108\\t1\\t3\\t\"Moss, Mr. Albert Johan\"\\tmale\\t\\t0\\t0\\t312991\\t7.775\\t\\tS',\n",
       " u'109\\t0\\t3\\t\"Rekic, Mr. Tido\"\\tmale\\t38\\t0\\t0\\t349249\\t7.8958\\t\\tS',\n",
       " u'11\\t1\\t3\\t\"Sandstrom, Miss. Marguerite Rut\"\\tfemale\\t4\\t1\\t1\\tPP 9549\\t16.7\\tG6\\tS',\n",
       " u'110\\t1\\t3\\t\"Moran, Miss. Bertha\"\\tfemale\\t\\t1\\t0\\t371110\\t24.15\\t\\tQ',\n",
       " u'111\\t0\\t1\\t\"Porter, Mr. Walter Chamberlain\"\\tmale\\t47\\t0\\t0\\t110465\\t52\\tC110\\tS',\n",
       " u'112\\t0\\t3\\t\"Zabour, Miss. Hileni\"\\tfemale\\t14.5\\t1\\t0\\t2665\\t14.4542\\t\\tC',\n",
       " u'113\\t0\\t3\\t\"Barton, Mr. David John\"\\tmale\\t22\\t0\\t0\\t324669\\t8.05\\t\\tS',\n",
       " u'114\\t0\\t3\\t\"Jussila, Miss. Katriina\"\\tfemale\\t20\\t1\\t0\\t4136\\t9.825\\t\\tS',\n",
       " u'115\\t0\\t3\\t\"Attalah, Miss. Malake\"\\tfemale\\t17\\t0\\t0\\t2627\\t14.4583\\t\\tC',\n",
       " u'116\\t0\\t3\\t\"Pekoniemi, Mr. Edvard\"\\tmale\\t21\\t0\\t0\\tSTON/O 2. 3101294\\t7.925\\t\\tS',\n",
       " u'117\\t0\\t3\\t\"Connors, Mr. Patrick\"\\tmale\\t70.5\\t0\\t0\\t370369\\t7.75\\t\\tQ',\n",
       " u'118\\t0\\t2\\t\"Turpin, Mr. William John Robert\"\\tmale\\t29\\t1\\t0\\t11668\\t21\\t\\tS',\n",
       " u'119\\t0\\t1\\t\"Baxter, Mr. Quigg Edmond\"\\tmale\\t24\\t0\\t1\\tPC 17558\\t247.5208\\tB58 B60\\tC',\n",
       " u'12\\t1\\t1\\t\"Bonnell, Miss. Elizabeth\"\\tfemale\\t58\\t0\\t0\\t113783\\t26.55\\tC103\\tS',\n",
       " u'120\\t0\\t3\\t\"Andersson, Miss. Ellis Anna Maria\"\\tfemale\\t2\\t4\\t2\\t347082\\t31.275\\t\\tS',\n",
       " u'121\\t0\\t2\\t\"Hickman, Mr. Stanley George\"\\tmale\\t21\\t2\\t0\\tS.O.C. 14879\\t73.5\\t\\tS',\n",
       " u'122\\t0\\t3\\t\"Moore, Mr. Leonard Charles\"\\tmale\\t\\t0\\t0\\tA4. 54510\\t8.05\\t\\tS',\n",
       " u'123\\t0\\t2\\t\"Nasser, Mr. Nicholas\"\\tmale\\t32.5\\t1\\t0\\t237736\\t30.0708\\t\\tC',\n",
       " u'124\\t1\\t2\\t\"Webber, Miss. Susan\"\\tfemale\\t32.5\\t0\\t0\\t27267\\t13\\tE101\\tS',\n",
       " u'125\\t0\\t1\\t\"White, Mr. Percival Wayland\"\\tmale\\t54\\t0\\t1\\t35281\\t77.2875\\tD26\\tS',\n",
       " u'126\\t1\\t3\\t\"Nicola-Yarred, Master. Elias\"\\tmale\\t12\\t1\\t0\\t2651\\t11.2417\\t\\tC',\n",
       " u'127\\t0\\t3\\t\"McMahon, Mr. Martin\"\\tmale\\t\\t0\\t0\\t370372\\t7.75\\t\\tQ',\n",
       " u'128\\t1\\t3\\t\"Madsen, Mr. Fridtjof Arne\"\\tmale\\t24\\t0\\t0\\tC 17369\\t7.1417\\t\\tS',\n",
       " u'129\\t1\\t3\\t\"Peter, Miss. Anna\"\\tfemale\\t\\t1\\t1\\t2668\\t22.3583\\tF E69\\tC',\n",
       " u'13\\t0\\t3\\t\"Saundercock, Mr. William Henry\"\\tmale\\t20\\t0\\t0\\tA/5. 2151\\t8.05\\t\\tS',\n",
       " u'130\\t0\\t3\\t\"Ekstrom, Mr. Johan\"\\tmale\\t45\\t0\\t0\\t347061\\t6.975\\t\\tS',\n",
       " u'131\\t0\\t3\\t\"Drazenoic, Mr. Jozef\"\\tmale\\t33\\t0\\t0\\t349241\\t7.8958\\t\\tC',\n",
       " u'132\\t0\\t3\\t\"Coelho, Mr. Domingos Fernandeo\"\\tmale\\t20\\t0\\t0\\tSOTON/O.Q. 3101307\\t7.05\\t\\tS',\n",
       " u'133\\t0\\t3\\t\"Robins, Mrs. Alexander A (Grace Charity Laury)\"\\tfemale\\t47\\t1\\t0\\tA/5. 3337\\t14.5\\t\\tS',\n",
       " u'134\\t1\\t2\\t\"Weisz, Mrs. Leopold (Mathilde Francoise Pede)\"\\tfemale\\t29\\t1\\t0\\t228414\\t26\\t\\tS',\n",
       " u'135\\t0\\t2\\t\"Sobey, Mr. Samuel James Hayden\"\\tmale\\t25\\t0\\t0\\tC.A. 29178\\t13\\t\\tS',\n",
       " u'136\\t0\\t2\\t\"Richard, Mr. Emile\"\\tmale\\t23\\t0\\t0\\tSC/PARIS 2133\\t15.0458\\t\\tC',\n",
       " u'137\\t1\\t1\\t\"Newsom, Miss. Helen Monypeny\"\\tfemale\\t19\\t0\\t2\\t11752\\t26.2833\\tD47\\tS',\n",
       " u'138\\t0\\t1\\t\"Futrelle, Mr. Jacques Heath\"\\tmale\\t37\\t1\\t0\\t113803\\t53.1\\tC123\\tS',\n",
       " u'139\\t0\\t3\\t\"Osen, Mr. Olaf Elon\"\\tmale\\t16\\t0\\t0\\t7534\\t9.2167\\t\\tS',\n",
       " u'14\\t0\\t3\\t\"Andersson, Mr. Anders Johan\"\\tmale\\t39\\t1\\t5\\t347082\\t31.275\\t\\tS',\n",
       " u'140\\t0\\t1\\t\"Giglio, Mr. Victor\"\\tmale\\t24\\t0\\t0\\tPC 17593\\t79.2\\tB86\\tC',\n",
       " u'141\\t0\\t3\\t\"Boulos, Mrs. Joseph (Sultana)\"\\tfemale\\t\\t0\\t2\\t2678\\t15.2458\\t\\tC',\n",
       " u'142\\t1\\t3\\t\"Nysten, Miss. Anna Sofia\"\\tfemale\\t22\\t0\\t0\\t347081\\t7.75\\t\\tS',\n",
       " u'143\\t1\\t3\\t\"Hakkarainen, Mrs. Pekka Pietari (Elin Matilda Dolck)\"\\tfemale\\t24\\t1\\t0\\tSTON/O2. 3101279\\t15.85\\t\\tS',\n",
       " u'144\\t0\\t3\\t\"Burke, Mr. Jeremiah\"\\tmale\\t19\\t0\\t0\\t365222\\t6.75\\t\\tQ',\n",
       " u'145\\t0\\t2\\t\"Andrew, Mr. Edgardo Samuel\"\\tmale\\t18\\t0\\t0\\t231945\\t11.5\\t\\tS',\n",
       " u'146\\t0\\t2\\t\"Nicholls, Mr. Joseph Charles\"\\tmale\\t19\\t1\\t1\\tC.A. 33112\\t36.75\\t\\tS',\n",
       " u'147\\t1\\t3\\t\"Andersson, Mr. August Edvard (\"\"Wennerstrom\"\")\"\\tmale\\t27\\t0\\t0\\t350043\\t7.7958\\t\\tS',\n",
       " u'148\\t0\\t3\\t\"Ford, Miss. Robina Maggie \"\"Ruby\"\"\"\\tfemale\\t9\\t2\\t2\\tW./C. 6608\\t34.375\\t\\tS',\n",
       " u'149\\t0\\t2\\t\"Navratil, Mr. Michel (\"\"Louis M Hoffman\"\")\"\\tmale\\t36.5\\t0\\t2\\t230080\\t26\\tF2\\tS',\n",
       " u'15\\t0\\t3\\t\"Vestrom, Miss. Hulda Amanda Adolfina\"\\tfemale\\t14\\t0\\t0\\t350406\\t7.8542\\t\\tS',\n",
       " u'150\\t0\\t2\\t\"Byles, Rev. Thomas Roussel Davids\"\\tmale\\t42\\t0\\t0\\t244310\\t13\\t\\tS',\n",
       " u'151\\t0\\t2\\t\"Bateman, Rev. Robert James\"\\tmale\\t51\\t0\\t0\\tS.O.P. 1166\\t12.525\\t\\tS',\n",
       " u'152\\t1\\t1\\t\"Pears, Mrs. Thomas (Edith Wearne)\"\\tfemale\\t22\\t1\\t0\\t113776\\t66.6\\tC2\\tS',\n",
       " u'153\\t0\\t3\\t\"Meo, Mr. Alfonzo\"\\tmale\\t55.5\\t0\\t0\\tA.5. 11206\\t8.05\\t\\tS',\n",
       " u'154\\t0\\t3\\t\"van Billiard, Mr. Austin Blyler\"\\tmale\\t40.5\\t0\\t2\\tA/5. 851\\t14.5\\t\\tS',\n",
       " u'155\\t0\\t3\\t\"Olsen, Mr. Ole Martin\"\\tmale\\t\\t0\\t0\\tFa 265302\\t7.3125\\t\\tS',\n",
       " u'156\\t0\\t1\\t\"Williams, Mr. Charles Duane\"\\tmale\\t51\\t0\\t1\\tPC 17597\\t61.3792\\t\\tC',\n",
       " u'157\\t1\\t3\\t\"Gilnagh, Miss. Katherine \"\"Katie\"\"\"\\tfemale\\t16\\t0\\t0\\t35851\\t7.7333\\t\\tQ',\n",
       " u'158\\t0\\t3\\t\"Corn, Mr. Harry\"\\tmale\\t30\\t0\\t0\\tSOTON/OQ 392090\\t8.05\\t\\tS',\n",
       " u'159\\t0\\t3\\t\"Smiljanic, Mr. Mile\"\\tmale\\t\\t0\\t0\\t315037\\t8.6625\\t\\tS',\n",
       " u'16\\t1\\t2\\t\"Hewlett, Mrs. (Mary D Kingcome) \"\\tfemale\\t55\\t0\\t0\\t248706\\t16\\t\\tS',\n",
       " u'160\\t0\\t3\\t\"Sage, Master. Thomas Henry\"\\tmale\\t\\t8\\t2\\tCA. 2343\\t69.55\\t\\tS',\n",
       " u'161\\t0\\t3\\t\"Cribb, Mr. John Hatfield\"\\tmale\\t44\\t0\\t1\\t371362\\t16.1\\t\\tS',\n",
       " u'162\\t1\\t2\\t\"Watt, Mrs. James (Elizabeth \"\"Bessie\"\" Inglis Milne)\"\\tfemale\\t40\\t0\\t0\\tC.A. 33595\\t15.75\\t\\tS',\n",
       " u'163\\t0\\t3\\t\"Bengtsson, Mr. John Viktor\"\\tmale\\t26\\t0\\t0\\t347068\\t7.775\\t\\tS',\n",
       " u'164\\t0\\t3\\t\"Calic, Mr. Jovo\"\\tmale\\t17\\t0\\t0\\t315093\\t8.6625\\t\\tS',\n",
       " u'165\\t0\\t3\\t\"Panula, Master. Eino Viljami\"\\tmale\\t1\\t4\\t1\\t3101295\\t39.6875\\t\\tS',\n",
       " u'166\\t1\\t3\\t\"Goldsmith, Master. Frank John William \"\"Frankie\"\"\"\\tmale\\t9\\t0\\t2\\t363291\\t20.525\\t\\tS',\n",
       " u'167\\t1\\t1\\t\"Chibnall, Mrs. (Edith Martha Bowerman)\"\\tfemale\\t\\t0\\t1\\t113505\\t55\\tE33\\tS',\n",
       " u'168\\t0\\t3\\t\"Skoog, Mrs. William (Anna Bernhardina Karlsson)\"\\tfemale\\t45\\t1\\t4\\t347088\\t27.9\\t\\tS',\n",
       " u'169\\t0\\t1\\t\"Baumann, Mr. John D\"\\tmale\\t\\t0\\t0\\tPC 17318\\t25.925\\t\\tS',\n",
       " u'17\\t0\\t3\\t\"Rice, Master. Eugene\"\\tmale\\t2\\t4\\t1\\t382652\\t29.125\\t\\tQ',\n",
       " u'170\\t0\\t3\\t\"Ling, Mr. Lee\"\\tmale\\t28\\t0\\t0\\t1601\\t56.4958\\t\\tS',\n",
       " u'171\\t0\\t1\\t\"Van der hoef, Mr. Wyckoff\"\\tmale\\t61\\t0\\t0\\t111240\\t33.5\\tB19\\tS',\n",
       " u'172\\t0\\t3\\t\"Rice, Master. Arthur\"\\tmale\\t4\\t4\\t1\\t382652\\t29.125\\t\\tQ',\n",
       " u'173\\t1\\t3\\t\"Johnson, Miss. Eleanor Ileen\"\\tfemale\\t1\\t1\\t1\\t347742\\t11.1333\\t\\tS',\n",
       " u'174\\t0\\t3\\t\"Sivola, Mr. Antti Wilhelm\"\\tmale\\t21\\t0\\t0\\tSTON/O 2. 3101280\\t7.925\\t\\tS',\n",
       " u'175\\t0\\t1\\t\"Smith, Mr. James Clinch\"\\tmale\\t56\\t0\\t0\\t17764\\t30.6958\\tA7\\tC',\n",
       " u'176\\t0\\t3\\t\"Klasen, Mr. Klas Albin\"\\tmale\\t18\\t1\\t1\\t350404\\t7.8542\\t\\tS',\n",
       " u'177\\t0\\t3\\t\"Lefebre, Master. Henry Forbes\"\\tmale\\t\\t3\\t1\\t4133\\t25.4667\\t\\tS',\n",
       " u'178\\t0\\t1\\t\"Isham, Miss. Ann Elizabeth\"\\tfemale\\t50\\t0\\t0\\tPC 17595\\t28.7125\\tC49\\tC',\n",
       " u'179\\t0\\t2\\t\"Hale, Mr. Reginald\"\\tmale\\t30\\t0\\t0\\t250653\\t13\\t\\tS',\n",
       " u'18\\t1\\t2\\t\"Williams, Mr. Charles Eugene\"\\tmale\\t\\t0\\t0\\t244373\\t13\\t\\tS',\n",
       " u'180\\t0\\t3\\t\"Leonard, Mr. Lionel\"\\tmale\\t36\\t0\\t0\\tLINE\\t0\\t\\tS',\n",
       " u'181\\t0\\t3\\t\"Sage, Miss. Constance Gladys\"\\tfemale\\t\\t8\\t2\\tCA. 2343\\t69.55\\t\\tS',\n",
       " u'182\\t0\\t2\\t\"Pernot, Mr. Rene\"\\tmale\\t\\t0\\t0\\tSC/PARIS 2131\\t15.05\\t\\tC',\n",
       " u'183\\t0\\t3\\t\"Asplund, Master. Clarence Gustaf Hugo\"\\tmale\\t9\\t4\\t2\\t347077\\t31.3875\\t\\tS',\n",
       " u'184\\t1\\t2\\t\"Becker, Master. Richard F\"\\tmale\\t1\\t2\\t1\\t230136\\t39\\tF4\\tS',\n",
       " u'185\\t1\\t3\\t\"Kink-Heilmann, Miss. Luise Gretchen\"\\tfemale\\t4\\t0\\t2\\t315153\\t22.025\\t\\tS',\n",
       " u'186\\t0\\t1\\t\"Rood, Mr. Hugh Roscoe\"\\tmale\\t\\t0\\t0\\t113767\\t50\\tA32\\tS',\n",
       " u'187\\t1\\t3\\t\"O\\'Brien, Mrs. Thomas (Johanna \"\"Hannah\"\" Godfrey)\"\\tfemale\\t\\t1\\t0\\t370365\\t15.5\\t\\tQ',\n",
       " u'188\\t1\\t1\\t\"Romaine, Mr. Charles Hallace (\"\"Mr C Rolmane\"\")\"\\tmale\\t45\\t0\\t0\\t111428\\t26.55\\t\\tS',\n",
       " u'189\\t0\\t3\\t\"Bourke, Mr. John\"\\tmale\\t40\\t1\\t1\\t364849\\t15.5\\t\\tQ',\n",
       " u'19\\t0\\t3\\t\"Vander Planke, Mrs. Julius (Emelia Maria Vandemoortele)\"\\tfemale\\t31\\t1\\t0\\t345763\\t18\\t\\tS',\n",
       " u'190\\t0\\t3\\t\"Turcin, Mr. Stjepan\"\\tmale\\t36\\t0\\t0\\t349247\\t7.8958\\t\\tS',\n",
       " u'191\\t1\\t2\\t\"Pinsky, Mrs. (Rosa)\"\\tfemale\\t32\\t0\\t0\\t234604\\t13\\t\\tS',\n",
       " u'192\\t0\\t2\\t\"Carbines, Mr. William\"\\tmale\\t19\\t0\\t0\\t28424\\t13\\t\\tS',\n",
       " u'193\\t1\\t3\\t\"Andersen-Jensen, Miss. Carla Christine Nielsine\"\\tfemale\\t19\\t1\\t0\\t350046\\t7.8542\\t\\tS',\n",
       " u'194\\t1\\t2\\t\"Navratil, Master. Michel M\"\\tmale\\t3\\t1\\t1\\t230080\\t26\\tF2\\tS',\n",
       " u'195\\t1\\t1\\t\"Brown, Mrs. James Joseph (Margaret Tobin)\"\\tfemale\\t44\\t0\\t0\\tPC 17610\\t27.7208\\tB4\\tC',\n",
       " u'196\\t1\\t1\\t\"Lurette, Miss. Elise\"\\tfemale\\t58\\t0\\t0\\tPC 17569\\t146.5208\\tB80\\tC',\n",
       " u'197\\t0\\t3\\t\"Mernagh, Mr. Robert\"\\tmale\\t\\t0\\t0\\t368703\\t7.75\\t\\tQ',\n",
       " u'198\\t0\\t3\\t\"Olsen, Mr. Karl Siegwart Andreas\"\\tmale\\t42\\t0\\t1\\t4579\\t8.4042\\t\\tS',\n",
       " u'199\\t1\\t3\\t\"Madigan, Miss. Margaret \"\"Maggie\"\"\"\\tfemale\\t\\t0\\t0\\t370370\\t7.75\\t\\tQ',\n",
       " u'2\\t1\\t1\\t\"Cumings, Mrs. John Bradley (Florence Briggs Thayer)\"\\tfemale\\t38\\t1\\t0\\tPC 17599\\t71.2833\\tC85\\tC',\n",
       " u'20\\t1\\t3\\t\"Masselmani, Mrs. Fatima\"\\tfemale\\t\\t0\\t0\\t2649\\t7.225\\t\\tC',\n",
       " u'200\\t0\\t2\\t\"Yrois, Miss. Henriette (\"\"Mrs Harbeck\"\")\"\\tfemale\\t24\\t0\\t0\\t248747\\t13\\t\\tS',\n",
       " u'201\\t0\\t3\\t\"Vande Walle, Mr. Nestor Cyriel\"\\tmale\\t28\\t0\\t0\\t345770\\t9.5\\t\\tS',\n",
       " u'202\\t0\\t3\\t\"Sage, Mr. Frederick\"\\tmale\\t\\t8\\t2\\tCA. 2343\\t69.55\\t\\tS',\n",
       " u'203\\t0\\t3\\t\"Johanson, Mr. Jakob Alfred\"\\tmale\\t34\\t0\\t0\\t3101264\\t6.4958\\t\\tS',\n",
       " u'204\\t0\\t3\\t\"Youseff, Mr. Gerious\"\\tmale\\t45.5\\t0\\t0\\t2628\\t7.225\\t\\tC',\n",
       " u'205\\t1\\t3\\t\"Cohen, Mr. Gurshon \"\"Gus\"\"\"\\tmale\\t18\\t0\\t0\\tA/5 3540\\t8.05\\t\\tS',\n",
       " u'206\\t0\\t3\\t\"Strom, Miss. Telma Matilda\"\\tfemale\\t2\\t0\\t1\\t347054\\t10.4625\\tG6\\tS',\n",
       " u'207\\t0\\t3\\t\"Backstrom, Mr. Karl Alfred\"\\tmale\\t32\\t1\\t0\\t3101278\\t15.85\\t\\tS',\n",
       " u'208\\t1\\t3\\t\"Albimona, Mr. Nassef Cassem\"\\tmale\\t26\\t0\\t0\\t2699\\t18.7875\\t\\tC',\n",
       " u'209\\t1\\t3\\t\"Carr, Miss. Helen \"\"Ellen\"\"\"\\tfemale\\t16\\t0\\t0\\t367231\\t7.75\\t\\tQ',\n",
       " u'21\\t0\\t2\\t\"Fynney, Mr. Joseph J\"\\tmale\\t35\\t0\\t0\\t239865\\t26\\t\\tS',\n",
       " u'210\\t1\\t1\\t\"Blank, Mr. Henry\"\\tmale\\t40\\t0\\t0\\t112277\\t31\\tA31\\tC',\n",
       " u'211\\t0\\t3\\t\"Ali, Mr. Ahmed\"\\tmale\\t24\\t0\\t0\\tSOTON/O.Q. 3101311\\t7.05\\t\\tS',\n",
       " u'212\\t1\\t2\\t\"Cameron, Miss. Clear Annie\"\\tfemale\\t35\\t0\\t0\\tF.C.C. 13528\\t21\\t\\tS',\n",
       " u'213\\t0\\t3\\t\"Perkin, Mr. John Henry\"\\tmale\\t22\\t0\\t0\\tA/5 21174\\t7.25\\t\\tS',\n",
       " u'214\\t0\\t2\\t\"Givard, Mr. Hans Kristensen\"\\tmale\\t30\\t0\\t0\\t250646\\t13\\t\\tS',\n",
       " u'215\\t0\\t3\\t\"Kiernan, Mr. Philip\"\\tmale\\t\\t1\\t0\\t367229\\t7.75\\t\\tQ',\n",
       " u'216\\t1\\t1\\t\"Newell, Miss. Madeleine\"\\tfemale\\t31\\t1\\t0\\t35273\\t113.275\\tD36\\tC',\n",
       " u'217\\t1\\t3\\t\"Honkanen, Miss. Eliina\"\\tfemale\\t27\\t0\\t0\\tSTON/O2. 3101283\\t7.925\\t\\tS',\n",
       " u'218\\t0\\t2\\t\"Jacobsohn, Mr. Sidney Samuel\"\\tmale\\t42\\t1\\t0\\t243847\\t27\\t\\tS',\n",
       " u'219\\t1\\t1\\t\"Bazzani, Miss. Albina\"\\tfemale\\t32\\t0\\t0\\t11813\\t76.2917\\tD15\\tC',\n",
       " u'22\\t1\\t2\\t\"Beesley, Mr. Lawrence\"\\tmale\\t34\\t0\\t0\\t248698\\t13\\tD56\\tS',\n",
       " u'220\\t0\\t2\\t\"Harris, Mr. Walter\"\\tmale\\t30\\t0\\t0\\tW/C 14208\\t10.5\\t\\tS',\n",
       " u'221\\t1\\t3\\t\"Sunderland, Mr. Victor Francis\"\\tmale\\t16\\t0\\t0\\tSOTON/OQ 392089\\t8.05\\t\\tS',\n",
       " u'222\\t0\\t2\\t\"Bracken, Mr. James H\"\\tmale\\t27\\t0\\t0\\t220367\\t13\\t\\tS',\n",
       " u'223\\t0\\t3\\t\"Green, Mr. George Henry\"\\tmale\\t51\\t0\\t0\\t21440\\t8.05\\t\\tS',\n",
       " u'224\\t0\\t3\\t\"Nenkoff, Mr. Christo\"\\tmale\\t\\t0\\t0\\t349234\\t7.8958\\t\\tS',\n",
       " u'225\\t1\\t1\\t\"Hoyt, Mr. Frederick Maxfield\"\\tmale\\t38\\t1\\t0\\t19943\\t90\\tC93\\tS',\n",
       " u'226\\t0\\t3\\t\"Berglund, Mr. Karl Ivar Sven\"\\tmale\\t22\\t0\\t0\\tPP 4348\\t9.35\\t\\tS',\n",
       " u'227\\t1\\t2\\t\"Mellors, Mr. William John\"\\tmale\\t19\\t0\\t0\\tSW/PP 751\\t10.5\\t\\tS',\n",
       " u'228\\t0\\t3\\t\"Lovell, Mr. John Hall (\"\"Henry\"\")\"\\tmale\\t20.5\\t0\\t0\\tA/5 21173\\t7.25\\t\\tS',\n",
       " u'229\\t0\\t2\\t\"Fahlstrom, Mr. Arne Jonas\"\\tmale\\t18\\t0\\t0\\t236171\\t13\\t\\tS',\n",
       " u'23\\t1\\t3\\t\"McGowan, Miss. Anna \"\"Annie\"\"\"\\tfemale\\t15\\t0\\t0\\t330923\\t8.0292\\t\\tQ',\n",
       " u'230\\t0\\t3\\t\"Lefebre, Miss. Mathilde\"\\tfemale\\t\\t3\\t1\\t4133\\t25.4667\\t\\tS',\n",
       " u'231\\t1\\t1\\t\"Harris, Mrs. Henry Birkhardt (Irene Wallach)\"\\tfemale\\t35\\t1\\t0\\t36973\\t83.475\\tC83\\tS',\n",
       " u'232\\t0\\t3\\t\"Larsson, Mr. Bengt Edvin\"\\tmale\\t29\\t0\\t0\\t347067\\t7.775\\t\\tS',\n",
       " u'233\\t0\\t2\\t\"Sjostedt, Mr. Ernst Adolf\"\\tmale\\t59\\t0\\t0\\t237442\\t13.5\\t\\tS',\n",
       " u'234\\t1\\t3\\t\"Asplund, Miss. Lillian Gertrud\"\\tfemale\\t5\\t4\\t2\\t347077\\t31.3875\\t\\tS',\n",
       " u'235\\t0\\t2\\t\"Leyson, Mr. Robert William Norman\"\\tmale\\t24\\t0\\t0\\tC.A. 29566\\t10.5\\t\\tS',\n",
       " u'236\\t0\\t3\\t\"Harknett, Miss. Alice Phoebe\"\\tfemale\\t\\t0\\t0\\tW./C. 6609\\t7.55\\t\\tS',\n",
       " u'237\\t0\\t2\\t\"Hold, Mr. Stephen\"\\tmale\\t44\\t1\\t0\\t26707\\t26\\t\\tS',\n",
       " u'238\\t1\\t2\\t\"Collyer, Miss. Marjorie \"\"Lottie\"\"\"\\tfemale\\t8\\t0\\t2\\tC.A. 31921\\t26.25\\t\\tS',\n",
       " u'239\\t0\\t2\\t\"Pengelly, Mr. Frederick William\"\\tmale\\t19\\t0\\t0\\t28665\\t10.5\\t\\tS',\n",
       " u'24\\t1\\t1\\t\"Sloper, Mr. William Thompson\"\\tmale\\t28\\t0\\t0\\t113788\\t35.5\\tA6\\tS',\n",
       " u'240\\t0\\t2\\t\"Hunt, Mr. George Henry\"\\tmale\\t33\\t0\\t0\\tSCO/W 1585\\t12.275\\t\\tS',\n",
       " u'241\\t0\\t3\\t\"Zabour, Miss. Thamine\"\\tfemale\\t\\t1\\t0\\t2665\\t14.4542\\t\\tC',\n",
       " u'242\\t1\\t3\\t\"Murphy, Miss. Katherine \"\"Kate\"\"\"\\tfemale\\t\\t1\\t0\\t367230\\t15.5\\t\\tQ',\n",
       " u'243\\t0\\t2\\t\"Coleridge, Mr. Reginald Charles\"\\tmale\\t29\\t0\\t0\\tW./C. 14263\\t10.5\\t\\tS',\n",
       " u'244\\t0\\t3\\t\"Maenpaa, Mr. Matti Alexanteri\"\\tmale\\t22\\t0\\t0\\tSTON/O 2. 3101275\\t7.125\\t\\tS',\n",
       " u'245\\t0\\t3\\t\"Attalah, Mr. Sleiman\"\\tmale\\t30\\t0\\t0\\t2694\\t7.225\\t\\tC',\n",
       " u'246\\t0\\t1\\t\"Minahan, Dr. William Edward\"\\tmale\\t44\\t2\\t0\\t19928\\t90\\tC78\\tQ',\n",
       " u'247\\t0\\t3\\t\"Lindahl, Miss. Agda Thorilda Viktoria\"\\tfemale\\t25\\t0\\t0\\t347071\\t7.775\\t\\tS',\n",
       " u'248\\t1\\t2\\t\"Hamalainen, Mrs. William (Anna)\"\\tfemale\\t24\\t0\\t2\\t250649\\t14.5\\t\\tS',\n",
       " u'249\\t1\\t1\\t\"Beckwith, Mr. Richard Leonard\"\\tmale\\t37\\t1\\t1\\t11751\\t52.5542\\tD35\\tS',\n",
       " u'25\\t0\\t3\\t\"Palsson, Miss. Torborg Danira\"\\tfemale\\t8\\t3\\t1\\t349909\\t21.075\\t\\tS',\n",
       " u'250\\t0\\t2\\t\"Carter, Rev. Ernest Courtenay\"\\tmale\\t54\\t1\\t0\\t244252\\t26\\t\\tS',\n",
       " u'251\\t0\\t3\\t\"Reed, Mr. James George\"\\tmale\\t\\t0\\t0\\t362316\\t7.25\\t\\tS',\n",
       " u'252\\t0\\t3\\t\"Strom, Mrs. Wilhelm (Elna Matilda Persson)\"\\tfemale\\t29\\t1\\t1\\t347054\\t10.4625\\tG6\\tS',\n",
       " u'253\\t0\\t1\\t\"Stead, Mr. William Thomas\"\\tmale\\t62\\t0\\t0\\t113514\\t26.55\\tC87\\tS',\n",
       " u'254\\t0\\t3\\t\"Lobb, Mr. William Arthur\"\\tmale\\t30\\t1\\t0\\tA/5. 3336\\t16.1\\t\\tS',\n",
       " u'255\\t0\\t3\\t\"Rosblom, Mrs. Viktor (Helena Wilhelmina)\"\\tfemale\\t41\\t0\\t2\\t370129\\t20.2125\\t\\tS',\n",
       " u'256\\t1\\t3\\t\"Touma, Mrs. Darwis (Hanne Youssef Razi)\"\\tfemale\\t29\\t0\\t2\\t2650\\t15.2458\\t\\tC',\n",
       " u'257\\t1\\t1\\t\"Thorne, Mrs. Gertrude Maybelle\"\\tfemale\\t\\t0\\t0\\tPC 17585\\t79.2\\t\\tC',\n",
       " u'258\\t1\\t1\\t\"Cherry, Miss. Gladys\"\\tfemale\\t30\\t0\\t0\\t110152\\t86.5\\tB77\\tS',\n",
       " u'259\\t1\\t1\\t\"Ward, Miss. Anna\"\\tfemale\\t35\\t0\\t0\\tPC 17755\\t512.3292\\t\\tC',\n",
       " u'26\\t1\\t3\\t\"Asplund, Mrs. Carl Oscar (Selma Augusta Emilia Johansson)\"\\tfemale\\t38\\t1\\t5\\t347077\\t31.3875\\t\\tS',\n",
       " u'260\\t1\\t2\\t\"Parrish, Mrs. (Lutie Davis)\"\\tfemale\\t50\\t0\\t1\\t230433\\t26\\t\\tS',\n",
       " u'261\\t0\\t3\\t\"Smith, Mr. Thomas\"\\tmale\\t\\t0\\t0\\t384461\\t7.75\\t\\tQ',\n",
       " u'262\\t1\\t3\\t\"Asplund, Master. Edvin Rojj Felix\"\\tmale\\t3\\t4\\t2\\t347077\\t31.3875\\t\\tS',\n",
       " u'263\\t0\\t1\\t\"Taussig, Mr. Emil\"\\tmale\\t52\\t1\\t1\\t110413\\t79.65\\tE67\\tS',\n",
       " u'264\\t0\\t1\\t\"Harrison, Mr. William\"\\tmale\\t40\\t0\\t0\\t112059\\t0\\tB94\\tS',\n",
       " u'265\\t0\\t3\\t\"Henry, Miss. Delia\"\\tfemale\\t\\t0\\t0\\t382649\\t7.75\\t\\tQ',\n",
       " u'266\\t0\\t2\\t\"Reeves, Mr. David\"\\tmale\\t36\\t0\\t0\\tC.A. 17248\\t10.5\\t\\tS',\n",
       " u'267\\t0\\t3\\t\"Panula, Mr. Ernesti Arvid\"\\tmale\\t16\\t4\\t1\\t3101295\\t39.6875\\t\\tS',\n",
       " u'268\\t1\\t3\\t\"Persson, Mr. Ernst Ulrik\"\\tmale\\t25\\t1\\t0\\t347083\\t7.775\\t\\tS',\n",
       " u'269\\t1\\t1\\t\"Graham, Mrs. William Thompson (Edith Junkins)\"\\tfemale\\t58\\t0\\t1\\tPC 17582\\t153.4625\\tC125\\tS',\n",
       " u'27\\t0\\t3\\t\"Emir, Mr. Farred Chehab\"\\tmale\\t\\t0\\t0\\t2631\\t7.225\\t\\tC',\n",
       " u'270\\t1\\t1\\t\"Bissette, Miss. Amelia\"\\tfemale\\t35\\t0\\t0\\tPC 17760\\t135.6333\\tC99\\tS',\n",
       " u'271\\t0\\t1\\t\"Cairns, Mr. Alexander\"\\tmale\\t\\t0\\t0\\t113798\\t31\\t\\tS',\n",
       " u'272\\t1\\t3\\t\"Tornquist, Mr. William Henry\"\\tmale\\t25\\t0\\t0\\tLINE\\t0\\t\\tS',\n",
       " u'273\\t1\\t2\\t\"Mellinger, Mrs. (Elizabeth Anne Maidment)\"\\tfemale\\t41\\t0\\t1\\t250644\\t19.5\\t\\tS',\n",
       " u'274\\t0\\t1\\t\"Natsch, Mr. Charles H\"\\tmale\\t37\\t0\\t1\\tPC 17596\\t29.7\\tC118\\tC',\n",
       " u'275\\t1\\t3\\t\"Healy, Miss. Hanora \"\"Nora\"\"\"\\tfemale\\t\\t0\\t0\\t370375\\t7.75\\t\\tQ',\n",
       " u'276\\t1\\t1\\t\"Andrews, Miss. Kornelia Theodosia\"\\tfemale\\t63\\t1\\t0\\t13502\\t77.9583\\tD7\\tS',\n",
       " u'277\\t0\\t3\\t\"Lindblom, Miss. Augusta Charlotta\"\\tfemale\\t45\\t0\\t0\\t347073\\t7.75\\t\\tS',\n",
       " u'278\\t0\\t2\\t\"Parkes, Mr. Francis \"\"Frank\"\"\"\\tmale\\t\\t0\\t0\\t239853\\t0\\t\\tS',\n",
       " u'279\\t0\\t3\\t\"Rice, Master. Eric\"\\tmale\\t7\\t4\\t1\\t382652\\t29.125\\t\\tQ',\n",
       " u'28\\t0\\t1\\t\"Fortune, Mr. Charles Alexander\"\\tmale\\t19\\t3\\t2\\t19950\\t263\\tC23 C25 C27\\tS',\n",
       " u'280\\t1\\t3\\t\"Abbott, Mrs. Stanton (Rosa Hunt)\"\\tfemale\\t35\\t1\\t1\\tC.A. 2673\\t20.25\\t\\tS',\n",
       " u'281\\t0\\t3\\t\"Duane, Mr. Frank\"\\tmale\\t65\\t0\\t0\\t336439\\t7.75\\t\\tQ',\n",
       " u'282\\t0\\t3\\t\"Olsson, Mr. Nils Johan Goransson\"\\tmale\\t28\\t0\\t0\\t347464\\t7.8542\\t\\tS',\n",
       " u'283\\t0\\t3\\t\"de Pelsmaeker, Mr. Alfons\"\\tmale\\t16\\t0\\t0\\t345778\\t9.5\\t\\tS',\n",
       " u'284\\t1\\t3\\t\"Dorking, Mr. Edward Arthur\"\\tmale\\t19\\t0\\t0\\tA/5. 10482\\t8.05\\t\\tS',\n",
       " u'285\\t0\\t1\\t\"Smith, Mr. Richard William\"\\tmale\\t\\t0\\t0\\t113056\\t26\\tA19\\tS',\n",
       " u'286\\t0\\t3\\t\"Stankovic, Mr. Ivan\"\\tmale\\t33\\t0\\t0\\t349239\\t8.6625\\t\\tC',\n",
       " u'287\\t1\\t3\\t\"de Mulder, Mr. Theodore\"\\tmale\\t30\\t0\\t0\\t345774\\t9.5\\t\\tS',\n",
       " u'288\\t0\\t3\\t\"Naidenoff, Mr. Penko\"\\tmale\\t22\\t0\\t0\\t349206\\t7.8958\\t\\tS',\n",
       " u'289\\t1\\t2\\t\"Hosono, Mr. Masabumi\"\\tmale\\t42\\t0\\t0\\t237798\\t13\\t\\tS',\n",
       " u'29\\t1\\t3\\t\"O\\'Dwyer, Miss. Ellen \"\"Nellie\"\"\"\\tfemale\\t\\t0\\t0\\t330959\\t7.8792\\t\\tQ',\n",
       " u'290\\t1\\t3\\t\"Connolly, Miss. Kate\"\\tfemale\\t22\\t0\\t0\\t370373\\t7.75\\t\\tQ',\n",
       " u'291\\t1\\t1\\t\"Barber, Miss. Ellen \"\"Nellie\"\"\"\\tfemale\\t26\\t0\\t0\\t19877\\t78.85\\t\\tS',\n",
       " u'292\\t1\\t1\\t\"Bishop, Mrs. Dickinson H (Helen Walton)\"\\tfemale\\t19\\t1\\t0\\t11967\\t91.0792\\tB49\\tC',\n",
       " u'293\\t0\\t2\\t\"Levy, Mr. Rene Jacques\"\\tmale\\t36\\t0\\t0\\tSC/Paris 2163\\t12.875\\tD\\tC',\n",
       " u'294\\t0\\t3\\t\"Haas, Miss. Aloisia\"\\tfemale\\t24\\t0\\t0\\t349236\\t8.85\\t\\tS',\n",
       " u'295\\t0\\t3\\t\"Mineff, Mr. Ivan\"\\tmale\\t24\\t0\\t0\\t349233\\t7.8958\\t\\tS',\n",
       " u'296\\t0\\t1\\t\"Lewy, Mr. Ervin G\"\\tmale\\t\\t0\\t0\\tPC 17612\\t27.7208\\t\\tC',\n",
       " u'297\\t0\\t3\\t\"Hanna, Mr. Mansour\"\\tmale\\t23.5\\t0\\t0\\t2693\\t7.2292\\t\\tC',\n",
       " u'298\\t0\\t1\\t\"Allison, Miss. Helen Loraine\"\\tfemale\\t2\\t1\\t2\\t113781\\t151.55\\tC22 C26\\tS',\n",
       " u'299\\t1\\t1\\t\"Saalfeld, Mr. Adolphe\"\\tmale\\t\\t0\\t0\\t19988\\t30.5\\tC106\\tS',\n",
       " u'3\\t1\\t3\\t\"Heikkinen, Miss. Laina\"\\tfemale\\t26\\t0\\t0\\tSTON/O2. 3101282\\t7.925\\t\\tS',\n",
       " u'30\\t0\\t3\\t\"Todoroff, Mr. Lalio\"\\tmale\\t\\t0\\t0\\t349216\\t7.8958\\t\\tS',\n",
       " u'300\\t1\\t1\\t\"Baxter, Mrs. James (Helene DeLaudeniere Chaput)\"\\tfemale\\t50\\t0\\t1\\tPC 17558\\t247.5208\\tB58 B60\\tC',\n",
       " u'301\\t1\\t3\\t\"Kelly, Miss. Anna Katherine \"\"Annie Kate\"\"\"\\tfemale\\t\\t0\\t0\\t9234\\t7.75\\t\\tQ',\n",
       " u'302\\t1\\t3\\t\"McCoy, Mr. Bernard\"\\tmale\\t\\t2\\t0\\t367226\\t23.25\\t\\tQ',\n",
       " u'303\\t0\\t3\\t\"Johnson, Mr. William Cahoone Jr\"\\tmale\\t19\\t0\\t0\\tLINE\\t0\\t\\tS',\n",
       " u'304\\t1\\t2\\t\"Keane, Miss. Nora A\"\\tfemale\\t\\t0\\t0\\t226593\\t12.35\\tE101\\tQ',\n",
       " u'305\\t0\\t3\\t\"Williams, Mr. Howard Hugh \"\"Harry\"\"\"\\tmale\\t\\t0\\t0\\tA/5 2466\\t8.05\\t\\tS',\n",
       " u'306\\t1\\t1\\t\"Allison, Master. Hudson Trevor\"\\tmale\\t0.92\\t1\\t2\\t113781\\t151.55\\tC22 C26\\tS',\n",
       " u'307\\t1\\t1\\t\"Fleming, Miss. Margaret\"\\tfemale\\t\\t0\\t0\\t17421\\t110.8833\\t\\tC',\n",
       " u'308\\t1\\t1\\t\"Penasco y Castellana, Mrs. Victor de Satode (Maria Josefa Perez de Soto y Vallejo)\"\\tfemale\\t17\\t1\\t0\\tPC 17758\\t108.9\\tC65\\tC',\n",
       " u'309\\t0\\t2\\t\"Abelson, Mr. Samuel\"\\tmale\\t30\\t1\\t0\\tP/PP 3381\\t24\\t\\tC',\n",
       " u'31\\t0\\t1\\t\"Uruchurtu, Don. Manuel E\"\\tmale\\t40\\t0\\t0\\tPC 17601\\t27.7208\\t\\tC',\n",
       " u'310\\t1\\t1\\t\"Francatelli, Miss. Laura Mabel\"\\tfemale\\t30\\t0\\t0\\tPC 17485\\t56.9292\\tE36\\tC',\n",
       " u'311\\t1\\t1\\t\"Hays, Miss. Margaret Bechstein\"\\tfemale\\t24\\t0\\t0\\t11767\\t83.1583\\tC54\\tC',\n",
       " u'312\\t1\\t1\\t\"Ryerson, Miss. Emily Borie\"\\tfemale\\t18\\t2\\t2\\tPC 17608\\t262.375\\tB57 B59 B63 B66\\tC',\n",
       " u'313\\t0\\t2\\t\"Lahtinen, Mrs. William (Anna Sylfven)\"\\tfemale\\t26\\t1\\t1\\t250651\\t26\\t\\tS',\n",
       " u'314\\t0\\t3\\t\"Hendekovic, Mr. Ignjac\"\\tmale\\t28\\t0\\t0\\t349243\\t7.8958\\t\\tS',\n",
       " u'315\\t0\\t2\\t\"Hart, Mr. Benjamin\"\\tmale\\t43\\t1\\t1\\tF.C.C. 13529\\t26.25\\t\\tS',\n",
       " u'316\\t1\\t3\\t\"Nilsson, Miss. Helmina Josefina\"\\tfemale\\t26\\t0\\t0\\t347470\\t7.8542\\t\\tS',\n",
       " u'317\\t1\\t2\\t\"Kantor, Mrs. Sinai (Miriam Sternin)\"\\tfemale\\t24\\t1\\t0\\t244367\\t26\\t\\tS',\n",
       " u'318\\t0\\t2\\t\"Moraweck, Dr. Ernest\"\\tmale\\t54\\t0\\t0\\t29011\\t14\\t\\tS',\n",
       " u'319\\t1\\t1\\t\"Wick, Miss. Mary Natalie\"\\tfemale\\t31\\t0\\t2\\t36928\\t164.8667\\tC7\\tS',\n",
       " u'32\\t1\\t1\\t\"Spencer, Mrs. William Augustus (Marie Eugenie)\"\\tfemale\\t\\t1\\t0\\tPC 17569\\t146.5208\\tB78\\tC',\n",
       " u'320\\t1\\t1\\t\"Spedden, Mrs. Frederic Oakley (Margaretta Corning Stone)\"\\tfemale\\t40\\t1\\t1\\t16966\\t134.5\\tE34\\tC',\n",
       " u'321\\t0\\t3\\t\"Dennis, Mr. Samuel\"\\tmale\\t22\\t0\\t0\\tA/5 21172\\t7.25\\t\\tS',\n",
       " u'322\\t0\\t3\\t\"Danoff, Mr. Yoto\"\\tmale\\t27\\t0\\t0\\t349219\\t7.8958\\t\\tS',\n",
       " u'323\\t1\\t2\\t\"Slayter, Miss. Hilda Mary\"\\tfemale\\t30\\t0\\t0\\t234818\\t12.35\\t\\tQ',\n",
       " u'324\\t1\\t2\\t\"Caldwell, Mrs. Albert Francis (Sylvia Mae Harbaugh)\"\\tfemale\\t22\\t1\\t1\\t248738\\t29\\t\\tS',\n",
       " u'325\\t0\\t3\\t\"Sage, Mr. George John Jr\"\\tmale\\t\\t8\\t2\\tCA. 2343\\t69.55\\t\\tS',\n",
       " u'326\\t1\\t1\\t\"Young, Miss. Marie Grice\"\\tfemale\\t36\\t0\\t0\\tPC 17760\\t135.6333\\tC32\\tC',\n",
       " u'327\\t0\\t3\\t\"Nysveen, Mr. Johan Hansen\"\\tmale\\t61\\t0\\t0\\t345364\\t6.2375\\t\\tS',\n",
       " u'328\\t1\\t2\\t\"Ball, Mrs. (Ada E Hall)\"\\tfemale\\t36\\t0\\t0\\t28551\\t13\\tD\\tS',\n",
       " u'329\\t1\\t3\\t\"Goldsmith, Mrs. Frank John (Emily Alice Brown)\"\\tfemale\\t31\\t1\\t1\\t363291\\t20.525\\t\\tS',\n",
       " u'33\\t1\\t3\\t\"Glynn, Miss. Mary Agatha\"\\tfemale\\t\\t0\\t0\\t335677\\t7.75\\t\\tQ',\n",
       " u'330\\t1\\t1\\t\"Hippach, Miss. Jean Gertrude\"\\tfemale\\t16\\t0\\t1\\t111361\\t57.9792\\tB18\\tC',\n",
       " u'331\\t1\\t3\\t\"McCoy, Miss. Agnes\"\\tfemale\\t\\t2\\t0\\t367226\\t23.25\\t\\tQ',\n",
       " u'332\\t0\\t1\\t\"Partner, Mr. Austen\"\\tmale\\t45.5\\t0\\t0\\t113043\\t28.5\\tC124\\tS',\n",
       " u'333\\t0\\t1\\t\"Graham, Mr. George Edward\"\\tmale\\t38\\t0\\t1\\tPC 17582\\t153.4625\\tC91\\tS',\n",
       " u'334\\t0\\t3\\t\"Vander Planke, Mr. Leo Edmondus\"\\tmale\\t16\\t2\\t0\\t345764\\t18\\t\\tS',\n",
       " u'335\\t1\\t1\\t\"Frauenthal, Mrs. Henry William (Clara Heinsheimer)\"\\tfemale\\t\\t1\\t0\\tPC 17611\\t133.65\\t\\tS',\n",
       " u'336\\t0\\t3\\t\"Denkoff, Mr. Mitto\"\\tmale\\t\\t0\\t0\\t349225\\t7.8958\\t\\tS',\n",
       " u'337\\t0\\t1\\t\"Pears, Mr. Thomas Clinton\"\\tmale\\t29\\t1\\t0\\t113776\\t66.6\\tC2\\tS',\n",
       " u'338\\t1\\t1\\t\"Burns, Miss. Elizabeth Margaret\"\\tfemale\\t41\\t0\\t0\\t16966\\t134.5\\tE40\\tC',\n",
       " u'339\\t1\\t3\\t\"Dahl, Mr. Karl Edwart\"\\tmale\\t45\\t0\\t0\\t7598\\t8.05\\t\\tS',\n",
       " u'34\\t0\\t2\\t\"Wheadon, Mr. Edward H\"\\tmale\\t66\\t0\\t0\\tC.A. 24579\\t10.5\\t\\tS',\n",
       " u'340\\t0\\t1\\t\"Blackwell, Mr. Stephen Weart\"\\tmale\\t45\\t0\\t0\\t113784\\t35.5\\tT\\tS',\n",
       " u'341\\t1\\t2\\t\"Navratil, Master. Edmond Roger\"\\tmale\\t2\\t1\\t1\\t230080\\t26\\tF2\\tS',\n",
       " u'342\\t1\\t1\\t\"Fortune, Miss. Alice Elizabeth\"\\tfemale\\t24\\t3\\t2\\t19950\\t263\\tC23 C25 C27\\tS',\n",
       " u'343\\t0\\t2\\t\"Collander, Mr. Erik Gustaf\"\\tmale\\t28\\t0\\t0\\t248740\\t13\\t\\tS',\n",
       " u'344\\t0\\t2\\t\"Sedgwick, Mr. Charles Frederick Waddington\"\\tmale\\t25\\t0\\t0\\t244361\\t13\\t\\tS',\n",
       " u'345\\t0\\t2\\t\"Fox, Mr. Stanley Hubert\"\\tmale\\t36\\t0\\t0\\t229236\\t13\\t\\tS',\n",
       " u'346\\t1\\t2\\t\"Brown, Miss. Amelia \"\"Mildred\"\"\"\\tfemale\\t24\\t0\\t0\\t248733\\t13\\tF33\\tS',\n",
       " u'347\\t1\\t2\\t\"Smith, Miss. Marion Elsie\"\\tfemale\\t40\\t0\\t0\\t31418\\t13\\t\\tS',\n",
       " u'348\\t1\\t3\\t\"Davison, Mrs. Thomas Henry (Mary E Finck)\"\\tfemale\\t\\t1\\t0\\t386525\\t16.1\\t\\tS',\n",
       " u'349\\t1\\t3\\t\"Coutts, Master. William Loch \"\"William\"\"\"\\tmale\\t3\\t1\\t1\\tC.A. 37671\\t15.9\\t\\tS',\n",
       " u'35\\t0\\t1\\t\"Meyer, Mr. Edgar Joseph\"\\tmale\\t28\\t1\\t0\\tPC 17604\\t82.1708\\t\\tC',\n",
       " u'350\\t0\\t3\\t\"Dimic, Mr. Jovan\"\\tmale\\t42\\t0\\t0\\t315088\\t8.6625\\t\\tS',\n",
       " u'351\\t0\\t3\\t\"Odahl, Mr. Nils Martin\"\\tmale\\t23\\t0\\t0\\t7267\\t9.225\\t\\tS',\n",
       " u'352\\t0\\t1\\t\"Williams-Lambert, Mr. Fletcher Fellows\"\\tmale\\t\\t0\\t0\\t113510\\t35\\tC128\\tS',\n",
       " u'353\\t0\\t3\\t\"Elias, Mr. Tannous\"\\tmale\\t15\\t1\\t1\\t2695\\t7.2292\\t\\tC',\n",
       " u'354\\t0\\t3\\t\"Arnold-Franchi, Mr. Josef\"\\tmale\\t25\\t1\\t0\\t349237\\t17.8\\t\\tS',\n",
       " u'355\\t0\\t3\\t\"Yousif, Mr. Wazli\"\\tmale\\t\\t0\\t0\\t2647\\t7.225\\t\\tC',\n",
       " u'356\\t0\\t3\\t\"Vanden Steen, Mr. Leo Peter\"\\tmale\\t28\\t0\\t0\\t345783\\t9.5\\t\\tS',\n",
       " u'357\\t1\\t1\\t\"Bowerman, Miss. Elsie Edith\"\\tfemale\\t22\\t0\\t1\\t113505\\t55\\tE33\\tS',\n",
       " u'358\\t0\\t2\\t\"Funk, Miss. Annie Clemmer\"\\tfemale\\t38\\t0\\t0\\t237671\\t13\\t\\tS',\n",
       " u'359\\t1\\t3\\t\"McGovern, Miss. Mary\"\\tfemale\\t\\t0\\t0\\t330931\\t7.8792\\t\\tQ',\n",
       " u'36\\t0\\t1\\t\"Holverson, Mr. Alexander Oskar\"\\tmale\\t42\\t1\\t0\\t113789\\t52\\t\\tS',\n",
       " u'360\\t1\\t3\\t\"Mockler, Miss. Helen Mary \"\"Ellie\"\"\"\\tfemale\\t\\t0\\t0\\t330980\\t7.8792\\t\\tQ',\n",
       " u'361\\t0\\t3\\t\"Skoog, Mr. Wilhelm\"\\tmale\\t40\\t1\\t4\\t347088\\t27.9\\t\\tS',\n",
       " u'362\\t0\\t2\\t\"del Carlo, Mr. Sebastiano\"\\tmale\\t29\\t1\\t0\\tSC/PARIS 2167\\t27.7208\\t\\tC',\n",
       " u'363\\t0\\t3\\t\"Barbara, Mrs. (Catherine David)\"\\tfemale\\t45\\t0\\t1\\t2691\\t14.4542\\t\\tC',\n",
       " u'364\\t0\\t3\\t\"Asim, Mr. Adola\"\\tmale\\t35\\t0\\t0\\tSOTON/O.Q. 3101310\\t7.05\\t\\tS',\n",
       " u'365\\t0\\t3\\t\"O\\'Brien, Mr. Thomas\"\\tmale\\t\\t1\\t0\\t370365\\t15.5\\t\\tQ',\n",
       " u'366\\t0\\t3\\t\"Adahl, Mr. Mauritz Nils Martin\"\\tmale\\t30\\t0\\t0\\tC 7076\\t7.25\\t\\tS',\n",
       " u'367\\t1\\t1\\t\"Warren, Mrs. Frank Manley (Anna Sophia Atkinson)\"\\tfemale\\t60\\t1\\t0\\t110813\\t75.25\\tD37\\tC',\n",
       " u'368\\t1\\t3\\t\"Moussa, Mrs. (Mantoura Boulos)\"\\tfemale\\t\\t0\\t0\\t2626\\t7.2292\\t\\tC',\n",
       " u'369\\t1\\t3\\t\"Jermyn, Miss. Annie\"\\tfemale\\t\\t0\\t0\\t14313\\t7.75\\t\\tQ',\n",
       " u'37\\t1\\t3\\t\"Mamee, Mr. Hanna\"\\tmale\\t\\t0\\t0\\t2677\\t7.2292\\t\\tC',\n",
       " u'370\\t1\\t1\\t\"Aubart, Mme. Leontine Pauline\"\\tfemale\\t24\\t0\\t0\\tPC 17477\\t69.3\\tB35\\tC',\n",
       " u'371\\t1\\t1\\t\"Harder, Mr. George Achilles\"\\tmale\\t25\\t1\\t0\\t11765\\t55.4417\\tE50\\tC',\n",
       " u'372\\t0\\t3\\t\"Wiklund, Mr. Jakob Alfred\"\\tmale\\t18\\t1\\t0\\t3101267\\t6.4958\\t\\tS',\n",
       " u'373\\t0\\t3\\t\"Beavan, Mr. William Thomas\"\\tmale\\t19\\t0\\t0\\t323951\\t8.05\\t\\tS',\n",
       " u'374\\t0\\t1\\t\"Ringhini, Mr. Sante\"\\tmale\\t22\\t0\\t0\\tPC 17760\\t135.6333\\t\\tC',\n",
       " u'375\\t0\\t3\\t\"Palsson, Miss. Stina Viola\"\\tfemale\\t3\\t3\\t1\\t349909\\t21.075\\t\\tS',\n",
       " u'376\\t1\\t1\\t\"Meyer, Mrs. Edgar Joseph (Leila Saks)\"\\tfemale\\t\\t1\\t0\\tPC 17604\\t82.1708\\t\\tC',\n",
       " u'377\\t1\\t3\\t\"Landergren, Miss. Aurora Adelia\"\\tfemale\\t22\\t0\\t0\\tC 7077\\t7.25\\t\\tS',\n",
       " u'378\\t0\\t1\\t\"Widener, Mr. Harry Elkins\"\\tmale\\t27\\t0\\t2\\t113503\\t211.5\\tC82\\tC',\n",
       " u'379\\t0\\t3\\t\"Betros, Mr. Tannous\"\\tmale\\t20\\t0\\t0\\t2648\\t4.0125\\t\\tC',\n",
       " u'38\\t0\\t3\\t\"Cann, Mr. Ernest Charles\"\\tmale\\t21\\t0\\t0\\tA./5. 2152\\t8.05\\t\\tS',\n",
       " u'380\\t0\\t3\\t\"Gustafsson, Mr. Karl Gideon\"\\tmale\\t19\\t0\\t0\\t347069\\t7.775\\t\\tS',\n",
       " u'381\\t1\\t1\\t\"Bidois, Miss. Rosalie\"\\tfemale\\t42\\t0\\t0\\tPC 17757\\t227.525\\t\\tC',\n",
       " u'382\\t1\\t3\\t\"Nakid, Miss. Maria (\"\"Mary\"\")\"\\tfemale\\t1\\t0\\t2\\t2653\\t15.7417\\t\\tC',\n",
       " u'383\\t0\\t3\\t\"Tikkanen, Mr. Juho\"\\tmale\\t32\\t0\\t0\\tSTON/O 2. 3101293\\t7.925\\t\\tS',\n",
       " u'384\\t1\\t1\\t\"Holverson, Mrs. Alexander Oskar (Mary Aline Towner)\"\\tfemale\\t35\\t1\\t0\\t113789\\t52\\t\\tS',\n",
       " u'385\\t0\\t3\\t\"Plotcharsky, Mr. Vasil\"\\tmale\\t\\t0\\t0\\t349227\\t7.8958\\t\\tS',\n",
       " u'386\\t0\\t2\\t\"Davies, Mr. Charles Henry\"\\tmale\\t18\\t0\\t0\\tS.O.C. 14879\\t73.5\\t\\tS',\n",
       " u'387\\t0\\t3\\t\"Goodwin, Master. Sidney Leonard\"\\tmale\\t1\\t5\\t2\\tCA 2144\\t46.9\\t\\tS',\n",
       " u'388\\t1\\t2\\t\"Buss, Miss. Kate\"\\tfemale\\t36\\t0\\t0\\t27849\\t13\\t\\tS',\n",
       " u'389\\t0\\t3\\t\"Sadlier, Mr. Matthew\"\\tmale\\t\\t0\\t0\\t367655\\t7.7292\\t\\tQ',\n",
       " u'39\\t0\\t3\\t\"Vander Planke, Miss. Augusta Maria\"\\tfemale\\t18\\t2\\t0\\t345764\\t18\\t\\tS',\n",
       " u'390\\t1\\t2\\t\"Lehmann, Miss. Bertha\"\\tfemale\\t17\\t0\\t0\\tSC 1748\\t12\\t\\tC',\n",
       " u'391\\t1\\t1\\t\"Carter, Mr. William Ernest\"\\tmale\\t36\\t1\\t2\\t113760\\t120\\tB96 B98\\tS',\n",
       " u'392\\t1\\t3\\t\"Jansson, Mr. Carl Olof\"\\tmale\\t21\\t0\\t0\\t350034\\t7.7958\\t\\tS',\n",
       " u'393\\t0\\t3\\t\"Gustafsson, Mr. Johan Birger\"\\tmale\\t28\\t2\\t0\\t3101277\\t7.925\\t\\tS',\n",
       " u'394\\t1\\t1\\t\"Newell, Miss. Marjorie\"\\tfemale\\t23\\t1\\t0\\t35273\\t113.275\\tD36\\tC',\n",
       " u'395\\t1\\t3\\t\"Sandstrom, Mrs. Hjalmar (Agnes Charlotta Bengtsson)\"\\tfemale\\t24\\t0\\t2\\tPP 9549\\t16.7\\tG6\\tS',\n",
       " u'396\\t0\\t3\\t\"Johansson, Mr. Erik\"\\tmale\\t22\\t0\\t0\\t350052\\t7.7958\\t\\tS',\n",
       " u'397\\t0\\t3\\t\"Olsson, Miss. Elina\"\\tfemale\\t31\\t0\\t0\\t350407\\t7.8542\\t\\tS',\n",
       " u'398\\t0\\t2\\t\"McKane, Mr. Peter David\"\\tmale\\t46\\t0\\t0\\t28403\\t26\\t\\tS',\n",
       " u'399\\t0\\t2\\t\"Pain, Dr. Alfred\"\\tmale\\t23\\t0\\t0\\t244278\\t10.5\\t\\tS',\n",
       " u'4\\t1\\t1\\t\"Futrelle, Mrs. Jacques Heath (Lily May Peel)\"\\tfemale\\t35\\t1\\t0\\t113803\\t53.1\\tC123\\tS',\n",
       " u'40\\t1\\t3\\t\"Nicola-Yarred, Miss. Jamila\"\\tfemale\\t14\\t1\\t0\\t2651\\t11.2417\\t\\tC',\n",
       " u'400\\t1\\t2\\t\"Trout, Mrs. William H (Jessie L)\"\\tfemale\\t28\\t0\\t0\\t240929\\t12.65\\t\\tS',\n",
       " u'401\\t1\\t3\\t\"Niskanen, Mr. Juha\"\\tmale\\t39\\t0\\t0\\tSTON/O 2. 3101289\\t7.925\\t\\tS',\n",
       " u'402\\t0\\t3\\t\"Adams, Mr. John\"\\tmale\\t26\\t0\\t0\\t341826\\t8.05\\t\\tS',\n",
       " u'403\\t0\\t3\\t\"Jussila, Miss. Mari Aina\"\\tfemale\\t21\\t1\\t0\\t4137\\t9.825\\t\\tS',\n",
       " u'404\\t0\\t3\\t\"Hakkarainen, Mr. Pekka Pietari\"\\tmale\\t28\\t1\\t0\\tSTON/O2. 3101279\\t15.85\\t\\tS',\n",
       " u'405\\t0\\t3\\t\"Oreskovic, Miss. Marija\"\\tfemale\\t20\\t0\\t0\\t315096\\t8.6625\\t\\tS',\n",
       " u'406\\t0\\t2\\t\"Gale, Mr. Shadrach\"\\tmale\\t34\\t1\\t0\\t28664\\t21\\t\\tS',\n",
       " u'407\\t0\\t3\\t\"Widegren, Mr. Carl/Charles Peter\"\\tmale\\t51\\t0\\t0\\t347064\\t7.75\\t\\tS',\n",
       " u'408\\t1\\t2\\t\"Richards, Master. William Rowe\"\\tmale\\t3\\t1\\t1\\t29106\\t18.75\\t\\tS',\n",
       " u'409\\t0\\t3\\t\"Birkeland, Mr. Hans Martin Monsen\"\\tmale\\t21\\t0\\t0\\t312992\\t7.775\\t\\tS',\n",
       " u'41\\t0\\t3\\t\"Ahlin, Mrs. Johan (Johanna Persdotter Larsson)\"\\tfemale\\t40\\t1\\t0\\t7546\\t9.475\\t\\tS',\n",
       " u'410\\t0\\t3\\t\"Lefebre, Miss. Ida\"\\tfemale\\t\\t3\\t1\\t4133\\t25.4667\\t\\tS',\n",
       " u'411\\t0\\t3\\t\"Sdycoff, Mr. Todor\"\\tmale\\t\\t0\\t0\\t349222\\t7.8958\\t\\tS',\n",
       " u'412\\t0\\t3\\t\"Hart, Mr. Henry\"\\tmale\\t\\t0\\t0\\t394140\\t6.8583\\t\\tQ',\n",
       " u'413\\t1\\t1\\t\"Minahan, Miss. Daisy E\"\\tfemale\\t33\\t1\\t0\\t19928\\t90\\tC78\\tQ',\n",
       " u'414\\t0\\t2\\t\"Cunningham, Mr. Alfred Fleming\"\\tmale\\t\\t0\\t0\\t239853\\t0\\t\\tS',\n",
       " u'415\\t1\\t3\\t\"Sundman, Mr. Johan Julian\"\\tmale\\t44\\t0\\t0\\tSTON/O 2. 3101269\\t7.925\\t\\tS',\n",
       " u'416\\t0\\t3\\t\"Meek, Mrs. Thomas (Annie Louise Rowley)\"\\tfemale\\t\\t0\\t0\\t343095\\t8.05\\t\\tS',\n",
       " u'417\\t1\\t2\\t\"Drew, Mrs. James Vivian (Lulu Thorne Christian)\"\\tfemale\\t34\\t1\\t1\\t28220\\t32.5\\t\\tS',\n",
       " u'418\\t1\\t2\\t\"Silven, Miss. Lyyli Karoliina\"\\tfemale\\t18\\t0\\t2\\t250652\\t13\\t\\tS',\n",
       " u'419\\t0\\t2\\t\"Matthews, Mr. William John\"\\tmale\\t30\\t0\\t0\\t28228\\t13\\t\\tS',\n",
       " u'42\\t0\\t2\\t\"Turpin, Mrs. William John Robert (Dorothy Ann Wonnacott)\"\\tfemale\\t27\\t1\\t0\\t11668\\t21\\t\\tS',\n",
       " u'420\\t0\\t3\\t\"Van Impe, Miss. Catharina\"\\tfemale\\t10\\t0\\t2\\t345773\\t24.15\\t\\tS',\n",
       " u'421\\t0\\t3\\t\"Gheorgheff, Mr. Stanio\"\\tmale\\t\\t0\\t0\\t349254\\t7.8958\\t\\tC',\n",
       " u'422\\t0\\t3\\t\"Charters, Mr. David\"\\tmale\\t21\\t0\\t0\\tA/5. 13032\\t7.7333\\t\\tQ',\n",
       " u'423\\t0\\t3\\t\"Zimmerman, Mr. Leo\"\\tmale\\t29\\t0\\t0\\t315082\\t7.875\\t\\tS',\n",
       " u'424\\t0\\t3\\t\"Danbom, Mrs. Ernst Gilbert (Anna Sigrid Maria Brogren)\"\\tfemale\\t28\\t1\\t1\\t347080\\t14.4\\t\\tS',\n",
       " u'425\\t0\\t3\\t\"Rosblom, Mr. Viktor Richard\"\\tmale\\t18\\t1\\t1\\t370129\\t20.2125\\t\\tS',\n",
       " u'426\\t0\\t3\\t\"Wiseman, Mr. Phillippe\"\\tmale\\t\\t0\\t0\\tA/4. 34244\\t7.25\\t\\tS',\n",
       " u'427\\t1\\t2\\t\"Clarke, Mrs. Charles V (Ada Maria Winfield)\"\\tfemale\\t28\\t1\\t0\\t2003\\t26\\t\\tS',\n",
       " u'428\\t1\\t2\\t\"Phillips, Miss. Kate Florence (\"\"Mrs Kate Louise Phillips Marshall\"\")\"\\tfemale\\t19\\t0\\t0\\t250655\\t26\\t\\tS',\n",
       " u'429\\t0\\t3\\t\"Flynn, Mr. James\"\\tmale\\t\\t0\\t0\\t364851\\t7.75\\t\\tQ',\n",
       " u'43\\t0\\t3\\t\"Kraeff, Mr. Theodor\"\\tmale\\t\\t0\\t0\\t349253\\t7.8958\\t\\tC',\n",
       " u'430\\t1\\t3\\t\"Pickard, Mr. Berk (Berk Trembisky)\"\\tmale\\t32\\t0\\t0\\tSOTON/O.Q. 392078\\t8.05\\tE10\\tS',\n",
       " u'431\\t1\\t1\\t\"Bjornstrom-Steffansson, Mr. Mauritz Hakan\"\\tmale\\t28\\t0\\t0\\t110564\\t26.55\\tC52\\tS',\n",
       " u'432\\t1\\t3\\t\"Thorneycroft, Mrs. Percival (Florence Kate White)\"\\tfemale\\t\\t1\\t0\\t376564\\t16.1\\t\\tS',\n",
       " u'433\\t1\\t2\\t\"Louch, Mrs. Charles Alexander (Alice Adelaide Slow)\"\\tfemale\\t42\\t1\\t0\\tSC/AH 3085\\t26\\t\\tS',\n",
       " u'434\\t0\\t3\\t\"Kallio, Mr. Nikolai Erland\"\\tmale\\t17\\t0\\t0\\tSTON/O 2. 3101274\\t7.125\\t\\tS',\n",
       " u'435\\t0\\t1\\t\"Silvey, Mr. William Baird\"\\tmale\\t50\\t1\\t0\\t13507\\t55.9\\tE44\\tS',\n",
       " u'436\\t1\\t1\\t\"Carter, Miss. Lucile Polk\"\\tfemale\\t14\\t1\\t2\\t113760\\t120\\tB96 B98\\tS',\n",
       " u'437\\t0\\t3\\t\"Ford, Miss. Doolina Margaret \"\"Daisy\"\"\"\\tfemale\\t21\\t2\\t2\\tW./C. 6608\\t34.375\\t\\tS',\n",
       " u'438\\t1\\t2\\t\"Richards, Mrs. Sidney (Emily Hocking)\"\\tfemale\\t24\\t2\\t3\\t29106\\t18.75\\t\\tS',\n",
       " u'439\\t0\\t1\\t\"Fortune, Mr. Mark\"\\tmale\\t64\\t1\\t4\\t19950\\t263\\tC23 C25 C27\\tS',\n",
       " u'44\\t1\\t2\\t\"Laroche, Miss. Simonne Marie Anne Andree\"\\tfemale\\t3\\t1\\t2\\tSC/Paris 2123\\t41.5792\\t\\tC',\n",
       " u'440\\t0\\t2\\t\"Kvillner, Mr. Johan Henrik Johannesson\"\\tmale\\t31\\t0\\t0\\tC.A. 18723\\t10.5\\t\\tS',\n",
       " u'441\\t1\\t2\\t\"Hart, Mrs. Benjamin (Esther Ada Bloomfield)\"\\tfemale\\t45\\t1\\t1\\tF.C.C. 13529\\t26.25\\t\\tS',\n",
       " u'442\\t0\\t3\\t\"Hampe, Mr. Leon\"\\tmale\\t20\\t0\\t0\\t345769\\t9.5\\t\\tS',\n",
       " u'443\\t0\\t3\\t\"Petterson, Mr. Johan Emil\"\\tmale\\t25\\t1\\t0\\t347076\\t7.775\\t\\tS',\n",
       " u'444\\t1\\t2\\t\"Reynaldo, Ms. Encarnacion\"\\tfemale\\t28\\t0\\t0\\t230434\\t13\\t\\tS',\n",
       " u'445\\t1\\t3\\t\"Johannesen-Bratthammer, Mr. Bernt\"\\tmale\\t\\t0\\t0\\t65306\\t8.1125\\t\\tS',\n",
       " u'446\\t1\\t1\\t\"Dodge, Master. Washington\"\\tmale\\t4\\t0\\t2\\t33638\\t81.8583\\tA34\\tS',\n",
       " u'447\\t1\\t2\\t\"Mellinger, Miss. Madeleine Violet\"\\tfemale\\t13\\t0\\t1\\t250644\\t19.5\\t\\tS',\n",
       " u'448\\t1\\t1\\t\"Seward, Mr. Frederic Kimber\"\\tmale\\t34\\t0\\t0\\t113794\\t26.55\\t\\tS',\n",
       " u'449\\t1\\t3\\t\"Baclini, Miss. Marie Catherine\"\\tfemale\\t5\\t2\\t1\\t2666\\t19.2583\\t\\tC',\n",
       " u'45\\t1\\t3\\t\"Devaney, Miss. Margaret Delia\"\\tfemale\\t19\\t0\\t0\\t330958\\t7.8792\\t\\tQ',\n",
       " u'450\\t1\\t1\\t\"Peuchen, Major. Arthur Godfrey\"\\tmale\\t52\\t0\\t0\\t113786\\t30.5\\tC104\\tS',\n",
       " u'451\\t0\\t2\\t\"West, Mr. Edwy Arthur\"\\tmale\\t36\\t1\\t2\\tC.A. 34651\\t27.75\\t\\tS',\n",
       " u'452\\t0\\t3\\t\"Hagland, Mr. Ingvald Olai Olsen\"\\tmale\\t\\t1\\t0\\t65303\\t19.9667\\t\\tS',\n",
       " u'453\\t0\\t1\\t\"Foreman, Mr. Benjamin Laventall\"\\tmale\\t30\\t0\\t0\\t113051\\t27.75\\tC111\\tC',\n",
       " u'454\\t1\\t1\\t\"Goldenberg, Mr. Samuel L\"\\tmale\\t49\\t1\\t0\\t17453\\t89.1042\\tC92\\tC',\n",
       " u'455\\t0\\t3\\t\"Peduzzi, Mr. Joseph\"\\tmale\\t\\t0\\t0\\tA/5 2817\\t8.05\\t\\tS',\n",
       " u'456\\t1\\t3\\t\"Jalsevac, Mr. Ivan\"\\tmale\\t29\\t0\\t0\\t349240\\t7.8958\\t\\tC',\n",
       " u'457\\t0\\t1\\t\"Millet, Mr. Francis Davis\"\\tmale\\t65\\t0\\t0\\t13509\\t26.55\\tE38\\tS',\n",
       " u'458\\t1\\t1\\t\"Kenyon, Mrs. Frederick R (Marion)\"\\tfemale\\t\\t1\\t0\\t17464\\t51.8625\\tD21\\tS',\n",
       " u'459\\t1\\t2\\t\"Toomey, Miss. Ellen\"\\tfemale\\t50\\t0\\t0\\tF.C.C. 13531\\t10.5\\t\\tS',\n",
       " u'46\\t0\\t3\\t\"Rogers, Mr. William John\"\\tmale\\t\\t0\\t0\\tS.C./A.4. 23567\\t8.05\\t\\tS',\n",
       " u'460\\t0\\t3\\t\"O\\'Connor, Mr. Maurice\"\\tmale\\t\\t0\\t0\\t371060\\t7.75\\t\\tQ',\n",
       " u'461\\t1\\t1\\t\"Anderson, Mr. Harry\"\\tmale\\t48\\t0\\t0\\t19952\\t26.55\\tE12\\tS',\n",
       " u'462\\t0\\t3\\t\"Morley, Mr. William\"\\tmale\\t34\\t0\\t0\\t364506\\t8.05\\t\\tS',\n",
       " u'463\\t0\\t1\\t\"Gee, Mr. Arthur H\"\\tmale\\t47\\t0\\t0\\t111320\\t38.5\\tE63\\tS',\n",
       " u'464\\t0\\t2\\t\"Milling, Mr. Jacob Christian\"\\tmale\\t48\\t0\\t0\\t234360\\t13\\t\\tS',\n",
       " u'465\\t0\\t3\\t\"Maisner, Mr. Simon\"\\tmale\\t\\t0\\t0\\tA/S 2816\\t8.05\\t\\tS',\n",
       " u'466\\t0\\t3\\t\"Goncalves, Mr. Manuel Estanslas\"\\tmale\\t38\\t0\\t0\\tSOTON/O.Q. 3101306\\t7.05\\t\\tS',\n",
       " u'467\\t0\\t2\\t\"Campbell, Mr. William\"\\tmale\\t\\t0\\t0\\t239853\\t0\\t\\tS',\n",
       " u'468\\t0\\t1\\t\"Smart, Mr. John Montgomery\"\\tmale\\t56\\t0\\t0\\t113792\\t26.55\\t\\tS',\n",
       " u'469\\t0\\t3\\t\"Scanlan, Mr. James\"\\tmale\\t\\t0\\t0\\t36209\\t7.725\\t\\tQ',\n",
       " u'47\\t0\\t3\\t\"Lennon, Mr. Denis\"\\tmale\\t\\t1\\t0\\t370371\\t15.5\\t\\tQ',\n",
       " u'470\\t1\\t3\\t\"Baclini, Miss. Helene Barbara\"\\tfemale\\t0.75\\t2\\t1\\t2666\\t19.2583\\t\\tC',\n",
       " u'471\\t0\\t3\\t\"Keefe, Mr. Arthur\"\\tmale\\t\\t0\\t0\\t323592\\t7.25\\t\\tS',\n",
       " u'472\\t0\\t3\\t\"Cacic, Mr. Luka\"\\tmale\\t38\\t0\\t0\\t315089\\t8.6625\\t\\tS',\n",
       " u'473\\t1\\t2\\t\"West, Mrs. Edwy Arthur (Ada Mary Worth)\"\\tfemale\\t33\\t1\\t2\\tC.A. 34651\\t27.75\\t\\tS',\n",
       " u'474\\t1\\t2\\t\"Jerwan, Mrs. Amin S (Marie Marthe Thuillard)\"\\tfemale\\t23\\t0\\t0\\tSC/AH Basle 541\\t13.7917\\tD\\tC',\n",
       " u'475\\t0\\t3\\t\"Strandberg, Miss. Ida Sofia\"\\tfemale\\t22\\t0\\t0\\t7553\\t9.8375\\t\\tS',\n",
       " u'476\\t0\\t1\\t\"Clifford, Mr. George Quincy\"\\tmale\\t\\t0\\t0\\t110465\\t52\\tA14\\tS',\n",
       " u'477\\t0\\t2\\t\"Renouf, Mr. Peter Henry\"\\tmale\\t34\\t1\\t0\\t31027\\t21\\t\\tS',\n",
       " u'478\\t0\\t3\\t\"Braund, Mr. Lewis Richard\"\\tmale\\t29\\t1\\t0\\t3460\\t7.0458\\t\\tS',\n",
       " u'479\\t0\\t3\\t\"Karlsson, Mr. Nils August\"\\tmale\\t22\\t0\\t0\\t350060\\t7.5208\\t\\tS',\n",
       " u'48\\t1\\t3\\t\"O\\'Driscoll, Miss. Bridget\"\\tfemale\\t\\t0\\t0\\t14311\\t7.75\\t\\tQ',\n",
       " u'480\\t1\\t3\\t\"Hirvonen, Miss. Hildur E\"\\tfemale\\t2\\t0\\t1\\t3101298\\t12.2875\\t\\tS',\n",
       " u'481\\t0\\t3\\t\"Goodwin, Master. Harold Victor\"\\tmale\\t9\\t5\\t2\\tCA 2144\\t46.9\\t\\tS',\n",
       " u'482\\t0\\t2\\t\"Frost, Mr. Anthony Wood \"\"Archie\"\"\"\\tmale\\t\\t0\\t0\\t239854\\t0\\t\\tS',\n",
       " u'483\\t0\\t3\\t\"Rouse, Mr. Richard Henry\"\\tmale\\t50\\t0\\t0\\tA/5 3594\\t8.05\\t\\tS',\n",
       " u'484\\t1\\t3\\t\"Turkula, Mrs. (Hedwig)\"\\tfemale\\t63\\t0\\t0\\t4134\\t9.5875\\t\\tS',\n",
       " u'485\\t1\\t1\\t\"Bishop, Mr. Dickinson H\"\\tmale\\t25\\t1\\t0\\t11967\\t91.0792\\tB49\\tC',\n",
       " u'486\\t0\\t3\\t\"Lefebre, Miss. Jeannie\"\\tfemale\\t\\t3\\t1\\t4133\\t25.4667\\t\\tS',\n",
       " u'487\\t1\\t1\\t\"Hoyt, Mrs. Frederick Maxfield (Jane Anne Forby)\"\\tfemale\\t35\\t1\\t0\\t19943\\t90\\tC93\\tS',\n",
       " u'488\\t0\\t1\\t\"Kent, Mr. Edward Austin\"\\tmale\\t58\\t0\\t0\\t11771\\t29.7\\tB37\\tC',\n",
       " u'489\\t0\\t3\\t\"Somerton, Mr. Francis William\"\\tmale\\t30\\t0\\t0\\tA.5. 18509\\t8.05\\t\\tS',\n",
       " u'49\\t0\\t3\\t\"Samaan, Mr. Youssef\"\\tmale\\t\\t2\\t0\\t2662\\t21.6792\\t\\tC',\n",
       " u'490\\t1\\t3\\t\"Coutts, Master. Eden Leslie \"\"Neville\"\"\"\\tmale\\t9\\t1\\t1\\tC.A. 37671\\t15.9\\t\\tS',\n",
       " u'491\\t0\\t3\\t\"Hagland, Mr. Konrad Mathias Reiersen\"\\tmale\\t\\t1\\t0\\t65304\\t19.9667\\t\\tS',\n",
       " u'492\\t0\\t3\\t\"Windelov, Mr. Einar\"\\tmale\\t21\\t0\\t0\\tSOTON/OQ 3101317\\t7.25\\t\\tS',\n",
       " u'493\\t0\\t1\\t\"Molson, Mr. Harry Markland\"\\tmale\\t55\\t0\\t0\\t113787\\t30.5\\tC30\\tS',\n",
       " u'494\\t0\\t1\\t\"Artagaveytia, Mr. Ramon\"\\tmale\\t71\\t0\\t0\\tPC 17609\\t49.5042\\t\\tC',\n",
       " u'495\\t0\\t3\\t\"Stanley, Mr. Edward Roland\"\\tmale\\t21\\t0\\t0\\tA/4 45380\\t8.05\\t\\tS',\n",
       " u'496\\t0\\t3\\t\"Yousseff, Mr. Gerious\"\\tmale\\t\\t0\\t0\\t2627\\t14.4583\\t\\tC',\n",
       " u'497\\t1\\t1\\t\"Eustis, Miss. Elizabeth Mussey\"\\tfemale\\t54\\t1\\t0\\t36947\\t78.2667\\tD20\\tC',\n",
       " u'498\\t0\\t3\\t\"Shellard, Mr. Frederick William\"\\tmale\\t\\t0\\t0\\tC.A. 6212\\t15.1\\t\\tS',\n",
       " u'499\\t0\\t1\\t\"Allison, Mrs. Hudson J C (Bessie Waldo Daniels)\"\\tfemale\\t25\\t1\\t2\\t113781\\t151.55\\tC22 C26\\tS',\n",
       " u'5\\t0\\t3\\t\"Allen, Mr. William Henry\"\\tmale\\t35\\t0\\t0\\t373450\\t8.05\\t\\tS',\n",
       " u'50\\t0\\t3\\t\"Arnold-Franchi, Mrs. Josef (Josefine Franchi)\"\\tfemale\\t18\\t1\\t0\\t349237\\t17.8\\t\\tS',\n",
       " u'500\\t0\\t3\\t\"Svensson, Mr. Olof\"\\tmale\\t24\\t0\\t0\\t350035\\t7.7958\\t\\tS',\n",
       " u'501\\t0\\t3\\t\"Calic, Mr. Petar\"\\tmale\\t17\\t0\\t0\\t315086\\t8.6625\\t\\tS',\n",
       " u'502\\t0\\t3\\t\"Canavan, Miss. Mary\"\\tfemale\\t21\\t0\\t0\\t364846\\t7.75\\t\\tQ',\n",
       " u'503\\t0\\t3\\t\"O\\'Sullivan, Miss. Bridget Mary\"\\tfemale\\t\\t0\\t0\\t330909\\t7.6292\\t\\tQ',\n",
       " u'504\\t0\\t3\\t\"Laitinen, Miss. Kristina Sofia\"\\tfemale\\t37\\t0\\t0\\t4135\\t9.5875\\t\\tS',\n",
       " u'505\\t1\\t1\\t\"Maioni, Miss. Roberta\"\\tfemale\\t16\\t0\\t0\\t110152\\t86.5\\tB79\\tS',\n",
       " u'506\\t0\\t1\\t\"Penasco y Castellana, Mr. Victor de Satode\"\\tmale\\t18\\t1\\t0\\tPC 17758\\t108.9\\tC65\\tC',\n",
       " u'507\\t1\\t2\\t\"Quick, Mrs. Frederick Charles (Jane Richards)\"\\tfemale\\t33\\t0\\t2\\t26360\\t26\\t\\tS',\n",
       " u'508\\t1\\t1\\t\"Bradley, Mr. George (\"\"George Arthur Brayton\"\")\"\\tmale\\t\\t0\\t0\\t111427\\t26.55\\t\\tS',\n",
       " u'509\\t0\\t3\\t\"Olsen, Mr. Henry Margido\"\\tmale\\t28\\t0\\t0\\tC 4001\\t22.525\\t\\tS',\n",
       " u'51\\t0\\t3\\t\"Panula, Master. Juha Niilo\"\\tmale\\t7\\t4\\t1\\t3101295\\t39.6875\\t\\tS',\n",
       " u'510\\t1\\t3\\t\"Lang, Mr. Fang\"\\tmale\\t26\\t0\\t0\\t1601\\t56.4958\\t\\tS',\n",
       " u'511\\t1\\t3\\t\"Daly, Mr. Eugene Patrick\"\\tmale\\t29\\t0\\t0\\t382651\\t7.75\\t\\tQ',\n",
       " u'512\\t0\\t3\\t\"Webber, Mr. James\"\\tmale\\t\\t0\\t0\\tSOTON/OQ 3101316\\t8.05\\t\\tS',\n",
       " u'513\\t1\\t1\\t\"McGough, Mr. James Robert\"\\tmale\\t36\\t0\\t0\\tPC 17473\\t26.2875\\tE25\\tS',\n",
       " u'514\\t1\\t1\\t\"Rothschild, Mrs. Martin (Elizabeth L. Barrett)\"\\tfemale\\t54\\t1\\t0\\tPC 17603\\t59.4\\t\\tC',\n",
       " u'515\\t0\\t3\\t\"Coleff, Mr. Satio\"\\tmale\\t24\\t0\\t0\\t349209\\t7.4958\\t\\tS',\n",
       " u'516\\t0\\t1\\t\"Walker, Mr. William Anderson\"\\tmale\\t47\\t0\\t0\\t36967\\t34.0208\\tD46\\tS',\n",
       " u'517\\t1\\t2\\t\"Lemore, Mrs. (Amelia Milley)\"\\tfemale\\t34\\t0\\t0\\tC.A. 34260\\t10.5\\tF33\\tS',\n",
       " u'518\\t0\\t3\\t\"Ryan, Mr. Patrick\"\\tmale\\t\\t0\\t0\\t371110\\t24.15\\t\\tQ',\n",
       " u'519\\t1\\t2\\t\"Angle, Mrs. William A (Florence \"\"Mary\"\" Agnes Hughes)\"\\tfemale\\t36\\t1\\t0\\t226875\\t26\\t\\tS',\n",
       " u'52\\t0\\t3\\t\"Nosworthy, Mr. Richard Cater\"\\tmale\\t21\\t0\\t0\\tA/4. 39886\\t7.8\\t\\tS',\n",
       " u'520\\t0\\t3\\t\"Pavlovic, Mr. Stefo\"\\tmale\\t32\\t0\\t0\\t349242\\t7.8958\\t\\tS',\n",
       " u'521\\t1\\t1\\t\"Perreault, Miss. Anne\"\\tfemale\\t30\\t0\\t0\\t12749\\t93.5\\tB73\\tS',\n",
       " u'522\\t0\\t3\\t\"Vovk, Mr. Janko\"\\tmale\\t22\\t0\\t0\\t349252\\t7.8958\\t\\tS',\n",
       " u'523\\t0\\t3\\t\"Lahoud, Mr. Sarkis\"\\tmale\\t\\t0\\t0\\t2624\\t7.225\\t\\tC',\n",
       " u'524\\t1\\t1\\t\"Hippach, Mrs. Louis Albert (Ida Sophia Fischer)\"\\tfemale\\t44\\t0\\t1\\t111361\\t57.9792\\tB18\\tC',\n",
       " u'525\\t0\\t3\\t\"Kassem, Mr. Fared\"\\tmale\\t\\t0\\t0\\t2700\\t7.2292\\t\\tC',\n",
       " u'526\\t0\\t3\\t\"Farrell, Mr. James\"\\tmale\\t40.5\\t0\\t0\\t367232\\t7.75\\t\\tQ',\n",
       " u'527\\t1\\t2\\t\"Ridsdale, Miss. Lucy\"\\tfemale\\t50\\t0\\t0\\tW./C. 14258\\t10.5\\t\\tS',\n",
       " u'528\\t0\\t1\\t\"Farthing, Mr. John\"\\tmale\\t\\t0\\t0\\tPC 17483\\t221.7792\\tC95\\tS',\n",
       " u'529\\t0\\t3\\t\"Salonen, Mr. Johan Werner\"\\tmale\\t39\\t0\\t0\\t3101296\\t7.925\\t\\tS',\n",
       " u'53\\t1\\t1\\t\"Harper, Mrs. Henry Sleeper (Myna Haxtun)\"\\tfemale\\t49\\t1\\t0\\tPC 17572\\t76.7292\\tD33\\tC',\n",
       " u'530\\t0\\t2\\t\"Hocking, Mr. Richard George\"\\tmale\\t23\\t2\\t1\\t29104\\t11.5\\t\\tS',\n",
       " u'531\\t1\\t2\\t\"Quick, Miss. Phyllis May\"\\tfemale\\t2\\t1\\t1\\t26360\\t26\\t\\tS',\n",
       " u'532\\t0\\t3\\t\"Toufik, Mr. Nakli\"\\tmale\\t\\t0\\t0\\t2641\\t7.2292\\t\\tC',\n",
       " u'533\\t0\\t3\\t\"Elias, Mr. Joseph Jr\"\\tmale\\t17\\t1\\t1\\t2690\\t7.2292\\t\\tC',\n",
       " u'534\\t1\\t3\\t\"Peter, Mrs. Catherine (Catherine Rizk)\"\\tfemale\\t\\t0\\t2\\t2668\\t22.3583\\t\\tC',\n",
       " u'535\\t0\\t3\\t\"Cacic, Miss. Marija\"\\tfemale\\t30\\t0\\t0\\t315084\\t8.6625\\t\\tS',\n",
       " u'536\\t1\\t2\\t\"Hart, Miss. Eva Miriam\"\\tfemale\\t7\\t0\\t2\\tF.C.C. 13529\\t26.25\\t\\tS',\n",
       " u'537\\t0\\t1\\t\"Butt, Major. Archibald Willingham\"\\tmale\\t45\\t0\\t0\\t113050\\t26.55\\tB38\\tS',\n",
       " u'538\\t1\\t1\\t\"LeRoy, Miss. Bertha\"\\tfemale\\t30\\t0\\t0\\tPC 17761\\t106.425\\t\\tC',\n",
       " u'539\\t0\\t3\\t\"Risien, Mr. Samuel Beard\"\\tmale\\t\\t0\\t0\\t364498\\t14.5\\t\\tS',\n",
       " u'54\\t1\\t2\\t\"Faunthorpe, Mrs. Lizzie (Elizabeth Anne Wilkinson)\"\\tfemale\\t29\\t1\\t0\\t2926\\t26\\t\\tS',\n",
       " u'540\\t1\\t1\\t\"Frolicher, Miss. Hedwig Margaritha\"\\tfemale\\t22\\t0\\t2\\t13568\\t49.5\\tB39\\tC',\n",
       " u'541\\t1\\t1\\t\"Crosby, Miss. Harriet R\"\\tfemale\\t36\\t0\\t2\\tWE/P 5735\\t71\\tB22\\tS',\n",
       " u'542\\t0\\t3\\t\"Andersson, Miss. Ingeborg Constanzia\"\\tfemale\\t9\\t4\\t2\\t347082\\t31.275\\t\\tS',\n",
       " u'543\\t0\\t3\\t\"Andersson, Miss. Sigrid Elisabeth\"\\tfemale\\t11\\t4\\t2\\t347082\\t31.275\\t\\tS',\n",
       " u'544\\t1\\t2\\t\"Beane, Mr. Edward\"\\tmale\\t32\\t1\\t0\\t2908\\t26\\t\\tS',\n",
       " u'545\\t0\\t1\\t\"Douglas, Mr. Walter Donald\"\\tmale\\t50\\t1\\t0\\tPC 17761\\t106.425\\tC86\\tC',\n",
       " u'546\\t0\\t1\\t\"Nicholson, Mr. Arthur Ernest\"\\tmale\\t64\\t0\\t0\\t693\\t26\\t\\tS',\n",
       " u'547\\t1\\t2\\t\"Beane, Mrs. Edward (Ethel Clarke)\"\\tfemale\\t19\\t1\\t0\\t2908\\t26\\t\\tS',\n",
       " u'548\\t1\\t2\\t\"Padro y Manent, Mr. Julian\"\\tmale\\t\\t0\\t0\\tSC/PARIS 2146\\t13.8625\\t\\tC',\n",
       " u'549\\t0\\t3\\t\"Goldsmith, Mr. Frank John\"\\tmale\\t33\\t1\\t1\\t363291\\t20.525\\t\\tS',\n",
       " u'55\\t0\\t1\\t\"Ostby, Mr. Engelhart Cornelius\"\\tmale\\t65\\t0\\t1\\t113509\\t61.9792\\tB30\\tC',\n",
       " u'550\\t1\\t2\\t\"Davies, Master. John Morgan Jr\"\\tmale\\t8\\t1\\t1\\tC.A. 33112\\t36.75\\t\\tS',\n",
       " u'551\\t1\\t1\\t\"Thayer, Mr. John Borland Jr\"\\tmale\\t17\\t0\\t2\\t17421\\t110.8833\\tC70\\tC',\n",
       " u'552\\t0\\t2\\t\"Sharp, Mr. Percival James R\"\\tmale\\t27\\t0\\t0\\t244358\\t26\\t\\tS',\n",
       " u'553\\t0\\t3\\t\"O\\'Brien, Mr. Timothy\"\\tmale\\t\\t0\\t0\\t330979\\t7.8292\\t\\tQ',\n",
       " u'554\\t1\\t3\\t\"Leeni, Mr. Fahim (\"\"Philip Zenni\"\")\"\\tmale\\t22\\t0\\t0\\t2620\\t7.225\\t\\tC',\n",
       " u'555\\t1\\t3\\t\"Ohman, Miss. Velin\"\\tfemale\\t22\\t0\\t0\\t347085\\t7.775\\t\\tS',\n",
       " u'556\\t0\\t1\\t\"Wright, Mr. George\"\\tmale\\t62\\t0\\t0\\t113807\\t26.55\\t\\tS',\n",
       " u'557\\t1\\t1\\t\"Duff Gordon, Lady. (Lucille Christiana Sutherland) (\"\"Mrs Morgan\"\")\"\\tfemale\\t48\\t1\\t0\\t11755\\t39.6\\tA16\\tC',\n",
       " u'558\\t0\\t1\\t\"Robbins, Mr. Victor\"\\tmale\\t\\t0\\t0\\tPC 17757\\t227.525\\t\\tC',\n",
       " u'559\\t1\\t1\\t\"Taussig, Mrs. Emil (Tillie Mandelbaum)\"\\tfemale\\t39\\t1\\t1\\t110413\\t79.65\\tE67\\tS',\n",
       " u'56\\t1\\t1\\t\"Woolner, Mr. Hugh\"\\tmale\\t\\t0\\t0\\t19947\\t35.5\\tC52\\tS',\n",
       " u'560\\t1\\t3\\t\"de Messemaeker, Mrs. Guillaume Joseph (Emma)\"\\tfemale\\t36\\t1\\t0\\t345572\\t17.4\\t\\tS',\n",
       " u'561\\t0\\t3\\t\"Morrow, Mr. Thomas Rowan\"\\tmale\\t\\t0\\t0\\t372622\\t7.75\\t\\tQ',\n",
       " u'562\\t0\\t3\\t\"Sivic, Mr. Husein\"\\tmale\\t40\\t0\\t0\\t349251\\t7.8958\\t\\tS',\n",
       " u'563\\t0\\t2\\t\"Norman, Mr. Robert Douglas\"\\tmale\\t28\\t0\\t0\\t218629\\t13.5\\t\\tS',\n",
       " u'564\\t0\\t3\\t\"Simmons, Mr. John\"\\tmale\\t\\t0\\t0\\tSOTON/OQ 392082\\t8.05\\t\\tS',\n",
       " u'565\\t0\\t3\\t\"Meanwell, Miss. (Marion Ogden)\"\\tfemale\\t\\t0\\t0\\tSOTON/O.Q. 392087\\t8.05\\t\\tS',\n",
       " u'566\\t0\\t3\\t\"Davies, Mr. Alfred J\"\\tmale\\t24\\t2\\t0\\tA/4 48871\\t24.15\\t\\tS',\n",
       " u'567\\t0\\t3\\t\"Stoytcheff, Mr. Ilia\"\\tmale\\t19\\t0\\t0\\t349205\\t7.8958\\t\\tS',\n",
       " u'568\\t0\\t3\\t\"Palsson, Mrs. Nils (Alma Cornelia Berglund)\"\\tfemale\\t29\\t0\\t4\\t349909\\t21.075\\t\\tS',\n",
       " u'569\\t0\\t3\\t\"Doharr, Mr. Tannous\"\\tmale\\t\\t0\\t0\\t2686\\t7.2292\\t\\tC',\n",
       " u'57\\t1\\t2\\t\"Rugg, Miss. Emily\"\\tfemale\\t21\\t0\\t0\\tC.A. 31026\\t10.5\\t\\tS',\n",
       " u'570\\t1\\t3\\t\"Jonsson, Mr. Carl\"\\tmale\\t32\\t0\\t0\\t350417\\t7.8542\\t\\tS',\n",
       " u'571\\t1\\t2\\t\"Harris, Mr. George\"\\tmale\\t62\\t0\\t0\\tS.W./PP 752\\t10.5\\t\\tS',\n",
       " u'572\\t1\\t1\\t\"Appleton, Mrs. Edward Dale (Charlotte Lamson)\"\\tfemale\\t53\\t2\\t0\\t11769\\t51.4792\\tC101\\tS',\n",
       " u'573\\t1\\t1\\t\"Flynn, Mr. John Irwin (\"\"Irving\"\")\"\\tmale\\t36\\t0\\t0\\tPC 17474\\t26.3875\\tE25\\tS',\n",
       " u'574\\t1\\t3\\t\"Kelly, Miss. Mary\"\\tfemale\\t\\t0\\t0\\t14312\\t7.75\\t\\tQ',\n",
       " u'575\\t0\\t3\\t\"Rush, Mr. Alfred George John\"\\tmale\\t16\\t0\\t0\\tA/4. 20589\\t8.05\\t\\tS',\n",
       " u'576\\t0\\t3\\t\"Patchett, Mr. George\"\\tmale\\t19\\t0\\t0\\t358585\\t14.5\\t\\tS',\n",
       " u'577\\t1\\t2\\t\"Garside, Miss. Ethel\"\\tfemale\\t34\\t0\\t0\\t243880\\t13\\t\\tS',\n",
       " u'578\\t1\\t1\\t\"Silvey, Mrs. William Baird (Alice Munger)\"\\tfemale\\t39\\t1\\t0\\t13507\\t55.9\\tE44\\tS',\n",
       " u'579\\t0\\t3\\t\"Caram, Mrs. Joseph (Maria Elias)\"\\tfemale\\t\\t1\\t0\\t2689\\t14.4583\\t\\tC',\n",
       " u'58\\t0\\t3\\t\"Novel, Mr. Mansouer\"\\tmale\\t28.5\\t0\\t0\\t2697\\t7.2292\\t\\tC',\n",
       " u'580\\t1\\t3\\t\"Jussila, Mr. Eiriik\"\\tmale\\t32\\t0\\t0\\tSTON/O 2. 3101286\\t7.925\\t\\tS',\n",
       " u'581\\t1\\t2\\t\"Christy, Miss. Julie Rachel\"\\tfemale\\t25\\t1\\t1\\t237789\\t30\\t\\tS',\n",
       " u'582\\t1\\t1\\t\"Thayer, Mrs. John Borland (Marian Longstreth Morris)\"\\tfemale\\t39\\t1\\t1\\t17421\\t110.8833\\tC68\\tC',\n",
       " u'583\\t0\\t2\\t\"Downton, Mr. William James\"\\tmale\\t54\\t0\\t0\\t28403\\t26\\t\\tS',\n",
       " u'584\\t0\\t1\\t\"Ross, Mr. John Hugo\"\\tmale\\t36\\t0\\t0\\t13049\\t40.125\\tA10\\tC',\n",
       " u'585\\t0\\t3\\t\"Paulner, Mr. Uscher\"\\tmale\\t\\t0\\t0\\t3411\\t8.7125\\t\\tC',\n",
       " u'586\\t1\\t1\\t\"Taussig, Miss. Ruth\"\\tfemale\\t18\\t0\\t2\\t110413\\t79.65\\tE68\\tS',\n",
       " u'587\\t0\\t2\\t\"Jarvis, Mr. John Denzil\"\\tmale\\t47\\t0\\t0\\t237565\\t15\\t\\tS',\n",
       " u'588\\t1\\t1\\t\"Frolicher-Stehli, Mr. Maxmillian\"\\tmale\\t60\\t1\\t1\\t13567\\t79.2\\tB41\\tC',\n",
       " u'589\\t0\\t3\\t\"Gilinski, Mr. Eliezer\"\\tmale\\t22\\t0\\t0\\t14973\\t8.05\\t\\tS',\n",
       " u'59\\t1\\t2\\t\"West, Miss. Constance Mirium\"\\tfemale\\t5\\t1\\t2\\tC.A. 34651\\t27.75\\t\\tS',\n",
       " u'590\\t0\\t3\\t\"Murdlin, Mr. Joseph\"\\tmale\\t\\t0\\t0\\tA./5. 3235\\t8.05\\t\\tS',\n",
       " u'591\\t0\\t3\\t\"Rintamaki, Mr. Matti\"\\tmale\\t35\\t0\\t0\\tSTON/O 2. 3101273\\t7.125\\t\\tS',\n",
       " u'592\\t1\\t1\\t\"Stephenson, Mrs. Walter Bertram (Martha Eustis)\"\\tfemale\\t52\\t1\\t0\\t36947\\t78.2667\\tD20\\tC',\n",
       " u'593\\t0\\t3\\t\"Elsbury, Mr. William James\"\\tmale\\t47\\t0\\t0\\tA/5 3902\\t7.25\\t\\tS',\n",
       " u'594\\t0\\t3\\t\"Bourke, Miss. Mary\"\\tfemale\\t\\t0\\t2\\t364848\\t7.75\\t\\tQ',\n",
       " u'595\\t0\\t2\\t\"Chapman, Mr. John Henry\"\\tmale\\t37\\t1\\t0\\tSC/AH 29037\\t26\\t\\tS',\n",
       " u'596\\t0\\t3\\t\"Van Impe, Mr. Jean Baptiste\"\\tmale\\t36\\t1\\t1\\t345773\\t24.15\\t\\tS',\n",
       " u'597\\t1\\t2\\t\"Leitch, Miss. Jessie Wills\"\\tfemale\\t\\t0\\t0\\t248727\\t33\\t\\tS',\n",
       " u'598\\t0\\t3\\t\"Johnson, Mr. Alfred\"\\tmale\\t49\\t0\\t0\\tLINE\\t0\\t\\tS',\n",
       " u'599\\t0\\t3\\t\"Boulos, Mr. Hanna\"\\tmale\\t\\t0\\t0\\t2664\\t7.225\\t\\tC',\n",
       " u'6\\t0\\t3\\t\"Moran, Mr. James\"\\tmale\\t\\t0\\t0\\t330877\\t8.4583\\t\\tQ',\n",
       " u'60\\t0\\t3\\t\"Goodwin, Master. William Frederick\"\\tmale\\t11\\t5\\t2\\tCA 2144\\t46.9\\t\\tS',\n",
       " u'600\\t1\\t1\\t\"Duff Gordon, Sir. Cosmo Edmund (\"\"Mr Morgan\"\")\"\\tmale\\t49\\t1\\t0\\tPC 17485\\t56.9292\\tA20\\tC',\n",
       " u'601\\t1\\t2\\t\"Jacobsohn, Mrs. Sidney Samuel (Amy Frances Christy)\"\\tfemale\\t24\\t2\\t1\\t243847\\t27\\t\\tS',\n",
       " u'602\\t0\\t3\\t\"Slabenoff, Mr. Petco\"\\tmale\\t\\t0\\t0\\t349214\\t7.8958\\t\\tS',\n",
       " u'603\\t0\\t1\\t\"Harrington, Mr. Charles H\"\\tmale\\t\\t0\\t0\\t113796\\t42.4\\t\\tS',\n",
       " u'604\\t0\\t3\\t\"Torber, Mr. Ernst William\"\\tmale\\t44\\t0\\t0\\t364511\\t8.05\\t\\tS',\n",
       " u'605\\t1\\t1\\t\"Homer, Mr. Harry (\"\"Mr E Haven\"\")\"\\tmale\\t35\\t0\\t0\\t111426\\t26.55\\t\\tC',\n",
       " u'606\\t0\\t3\\t\"Lindell, Mr. Edvard Bengtsson\"\\tmale\\t36\\t1\\t0\\t349910\\t15.55\\t\\tS',\n",
       " u'607\\t0\\t3\\t\"Karaic, Mr. Milan\"\\tmale\\t30\\t0\\t0\\t349246\\t7.8958\\t\\tS',\n",
       " u'608\\t1\\t1\\t\"Daniel, Mr. Robert Williams\"\\tmale\\t27\\t0\\t0\\t113804\\t30.5\\t\\tS',\n",
       " u'609\\t1\\t2\\t\"Laroche, Mrs. Joseph (Juliette Marie Louise Lafargue)\"\\tfemale\\t22\\t1\\t2\\tSC/Paris 2123\\t41.5792\\t\\tC',\n",
       " u'61\\t0\\t3\\t\"Sirayanian, Mr. Orsen\"\\tmale\\t22\\t0\\t0\\t2669\\t7.2292\\t\\tC',\n",
       " u'610\\t1\\t1\\t\"Shutes, Miss. Elizabeth W\"\\tfemale\\t40\\t0\\t0\\tPC 17582\\t153.4625\\tC125\\tS',\n",
       " u'611\\t0\\t3\\t\"Andersson, Mrs. Anders Johan (Alfrida Konstantia Brogren)\"\\tfemale\\t39\\t1\\t5\\t347082\\t31.275\\t\\tS',\n",
       " u'612\\t0\\t3\\t\"Jardin, Mr. Jose Neto\"\\tmale\\t\\t0\\t0\\tSOTON/O.Q. 3101305\\t7.05\\t\\tS',\n",
       " u'613\\t1\\t3\\t\"Murphy, Miss. Margaret Jane\"\\tfemale\\t\\t1\\t0\\t367230\\t15.5\\t\\tQ',\n",
       " u'614\\t0\\t3\\t\"Horgan, Mr. John\"\\tmale\\t\\t0\\t0\\t370377\\t7.75\\t\\tQ',\n",
       " u'615\\t0\\t3\\t\"Brocklebank, Mr. William Alfred\"\\tmale\\t35\\t0\\t0\\t364512\\t8.05\\t\\tS',\n",
       " u'616\\t1\\t2\\t\"Herman, Miss. Alice\"\\tfemale\\t24\\t1\\t2\\t220845\\t65\\t\\tS',\n",
       " u'617\\t0\\t3\\t\"Danbom, Mr. Ernst Gilbert\"\\tmale\\t34\\t1\\t1\\t347080\\t14.4\\t\\tS',\n",
       " u'618\\t0\\t3\\t\"Lobb, Mrs. William Arthur (Cordelia K Stanlick)\"\\tfemale\\t26\\t1\\t0\\tA/5. 3336\\t16.1\\t\\tS',\n",
       " u'619\\t1\\t2\\t\"Becker, Miss. Marion Louise\"\\tfemale\\t4\\t2\\t1\\t230136\\t39\\tF4\\tS',\n",
       " u'62\\t1\\t1\\t\"Icard, Miss. Amelie\"\\tfemale\\t38\\t0\\t0\\t113572\\t80\\tB28\\t',\n",
       " u'620\\t0\\t2\\t\"Gavey, Mr. Lawrence\"\\tmale\\t26\\t0\\t0\\t31028\\t10.5\\t\\tS',\n",
       " u'621\\t0\\t3\\t\"Yasbeck, Mr. Antoni\"\\tmale\\t27\\t1\\t0\\t2659\\t14.4542\\t\\tC',\n",
       " u'622\\t1\\t1\\t\"Kimball, Mr. Edwin Nelson Jr\"\\tmale\\t42\\t1\\t0\\t11753\\t52.5542\\tD19\\tS',\n",
       " u'623\\t1\\t3\\t\"Nakid, Mr. Sahid\"\\tmale\\t20\\t1\\t1\\t2653\\t15.7417\\t\\tC',\n",
       " u'624\\t0\\t3\\t\"Hansen, Mr. Henry Damsgaard\"\\tmale\\t21\\t0\\t0\\t350029\\t7.8542\\t\\tS',\n",
       " u'625\\t0\\t3\\t\"Bowen, Mr. David John \"\"Dai\"\"\"\\tmale\\t21\\t0\\t0\\t54636\\t16.1\\t\\tS',\n",
       " u'626\\t0\\t1\\t\"Sutton, Mr. Frederick\"\\tmale\\t61\\t0\\t0\\t36963\\t32.3208\\tD50\\tS',\n",
       " u'627\\t0\\t2\\t\"Kirkland, Rev. Charles Leonard\"\\tmale\\t57\\t0\\t0\\t219533\\t12.35\\t\\tQ',\n",
       " u'628\\t1\\t1\\t\"Longley, Miss. Gretchen Fiske\"\\tfemale\\t21\\t0\\t0\\t13502\\t77.9583\\tD9\\tS',\n",
       " u'629\\t0\\t3\\t\"Bostandyeff, Mr. Guentcho\"\\tmale\\t26\\t0\\t0\\t349224\\t7.8958\\t\\tS',\n",
       " u'63\\t0\\t1\\t\"Harris, Mr. Henry Birkhardt\"\\tmale\\t45\\t1\\t0\\t36973\\t83.475\\tC83\\tS',\n",
       " u'630\\t0\\t3\\t\"O\\'Connell, Mr. Patrick D\"\\tmale\\t\\t0\\t0\\t334912\\t7.7333\\t\\tQ',\n",
       " u'631\\t1\\t1\\t\"Barkworth, Mr. Algernon Henry Wilson\"\\tmale\\t80\\t0\\t0\\t27042\\t30\\tA23\\tS',\n",
       " u'632\\t0\\t3\\t\"Lundahl, Mr. Johan Svensson\"\\tmale\\t51\\t0\\t0\\t347743\\t7.0542\\t\\tS',\n",
       " u'633\\t1\\t1\\t\"Stahelin-Maeglin, Dr. Max\"\\tmale\\t32\\t0\\t0\\t13214\\t30.5\\tB50\\tC',\n",
       " u'634\\t0\\t1\\t\"Parr, Mr. William Henry Marsh\"\\tmale\\t\\t0\\t0\\t112052\\t0\\t\\tS',\n",
       " u'635\\t0\\t3\\t\"Skoog, Miss. Mabel\"\\tfemale\\t9\\t3\\t2\\t347088\\t27.9\\t\\tS',\n",
       " u'636\\t1\\t2\\t\"Davis, Miss. Mary\"\\tfemale\\t28\\t0\\t0\\t237668\\t13\\t\\tS',\n",
       " u'637\\t0\\t3\\t\"Leinonen, Mr. Antti Gustaf\"\\tmale\\t32\\t0\\t0\\tSTON/O 2. 3101292\\t7.925\\t\\tS',\n",
       " u'638\\t0\\t2\\t\"Collyer, Mr. Harvey\"\\tmale\\t31\\t1\\t1\\tC.A. 31921\\t26.25\\t\\tS',\n",
       " u'639\\t0\\t3\\t\"Panula, Mrs. Juha (Maria Emilia Ojala)\"\\tfemale\\t41\\t0\\t5\\t3101295\\t39.6875\\t\\tS',\n",
       " u'64\\t0\\t3\\t\"Skoog, Master. Harald\"\\tmale\\t4\\t3\\t2\\t347088\\t27.9\\t\\tS',\n",
       " u'640\\t0\\t3\\t\"Thorneycroft, Mr. Percival\"\\tmale\\t\\t1\\t0\\t376564\\t16.1\\t\\tS',\n",
       " u'641\\t0\\t3\\t\"Jensen, Mr. Hans Peder\"\\tmale\\t20\\t0\\t0\\t350050\\t7.8542\\t\\tS',\n",
       " u'642\\t1\\t1\\t\"Sagesser, Mlle. Emma\"\\tfemale\\t24\\t0\\t0\\tPC 17477\\t69.3\\tB35\\tC',\n",
       " u'643\\t0\\t3\\t\"Skoog, Miss. Margit Elizabeth\"\\tfemale\\t2\\t3\\t2\\t347088\\t27.9\\t\\tS',\n",
       " u'644\\t1\\t3\\t\"Foo, Mr. Choong\"\\tmale\\t\\t0\\t0\\t1601\\t56.4958\\t\\tS',\n",
       " u'645\\t1\\t3\\t\"Baclini, Miss. Eugenie\"\\tfemale\\t0.75\\t2\\t1\\t2666\\t19.2583\\t\\tC',\n",
       " u'646\\t1\\t1\\t\"Harper, Mr. Henry Sleeper\"\\tmale\\t48\\t1\\t0\\tPC 17572\\t76.7292\\tD33\\tC',\n",
       " u'647\\t0\\t3\\t\"Cor, Mr. Liudevit\"\\tmale\\t19\\t0\\t0\\t349231\\t7.8958\\t\\tS',\n",
       " u'648\\t1\\t1\\t\"Simonius-Blumer, Col. Oberst Alfons\"\\tmale\\t56\\t0\\t0\\t13213\\t35.5\\tA26\\tC',\n",
       " u'649\\t0\\t3\\t\"Willey, Mr. Edward\"\\tmale\\t\\t0\\t0\\tS.O./P.P. 751\\t7.55\\t\\tS',\n",
       " u'65\\t0\\t1\\t\"Stewart, Mr. Albert A\"\\tmale\\t\\t0\\t0\\tPC 17605\\t27.7208\\t\\tC',\n",
       " u'650\\t1\\t3\\t\"Stanley, Miss. Amy Zillah Elsie\"\\tfemale\\t23\\t0\\t0\\tCA. 2314\\t7.55\\t\\tS',\n",
       " u'651\\t0\\t3\\t\"Mitkoff, Mr. Mito\"\\tmale\\t\\t0\\t0\\t349221\\t7.8958\\t\\tS',\n",
       " u'652\\t1\\t2\\t\"Doling, Miss. Elsie\"\\tfemale\\t18\\t0\\t1\\t231919\\t23\\t\\tS',\n",
       " u'653\\t0\\t3\\t\"Kalvik, Mr. Johannes Halvorsen\"\\tmale\\t21\\t0\\t0\\t8475\\t8.4333\\t\\tS',\n",
       " u'654\\t1\\t3\\t\"O\\'Leary, Miss. Hanora \"\"Norah\"\"\"\\tfemale\\t\\t0\\t0\\t330919\\t7.8292\\t\\tQ',\n",
       " u'655\\t0\\t3\\t\"Hegarty, Miss. Hanora \"\"Nora\"\"\"\\tfemale\\t18\\t0\\t0\\t365226\\t6.75\\t\\tQ',\n",
       " u'656\\t0\\t2\\t\"Hickman, Mr. Leonard Mark\"\\tmale\\t24\\t2\\t0\\tS.O.C. 14879\\t73.5\\t\\tS',\n",
       " u'657\\t0\\t3\\t\"Radeff, Mr. Alexander\"\\tmale\\t\\t0\\t0\\t349223\\t7.8958\\t\\tS',\n",
       " u'658\\t0\\t3\\t\"Bourke, Mrs. John (Catherine)\"\\tfemale\\t32\\t1\\t1\\t364849\\t15.5\\t\\tQ',\n",
       " u'659\\t0\\t2\\t\"Eitemiller, Mr. George Floyd\"\\tmale\\t23\\t0\\t0\\t29751\\t13\\t\\tS',\n",
       " u'66\\t1\\t3\\t\"Moubarek, Master. Gerios\"\\tmale\\t\\t1\\t1\\t2661\\t15.2458\\t\\tC',\n",
       " u'660\\t0\\t1\\t\"Newell, Mr. Arthur Webster\"\\tmale\\t58\\t0\\t2\\t35273\\t113.275\\tD48\\tC',\n",
       " u'661\\t1\\t1\\t\"Frauenthal, Dr. Henry William\"\\tmale\\t50\\t2\\t0\\tPC 17611\\t133.65\\t\\tS',\n",
       " u'662\\t0\\t3\\t\"Badt, Mr. Mohamed\"\\tmale\\t40\\t0\\t0\\t2623\\t7.225\\t\\tC',\n",
       " u'663\\t0\\t1\\t\"Colley, Mr. Edward Pomeroy\"\\tmale\\t47\\t0\\t0\\t5727\\t25.5875\\tE58\\tS',\n",
       " u'664\\t0\\t3\\t\"Coleff, Mr. Peju\"\\tmale\\t36\\t0\\t0\\t349210\\t7.4958\\t\\tS',\n",
       " u'665\\t1\\t3\\t\"Lindqvist, Mr. Eino William\"\\tmale\\t20\\t1\\t0\\tSTON/O 2. 3101285\\t7.925\\t\\tS',\n",
       " u'666\\t0\\t2\\t\"Hickman, Mr. Lewis\"\\tmale\\t32\\t2\\t0\\tS.O.C. 14879\\t73.5\\t\\tS',\n",
       " u'667\\t0\\t2\\t\"Butler, Mr. Reginald Fenton\"\\tmale\\t25\\t0\\t0\\t234686\\t13\\t\\tS',\n",
       " u'668\\t0\\t3\\t\"Rommetvedt, Mr. Knud Paust\"\\tmale\\t\\t0\\t0\\t312993\\t7.775\\t\\tS',\n",
       " u'669\\t0\\t3\\t\"Cook, Mr. Jacob\"\\tmale\\t43\\t0\\t0\\tA/5 3536\\t8.05\\t\\tS',\n",
       " u'67\\t1\\t2\\t\"Nye, Mrs. (Elizabeth Ramell)\"\\tfemale\\t29\\t0\\t0\\tC.A. 29395\\t10.5\\tF33\\tS',\n",
       " u'670\\t1\\t1\\t\"Taylor, Mrs. Elmer Zebley (Juliet Cummins Wright)\"\\tfemale\\t\\t1\\t0\\t19996\\t52\\tC126\\tS',\n",
       " u'671\\t1\\t2\\t\"Brown, Mrs. Thomas William Solomon (Elizabeth Catherine Ford)\"\\tfemale\\t40\\t1\\t1\\t29750\\t39\\t\\tS',\n",
       " u'672\\t0\\t1\\t\"Davidson, Mr. Thornton\"\\tmale\\t31\\t1\\t0\\tF.C. 12750\\t52\\tB71\\tS',\n",
       " u'673\\t0\\t2\\t\"Mitchell, Mr. Henry Michael\"\\tmale\\t70\\t0\\t0\\tC.A. 24580\\t10.5\\t\\tS',\n",
       " u'674\\t1\\t2\\t\"Wilhelms, Mr. Charles\"\\tmale\\t31\\t0\\t0\\t244270\\t13\\t\\tS',\n",
       " u'675\\t0\\t2\\t\"Watson, Mr. Ennis Hastings\"\\tmale\\t\\t0\\t0\\t239856\\t0\\t\\tS',\n",
       " u'676\\t0\\t3\\t\"Edvardsson, Mr. Gustaf Hjalmar\"\\tmale\\t18\\t0\\t0\\t349912\\t7.775\\t\\tS',\n",
       " u'677\\t0\\t3\\t\"Sawyer, Mr. Frederick Charles\"\\tmale\\t24.5\\t0\\t0\\t342826\\t8.05\\t\\tS',\n",
       " u'678\\t1\\t3\\t\"Turja, Miss. Anna Sofia\"\\tfemale\\t18\\t0\\t0\\t4138\\t9.8417\\t\\tS',\n",
       " u'679\\t0\\t3\\t\"Goodwin, Mrs. Frederick (Augusta Tyler)\"\\tfemale\\t43\\t1\\t6\\tCA 2144\\t46.9\\t\\tS',\n",
       " u'68\\t0\\t3\\t\"Crease, Mr. Ernest James\"\\tmale\\t19\\t0\\t0\\tS.P. 3464\\t8.1583\\t\\tS',\n",
       " u'680\\t1\\t1\\t\"Cardeza, Mr. Thomas Drake Martinez\"\\tmale\\t36\\t0\\t1\\tPC 17755\\t512.3292\\tB51 B53 B55\\tC',\n",
       " u'681\\t0\\t3\\t\"Peters, Miss. Katie\"\\tfemale\\t\\t0\\t0\\t330935\\t8.1375\\t\\tQ',\n",
       " u'682\\t1\\t1\\t\"Hassab, Mr. Hammad\"\\tmale\\t27\\t0\\t0\\tPC 17572\\t76.7292\\tD49\\tC',\n",
       " u'683\\t0\\t3\\t\"Olsvigen, Mr. Thor Anderson\"\\tmale\\t20\\t0\\t0\\t6563\\t9.225\\t\\tS',\n",
       " u'684\\t0\\t3\\t\"Goodwin, Mr. Charles Edward\"\\tmale\\t14\\t5\\t2\\tCA 2144\\t46.9\\t\\tS',\n",
       " u'685\\t0\\t2\\t\"Brown, Mr. Thomas William Solomon\"\\tmale\\t60\\t1\\t1\\t29750\\t39\\t\\tS',\n",
       " u'686\\t0\\t2\\t\"Laroche, Mr. Joseph Philippe Lemercier\"\\tmale\\t25\\t1\\t2\\tSC/Paris 2123\\t41.5792\\t\\tC',\n",
       " u'687\\t0\\t3\\t\"Panula, Mr. Jaako Arnold\"\\tmale\\t14\\t4\\t1\\t3101295\\t39.6875\\t\\tS',\n",
       " u'688\\t0\\t3\\t\"Dakic, Mr. Branko\"\\tmale\\t19\\t0\\t0\\t349228\\t10.1708\\t\\tS',\n",
       " u'689\\t0\\t3\\t\"Fischer, Mr. Eberhard Thelander\"\\tmale\\t18\\t0\\t0\\t350036\\t7.7958\\t\\tS',\n",
       " u'69\\t1\\t3\\t\"Andersson, Miss. Erna Alexandra\"\\tfemale\\t17\\t4\\t2\\t3101281\\t7.925\\t\\tS',\n",
       " u'690\\t1\\t1\\t\"Madill, Miss. Georgette Alexandra\"\\tfemale\\t15\\t0\\t1\\t24160\\t211.3375\\tB5\\tS',\n",
       " u'691\\t1\\t1\\t\"Dick, Mr. Albert Adrian\"\\tmale\\t31\\t1\\t0\\t17474\\t57\\tB20\\tS',\n",
       " u'692\\t1\\t3\\t\"Karun, Miss. Manca\"\\tfemale\\t4\\t0\\t1\\t349256\\t13.4167\\t\\tC',\n",
       " u'693\\t1\\t3\\t\"Lam, Mr. Ali\"\\tmale\\t\\t0\\t0\\t1601\\t56.4958\\t\\tS',\n",
       " u'694\\t0\\t3\\t\"Saad, Mr. Khalil\"\\tmale\\t25\\t0\\t0\\t2672\\t7.225\\t\\tC',\n",
       " u'695\\t0\\t1\\t\"Weir, Col. John\"\\tmale\\t60\\t0\\t0\\t113800\\t26.55\\t\\tS',\n",
       " u'696\\t0\\t2\\t\"Chapman, Mr. Charles Henry\"\\tmale\\t52\\t0\\t0\\t248731\\t13.5\\t\\tS',\n",
       " u'697\\t0\\t3\\t\"Kelly, Mr. James\"\\tmale\\t44\\t0\\t0\\t363592\\t8.05\\t\\tS',\n",
       " u'698\\t1\\t3\\t\"Mullens, Miss. Katherine \"\"Katie\"\"\"\\tfemale\\t\\t0\\t0\\t35852\\t7.7333\\t\\tQ',\n",
       " u'699\\t0\\t1\\t\"Thayer, Mr. John Borland\"\\tmale\\t49\\t1\\t1\\t17421\\t110.8833\\tC68\\tC',\n",
       " u'7\\t0\\t1\\t\"McCarthy, Mr. Timothy J\"\\tmale\\t54\\t0\\t0\\t17463\\t51.8625\\tE46\\tS',\n",
       " u'70\\t0\\t3\\t\"Kink, Mr. Vincenz\"\\tmale\\t26\\t2\\t0\\t315151\\t8.6625\\t\\tS',\n",
       " u'700\\t0\\t3\\t\"Humblen, Mr. Adolf Mathias Nicolai Olsen\"\\tmale\\t42\\t0\\t0\\t348121\\t7.65\\tF G63\\tS',\n",
       " u'701\\t1\\t1\\t\"Astor, Mrs. John Jacob (Madeleine Talmadge Force)\"\\tfemale\\t18\\t1\\t0\\tPC 17757\\t227.525\\tC62 C64\\tC',\n",
       " u'702\\t1\\t1\\t\"Silverthorne, Mr. Spencer Victor\"\\tmale\\t35\\t0\\t0\\tPC 17475\\t26.2875\\tE24\\tS',\n",
       " u'703\\t0\\t3\\t\"Barbara, Miss. Saiide\"\\tfemale\\t18\\t0\\t1\\t2691\\t14.4542\\t\\tC',\n",
       " u'704\\t0\\t3\\t\"Gallagher, Mr. Martin\"\\tmale\\t25\\t0\\t0\\t36864\\t7.7417\\t\\tQ',\n",
       " u'705\\t0\\t3\\t\"Hansen, Mr. Henrik Juul\"\\tmale\\t26\\t1\\t0\\t350025\\t7.8542\\t\\tS',\n",
       " u'706\\t0\\t2\\t\"Morley, Mr. Henry Samuel (\"\"Mr Henry Marshall\"\")\"\\tmale\\t39\\t0\\t0\\t250655\\t26\\t\\tS',\n",
       " u'707\\t1\\t2\\t\"Kelly, Mrs. Florence \"\"Fannie\"\"\"\\tfemale\\t45\\t0\\t0\\t223596\\t13.5\\t\\tS',\n",
       " u'708\\t1\\t1\\t\"Calderhead, Mr. Edward Pennington\"\\tmale\\t42\\t0\\t0\\tPC 17476\\t26.2875\\tE24\\tS',\n",
       " u'709\\t1\\t1\\t\"Cleaver, Miss. Alice\"\\tfemale\\t22\\t0\\t0\\t113781\\t151.55\\t\\tS',\n",
       " u'71\\t0\\t2\\t\"Jenkin, Mr. Stephen Curnow\"\\tmale\\t32\\t0\\t0\\tC.A. 33111\\t10.5\\t\\tS',\n",
       " u'710\\t1\\t3\\t\"Moubarek, Master. Halim Gonios (\"\"William George\"\")\"\\tmale\\t\\t1\\t1\\t2661\\t15.2458\\t\\tC',\n",
       " u'711\\t1\\t1\\t\"Mayne, Mlle. Berthe Antonine (\"\"Mrs de Villiers\"\")\"\\tfemale\\t24\\t0\\t0\\tPC 17482\\t49.5042\\tC90\\tC',\n",
       " u'712\\t0\\t1\\t\"Klaber, Mr. Herman\"\\tmale\\t\\t0\\t0\\t113028\\t26.55\\tC124\\tS',\n",
       " u'713\\t1\\t1\\t\"Taylor, Mr. Elmer Zebley\"\\tmale\\t48\\t1\\t0\\t19996\\t52\\tC126\\tS',\n",
       " u'714\\t0\\t3\\t\"Larsson, Mr. August Viktor\"\\tmale\\t29\\t0\\t0\\t7545\\t9.4833\\t\\tS',\n",
       " u'715\\t0\\t2\\t\"Greenberg, Mr. Samuel\"\\tmale\\t52\\t0\\t0\\t250647\\t13\\t\\tS',\n",
       " u'716\\t0\\t3\\t\"Soholt, Mr. Peter Andreas Lauritz Andersen\"\\tmale\\t19\\t0\\t0\\t348124\\t7.65\\tF G73\\tS',\n",
       " u'717\\t1\\t1\\t\"Endres, Miss. Caroline Louise\"\\tfemale\\t38\\t0\\t0\\tPC 17757\\t227.525\\tC45\\tC',\n",
       " u'718\\t1\\t2\\t\"Troutt, Miss. Edwina Celia \"\"Winnie\"\"\"\\tfemale\\t27\\t0\\t0\\t34218\\t10.5\\tE101\\tS',\n",
       " u'719\\t0\\t3\\t\"McEvoy, Mr. Michael\"\\tmale\\t\\t0\\t0\\t36568\\t15.5\\t\\tQ',\n",
       " u'72\\t0\\t3\\t\"Goodwin, Miss. Lillian Amy\"\\tfemale\\t16\\t5\\t2\\tCA 2144\\t46.9\\t\\tS',\n",
       " u'720\\t0\\t3\\t\"Johnson, Mr. Malkolm Joackim\"\\tmale\\t33\\t0\\t0\\t347062\\t7.775\\t\\tS',\n",
       " u'721\\t1\\t2\\t\"Harper, Miss. Annie Jessie \"\"Nina\"\"\"\\tfemale\\t6\\t0\\t1\\t248727\\t33\\t\\tS',\n",
       " u'722\\t0\\t3\\t\"Jensen, Mr. Svend Lauritz\"\\tmale\\t17\\t1\\t0\\t350048\\t7.0542\\t\\tS',\n",
       " u'723\\t0\\t2\\t\"Gillespie, Mr. William Henry\"\\tmale\\t34\\t0\\t0\\t12233\\t13\\t\\tS',\n",
       " u'724\\t0\\t2\\t\"Hodges, Mr. Henry Price\"\\tmale\\t50\\t0\\t0\\t250643\\t13\\t\\tS',\n",
       " u'725\\t1\\t1\\t\"Chambers, Mr. Norman Campbell\"\\tmale\\t27\\t1\\t0\\t113806\\t53.1\\tE8\\tS',\n",
       " u'726\\t0\\t3\\t\"Oreskovic, Mr. Luka\"\\tmale\\t20\\t0\\t0\\t315094\\t8.6625\\t\\tS',\n",
       " u'727\\t1\\t2\\t\"Renouf, Mrs. Peter Henry (Lillian Jefferys)\"\\tfemale\\t30\\t3\\t0\\t31027\\t21\\t\\tS',\n",
       " u'728\\t1\\t3\\t\"Mannion, Miss. Margareth\"\\tfemale\\t\\t0\\t0\\t36866\\t7.7375\\t\\tQ',\n",
       " u'729\\t0\\t2\\t\"Bryhl, Mr. Kurt Arnold Gottfrid\"\\tmale\\t25\\t1\\t0\\t236853\\t26\\t\\tS',\n",
       " u'73\\t0\\t2\\t\"Hood, Mr. Ambrose Jr\"\\tmale\\t21\\t0\\t0\\tS.O.C. 14879\\t73.5\\t\\tS',\n",
       " u'730\\t0\\t3\\t\"Ilmakangas, Miss. Pieta Sofia\"\\tfemale\\t25\\t1\\t0\\tSTON/O2. 3101271\\t7.925\\t\\tS',\n",
       " u'731\\t1\\t1\\t\"Allen, Miss. Elisabeth Walton\"\\tfemale\\t29\\t0\\t0\\t24160\\t211.3375\\tB5\\tS',\n",
       " u'732\\t0\\t3\\t\"Hassan, Mr. Houssein G N\"\\tmale\\t11\\t0\\t0\\t2699\\t18.7875\\t\\tC',\n",
       " u'733\\t0\\t2\\t\"Knight, Mr. Robert J\"\\tmale\\t\\t0\\t0\\t239855\\t0\\t\\tS',\n",
       " u'734\\t0\\t2\\t\"Berriman, Mr. William John\"\\tmale\\t23\\t0\\t0\\t28425\\t13\\t\\tS',\n",
       " u'735\\t0\\t2\\t\"Troupiansky, Mr. Moses Aaron\"\\tmale\\t23\\t0\\t0\\t233639\\t13\\t\\tS',\n",
       " u'736\\t0\\t3\\t\"Williams, Mr. Leslie\"\\tmale\\t28.5\\t0\\t0\\t54636\\t16.1\\t\\tS',\n",
       " u'737\\t0\\t3\\t\"Ford, Mrs. Edward (Margaret Ann Watson)\"\\tfemale\\t48\\t1\\t3\\tW./C. 6608\\t34.375\\t\\tS',\n",
       " u'738\\t1\\t1\\t\"Lesurer, Mr. Gustave J\"\\tmale\\t35\\t0\\t0\\tPC 17755\\t512.3292\\tB101\\tC',\n",
       " u'739\\t0\\t3\\t\"Ivanoff, Mr. Kanio\"\\tmale\\t\\t0\\t0\\t349201\\t7.8958\\t\\tS',\n",
       " u'74\\t0\\t3\\t\"Chronopoulos, Mr. Apostolos\"\\tmale\\t26\\t1\\t0\\t2680\\t14.4542\\t\\tC',\n",
       " u'740\\t0\\t3\\t\"Nankoff, Mr. Minko\"\\tmale\\t\\t0\\t0\\t349218\\t7.8958\\t\\tS',\n",
       " u'741\\t1\\t1\\t\"Hawksford, Mr. Walter James\"\\tmale\\t\\t0\\t0\\t16988\\t30\\tD45\\tS',\n",
       " u'742\\t0\\t1\\t\"Cavendish, Mr. Tyrell William\"\\tmale\\t36\\t1\\t0\\t19877\\t78.85\\tC46\\tS',\n",
       " u'743\\t1\\t1\\t\"Ryerson, Miss. Susan Parker \"\"Suzette\"\"\"\\tfemale\\t21\\t2\\t2\\tPC 17608\\t262.375\\tB57 B59 B63 B66\\tC',\n",
       " u'744\\t0\\t3\\t\"McNamee, Mr. Neal\"\\tmale\\t24\\t1\\t0\\t376566\\t16.1\\t\\tS',\n",
       " u'745\\t1\\t3\\t\"Stranden, Mr. Juho\"\\tmale\\t31\\t0\\t0\\tSTON/O 2. 3101288\\t7.925\\t\\tS',\n",
       " u'746\\t0\\t1\\t\"Crosby, Capt. Edward Gifford\"\\tmale\\t70\\t1\\t1\\tWE/P 5735\\t71\\tB22\\tS',\n",
       " u'747\\t0\\t3\\t\"Abbott, Mr. Rossmore Edward\"\\tmale\\t16\\t1\\t1\\tC.A. 2673\\t20.25\\t\\tS',\n",
       " u'748\\t1\\t2\\t\"Sinkkonen, Miss. Anna\"\\tfemale\\t30\\t0\\t0\\t250648\\t13\\t\\tS',\n",
       " u'749\\t0\\t1\\t\"Marvin, Mr. Daniel Warner\"\\tmale\\t19\\t1\\t0\\t113773\\t53.1\\tD30\\tS',\n",
       " u'75\\t1\\t3\\t\"Bing, Mr. Lee\"\\tmale\\t32\\t0\\t0\\t1601\\t56.4958\\t\\tS',\n",
       " u'750\\t0\\t3\\t\"Connaghton, Mr. Michael\"\\tmale\\t31\\t0\\t0\\t335097\\t7.75\\t\\tQ',\n",
       " u'751\\t1\\t2\\t\"Wells, Miss. Joan\"\\tfemale\\t4\\t1\\t1\\t29103\\t23\\t\\tS',\n",
       " u'752\\t1\\t3\\t\"Moor, Master. Meier\"\\tmale\\t6\\t0\\t1\\t392096\\t12.475\\tE121\\tS',\n",
       " u'753\\t0\\t3\\t\"Vande Velde, Mr. Johannes Joseph\"\\tmale\\t33\\t0\\t0\\t345780\\t9.5\\t\\tS',\n",
       " u'754\\t0\\t3\\t\"Jonkoff, Mr. Lalio\"\\tmale\\t23\\t0\\t0\\t349204\\t7.8958\\t\\tS',\n",
       " u'755\\t1\\t2\\t\"Herman, Mrs. Samuel (Jane Laver)\"\\tfemale\\t48\\t1\\t2\\t220845\\t65\\t\\tS',\n",
       " u'756\\t1\\t2\\t\"Hamalainen, Master. Viljo\"\\tmale\\t0.67\\t1\\t1\\t250649\\t14.5\\t\\tS',\n",
       " u'757\\t0\\t3\\t\"Carlsson, Mr. August Sigfrid\"\\tmale\\t28\\t0\\t0\\t350042\\t7.7958\\t\\tS',\n",
       " u'758\\t0\\t2\\t\"Bailey, Mr. Percy Andrew\"\\tmale\\t18\\t0\\t0\\t29108\\t11.5\\t\\tS',\n",
       " u'759\\t0\\t3\\t\"Theobald, Mr. Thomas Leonard\"\\tmale\\t34\\t0\\t0\\t363294\\t8.05\\t\\tS',\n",
       " u'76\\t0\\t3\\t\"Moen, Mr. Sigurd Hansen\"\\tmale\\t25\\t0\\t0\\t348123\\t7.65\\tF G73\\tS',\n",
       " u'760\\t1\\t1\\t\"Rothes, the Countess. of (Lucy Noel Martha Dyer-Edwards)\"\\tfemale\\t33\\t0\\t0\\t110152\\t86.5\\tB77\\tS',\n",
       " u'761\\t0\\t3\\t\"Garfirth, Mr. John\"\\tmale\\t\\t0\\t0\\t358585\\t14.5\\t\\tS',\n",
       " u'762\\t0\\t3\\t\"Nirva, Mr. Iisakki Antino Aijo\"\\tmale\\t41\\t0\\t0\\tSOTON/O2 3101272\\t7.125\\t\\tS',\n",
       " u'763\\t1\\t3\\t\"Barah, Mr. Hanna Assi\"\\tmale\\t20\\t0\\t0\\t2663\\t7.2292\\t\\tC',\n",
       " u'764\\t1\\t1\\t\"Carter, Mrs. William Ernest (Lucile Polk)\"\\tfemale\\t36\\t1\\t2\\t113760\\t120\\tB96 B98\\tS',\n",
       " u'765\\t0\\t3\\t\"Eklund, Mr. Hans Linus\"\\tmale\\t16\\t0\\t0\\t347074\\t7.775\\t\\tS',\n",
       " u'766\\t1\\t1\\t\"Hogeboom, Mrs. John C (Anna Andrews)\"\\tfemale\\t51\\t1\\t0\\t13502\\t77.9583\\tD11\\tS',\n",
       " u'767\\t0\\t1\\t\"Brewe, Dr. Arthur Jackson\"\\tmale\\t\\t0\\t0\\t112379\\t39.6\\t\\tC',\n",
       " u'768\\t0\\t3\\t\"Mangan, Miss. Mary\"\\tfemale\\t30.5\\t0\\t0\\t364850\\t7.75\\t\\tQ',\n",
       " u'769\\t0\\t3\\t\"Moran, Mr. Daniel J\"\\tmale\\t\\t1\\t0\\t371110\\t24.15\\t\\tQ',\n",
       " u'77\\t0\\t3\\t\"Staneff, Mr. Ivan\"\\tmale\\t\\t0\\t0\\t349208\\t7.8958\\t\\tS',\n",
       " u'770\\t0\\t3\\t\"Gronnestad, Mr. Daniel Danielsen\"\\tmale\\t32\\t0\\t0\\t8471\\t8.3625\\t\\tS',\n",
       " u'771\\t0\\t3\\t\"Lievens, Mr. Rene Aime\"\\tmale\\t24\\t0\\t0\\t345781\\t9.5\\t\\tS',\n",
       " u'772\\t0\\t3\\t\"Jensen, Mr. Niels Peder\"\\tmale\\t48\\t0\\t0\\t350047\\t7.8542\\t\\tS',\n",
       " u'773\\t0\\t2\\t\"Mack, Mrs. (Mary)\"\\tfemale\\t57\\t0\\t0\\tS.O./P.P. 3\\t10.5\\tE77\\tS',\n",
       " u'774\\t0\\t3\\t\"Elias, Mr. Dibo\"\\tmale\\t\\t0\\t0\\t2674\\t7.225\\t\\tC',\n",
       " u'775\\t1\\t2\\t\"Hocking, Mrs. Elizabeth (Eliza Needs)\"\\tfemale\\t54\\t1\\t3\\t29105\\t23\\t\\tS',\n",
       " u'776\\t0\\t3\\t\"Myhrman, Mr. Pehr Fabian Oliver Malkolm\"\\tmale\\t18\\t0\\t0\\t347078\\t7.75\\t\\tS',\n",
       " u'777\\t0\\t3\\t\"Tobin, Mr. Roger\"\\tmale\\t\\t0\\t0\\t383121\\t7.75\\tF38\\tQ',\n",
       " u'778\\t1\\t3\\t\"Emanuel, Miss. Virginia Ethel\"\\tfemale\\t5\\t0\\t0\\t364516\\t12.475\\t\\tS',\n",
       " u'779\\t0\\t3\\t\"Kilgannon, Mr. Thomas J\"\\tmale\\t\\t0\\t0\\t36865\\t7.7375\\t\\tQ',\n",
       " u'78\\t0\\t3\\t\"Moutal, Mr. Rahamin Haim\"\\tmale\\t\\t0\\t0\\t374746\\t8.05\\t\\tS',\n",
       " u'780\\t1\\t1\\t\"Robert, Mrs. Edward Scott (Elisabeth Walton McMillan)\"\\tfemale\\t43\\t0\\t1\\t24160\\t211.3375\\tB3\\tS',\n",
       " u'781\\t1\\t3\\t\"Ayoub, Miss. Banoura\"\\tfemale\\t13\\t0\\t0\\t2687\\t7.2292\\t\\tC',\n",
       " u'782\\t1\\t1\\t\"Dick, Mrs. Albert Adrian (Vera Gillespie)\"\\tfemale\\t17\\t1\\t0\\t17474\\t57\\tB20\\tS',\n",
       " u'783\\t0\\t1\\t\"Long, Mr. Milton Clyde\"\\tmale\\t29\\t0\\t0\\t113501\\t30\\tD6\\tS',\n",
       " u'784\\t0\\t3\\t\"Johnston, Mr. Andrew G\"\\tmale\\t\\t1\\t2\\tW./C. 6607\\t23.45\\t\\tS',\n",
       " u'785\\t0\\t3\\t\"Ali, Mr. William\"\\tmale\\t25\\t0\\t0\\tSOTON/O.Q. 3101312\\t7.05\\t\\tS',\n",
       " u'786\\t0\\t3\\t\"Harmer, Mr. Abraham (David Lishin)\"\\tmale\\t25\\t0\\t0\\t374887\\t7.25\\t\\tS',\n",
       " u'787\\t1\\t3\\t\"Sjoblom, Miss. Anna Sofia\"\\tfemale\\t18\\t0\\t0\\t3101265\\t7.4958\\t\\tS',\n",
       " u'788\\t0\\t3\\t\"Rice, Master. George Hugh\"\\tmale\\t8\\t4\\t1\\t382652\\t29.125\\t\\tQ',\n",
       " u'789\\t1\\t3\\t\"Dean, Master. Bertram Vere\"\\tmale\\t1\\t1\\t2\\tC.A. 2315\\t20.575\\t\\tS',\n",
       " u'79\\t1\\t2\\t\"Caldwell, Master. Alden Gates\"\\tmale\\t0.83\\t0\\t2\\t248738\\t29\\t\\tS',\n",
       " u'790\\t0\\t1\\t\"Guggenheim, Mr. Benjamin\"\\tmale\\t46\\t0\\t0\\tPC 17593\\t79.2\\tB82 B84\\tC',\n",
       " u'791\\t0\\t3\\t\"Keane, Mr. Andrew \"\"Andy\"\"\"\\tmale\\t\\t0\\t0\\t12460\\t7.75\\t\\tQ',\n",
       " u'792\\t0\\t2\\t\"Gaskell, Mr. Alfred\"\\tmale\\t16\\t0\\t0\\t239865\\t26\\t\\tS',\n",
       " u'793\\t0\\t3\\t\"Sage, Miss. Stella Anna\"\\tfemale\\t\\t8\\t2\\tCA. 2343\\t69.55\\t\\tS',\n",
       " u'794\\t0\\t1\\t\"Hoyt, Mr. William Fisher\"\\tmale\\t\\t0\\t0\\tPC 17600\\t30.6958\\t\\tC',\n",
       " u'795\\t0\\t3\\t\"Dantcheff, Mr. Ristiu\"\\tmale\\t25\\t0\\t0\\t349203\\t7.8958\\t\\tS',\n",
       " u'796\\t0\\t2\\t\"Otter, Mr. Richard\"\\tmale\\t39\\t0\\t0\\t28213\\t13\\t\\tS',\n",
       " u'797\\t1\\t1\\t\"Leader, Dr. Alice (Farnham)\"\\tfemale\\t49\\t0\\t0\\t17465\\t25.9292\\tD17\\tS',\n",
       " u'798\\t1\\t3\\t\"Osman, Mrs. Mara\"\\tfemale\\t31\\t0\\t0\\t349244\\t8.6833\\t\\tS',\n",
       " u'799\\t0\\t3\\t\"Ibrahim Shawah, Mr. Yousseff\"\\tmale\\t30\\t0\\t0\\t2685\\t7.2292\\t\\tC',\n",
       " u'8\\t0\\t3\\t\"Palsson, Master. Gosta Leonard\"\\tmale\\t2\\t3\\t1\\t349909\\t21.075\\t\\tS',\n",
       " u'80\\t1\\t3\\t\"Dowdell, Miss. Elizabeth\"\\tfemale\\t30\\t0\\t0\\t364516\\t12.475\\t\\tS',\n",
       " u'800\\t0\\t3\\t\"Van Impe, Mrs. Jean Baptiste (Rosalie Paula Govaert)\"\\tfemale\\t30\\t1\\t1\\t345773\\t24.15\\t\\tS',\n",
       " u'801\\t0\\t2\\t\"Ponesell, Mr. Martin\"\\tmale\\t34\\t0\\t0\\t250647\\t13\\t\\tS',\n",
       " u'802\\t1\\t2\\t\"Collyer, Mrs. Harvey (Charlotte Annie Tate)\"\\tfemale\\t31\\t1\\t1\\tC.A. 31921\\t26.25\\t\\tS',\n",
       " u'803\\t1\\t1\\t\"Carter, Master. William Thornton II\"\\tmale\\t11\\t1\\t2\\t113760\\t120\\tB96 B98\\tS',\n",
       " u'804\\t1\\t3\\t\"Thomas, Master. Assad Alexander\"\\tmale\\t0.42\\t0\\t1\\t2625\\t8.5167\\t\\tC',\n",
       " u'805\\t1\\t3\\t\"Hedman, Mr. Oskar Arvid\"\\tmale\\t27\\t0\\t0\\t347089\\t6.975\\t\\tS',\n",
       " u'806\\t0\\t3\\t\"Johansson, Mr. Karl Johan\"\\tmale\\t31\\t0\\t0\\t347063\\t7.775\\t\\tS',\n",
       " u'807\\t0\\t1\\t\"Andrews, Mr. Thomas Jr\"\\tmale\\t39\\t0\\t0\\t112050\\t0\\tA36\\tS',\n",
       " u'808\\t0\\t3\\t\"Pettersson, Miss. Ellen Natalia\"\\tfemale\\t18\\t0\\t0\\t347087\\t7.775\\t\\tS',\n",
       " u'809\\t0\\t2\\t\"Meyer, Mr. August\"\\tmale\\t39\\t0\\t0\\t248723\\t13\\t\\tS',\n",
       " u'81\\t0\\t3\\t\"Waelens, Mr. Achille\"\\tmale\\t22\\t0\\t0\\t345767\\t9\\t\\tS',\n",
       " u'810\\t1\\t1\\t\"Chambers, Mrs. Norman Campbell (Bertha Griggs)\"\\tfemale\\t33\\t1\\t0\\t113806\\t53.1\\tE8\\tS',\n",
       " u'811\\t0\\t3\\t\"Alexander, Mr. William\"\\tmale\\t26\\t0\\t0\\t3474\\t7.8875\\t\\tS',\n",
       " u'812\\t0\\t3\\t\"Lester, Mr. James\"\\tmale\\t39\\t0\\t0\\tA/4 48871\\t24.15\\t\\tS',\n",
       " u'813\\t0\\t2\\t\"Slemen, Mr. Richard James\"\\tmale\\t35\\t0\\t0\\t28206\\t10.5\\t\\tS',\n",
       " u'814\\t0\\t3\\t\"Andersson, Miss. Ebba Iris Alfrida\"\\tfemale\\t6\\t4\\t2\\t347082\\t31.275\\t\\tS',\n",
       " u'815\\t0\\t3\\t\"Tomlin, Mr. Ernest Portage\"\\tmale\\t30.5\\t0\\t0\\t364499\\t8.05\\t\\tS',\n",
       " u'816\\t0\\t1\\t\"Fry, Mr. Richard\"\\tmale\\t\\t0\\t0\\t112058\\t0\\tB102\\tS',\n",
       " u'817\\t0\\t3\\t\"Heininen, Miss. Wendla Maria\"\\tfemale\\t23\\t0\\t0\\tSTON/O2. 3101290\\t7.925\\t\\tS',\n",
       " u'818\\t0\\t2\\t\"Mallet, Mr. Albert\"\\tmale\\t31\\t1\\t1\\tS.C./PARIS 2079\\t37.0042\\t\\tC',\n",
       " u'819\\t0\\t3\\t\"Holm, Mr. John Fredrik Alexander\"\\tmale\\t43\\t0\\t0\\tC 7075\\t6.45\\t\\tS',\n",
       " u'82\\t1\\t3\\t\"Sheerlinck, Mr. Jan Baptist\"\\tmale\\t29\\t0\\t0\\t345779\\t9.5\\t\\tS',\n",
       " u'820\\t0\\t3\\t\"Skoog, Master. Karl Thorsten\"\\tmale\\t10\\t3\\t2\\t347088\\t27.9\\t\\tS',\n",
       " u'821\\t1\\t1\\t\"Hays, Mrs. Charles Melville (Clara Jennings Gregg)\"\\tfemale\\t52\\t1\\t1\\t12749\\t93.5\\tB69\\tS',\n",
       " u'822\\t1\\t3\\t\"Lulic, Mr. Nikola\"\\tmale\\t27\\t0\\t0\\t315098\\t8.6625\\t\\tS',\n",
       " u'823\\t0\\t1\\t\"Reuchlin, Jonkheer. John George\"\\tmale\\t38\\t0\\t0\\t19972\\t0\\t\\tS',\n",
       " u'824\\t1\\t3\\t\"Moor, Mrs. (Beila)\"\\tfemale\\t27\\t0\\t1\\t392096\\t12.475\\tE121\\tS',\n",
       " u'825\\t0\\t3\\t\"Panula, Master. Urho Abraham\"\\tmale\\t2\\t4\\t1\\t3101295\\t39.6875\\t\\tS',\n",
       " u'826\\t0\\t3\\t\"Flynn, Mr. John\"\\tmale\\t\\t0\\t0\\t368323\\t6.95\\t\\tQ',\n",
       " u'827\\t0\\t3\\t\"Lam, Mr. Len\"\\tmale\\t\\t0\\t0\\t1601\\t56.4958\\t\\tS',\n",
       " u'828\\t1\\t2\\t\"Mallet, Master. Andre\"\\tmale\\t1\\t0\\t2\\tS.C./PARIS 2079\\t37.0042\\t\\tC',\n",
       " u'829\\t1\\t3\\t\"McCormack, Mr. Thomas Joseph\"\\tmale\\t\\t0\\t0\\t367228\\t7.75\\t\\tQ',\n",
       " u'83\\t1\\t3\\t\"McDermott, Miss. Brigdet Delia\"\\tfemale\\t\\t0\\t0\\t330932\\t7.7875\\t\\tQ',\n",
       " u'830\\t1\\t1\\t\"Stone, Mrs. George Nelson (Martha Evelyn)\"\\tfemale\\t62\\t0\\t0\\t113572\\t80\\tB28\\t',\n",
       " u'831\\t1\\t3\\t\"Yasbeck, Mrs. Antoni (Selini Alexander)\"\\tfemale\\t15\\t1\\t0\\t2659\\t14.4542\\t\\tC',\n",
       " u'832\\t1\\t2\\t\"Richards, Master. George Sibley\"\\tmale\\t0.83\\t1\\t1\\t29106\\t18.75\\t\\tS',\n",
       " u'833\\t0\\t3\\t\"Saad, Mr. Amin\"\\tmale\\t\\t0\\t0\\t2671\\t7.2292\\t\\tC',\n",
       " u'834\\t0\\t3\\t\"Augustsson, Mr. Albert\"\\tmale\\t23\\t0\\t0\\t347468\\t7.8542\\t\\tS',\n",
       " u'835\\t0\\t3\\t\"Allum, Mr. Owen George\"\\tmale\\t18\\t0\\t0\\t2223\\t8.3\\t\\tS',\n",
       " u'836\\t1\\t1\\t\"Compton, Miss. Sara Rebecca\"\\tfemale\\t39\\t1\\t1\\tPC 17756\\t83.1583\\tE49\\tC',\n",
       " u'837\\t0\\t3\\t\"Pasic, Mr. Jakob\"\\tmale\\t21\\t0\\t0\\t315097\\t8.6625\\t\\tS',\n",
       " u'838\\t0\\t3\\t\"Sirota, Mr. Maurice\"\\tmale\\t\\t0\\t0\\t392092\\t8.05\\t\\tS',\n",
       " u'839\\t1\\t3\\t\"Chip, Mr. Chang\"\\tmale\\t32\\t0\\t0\\t1601\\t56.4958\\t\\tS',\n",
       " u'84\\t0\\t1\\t\"Carrau, Mr. Francisco M\"\\tmale\\t28\\t0\\t0\\t113059\\t47.1\\t\\tS',\n",
       " u'840\\t1\\t1\\t\"Marechal, Mr. Pierre\"\\tmale\\t\\t0\\t0\\t11774\\t29.7\\tC47\\tC',\n",
       " u'841\\t0\\t3\\t\"Alhomaki, Mr. Ilmari Rudolf\"\\tmale\\t20\\t0\\t0\\tSOTON/O2 3101287\\t7.925\\t\\tS',\n",
       " u'842\\t0\\t2\\t\"Mudd, Mr. Thomas Charles\"\\tmale\\t16\\t0\\t0\\tS.O./P.P. 3\\t10.5\\t\\tS',\n",
       " u'843\\t1\\t1\\t\"Serepeca, Miss. Augusta\"\\tfemale\\t30\\t0\\t0\\t113798\\t31\\t\\tC',\n",
       " u'844\\t0\\t3\\t\"Lemberopolous, Mr. Peter L\"\\tmale\\t34.5\\t0\\t0\\t2683\\t6.4375\\t\\tC',\n",
       " u'845\\t0\\t3\\t\"Culumovic, Mr. Jeso\"\\tmale\\t17\\t0\\t0\\t315090\\t8.6625\\t\\tS',\n",
       " u'846\\t0\\t3\\t\"Abbing, Mr. Anthony\"\\tmale\\t42\\t0\\t0\\tC.A. 5547\\t7.55\\t\\tS',\n",
       " u'847\\t0\\t3\\t\"Sage, Mr. Douglas Bullen\"\\tmale\\t\\t8\\t2\\tCA. 2343\\t69.55\\t\\tS',\n",
       " u'848\\t0\\t3\\t\"Markoff, Mr. Marin\"\\tmale\\t35\\t0\\t0\\t349213\\t7.8958\\t\\tC',\n",
       " u'849\\t0\\t2\\t\"Harper, Rev. John\"\\tmale\\t28\\t0\\t1\\t248727\\t33\\t\\tS',\n",
       " u'85\\t1\\t2\\t\"Ilett, Miss. Bertha\"\\tfemale\\t17\\t0\\t0\\tSO/C 14885\\t10.5\\t\\tS',\n",
       " u'850\\t1\\t1\\t\"Goldenberg, Mrs. Samuel L (Edwiga Grabowska)\"\\tfemale\\t\\t1\\t0\\t17453\\t89.1042\\tC92\\tC',\n",
       " u'851\\t0\\t3\\t\"Andersson, Master. Sigvard Harald Elias\"\\tmale\\t4\\t4\\t2\\t347082\\t31.275\\t\\tS',\n",
       " u'852\\t0\\t3\\t\"Svensson, Mr. Johan\"\\tmale\\t74\\t0\\t0\\t347060\\t7.775\\t\\tS',\n",
       " u'853\\t0\\t3\\t\"Boulos, Miss. Nourelain\"\\tfemale\\t9\\t1\\t1\\t2678\\t15.2458\\t\\tC',\n",
       " u'854\\t1\\t1\\t\"Lines, Miss. Mary Conover\"\\tfemale\\t16\\t0\\t1\\tPC 17592\\t39.4\\tD28\\tS',\n",
       " u'855\\t0\\t2\\t\"Carter, Mrs. Ernest Courtenay (Lilian Hughes)\"\\tfemale\\t44\\t1\\t0\\t244252\\t26\\t\\tS',\n",
       " u'856\\t1\\t3\\t\"Aks, Mrs. Sam (Leah Rosen)\"\\tfemale\\t18\\t0\\t1\\t392091\\t9.35\\t\\tS',\n",
       " u'857\\t1\\t1\\t\"Wick, Mrs. George Dennick (Mary Hitchcock)\"\\tfemale\\t45\\t1\\t1\\t36928\\t164.8667\\t\\tS',\n",
       " u'858\\t1\\t1\\t\"Daly, Mr. Peter Denis \"\\tmale\\t51\\t0\\t0\\t113055\\t26.55\\tE17\\tS',\n",
       " u'859\\t1\\t3\\t\"Baclini, Mrs. Solomon (Latifa Qurban)\"\\tfemale\\t24\\t0\\t3\\t2666\\t19.2583\\t\\tC',\n",
       " u'86\\t1\\t3\\t\"Backstrom, Mrs. Karl Alfred (Maria Mathilda Gustafsson)\"\\tfemale\\t33\\t3\\t0\\t3101278\\t15.85\\t\\tS',\n",
       " u'860\\t0\\t3\\t\"Razi, Mr. Raihed\"\\tmale\\t\\t0\\t0\\t2629\\t7.2292\\t\\tC',\n",
       " u'861\\t0\\t3\\t\"Hansen, Mr. Claus Peter\"\\tmale\\t41\\t2\\t0\\t350026\\t14.1083\\t\\tS',\n",
       " u'862\\t0\\t2\\t\"Giles, Mr. Frederick Edward\"\\tmale\\t21\\t1\\t0\\t28134\\t11.5\\t\\tS',\n",
       " u'863\\t1\\t1\\t\"Swift, Mrs. Frederick Joel (Margaret Welles Barron)\"\\tfemale\\t48\\t0\\t0\\t17466\\t25.9292\\tD17\\tS',\n",
       " u'864\\t0\\t3\\t\"Sage, Miss. Dorothy Edith \"\"Dolly\"\"\"\\tfemale\\t\\t8\\t2\\tCA. 2343\\t69.55\\t\\tS',\n",
       " u'865\\t0\\t2\\t\"Gill, Mr. John William\"\\tmale\\t24\\t0\\t0\\t233866\\t13\\t\\tS',\n",
       " u'866\\t1\\t2\\t\"Bystrom, Mrs. (Karolina)\"\\tfemale\\t42\\t0\\t0\\t236852\\t13\\t\\tS',\n",
       " u'867\\t1\\t2\\t\"Duran y More, Miss. Asuncion\"\\tfemale\\t27\\t1\\t0\\tSC/PARIS 2149\\t13.8583\\t\\tC',\n",
       " u'868\\t0\\t1\\t\"Roebling, Mr. Washington Augustus II\"\\tmale\\t31\\t0\\t0\\tPC 17590\\t50.4958\\tA24\\tS',\n",
       " u'869\\t0\\t3\\t\"van Melkebeke, Mr. Philemon\"\\tmale\\t\\t0\\t0\\t345777\\t9.5\\t\\tS',\n",
       " u'87\\t0\\t3\\t\"Ford, Mr. William Neal\"\\tmale\\t16\\t1\\t3\\tW./C. 6608\\t34.375\\t\\tS',\n",
       " u'870\\t1\\t3\\t\"Johnson, Master. Harold Theodor\"\\tmale\\t4\\t1\\t1\\t347742\\t11.1333\\t\\tS',\n",
       " u'871\\t0\\t3\\t\"Balkic, Mr. Cerin\"\\tmale\\t26\\t0\\t0\\t349248\\t7.8958\\t\\tS',\n",
       " u'872\\t1\\t1\\t\"Beckwith, Mrs. Richard Leonard (Sallie Monypeny)\"\\tfemale\\t47\\t1\\t1\\t11751\\t52.5542\\tD35\\tS',\n",
       " u'873\\t0\\t1\\t\"Carlsson, Mr. Frans Olof\"\\tmale\\t33\\t0\\t0\\t695\\t5\\tB51 B53 B55\\tS',\n",
       " u'874\\t0\\t3\\t\"Vander Cruyssen, Mr. Victor\"\\tmale\\t47\\t0\\t0\\t345765\\t9\\t\\tS',\n",
       " u'875\\t1\\t2\\t\"Abelson, Mrs. Samuel (Hannah Wizosky)\"\\tfemale\\t28\\t1\\t0\\tP/PP 3381\\t24\\t\\tC',\n",
       " u'876\\t1\\t3\\t\"Najib, Miss. Adele Kiamie \"\"Jane\"\"\"\\tfemale\\t15\\t0\\t0\\t2667\\t7.225\\t\\tC',\n",
       " u'877\\t0\\t3\\t\"Gustafsson, Mr. Alfred Ossian\"\\tmale\\t20\\t0\\t0\\t7534\\t9.8458\\t\\tS',\n",
       " u'878\\t0\\t3\\t\"Petroff, Mr. Nedelio\"\\tmale\\t19\\t0\\t0\\t349212\\t7.8958\\t\\tS',\n",
       " u'879\\t0\\t3\\t\"Laleff, Mr. Kristo\"\\tmale\\t\\t0\\t0\\t349217\\t7.8958\\t\\tS',\n",
       " u'88\\t0\\t3\\t\"Slocovski, Mr. Selman Francis\"\\tmale\\t\\t0\\t0\\tSOTON/OQ 392086\\t8.05\\t\\tS',\n",
       " u'880\\t1\\t1\\t\"Potter, Mrs. Thomas Jr (Lily Alexenia Wilson)\"\\tfemale\\t56\\t0\\t1\\t11767\\t83.1583\\tC50\\tC',\n",
       " u'881\\t1\\t2\\t\"Shelley, Mrs. William (Imanita Parrish Hall)\"\\tfemale\\t25\\t0\\t1\\t230433\\t26\\t\\tS',\n",
       " u'882\\t0\\t3\\t\"Markun, Mr. Johann\"\\tmale\\t33\\t0\\t0\\t349257\\t7.8958\\t\\tS',\n",
       " u'883\\t0\\t3\\t\"Dahlberg, Miss. Gerda Ulrika\"\\tfemale\\t22\\t0\\t0\\t7552\\t10.5167\\t\\tS',\n",
       " u'884\\t0\\t2\\t\"Banfield, Mr. Frederick James\"\\tmale\\t28\\t0\\t0\\tC.A./SOTON 34068\\t10.5\\t\\tS',\n",
       " u'885\\t0\\t3\\t\"Sutehall, Mr. Henry Jr\"\\tmale\\t25\\t0\\t0\\tSOTON/OQ 392076\\t7.05\\t\\tS',\n",
       " u'886\\t0\\t3\\t\"Rice, Mrs. William (Margaret Norton)\"\\tfemale\\t39\\t0\\t5\\t382652\\t29.125\\t\\tQ',\n",
       " u'887\\t0\\t2\\t\"Montvila, Rev. Juozas\"\\tmale\\t27\\t0\\t0\\t211536\\t13\\t\\tS',\n",
       " u'888\\t1\\t1\\t\"Graham, Miss. Margaret Edith\"\\tfemale\\t19\\t0\\t0\\t112053\\t30\\tB42\\tS',\n",
       " u'889\\t0\\t3\\t\"Johnston, Miss. Catherine Helen \"\"Carrie\"\"\"\\tfemale\\t\\t1\\t2\\tW./C. 6607\\t23.45\\t\\tS',\n",
       " u'89\\t1\\t1\\t\"Fortune, Miss. Mabel Helen\"\\tfemale\\t23\\t3\\t2\\t19950\\t263\\tC23 C25 C27\\tS',\n",
       " u'890\\t1\\t1\\t\"Behr, Mr. Karl Howell\"\\tmale\\t26\\t0\\t0\\t111369\\t30\\tC148\\tC',\n",
       " u'891\\t0\\t3\\t\"Dooley, Mr. Patrick\"\\tmale\\t32\\t0\\t0\\t370376\\t7.75\\t\\tQ',\n",
       " u'9\\t1\\t3\\t\"Johnson, Mrs. Oscar W (Elisabeth Vilhelmina Berg)\"\\tfemale\\t27\\t0\\t2\\t347742\\t11.1333\\t\\tS',\n",
       " u'90\\t0\\t3\\t\"Celotti, Mr. Francesco\"\\tmale\\t24\\t0\\t0\\t343275\\t8.05\\t\\tS',\n",
       " u'91\\t0\\t3\\t\"Christmann, Mr. Emil\"\\tmale\\t29\\t0\\t0\\t343276\\t8.05\\t\\tS',\n",
       " u'92\\t0\\t3\\t\"Andreasson, Mr. Paul Edvin\"\\tmale\\t20\\t0\\t0\\t347466\\t7.8542\\t\\tS',\n",
       " u'93\\t0\\t1\\t\"Chaffee, Mr. Herbert Fuller\"\\tmale\\t46\\t1\\t0\\tW.E.P. 5734\\t61.175\\tE31\\tS',\n",
       " u'94\\t0\\t3\\t\"Dean, Mr. Bertram Frank\"\\tmale\\t26\\t1\\t2\\tC.A. 2315\\t20.575\\t\\tS',\n",
       " u'95\\t0\\t3\\t\"Coxon, Mr. Daniel\"\\tmale\\t59\\t0\\t0\\t364500\\t7.25\\t\\tS',\n",
       " u'96\\t0\\t3\\t\"Shorney, Mr. Charles Joseph\"\\tmale\\t\\t0\\t0\\t374910\\t8.05\\t\\tS',\n",
       " u'97\\t0\\t1\\t\"Goldschmidt, Mr. George B\"\\tmale\\t71\\t0\\t0\\tPC 17754\\t34.6542\\tA5\\tC',\n",
       " u'98\\t1\\t1\\t\"Greenfield, Mr. William Bertram\"\\tmale\\t23\\t0\\t1\\tPC 17759\\t63.3583\\tD10 D12\\tC',\n",
       " u'99\\t1\\t2\\t\"Doling, Mrs. John T (Ada Julia Bone)\"\\tfemale\\t34\\t0\\t1\\t231919\\t23\\t\\tS',\n",
       " u'PassengerId\\tSurvived\\tPclass\\tName\\tSex\\tAge\\tSibSp\\tParch\\tTicket\\tFare\\tCabin\\tEmbarked',\n",
       " 'textFile']"
      ]
     },
     "execution_count": 52,
     "metadata": {},
     "output_type": "execute_result"
    }
   ],
   "source": [
    "sorted(sc.union([textFile, parallelized]).collect())"
   ]
  },
  {
   "cell_type": "code",
   "execution_count": 55,
   "metadata": {
    "collapsed": false
   },
   "outputs": [
    {
     "data": {
      "text/plain": [
       "[[1], [2, 3], [4, 5]]"
      ]
     },
     "execution_count": 55,
     "metadata": {},
     "output_type": "execute_result"
    }
   ],
   "source": [
    "#coalesce: Return a new RDD that is reduced into numPartitions partitions.\n",
    "sc.parallelize([1, 2, 3, 4, 5], 3).glom().collect()\n"
   ]
  },
  {
   "cell_type": "code",
   "execution_count": 56,
   "metadata": {
    "collapsed": false
   },
   "outputs": [
    {
     "data": {
      "text/plain": [
       "[[1, 2, 3, 4, 5]]"
      ]
     },
     "execution_count": 56,
     "metadata": {},
     "output_type": "execute_result"
    }
   ],
   "source": [
    "sc.parallelize([1, 2, 3, 4, 5], 3).coalesce(1).glom().collect()"
   ]
  },
  {
   "cell_type": "code",
   "execution_count": 58,
   "metadata": {
    "collapsed": false
   },
   "outputs": [
    {
     "data": {
      "text/plain": [
       "[('a', ([1], [2])), ('b', ([4], []))]"
      ]
     },
     "execution_count": 58,
     "metadata": {},
     "output_type": "execute_result"
    }
   ],
   "source": [
    "#cogroup: For each key k in self or other, return a resulting RDD that contains a tuple with the list of values for \n",
    "#that key in self as well as other\n",
    "x = sc.parallelize([(\"a\", 1), (\"b\", 4)])\n",
    "y = sc.parallelize([(\"a\", 2)])\n",
    "[(x, tuple(map(list, y))) for x, y in sorted(list(x.cogroup(y).collect()))]"
   ]
  },
  {
   "cell_type": "code",
   "execution_count": 60,
   "metadata": {
    "collapsed": false
   },
   "outputs": [
    {
     "data": {
      "text/plain": [
       "(2, 4)"
      ]
     },
     "execution_count": 60,
     "metadata": {},
     "output_type": "execute_result"
    }
   ],
   "source": [
    "#collectAsMap(): Return the key-value pairs in this RDD to the master as a dictionary\n",
    "#this method should only be used if the resulting data is expected to be small\n",
    "m = sc.parallelize([(1, 2), (3, 4)]).collectAsMap()\n",
    "m[1], m[3]"
   ]
  },
  {
   "cell_type": "code",
   "execution_count": 62,
   "metadata": {
    "collapsed": true
   },
   "outputs": [],
   "source": [
    "#combineByKey: Turns an RDD[(K, V)] into a result of type RDD[(K, C)], for a “combined type” C.\n",
    "#Users provide three functions:\n",
    "    #createCombiner, which turns a V into a C (e.g., creates a one-element list)\n",
    "    #mergeValue, to merge a V into a C (e.g., adds it to the end of a list)\n",
    "    #mergeCombiners, to combine two C’s into a single one."
   ]
  },
  {
   "cell_type": "code",
   "execution_count": 65,
   "metadata": {
    "collapsed": false
   },
   "outputs": [
    {
     "data": {
      "text/plain": [
       "[('a', '15'), ('b', '2')]"
      ]
     },
     "execution_count": 65,
     "metadata": {},
     "output_type": "execute_result"
    }
   ],
   "source": [
    "x = sc.parallelize([(\"a\", 1), (\"b\", 2), (\"a\", 5)])\n",
    "def add(a, b): return a + str(b)\n",
    "sorted(x.combineByKey(str, add, add).collect())"
   ]
  },
  {
   "cell_type": "code",
   "execution_count": 66,
   "metadata": {
    "collapsed": false
   },
   "outputs": [
    {
     "data": {
      "text/plain": [
       "3"
      ]
     },
     "execution_count": 66,
     "metadata": {},
     "output_type": "execute_result"
    }
   ],
   "source": [
    "sc.parallelize([2, 3, 4]).count()"
   ]
  },
  {
   "cell_type": "code",
   "execution_count": 70,
   "metadata": {
    "collapsed": false
   },
   "outputs": [
    {
     "data": {
      "text/plain": [
       "1000"
      ]
     },
     "execution_count": 70,
     "metadata": {},
     "output_type": "execute_result"
    }
   ],
   "source": [
    "#Approximate version of count() that returns a potentially incomplete result within a timeout, even if not all \n",
    "#tasks have finished.\n",
    "rdd = sc.parallelize(range(1000), 10)\n",
    "rdd.countApprox(1000, .95) "
   ]
  },
  {
   "cell_type": "code",
   "execution_count": 71,
   "metadata": {
    "collapsed": false
   },
   "outputs": [],
   "source": [
    "#countApprox(timeout, confidence=0.95)"
   ]
  },
  {
   "cell_type": "code",
   "execution_count": 72,
   "metadata": {
    "collapsed": true
   },
   "outputs": [],
   "source": [
    "n = sc.parallelize(range(1000)).map(str).countApproxDistinct()"
   ]
  },
  {
   "cell_type": "code",
   "execution_count": 73,
   "metadata": {
    "collapsed": false
   },
   "outputs": [
    {
     "data": {
      "text/plain": [
       "1014L"
      ]
     },
     "execution_count": 73,
     "metadata": {},
     "output_type": "execute_result"
    }
   ],
   "source": [
    "n"
   ]
  },
  {
   "cell_type": "code",
   "execution_count": 74,
   "metadata": {
    "collapsed": false
   },
   "outputs": [
    {
     "data": {
      "text/plain": [
       "True"
      ]
     },
     "execution_count": 74,
     "metadata": {},
     "output_type": "execute_result"
    }
   ],
   "source": [
    "900 < n < 1100"
   ]
  },
  {
   "cell_type": "code",
   "execution_count": 75,
   "metadata": {
    "collapsed": true
   },
   "outputs": [],
   "source": [
    "n = sc.parallelize([i % 20 for i in range(1000)]).countApproxDistinct()"
   ]
  },
  {
   "cell_type": "code",
   "execution_count": 76,
   "metadata": {
    "collapsed": false
   },
   "outputs": [
    {
     "data": {
      "text/plain": [
       "19L"
      ]
     },
     "execution_count": 76,
     "metadata": {},
     "output_type": "execute_result"
    }
   ],
   "source": [
    "n"
   ]
  },
  {
   "cell_type": "code",
   "execution_count": 77,
   "metadata": {
    "collapsed": false
   },
   "outputs": [
    {
     "data": {
      "text/plain": [
       "True"
      ]
     },
     "execution_count": 77,
     "metadata": {},
     "output_type": "execute_result"
    }
   ],
   "source": [
    "16 < n < 24"
   ]
  },
  {
   "cell_type": "code",
   "execution_count": 78,
   "metadata": {
    "collapsed": true
   },
   "outputs": [],
   "source": [
    "#Count the number of elements for each key, and return the result to the master as a dictionary\n",
    "rdd = sc.parallelize([(\"a\", 1), (\"b\", 1), (\"a\", 1)])"
   ]
  },
  {
   "cell_type": "code",
   "execution_count": 79,
   "metadata": {
    "collapsed": false
   },
   "outputs": [
    {
     "data": {
      "text/plain": [
       "[('a', 2), ('b', 1)]"
      ]
     },
     "execution_count": 79,
     "metadata": {},
     "output_type": "execute_result"
    }
   ],
   "source": [
    "sorted(rdd.countByKey().items())"
   ]
  },
  {
   "cell_type": "code",
   "execution_count": 80,
   "metadata": {
    "collapsed": false
   },
   "outputs": [
    {
     "data": {
      "text/plain": [
       "[(1, 2), (2, 3)]"
      ]
     },
     "execution_count": 80,
     "metadata": {},
     "output_type": "execute_result"
    }
   ],
   "source": [
    "#Return the count of each unique value in this RDD as a dictionary of (value, count) pairs.\n",
    "sorted(sc.parallelize([1, 2, 1, 2, 2], 2).countByValue().items())"
   ]
  },
  {
   "cell_type": "code",
   "execution_count": 81,
   "metadata": {
    "collapsed": false
   },
   "outputs": [
    {
     "data": {
      "text/plain": [
       "[1, 2, 3]"
      ]
     },
     "execution_count": 81,
     "metadata": {},
     "output_type": "execute_result"
    }
   ],
   "source": [
    "#Return a new RDD containing the distinct elements in this RDD.\n",
    "sorted(sc.parallelize([1, 1, 2, 3]).distinct().collect())"
   ]
  },
  {
   "cell_type": "code",
   "execution_count": 82,
   "metadata": {
    "collapsed": true
   },
   "outputs": [],
   "source": [
    "#Return a new RDD containing only the elements that satisfy a predicate.\n",
    "rdd = sc.parallelize([1, 2, 3, 4, 5])"
   ]
  },
  {
   "cell_type": "code",
   "execution_count": 83,
   "metadata": {
    "collapsed": false
   },
   "outputs": [
    {
     "data": {
      "text/plain": [
       "[2, 4]"
      ]
     },
     "execution_count": 83,
     "metadata": {},
     "output_type": "execute_result"
    }
   ],
   "source": [
    "rdd.filter(lambda x: x % 2 == 0).collect()"
   ]
  },
  {
   "cell_type": "code",
   "execution_count": 84,
   "metadata": {
    "collapsed": false
   },
   "outputs": [
    {
     "data": {
      "text/plain": [
       "2"
      ]
     },
     "execution_count": 84,
     "metadata": {},
     "output_type": "execute_result"
    }
   ],
   "source": [
    "#Return the first element in this RDD\n",
    "sc.parallelize([2, 3, 4]).first()"
   ]
  },
  {
   "cell_type": "code",
   "execution_count": 85,
   "metadata": {
    "collapsed": false
   },
   "outputs": [
    {
     "ename": "ValueError",
     "evalue": "RDD is empty",
     "output_type": "error",
     "traceback": [
      "\u001b[0;31m---------------------------------------------------------------------------\u001b[0m",
      "\u001b[0;31mValueError\u001b[0m                                Traceback (most recent call last)",
      "\u001b[0;32m<ipython-input-85-2ffcae9278b8>\u001b[0m in \u001b[0;36m<module>\u001b[0;34m()\u001b[0m\n\u001b[0;32m----> 1\u001b[0;31m \u001b[0msc\u001b[0m\u001b[1;33m.\u001b[0m\u001b[0mparallelize\u001b[0m\u001b[1;33m(\u001b[0m\u001b[1;33m[\u001b[0m\u001b[1;33m]\u001b[0m\u001b[1;33m)\u001b[0m\u001b[1;33m.\u001b[0m\u001b[0mfirst\u001b[0m\u001b[1;33m(\u001b[0m\u001b[1;33m)\u001b[0m\u001b[1;33m\u001b[0m\u001b[0m\n\u001b[0m",
      "\u001b[0;32mD:\\spark-2.1.0-bin-hadoop2.7\\spark-2.1.0-bin-hadoop2.7/python\\pyspark\\rdd.pyc\u001b[0m in \u001b[0;36mfirst\u001b[0;34m(self)\u001b[0m\n\u001b[1;32m   1362\u001b[0m         \u001b[1;32mif\u001b[0m \u001b[0mrs\u001b[0m\u001b[1;33m:\u001b[0m\u001b[1;33m\u001b[0m\u001b[0m\n\u001b[1;32m   1363\u001b[0m             \u001b[1;32mreturn\u001b[0m \u001b[0mrs\u001b[0m\u001b[1;33m[\u001b[0m\u001b[1;36m0\u001b[0m\u001b[1;33m]\u001b[0m\u001b[1;33m\u001b[0m\u001b[0m\n\u001b[0;32m-> 1364\u001b[0;31m         \u001b[1;32mraise\u001b[0m \u001b[0mValueError\u001b[0m\u001b[1;33m(\u001b[0m\u001b[1;34m\"RDD is empty\"\u001b[0m\u001b[1;33m)\u001b[0m\u001b[1;33m\u001b[0m\u001b[0m\n\u001b[0m\u001b[1;32m   1365\u001b[0m \u001b[1;33m\u001b[0m\u001b[0m\n\u001b[1;32m   1366\u001b[0m     \u001b[1;32mdef\u001b[0m \u001b[0misEmpty\u001b[0m\u001b[1;33m(\u001b[0m\u001b[0mself\u001b[0m\u001b[1;33m)\u001b[0m\u001b[1;33m:\u001b[0m\u001b[1;33m\u001b[0m\u001b[0m\n",
      "\u001b[0;31mValueError\u001b[0m: RDD is empty"
     ]
    }
   ],
   "source": [
    "sc.parallelize([]).first()"
   ]
  },
  {
   "cell_type": "code",
   "execution_count": 86,
   "metadata": {
    "collapsed": true
   },
   "outputs": [],
   "source": [
    "#Return a new RDD by first applying a function to all elements of this RDD, and then flattening the results.\n",
    "rdd = sc.parallelize([2, 3, 4])"
   ]
  },
  {
   "cell_type": "code",
   "execution_count": 87,
   "metadata": {
    "collapsed": false
   },
   "outputs": [
    {
     "data": {
      "text/plain": [
       "[1, 1, 1, 2, 2, 3]"
      ]
     },
     "execution_count": 87,
     "metadata": {},
     "output_type": "execute_result"
    }
   ],
   "source": [
    "sorted(rdd.flatMap(lambda x: range(1, x)).collect())"
   ]
  },
  {
   "cell_type": "code",
   "execution_count": 88,
   "metadata": {
    "collapsed": false
   },
   "outputs": [
    {
     "data": {
      "text/plain": [
       "[(2, 2), (2, 2), (3, 3), (3, 3), (4, 4), (4, 4)]"
      ]
     },
     "execution_count": 88,
     "metadata": {},
     "output_type": "execute_result"
    }
   ],
   "source": [
    "sorted(rdd.flatMap(lambda x: [(x, x), (x, x)]).collect())"
   ]
  },
  {
   "cell_type": "code",
   "execution_count": 89,
   "metadata": {
    "collapsed": true
   },
   "outputs": [],
   "source": [
    "#Pass each value in the key-value pair RDD through a flatMap function without changing the keys; this also retains the \n",
    "#original RDD’s partitioning"
   ]
  },
  {
   "cell_type": "code",
   "execution_count": 90,
   "metadata": {
    "collapsed": true
   },
   "outputs": [],
   "source": [
    "x = sc.parallelize([(\"a\", [\"x\", \"y\", \"z\"]), (\"b\", [\"p\", \"r\"])])"
   ]
  },
  {
   "cell_type": "code",
   "execution_count": 91,
   "metadata": {
    "collapsed": true
   },
   "outputs": [],
   "source": [
    "def f(x): return x"
   ]
  },
  {
   "cell_type": "code",
   "execution_count": 92,
   "metadata": {
    "collapsed": false
   },
   "outputs": [
    {
     "data": {
      "text/plain": [
       "[('a', 'x'), ('a', 'y'), ('a', 'z'), ('b', 'p'), ('b', 'r')]"
      ]
     },
     "execution_count": 92,
     "metadata": {},
     "output_type": "execute_result"
    }
   ],
   "source": [
    "x.flatMapValues(f).collect()"
   ]
  },
  {
   "cell_type": "code",
   "execution_count": 93,
   "metadata": {
    "collapsed": true
   },
   "outputs": [],
   "source": [
    "#fold(zeroValue, op): Aggregate the elements of each partition, and then the results for all the partitions, using a given \n",
    "#associative function and a neutral “zero value.”"
   ]
  },
  {
   "cell_type": "code",
   "execution_count": 94,
   "metadata": {
    "collapsed": false
   },
   "outputs": [
    {
     "data": {
      "text/plain": [
       "15"
      ]
     },
     "execution_count": 94,
     "metadata": {},
     "output_type": "execute_result"
    }
   ],
   "source": [
    "from operator import add\n",
    "sc.parallelize([1, 2, 3, 4, 5]).fold(0, add)"
   ]
  },
  {
   "cell_type": "code",
   "execution_count": 95,
   "metadata": {
    "collapsed": true
   },
   "outputs": [],
   "source": [
    "#foldByKey(zeroValue, func, numPartitions=None, partitionFunc=<function portable_hash at 0x7fc35dbc8e60>)\n",
    "#Merge the values for each key using an associative function “func” and a neutral “zeroValue” which may be added to the result \n",
    "#an arbitrary number of times, and must not change the result (e.g., 0 for addition, or 1 for multiplication.)."
   ]
  },
  {
   "cell_type": "code",
   "execution_count": 96,
   "metadata": {
    "collapsed": true
   },
   "outputs": [],
   "source": [
    "rdd = sc.parallelize([(\"a\", 1), (\"b\", 1), (\"a\", 1)])"
   ]
  },
  {
   "cell_type": "code",
   "execution_count": 97,
   "metadata": {
    "collapsed": true
   },
   "outputs": [],
   "source": [
    "from operator import add"
   ]
  },
  {
   "cell_type": "code",
   "execution_count": 98,
   "metadata": {
    "collapsed": false
   },
   "outputs": [
    {
     "data": {
      "text/plain": [
       "[('a', 2), ('b', 1)]"
      ]
     },
     "execution_count": 98,
     "metadata": {},
     "output_type": "execute_result"
    }
   ],
   "source": [
    "sorted(rdd.foldByKey(0, add).collect())"
   ]
  },
  {
   "cell_type": "code",
   "execution_count": null,
   "metadata": {
    "collapsed": true
   },
   "outputs": [],
   "source": [
    "#foreach(f): Applies a function to all elements of this RDD.\n"
   ]
  },
  {
   "cell_type": "code",
   "execution_count": 101,
   "metadata": {
    "collapsed": true
   },
   "outputs": [],
   "source": [
    "def f(x): print(x)"
   ]
  },
  {
   "cell_type": "code",
   "execution_count": 106,
   "metadata": {
    "collapsed": false
   },
   "outputs": [],
   "source": [
    "sc.parallelize([1, 2, 3, 4, 5]).foreach(f)"
   ]
  },
  {
   "cell_type": "code",
   "execution_count": 108,
   "metadata": {
    "collapsed": false
   },
   "outputs": [],
   "source": [
    "def f(iterator): \n",
    "    for x in iterator: \n",
    "        print(x)"
   ]
  },
  {
   "cell_type": "code",
   "execution_count": 109,
   "metadata": {
    "collapsed": true
   },
   "outputs": [],
   "source": [
    "sc.parallelize([1, 2, 3, 4, 5]).foreachPartition(f)"
   ]
  },
  {
   "cell_type": "code",
   "execution_count": 110,
   "metadata": {
    "collapsed": false
   },
   "outputs": [
    {
     "data": {
      "text/plain": [
       "[('a', (1, 2)), ('b', (4, None)), ('c', (None, 8))]"
      ]
     },
     "execution_count": 110,
     "metadata": {},
     "output_type": "execute_result"
    }
   ],
   "source": [
    "#fullOuterJoin: Hash-partitions the resulting RDD into the given number of partitions\n",
    "x = sc.parallelize([(\"a\", 1), (\"b\", 4)])\n",
    "y = sc.parallelize([(\"a\", 2), (\"c\", 8)])\n",
    "\n",
    "sorted(x.fullOuterJoin(y).collect())"
   ]
  },
  {
   "cell_type": "code",
   "execution_count": 111,
   "metadata": {
    "collapsed": false
   },
   "outputs": [
    {
     "data": {
      "text/plain": [
       "2"
      ]
     },
     "execution_count": 111,
     "metadata": {},
     "output_type": "execute_result"
    }
   ],
   "source": [
    "#Returns the number of partitions in RDD\n",
    "rdd = sc.parallelize([1, 2, 3, 4], 2)\n",
    "rdd.getNumPartitions()"
   ]
  },
  {
   "cell_type": "code",
   "execution_count": 112,
   "metadata": {
    "collapsed": true
   },
   "outputs": [],
   "source": [
    "#Get the RDD’s current storage level.\n",
    "rdd1 = sc.parallelize([1,2])\n"
   ]
  },
  {
   "cell_type": "code",
   "execution_count": 113,
   "metadata": {
    "collapsed": false
   },
   "outputs": [
    {
     "data": {
      "text/plain": [
       "StorageLevel(False, False, False, False, 1)"
      ]
     },
     "execution_count": 113,
     "metadata": {},
     "output_type": "execute_result"
    }
   ],
   "source": [
    "rdd1.getStorageLevel()"
   ]
  },
  {
   "cell_type": "code",
   "execution_count": 114,
   "metadata": {
    "collapsed": false
   },
   "outputs": [
    {
     "name": "stdout",
     "output_type": "stream",
     "text": [
      "Serialized 1x Replicated\n"
     ]
    }
   ],
   "source": [
    "print(rdd1.getStorageLevel())"
   ]
  },
  {
   "cell_type": "code",
   "execution_count": 115,
   "metadata": {
    "collapsed": false
   },
   "outputs": [
    {
     "data": {
      "text/plain": [
       "[[1, 2], [3, 4]]"
      ]
     },
     "execution_count": 115,
     "metadata": {},
     "output_type": "execute_result"
    }
   ],
   "source": [
    "#Return an RDD created by coalescing all elements within each partition into a list\n",
    "rdd = sc.parallelize([1, 2, 3, 4], 2)\n",
    "sorted(rdd.glom().collect())"
   ]
  },
  {
   "cell_type": "code",
   "execution_count": 116,
   "metadata": {
    "collapsed": false
   },
   "outputs": [
    {
     "data": {
      "text/plain": [
       "[(0, [2, 8]), (1, [1, 1, 3, 5])]"
      ]
     },
     "execution_count": 116,
     "metadata": {},
     "output_type": "execute_result"
    }
   ],
   "source": [
    "#Return an RDD of grouped items.\n",
    "rdd = sc.parallelize([1, 1, 2, 3, 5, 8])\n",
    "result = rdd.groupBy(lambda x: x % 2).collect()\n",
    "sorted([(x, sorted(y)) for (x, y) in result])"
   ]
  },
  {
   "cell_type": "code",
   "execution_count": 117,
   "metadata": {
    "collapsed": true
   },
   "outputs": [],
   "source": [
    "#Group the values for each key in the RDD into a single sequence. Hash-partitions the resulting RDD with numPartitions partitions\n",
    "\n",
    "#Note: If you are grouping in order to perform an aggregation (such as a sum or average) over each key, using reduceByKey or \n",
    "#aggregateByKey will provide much better performance."
   ]
  },
  {
   "cell_type": "code",
   "execution_count": 118,
   "metadata": {
    "collapsed": true
   },
   "outputs": [],
   "source": [
    "rdd = sc.parallelize([(\"a\", 1), (\"b\", 1), (\"a\", 1)])"
   ]
  },
  {
   "cell_type": "code",
   "execution_count": 119,
   "metadata": {
    "collapsed": false
   },
   "outputs": [
    {
     "data": {
      "text/plain": [
       "[('a', 2), ('b', 1)]"
      ]
     },
     "execution_count": 119,
     "metadata": {},
     "output_type": "execute_result"
    }
   ],
   "source": [
    "sorted(rdd.groupByKey().mapValues(len).collect())"
   ]
  },
  {
   "cell_type": "code",
   "execution_count": 120,
   "metadata": {
    "collapsed": false
   },
   "outputs": [
    {
     "data": {
      "text/plain": [
       "[('a', [1, 1]), ('b', [1])]"
      ]
     },
     "execution_count": 120,
     "metadata": {},
     "output_type": "execute_result"
    }
   ],
   "source": [
    "sorted(rdd.groupByKey().mapValues(list).collect())"
   ]
  },
  {
   "cell_type": "code",
   "execution_count": 121,
   "metadata": {
    "collapsed": false
   },
   "outputs": [
    {
     "data": {
      "text/plain": [
       "[('a', ([5], [1], [2], [])), ('b', ([6], [4], [], [42]))]"
      ]
     },
     "execution_count": 121,
     "metadata": {},
     "output_type": "execute_result"
    }
   ],
   "source": [
    "#groupWith(other, *others): Alias for cogroup but with support for multiple RDDs\n",
    "w = sc.parallelize([(\"a\", 5), (\"b\", 6)])\n",
    "x = sc.parallelize([(\"a\", 1), (\"b\", 4)])\n",
    "y = sc.parallelize([(\"a\", 2)])\n",
    "z = sc.parallelize([(\"b\", 42)])\n",
    "[(x, tuple(map(list, y))) for x, y in sorted(list(w.groupWith(x, y, z).collect()))]"
   ]
  },
  {
   "cell_type": "code",
   "execution_count": 123,
   "metadata": {
    "collapsed": true
   },
   "outputs": [],
   "source": [
    "#Compute a histogram using the provided buckets\n",
    "#If buckets is a number, it will generate buckets which are evenly spaced between the minimum and maximum of the RDD"
   ]
  },
  {
   "cell_type": "code",
   "execution_count": 126,
   "metadata": {
    "collapsed": false
   },
   "outputs": [
    {
     "data": {
      "text/plain": [
       "([0.0, 24.5, 49], [25, 25])"
      ]
     },
     "execution_count": 126,
     "metadata": {},
     "output_type": "execute_result"
    }
   ],
   "source": [
    "rdd = sc.parallelize(range(50))\n",
    "rdd.histogram(2)"
   ]
  },
  {
   "cell_type": "code",
   "execution_count": 127,
   "metadata": {
    "collapsed": false
   },
   "outputs": [
    {
     "data": {
      "text/plain": [
       "([0, 5, 25, 50], [5, 20, 25])"
      ]
     },
     "execution_count": 127,
     "metadata": {},
     "output_type": "execute_result"
    }
   ],
   "source": [
    "rdd.histogram([0, 5, 25, 50])"
   ]
  },
  {
   "cell_type": "code",
   "execution_count": 128,
   "metadata": {
    "collapsed": false
   },
   "outputs": [
    {
     "data": {
      "text/plain": [
       "([0, 15, 30, 45, 60], [15, 15, 15, 5])"
      ]
     },
     "execution_count": 128,
     "metadata": {},
     "output_type": "execute_result"
    }
   ],
   "source": [
    "rdd.histogram([0, 15, 30, 45, 60])  # evenly spaced buckets"
   ]
  },
  {
   "cell_type": "code",
   "execution_count": 129,
   "metadata": {
    "collapsed": true
   },
   "outputs": [],
   "source": [
    "rdd = sc.parallelize([\"ab\", \"ac\", \"b\", \"bd\", \"ef\"])"
   ]
  },
  {
   "cell_type": "code",
   "execution_count": 130,
   "metadata": {
    "collapsed": false
   },
   "outputs": [
    {
     "data": {
      "text/plain": [
       "(('a', 'b', 'c'), [2, 2])"
      ]
     },
     "execution_count": 130,
     "metadata": {},
     "output_type": "execute_result"
    }
   ],
   "source": [
    "rdd.histogram((\"a\", \"b\", \"c\"))"
   ]
  },
  {
   "cell_type": "code",
   "execution_count": 131,
   "metadata": {
    "collapsed": true
   },
   "outputs": [],
   "source": [
    "#intersection: Return the intersection of this RDD and another one. The output will not contain any \n",
    "#duplicate elements, even if the input RDDs did."
   ]
  },
  {
   "cell_type": "code",
   "execution_count": 132,
   "metadata": {
    "collapsed": true
   },
   "outputs": [],
   "source": [
    "rdd1 = sc.parallelize([1, 10, 2, 3, 4, 5])"
   ]
  },
  {
   "cell_type": "code",
   "execution_count": 133,
   "metadata": {
    "collapsed": true
   },
   "outputs": [],
   "source": [
    "rdd2 = sc.parallelize([1, 6, 2, 3, 7, 8])"
   ]
  },
  {
   "cell_type": "code",
   "execution_count": 134,
   "metadata": {
    "collapsed": false
   },
   "outputs": [
    {
     "data": {
      "text/plain": [
       "[2, 1, 3]"
      ]
     },
     "execution_count": 134,
     "metadata": {},
     "output_type": "execute_result"
    }
   ],
   "source": [
    "rdd1.intersection(rdd2).collect()"
   ]
  },
  {
   "cell_type": "code",
   "execution_count": 135,
   "metadata": {
    "collapsed": false
   },
   "outputs": [
    {
     "data": {
      "text/plain": [
       "True"
      ]
     },
     "execution_count": 135,
     "metadata": {},
     "output_type": "execute_result"
    }
   ],
   "source": [
    "#an RDD may be empty even when it has at least 1 partition.\n",
    "sc.parallelize([]).isEmpty()"
   ]
  },
  {
   "cell_type": "code",
   "execution_count": 136,
   "metadata": {
    "collapsed": false
   },
   "outputs": [
    {
     "data": {
      "text/plain": [
       "False"
      ]
     },
     "execution_count": 136,
     "metadata": {},
     "output_type": "execute_result"
    }
   ],
   "source": [
    "sc.parallelize([1]).isEmpty()"
   ]
  },
  {
   "cell_type": "code",
   "execution_count": 138,
   "metadata": {
    "collapsed": false
   },
   "outputs": [
    {
     "data": {
      "text/plain": [
       "[('a', (1, 2)), ('a', (1, 3))]"
      ]
     },
     "execution_count": 138,
     "metadata": {},
     "output_type": "execute_result"
    }
   ],
   "source": [
    "#join(other, numPartitions=None):Return an RDD containing all pairs of elements with matching keys in self and other\n",
    "x = sc.parallelize([(\"a\", 1), (\"b\", 4)])\n",
    "y = sc.parallelize([(\"a\", 2), (\"a\", 3)])\n",
    "sorted(x.join(y).collect())"
   ]
  },
  {
   "cell_type": "code",
   "execution_count": 139,
   "metadata": {
    "collapsed": false
   },
   "outputs": [
    {
     "data": {
      "text/plain": [
       "[(0, [[0], [0]]),\n",
       " (1, [[1], [1]]),\n",
       " (2, [[], [2]]),\n",
       " (3, [[], [3]]),\n",
       " (4, [[2], [4]])]"
      ]
     },
     "execution_count": 139,
     "metadata": {},
     "output_type": "execute_result"
    }
   ],
   "source": [
    "#keyBy(f): Creates tuples of the elements in this RDD by applying f\n",
    "x = sc.parallelize(range(0,3)).keyBy(lambda x: x*x)\n",
    "y = sc.parallelize(zip(range(0,5), range(0,5)))\n",
    "[(x, list(map(list, y))) for x, y in sorted(x.cogroup(y).collect())]"
   ]
  },
  {
   "cell_type": "code",
   "execution_count": 140,
   "metadata": {
    "collapsed": false
   },
   "outputs": [
    {
     "data": {
      "text/plain": [
       "[1, 3]"
      ]
     },
     "execution_count": 140,
     "metadata": {},
     "output_type": "execute_result"
    }
   ],
   "source": [
    "#keys(): Return an RDD with the keys of each tuple.\n",
    "m = sc.parallelize([(1, 2), (3, 4)]).keys()\n",
    "m.collect()"
   ]
  },
  {
   "cell_type": "code",
   "execution_count": 141,
   "metadata": {
    "collapsed": false
   },
   "outputs": [
    {
     "data": {
      "text/plain": [
       "[('a', (1, 2)), ('b', (4, None))]"
      ]
     },
     "execution_count": 141,
     "metadata": {},
     "output_type": "execute_result"
    }
   ],
   "source": [
    "#leftOuterJoin(other, numPartitions=None): Perform a left outer join of self and other\n",
    "x = sc.parallelize([(\"a\", 1), (\"b\", 4)])\n",
    "y = sc.parallelize([(\"a\", 2)])\n",
    "sorted(x.leftOuterJoin(y).collect())"
   ]
  },
  {
   "cell_type": "code",
   "execution_count": 142,
   "metadata": {
    "collapsed": true
   },
   "outputs": [],
   "source": [
    "#lookup(key): Return the list of values in the RDD for key key. This operation is done efficiently if the RDD has a known \n",
    "#partitioner by only searching the partition that the key maps to.\n",
    "l = range(1000)\n",
    "\n",
    "rdd = sc.parallelize(zip(l, l), 10)"
   ]
  },
  {
   "cell_type": "code",
   "execution_count": 143,
   "metadata": {
    "collapsed": false
   },
   "outputs": [
    {
     "data": {
      "text/plain": [
       "[42]"
      ]
     },
     "execution_count": 143,
     "metadata": {},
     "output_type": "execute_result"
    }
   ],
   "source": [
    "rdd.lookup(42)  # slow"
   ]
  },
  {
   "cell_type": "code",
   "execution_count": 144,
   "metadata": {
    "collapsed": false
   },
   "outputs": [
    {
     "data": {
      "text/plain": [
       "[42]"
      ]
     },
     "execution_count": 144,
     "metadata": {},
     "output_type": "execute_result"
    }
   ],
   "source": [
    "sorted = rdd.sortByKey()\n",
    "sorted.lookup(42)  # fast"
   ]
  },
  {
   "cell_type": "code",
   "execution_count": 145,
   "metadata": {
    "collapsed": false
   },
   "outputs": [
    {
     "data": {
      "text/plain": [
       "[]"
      ]
     },
     "execution_count": 145,
     "metadata": {},
     "output_type": "execute_result"
    }
   ],
   "source": [
    "sorted.lookup(1024)"
   ]
  },
  {
   "cell_type": "code",
   "execution_count": 148,
   "metadata": {
    "collapsed": false
   },
   "outputs": [
    {
     "data": {
      "text/plain": [
       "['c']"
      ]
     },
     "execution_count": 148,
     "metadata": {},
     "output_type": "execute_result"
    }
   ],
   "source": [
    "rdd2 = sc.parallelize([(('a', 'b'), 'c')]).groupByKey()\n",
    "list(rdd2.lookup(('a', 'b'))[0])"
   ]
  },
  {
   "cell_type": "code",
   "execution_count": 154,
   "metadata": {
    "collapsed": true
   },
   "outputs": [],
   "source": [
    "#mapPartitions(f, preservesPartitioning=False): Return a new RDD by applying a function to each partition of this RDD."
   ]
  },
  {
   "cell_type": "code",
   "execution_count": 155,
   "metadata": {
    "collapsed": false
   },
   "outputs": [
    {
     "data": {
      "text/plain": [
       "[3, 7]"
      ]
     },
     "execution_count": 155,
     "metadata": {},
     "output_type": "execute_result"
    }
   ],
   "source": [
    "rdd = sc.parallelize([1, 2, 3, 4], 2)\n",
    "def f(iterator): yield sum(iterator)\n",
    "rdd.mapPartitions(f).collect()\n"
   ]
  },
  {
   "cell_type": "code",
   "execution_count": 157,
   "metadata": {
    "collapsed": true
   },
   "outputs": [],
   "source": [
    "#mapPartitionsWithIndex(f, preservesPartitioning=False): Return a new RDD by applying a function to each partition of this \n",
    "#RDD, while tracking the index of the original partition.\n",
    "\n",
    "rdd = sc.parallelize([1, 2, 3, 4], 4)\n",
    "def f(splitIndex, iterator): yield splitIndex\n",
    "    "
   ]
  },
  {
   "cell_type": "code",
   "execution_count": 158,
   "metadata": {
    "collapsed": false
   },
   "outputs": [
    {
     "data": {
      "text/plain": [
       "6"
      ]
     },
     "execution_count": 158,
     "metadata": {},
     "output_type": "execute_result"
    }
   ],
   "source": [
    "rdd.mapPartitionsWithIndex(f).sum()"
   ]
  },
  {
   "cell_type": "code",
   "execution_count": 159,
   "metadata": {
    "collapsed": false
   },
   "outputs": [
    {
     "data": {
      "text/plain": [
       "[1, 2, 3, 4]"
      ]
     },
     "execution_count": 159,
     "metadata": {},
     "output_type": "execute_result"
    }
   ],
   "source": [
    "rdd.collect()"
   ]
  },
  {
   "cell_type": "code",
   "execution_count": 160,
   "metadata": {
    "collapsed": false
   },
   "outputs": [
    {
     "data": {
      "text/plain": [
       "[('a', 3), ('b', 1)]"
      ]
     },
     "execution_count": 160,
     "metadata": {},
     "output_type": "execute_result"
    }
   ],
   "source": [
    "#mapValues(f):Pass each value in the key-value pair RDD through a map function without changing the keys; this also \n",
    "#retains the original RDD’s partitioning\n",
    "x = sc.parallelize([(\"a\", [\"apple\", \"banana\", \"lemon\"]), (\"b\", [\"grapes\"])])\n",
    "def f(x): return len(x)\n",
    "x.mapValues(f).collect()"
   ]
  },
  {
   "cell_type": "code",
   "execution_count": 162,
   "metadata": {
    "collapsed": false
   },
   "outputs": [],
   "source": [
    "#reduce(f): Reduces the elements of this RDD using the specified commutative and associative binary operator\n",
    "from operator import add\n"
   ]
  },
  {
   "cell_type": "code",
   "execution_count": 163,
   "metadata": {
    "collapsed": false
   },
   "outputs": [
    {
     "data": {
      "text/plain": [
       "15"
      ]
     },
     "execution_count": 163,
     "metadata": {},
     "output_type": "execute_result"
    }
   ],
   "source": [
    "sc.parallelize([1, 2, 3, 4, 5]).reduce(add)"
   ]
  },
  {
   "cell_type": "code",
   "execution_count": 164,
   "metadata": {
    "collapsed": false
   },
   "outputs": [
    {
     "data": {
      "text/plain": [
       "10"
      ]
     },
     "execution_count": 164,
     "metadata": {},
     "output_type": "execute_result"
    }
   ],
   "source": [
    "sc.parallelize((2 for _ in range(10))).map(lambda x: 1).cache().reduce(add)"
   ]
  },
  {
   "cell_type": "code",
   "execution_count": 166,
   "metadata": {
    "collapsed": false
   },
   "outputs": [
    {
     "data": {
      "text/plain": [
       "33"
      ]
     },
     "execution_count": 166,
     "metadata": {},
     "output_type": "execute_result"
    }
   ],
   "source": [
    "sc.parallelize([21,12]).reduce(add)"
   ]
  },
  {
   "cell_type": "code",
   "execution_count": 167,
   "metadata": {
    "collapsed": true
   },
   "outputs": [],
   "source": [
    "#reduceByKey(func, numPartitions=None, partitionFunc=<function portable_hash at 0x7fc35dbc8e60>)\n",
    "#Merge the values for each key using an associative and commutative reduce function\n",
    "from operator import add"
   ]
  },
  {
   "cell_type": "code",
   "execution_count": 171,
   "metadata": {
    "collapsed": false
   },
   "outputs": [
    {
     "data": {
      "text/plain": [
       "[('a', 2), ('b', 1)]"
      ]
     },
     "execution_count": 171,
     "metadata": {},
     "output_type": "execute_result"
    }
   ],
   "source": [
    "rdd = sc.parallelize([(\"a\", 1), (\"b\", 1), (\"a\", 1)])\n",
    "rdd.reduceByKey(add).collect()"
   ]
  },
  {
   "cell_type": "code",
   "execution_count": 175,
   "metadata": {
    "collapsed": false
   },
   "outputs": [
    {
     "data": {
      "text/plain": [
       "[('a', (2, 1)), ('b', (None, 4))]"
      ]
     },
     "execution_count": 175,
     "metadata": {},
     "output_type": "execute_result"
    }
   ],
   "source": [
    "#rightOuterJoin(other, numPartitions=None): Perform a right outer join of self and other.\n",
    "#For each element (k, w) in other, the resulting RDD will either contain all pairs (k, (v, w)) for v in this, or the pair \n",
    "#(k, (None, w)) if no elements in self have key k.\n",
    "\n",
    "x = sc.parallelize([(\"a\", 1), (\"b\", 4)])\n",
    "y = sc.parallelize([(\"a\", 2)])\n",
    "y.rightOuterJoin(x).collect()"
   ]
  },
  {
   "cell_type": "code",
   "execution_count": 177,
   "metadata": {
    "collapsed": false
   },
   "outputs": [
    {
     "data": {
      "text/plain": [
       "False"
      ]
     },
     "execution_count": 177,
     "metadata": {},
     "output_type": "execute_result"
    }
   ],
   "source": [
    "#sample(withReplacement, fraction, seed=None): Return a sampled subset of this RDD.\n",
    "rdd = sc.parallelize(range(100), 4)\n",
    "6 <= rdd.sample(False, 0.30, 81).count() <= 14\n"
   ]
  },
  {
   "cell_type": "code",
   "execution_count": 178,
   "metadata": {
    "collapsed": true
   },
   "outputs": [],
   "source": [
    "#sampleByKey(withReplacement, fractions, seed=None): Return a subset of this RDD sampled by key (via stratified sampling). \n",
    "#Create a sample of this RDD using variable sampling rates for different keys as specified by fractions, a key to sampling \n",
    "#rate map.\n",
    "fractions = {\"a\": 0.2, \"b\": 0.1}\n",
    "rdd = sc.parallelize(fractions.keys()).cartesian(sc.parallelize(range(0, 1000)))\n",
    "sample = dict(rdd.sampleByKey(False, fractions, 2).groupByKey().collect())\n"
   ]
  },
  {
   "cell_type": "code",
   "execution_count": 179,
   "metadata": {
    "collapsed": false
   },
   "outputs": [
    {
     "data": {
      "text/plain": [
       "True"
      ]
     },
     "execution_count": 179,
     "metadata": {},
     "output_type": "execute_result"
    }
   ],
   "source": [
    "100 < len(sample[\"a\"]) < 300 and 50 < len(sample[\"b\"]) < 150"
   ]
  },
  {
   "cell_type": "code",
   "execution_count": 180,
   "metadata": {
    "collapsed": false
   },
   "outputs": [
    {
     "data": {
      "text/plain": [
       "True"
      ]
     },
     "execution_count": 180,
     "metadata": {},
     "output_type": "execute_result"
    }
   ],
   "source": [
    "max(sample[\"a\"]) <= 999 and min(sample[\"a\"]) >= 0"
   ]
  },
  {
   "cell_type": "code",
   "execution_count": 181,
   "metadata": {
    "collapsed": false
   },
   "outputs": [
    {
     "data": {
      "text/plain": [
       "True"
      ]
     },
     "execution_count": 181,
     "metadata": {},
     "output_type": "execute_result"
    }
   ],
   "source": [
    "max(sample[\"b\"]) <= 999 and min(sample[\"b\"]) >= 0"
   ]
  },
  {
   "cell_type": "code",
   "execution_count": 182,
   "metadata": {
    "collapsed": false
   },
   "outputs": [
    {
     "data": {
      "text/plain": [
       "10.503967504392488"
      ]
     },
     "execution_count": 182,
     "metadata": {},
     "output_type": "execute_result"
    }
   ],
   "source": [
    "#sampleStdev():Compute the sample standard deviation of this RDD’s elements\n",
    "sc.parallelize([11, 21, 32]).sampleStdev()"
   ]
  },
  {
   "cell_type": "code",
   "execution_count": 183,
   "metadata": {
    "collapsed": false
   },
   "outputs": [
    {
     "data": {
      "text/plain": [
       "56694.33333333334"
      ]
     },
     "execution_count": 183,
     "metadata": {},
     "output_type": "execute_result"
    }
   ],
   "source": [
    "#sampleVariance():Compute the sample variance of this RDD’s elements\n",
    "sc.parallelize([101, 232, 563]).sampleVariance()"
   ]
  },
  {
   "cell_type": "code",
   "execution_count": 184,
   "metadata": {
    "collapsed": false
   },
   "outputs": [
    {
     "data": {
      "text/plain": [
       "u'RDD1'"
      ]
     },
     "execution_count": 184,
     "metadata": {},
     "output_type": "execute_result"
    }
   ],
   "source": [
    "#setName(name): Assign a name to this RDD.\n",
    "rdd1 = sc.parallelize([1, 2])\n",
    "rdd1.setName('RDD1').name()"
   ]
  },
  {
   "cell_type": "code",
   "execution_count": 186,
   "metadata": {
    "collapsed": false
   },
   "outputs": [
    {
     "data": {
      "text/plain": [
       "[('1', 3), ('2', 5), ('a', 1), ('b', 2), ('d', 4)]"
      ]
     },
     "execution_count": 186,
     "metadata": {},
     "output_type": "execute_result"
    }
   ],
   "source": [
    "#sortBy(keyfunc, ascending=True, numPartitions=None): Sorts this RDD by the given keyfunc\n",
    "tmp = [('a', 1), ('b', 2), ('1', 3), ('d', 4), ('2', 5)]\n",
    "sc.parallelize(tmp).sortBy(lambda x: x[0]).collect()\n"
   ]
  },
  {
   "cell_type": "code",
   "execution_count": 187,
   "metadata": {
    "collapsed": false
   },
   "outputs": [
    {
     "data": {
      "text/plain": [
       "[('a', 1), ('b', 2), ('1', 3), ('d', 4), ('2', 5)]"
      ]
     },
     "execution_count": 187,
     "metadata": {},
     "output_type": "execute_result"
    }
   ],
   "source": [
    "sc.parallelize(tmp).sortBy(lambda x: x[1]).collect()"
   ]
  },
  {
   "cell_type": "code",
   "execution_count": 188,
   "metadata": {
    "collapsed": false
   },
   "outputs": [
    {
     "data": {
      "text/plain": [
       "('1', 3)"
      ]
     },
     "execution_count": 188,
     "metadata": {},
     "output_type": "execute_result"
    }
   ],
   "source": [
    "#sortByKey(ascending=True, numPartitions=None, keyfunc=<function <lambda> at 0x7fc35dbcf848>)\n",
    "#Sorts this RDD, which is assumed to consist of (key, value) pairs.\n",
    "tmp = [('a', 1), ('b', 2), ('1', 3), ('d', 4), ('2', 5)]\n",
    "sc.parallelize(tmp).sortByKey().first()"
   ]
  },
  {
   "cell_type": "code",
   "execution_count": 189,
   "metadata": {
    "collapsed": false
   },
   "outputs": [
    {
     "data": {
      "text/plain": [
       "[('1', 3), ('2', 5), ('a', 1), ('b', 2), ('d', 4)]"
      ]
     },
     "execution_count": 189,
     "metadata": {},
     "output_type": "execute_result"
    }
   ],
   "source": [
    "sc.parallelize(tmp).sortByKey(True, 1).collect()"
   ]
  },
  {
   "cell_type": "code",
   "execution_count": 190,
   "metadata": {
    "collapsed": false
   },
   "outputs": [
    {
     "data": {
      "text/plain": [
       "[('1', 3), ('2', 5), ('a', 1), ('b', 2), ('d', 4)]"
      ]
     },
     "execution_count": 190,
     "metadata": {},
     "output_type": "execute_result"
    }
   ],
   "source": [
    "sc.parallelize(tmp).sortByKey(True, 2).collect()"
   ]
  },
  {
   "cell_type": "code",
   "execution_count": 195,
   "metadata": {
    "collapsed": false
   },
   "outputs": [
    {
     "data": {
      "text/plain": [
       "[('a', 3),\n",
       " ('fleece', 7),\n",
       " ('had', 2),\n",
       " ('lamb', 5),\n",
       " ('little', 4),\n",
       " ('Mary', 1),\n",
       " ('was', 8),\n",
       " ('white', 9),\n",
       " ('whose', 6)]"
      ]
     },
     "execution_count": 195,
     "metadata": {},
     "output_type": "execute_result"
    }
   ],
   "source": [
    "tmp2 = [('Mary', 1), ('had', 2), ('a', 3), ('little', 4), ('lamb', 5)]\n",
    "tmp2.extend([('whose', 6), ('fleece', 7), ('was', 8), ('white', 9)])\n",
    "sc.parallelize(tmp2).sortByKey(True, 3, keyfunc=lambda k: k.lower()).collect()"
   ]
  },
  {
   "cell_type": "code",
   "execution_count": 196,
   "metadata": {
    "collapsed": false
   },
   "outputs": [
    {
     "data": {
      "text/plain": [
       "20"
      ]
     },
     "execution_count": 196,
     "metadata": {},
     "output_type": "execute_result"
    }
   ],
   "source": [
    "#takeSample(withReplacement, num, seed=None)\n",
    "#Return a fixed-size sampled subset of this RDD.\n",
    "rdd = sc.parallelize(range(0, 10))\n",
    "len(rdd.takeSample(True, 20, 1))"
   ]
  },
  {
   "cell_type": "code",
   "execution_count": 197,
   "metadata": {
    "collapsed": false
   },
   "outputs": [
    {
     "data": {
      "text/plain": [
       "5"
      ]
     },
     "execution_count": 197,
     "metadata": {},
     "output_type": "execute_result"
    }
   ],
   "source": [
    "len(rdd.takeSample(False, 5, 2))"
   ]
  },
  {
   "cell_type": "code",
   "execution_count": 198,
   "metadata": {
    "collapsed": false
   },
   "outputs": [
    {
     "data": {
      "text/plain": [
       "10"
      ]
     },
     "execution_count": 198,
     "metadata": {},
     "output_type": "execute_result"
    }
   ],
   "source": [
    "len(rdd.takeSample(False, 15, 3))"
   ]
  },
  {
   "cell_type": "code",
   "execution_count": 199,
   "metadata": {
    "collapsed": false
   },
   "outputs": [
    {
     "data": {
      "text/plain": [
       "[4, 3, 2]"
      ]
     },
     "execution_count": 199,
     "metadata": {},
     "output_type": "execute_result"
    }
   ],
   "source": [
    "#Get the top N elements from an RDD\n",
    "sc.parallelize([10, 4, 2, 12, 3]).top(1)\n",
    "sc.parallelize([2, 3, 4, 5, 6], 2).top(2)\n",
    "sc.parallelize([10, 4, 2, 12, 3]).top(3, key=str)"
   ]
  },
  {
   "cell_type": "code",
   "execution_count": 201,
   "metadata": {
    "collapsed": false
   },
   "outputs": [
    {
     "data": {
      "text/plain": [
       "[1, 1, 2, 3, 1, 1, 2, 3]"
      ]
     },
     "execution_count": 201,
     "metadata": {},
     "output_type": "execute_result"
    }
   ],
   "source": [
    "#union(other):Return the union of this RDD and another one.\n",
    "rdd = sc.parallelize([1, 1, 2, 3])\n",
    "rdd.union(rdd).collect()"
   ]
  },
  {
   "cell_type": "code",
   "execution_count": 202,
   "metadata": {
    "collapsed": false
   },
   "outputs": [
    {
     "data": {
      "text/plain": [
       "[2, 4]"
      ]
     },
     "execution_count": 202,
     "metadata": {},
     "output_type": "execute_result"
    }
   ],
   "source": [
    "#values():Return an RDD with the values of each tuple.\n",
    "m = sc.parallelize([(1, 2), (3, 4)]).values()\n",
    "m.collect()"
   ]
  },
  {
   "cell_type": "code",
   "execution_count": 203,
   "metadata": {
    "collapsed": false
   },
   "outputs": [
    {
     "data": {
      "text/plain": [
       "[(0, 1000), (1, 1001), (2, 1002), (3, 1003), (4, 1004)]"
      ]
     },
     "execution_count": 203,
     "metadata": {},
     "output_type": "execute_result"
    }
   ],
   "source": [
    "#zip: Zips this RDD with another one, returning key-value pairs with the first element in each RDD second element in each \n",
    "#RDD, etc. Assumes that the two RDDs have the same number of partitions and the same number of elements in each partition\n",
    "x = sc.parallelize(range(0,5))\n",
    "y = sc.parallelize(range(1000, 1005))\n",
    "x.zip(y).collect()"
   ]
  },
  {
   "cell_type": "code",
   "execution_count": 204,
   "metadata": {
    "collapsed": false
   },
   "outputs": [
    {
     "data": {
      "text/plain": [
       "[('a', 0), ('b', 1), ('c', 2), ('d', 3)]"
      ]
     },
     "execution_count": 204,
     "metadata": {},
     "output_type": "execute_result"
    }
   ],
   "source": [
    "#zipWithIndex(): Zips this RDD with its element indices.\n",
    "sc.parallelize([\"a\", \"b\", \"c\", \"d\"], 3).zipWithIndex().collect()\n"
   ]
  },
  {
   "cell_type": "code",
   "execution_count": 205,
   "metadata": {
    "collapsed": false
   },
   "outputs": [
    {
     "data": {
      "text/plain": [
       "[('a', 0), ('b', 1), ('c', 4), ('d', 2), ('e', 5)]"
      ]
     },
     "execution_count": 205,
     "metadata": {},
     "output_type": "execute_result"
    }
   ],
   "source": [
    "#zipWithUniqueId(): Zips this RDD with generated unique Long ids.\n",
    "sc.parallelize([\"a\", \"b\", \"c\", \"d\", \"e\"], 3).zipWithUniqueId().collect()"
   ]
  },
  {
   "cell_type": "code",
   "execution_count": 207,
   "metadata": {
    "collapsed": true
   },
   "outputs": [],
   "source": [
    "data = [12,32,45,65,67,89]"
   ]
  },
  {
   "cell_type": "code",
   "execution_count": 208,
   "metadata": {
    "collapsed": false
   },
   "outputs": [
    {
     "name": "stdout",
     "output_type": "stream",
     "text": [
      "[12, 32, 45, 65, 67, 89]\n"
     ]
    }
   ],
   "source": [
    "print data"
   ]
  },
  {
   "cell_type": "code",
   "execution_count": 209,
   "metadata": {
    "collapsed": false
   },
   "outputs": [],
   "source": [
    "#A Resilient Distributed Dataset (RDD), the basic abstraction in Spark. Represents an immutable, partitioned collection of \n",
    "#elements that can be operated on in parallel.\n",
    "#parallelization\n",
    "rdd1 = sc.parallelize(data)"
   ]
  },
  {
   "cell_type": "code",
   "execution_count": 210,
   "metadata": {
    "collapsed": false
   },
   "outputs": [
    {
     "name": "stdout",
     "output_type": "stream",
     "text": [
      "ParallelCollectionRDD[391] at parallelize at PythonRDD.scala:475\n"
     ]
    }
   ],
   "source": [
    "print rdd1"
   ]
  },
  {
   "cell_type": "code",
   "execution_count": 211,
   "metadata": {
    "collapsed": false
   },
   "outputs": [
    {
     "data": {
      "text/plain": [
       "[12, 32, 45, 65, 67, 89]"
      ]
     },
     "execution_count": 211,
     "metadata": {},
     "output_type": "execute_result"
    }
   ],
   "source": [
    "rdd1.collect()"
   ]
  },
  {
   "cell_type": "code",
   "execution_count": 212,
   "metadata": {
    "collapsed": false
   },
   "outputs": [
    {
     "data": {
      "text/plain": [
       "6"
      ]
     },
     "execution_count": 212,
     "metadata": {},
     "output_type": "execute_result"
    }
   ],
   "source": [
    "rdd1.count()"
   ]
  },
  {
   "cell_type": "code",
   "execution_count": 30,
   "metadata": {
    "collapsed": false
   },
   "outputs": [
    {
     "data": {
      "text/plain": [
       "u'2.1.0'"
      ]
     },
     "execution_count": 30,
     "metadata": {},
     "output_type": "execute_result"
    }
   ],
   "source": [
    "sc.version"
   ]
  },
  {
   "cell_type": "code",
   "execution_count": 31,
   "metadata": {
    "collapsed": false
   },
   "outputs": [
    {
     "data": {
      "text/plain": [
       "'2.7'"
      ]
     },
     "execution_count": 31,
     "metadata": {},
     "output_type": "execute_result"
    }
   ],
   "source": [
    "sc.pythonVer"
   ]
  },
  {
   "cell_type": "code",
   "execution_count": 32,
   "metadata": {
    "collapsed": false
   },
   "outputs": [
    {
     "data": {
      "text/plain": [
       "u'local[2]'"
      ]
     },
     "execution_count": 32,
     "metadata": {},
     "output_type": "execute_result"
    }
   ],
   "source": [
    "sc.master"
   ]
  },
  {
   "cell_type": "code",
   "execution_count": 33,
   "metadata": {
    "collapsed": false
   },
   "outputs": [
    {
     "data": {
      "text/plain": [
       "2"
      ]
     },
     "execution_count": 33,
     "metadata": {},
     "output_type": "execute_result"
    }
   ],
   "source": [
    "rdd1.getNumPartitions()"
   ]
  },
  {
   "cell_type": "code",
   "execution_count": 34,
   "metadata": {
    "collapsed": false
   },
   "outputs": [
    {
     "data": {
      "text/plain": [
       "6"
      ]
     },
     "execution_count": 34,
     "metadata": {},
     "output_type": "execute_result"
    }
   ],
   "source": [
    "rdd1.count()"
   ]
  },
  {
   "cell_type": "code",
   "execution_count": 35,
   "metadata": {
    "collapsed": false
   },
   "outputs": [
    {
     "data": {
      "text/plain": [
       "True"
      ]
     },
     "execution_count": 35,
     "metadata": {},
     "output_type": "execute_result"
    }
   ],
   "source": [
    "sc.parallelize([]).isEmpty()"
   ]
  },
  {
   "cell_type": "code",
   "execution_count": 36,
   "metadata": {
    "collapsed": false
   },
   "outputs": [
    {
     "data": {
      "text/plain": [
       "False"
      ]
     },
     "execution_count": 36,
     "metadata": {},
     "output_type": "execute_result"
    }
   ],
   "source": [
    "sc.parallelize([data]).isEmpty()"
   ]
  },
  {
   "cell_type": "code",
   "execution_count": 37,
   "metadata": {
    "collapsed": false
   },
   "outputs": [
    {
     "data": {
      "text/plain": [
       "[12, 32, 45, 65, 67, 89]"
      ]
     },
     "execution_count": 37,
     "metadata": {},
     "output_type": "execute_result"
    }
   ],
   "source": [
    "# basic statistics\n",
    "rdd1.collect()"
   ]
  },
  {
   "cell_type": "code",
   "execution_count": 38,
   "metadata": {
    "collapsed": false
   },
   "outputs": [
    {
     "data": {
      "text/plain": [
       "89"
      ]
     },
     "execution_count": 38,
     "metadata": {},
     "output_type": "execute_result"
    }
   ],
   "source": [
    "rdd1.max()"
   ]
  },
  {
   "cell_type": "code",
   "execution_count": 39,
   "metadata": {
    "collapsed": false
   },
   "outputs": [
    {
     "data": {
      "text/plain": [
       "12"
      ]
     },
     "execution_count": 39,
     "metadata": {},
     "output_type": "execute_result"
    }
   ],
   "source": [
    "rdd1.min()"
   ]
  },
  {
   "cell_type": "code",
   "execution_count": 40,
   "metadata": {
    "collapsed": false
   },
   "outputs": [
    {
     "data": {
      "text/plain": [
       "25.203615260954571"
      ]
     },
     "execution_count": 40,
     "metadata": {},
     "output_type": "execute_result"
    }
   ],
   "source": [
    "rdd1.stdev()"
   ]
  },
  {
   "cell_type": "code",
   "execution_count": 41,
   "metadata": {
    "collapsed": false
   },
   "outputs": [
    {
     "data": {
      "text/plain": [
       "51.666666666666664"
      ]
     },
     "execution_count": 41,
     "metadata": {},
     "output_type": "execute_result"
    }
   ],
   "source": [
    "rdd1.mean()"
   ]
  },
  {
   "cell_type": "code",
   "execution_count": 42,
   "metadata": {
    "collapsed": false
   },
   "outputs": [
    {
     "data": {
      "text/plain": [
       "635.2222222222222"
      ]
     },
     "execution_count": 42,
     "metadata": {},
     "output_type": "execute_result"
    }
   ],
   "source": [
    "rdd1.variance()"
   ]
  },
  {
   "cell_type": "code",
   "execution_count": 43,
   "metadata": {
    "collapsed": false
   },
   "outputs": [
    {
     "data": {
      "text/plain": [
       "(count: 6, mean: 51.6666666667, stdev: 25.203615261, max: 89.0, min: 12.0)"
      ]
     },
     "execution_count": 43,
     "metadata": {},
     "output_type": "execute_result"
    }
   ],
   "source": [
    "rdd1.stats()"
   ]
  },
  {
   "cell_type": "code",
   "execution_count": 44,
   "metadata": {
    "collapsed": false
   },
   "outputs": [],
   "source": [
    "import numpy as np\n",
    "from pyspark.mllib.stat import Statistics"
   ]
  },
  {
   "cell_type": "code",
   "execution_count": 45,
   "metadata": {
    "collapsed": true
   },
   "outputs": [],
   "source": [
    "mat = sc.parallelize(\n",
    "    [np.array([10.1,12.4,14.5,16.8,21]),np.array([21.3,24.2,35.4,36.4,31.7]),np.array([21.1,23.,54.,65.,71.])]\n",
    ")"
   ]
  },
  {
   "cell_type": "code",
   "execution_count": 46,
   "metadata": {
    "collapsed": false
   },
   "outputs": [
    {
     "name": "stdout",
     "output_type": "stream",
     "text": [
      "ParallelCollectionRDD[15] at parallelize at PythonRDD.scala:475\n"
     ]
    }
   ],
   "source": [
    "print mat"
   ]
  },
  {
   "cell_type": "code",
   "execution_count": 47,
   "metadata": {
    "collapsed": false
   },
   "outputs": [],
   "source": [
    "summary=Statistics.colStats(mat)"
   ]
  },
  {
   "cell_type": "code",
   "execution_count": 48,
   "metadata": {
    "collapsed": false
   },
   "outputs": [
    {
     "data": {
      "text/plain": [
       "array([ 17.5       ,  19.86666667,  34.63333333,  39.4       ,  41.23333333])"
      ]
     },
     "execution_count": 48,
     "metadata": {},
     "output_type": "execute_result"
    }
   ],
   "source": [
    "summary.mean()"
   ]
  },
  {
   "cell_type": "code",
   "execution_count": 49,
   "metadata": {
    "collapsed": false
   },
   "outputs": [
    {
     "data": {
      "text/plain": [
       "array([  41.08      ,   42.17333333,  390.50333333,  587.56      ,\n",
       "        693.16333333])"
      ]
     },
     "execution_count": 49,
     "metadata": {},
     "output_type": "execute_result"
    }
   ],
   "source": [
    "summary.variance()"
   ]
  },
  {
   "cell_type": "code",
   "execution_count": 50,
   "metadata": {
    "collapsed": false
   },
   "outputs": [
    {
     "data": {
      "text/plain": [
       "array([ 3.,  3.,  3.,  3.,  3.])"
      ]
     },
     "execution_count": 50,
     "metadata": {},
     "output_type": "execute_result"
    }
   ],
   "source": [
    "summary.numNonzeros()"
   ]
  },
  {
   "cell_type": "code",
   "execution_count": 51,
   "metadata": {
    "collapsed": true
   },
   "outputs": [],
   "source": [
    "# calculate correlation\n",
    "X = sc.parallelize([10.1,12.4,14.5,16.8,21])\n",
    "Y = sc.parallelize([21.3,24.2,35.4,36.4,31.7])"
   ]
  },
  {
   "cell_type": "code",
   "execution_count": 52,
   "metadata": {
    "collapsed": true
   },
   "outputs": [],
   "source": [
    "corr = Statistics.corr(X,Y,method='pearson')"
   ]
  },
  {
   "cell_type": "code",
   "execution_count": 53,
   "metadata": {
    "collapsed": false
   },
   "outputs": [
    {
     "data": {
      "text/plain": [
       "0.6779641435411099"
      ]
     },
     "execution_count": 53,
     "metadata": {},
     "output_type": "execute_result"
    }
   ],
   "source": [
    "corr"
   ]
  },
  {
   "cell_type": "code",
   "execution_count": 54,
   "metadata": {
    "collapsed": true
   },
   "outputs": [],
   "source": [
    "from pyspark.mllib.linalg import Matrices, Vectors\n",
    "from pyspark.mllib.regression import LabeledPoint\n",
    "from pyspark.mllib.stat import Statistics"
   ]
  },
  {
   "cell_type": "code",
   "execution_count": 55,
   "metadata": {
    "collapsed": true
   },
   "outputs": [],
   "source": [
    "vec = Vectors.dense(10.1,12.4,14.5,16.8,21,21.3,24.2,35.4,36.4,31.7)"
   ]
  },
  {
   "cell_type": "code",
   "execution_count": 65,
   "metadata": {
    "collapsed": false
   },
   "outputs": [
    {
     "data": {
      "text/plain": [
       "DenseVector([10.1, 12.4, 14.5, 16.8, 21.0, 21.3, 24.2, 35.4, 36.4, 31.7])"
      ]
     },
     "execution_count": 65,
     "metadata": {},
     "output_type": "execute_result"
    }
   ],
   "source": [
    "vec"
   ]
  },
  {
   "cell_type": "code",
   "execution_count": 66,
   "metadata": {
    "collapsed": true
   },
   "outputs": [],
   "source": [
    "goodnestest = Statistics.chiSqTest(vec)"
   ]
  },
  {
   "cell_type": "code",
   "execution_count": 67,
   "metadata": {
    "collapsed": false
   },
   "outputs": [
    {
     "name": "stdout",
     "output_type": "stream",
     "text": [
      "Chi squared test summary:\n",
      "method: pearson\n",
      "degrees of freedom = 9 \n",
      "statistic = 35.878284182305634 \n",
      "pValue = 4.166733496191455E-5 \n",
      "Very strong presumption against null hypothesis: observed follows the same distribution as expected..\n"
     ]
    }
   ],
   "source": [
    "print (goodnestest)"
   ]
  },
  {
   "cell_type": "code",
   "execution_count": null,
   "metadata": {
    "collapsed": true
   },
   "outputs": [],
   "source": []
  }
 ],
 "metadata": {
  "anaconda-cloud": {},
  "kernelspec": {
   "display_name": "Python 3",
   "language": "python",
   "name": "python3"
  },
  "language_info": {
   "codemirror_mode": {
    "name": "ipython",
    "version": 3
   },
   "file_extension": ".py",
   "mimetype": "text/x-python",
   "name": "python",
   "nbconvert_exporter": "python",
   "pygments_lexer": "ipython3",
   "version": "3.6.0"
  }
 },
 "nbformat": 4,
 "nbformat_minor": 0
}
